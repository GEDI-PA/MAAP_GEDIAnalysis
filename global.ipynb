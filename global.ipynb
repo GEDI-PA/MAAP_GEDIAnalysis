{
 "cells": [
  {
   "cell_type": "code",
   "execution_count": null,
   "id": "33bc7dbe-b634-426d-9f9d-8ba10b2d0193",
   "metadata": {},
   "outputs": [],
   "source": [
    "from maap.maap import MAAP\n",
    "maap = MAAP(maap_host='api.maap-project.org')"
   ]
  },
  {
   "cell_type": "markdown",
   "id": "403578e1-035c-4351-ae97-29912f0c7e5b",
   "metadata": {},
   "source": [
    "This code is adapted from Amber Liang for use on the MAAP to match Protected and Non Protected areas"
   ]
  },
  {
   "cell_type": "code",
   "execution_count": 1,
   "id": "c6ea45bd-b232-47a8-a57b-d52da913a181",
   "metadata": {
    "tags": []
   },
   "outputs": [
    {
     "name": "stderr",
     "output_type": "stream",
     "text": [
      "Loading required package: usethis\n",
      "\n"
     ]
    }
   ],
   "source": [
    "library(\"devtools\")"
   ]
  },
  {
   "cell_type": "code",
   "execution_count": 4,
   "id": "c9937231-d069-42f1-90fd-c14c08f1e296",
   "metadata": {
    "tags": []
   },
   "outputs": [
    {
     "name": "stderr",
     "output_type": "stream",
     "text": [
      "Updating HTML index of packages in '.Library'\n",
      "\n",
      "Making 'packages.html' ...\n",
      " done\n",
      "\n"
     ]
    }
   ],
   "source": [
    "#IN TERMINAL:\n",
    "#mamba install -c conda-forge r-rlemon r-svd r-sparsem r-survival\n",
    "install.packages('RItools')"
   ]
  },
  {
   "cell_type": "code",
   "execution_count": null,
   "id": "8fde2000-7077-4e0d-b4b4-ae363c6cdf96",
   "metadata": {},
   "outputs": [],
   "source": [
    "#For optmatch, paste into terminal:\n",
    "#First time only, run this first:\n",
    "#wget -O optmatch_0.10.6.tar.gz https://packagemanager.posit.co/cran/__linux__/bullseye/latest/src/contrib/optmatch_0.10.6.tar.gz?r_version=4.3&arch=x86_64\n",
    "\n",
    "#R CMD INSTALL optmatch_0.10.6.tar.gz\n"
   ]
  },
  {
   "cell_type": "code",
   "execution_count": 5,
   "id": "9fc78fe8-2274-4de5-b988-998a8ab374df",
   "metadata": {
    "tags": []
   },
   "outputs": [],
   "source": [
    "#FIRST ACTIVATE gedi ENVIRONMENT\n",
    "\n",
    "#Use mamba install -c conda-forge r-____ to install packages\n",
    "\n",
    "#!/usr/bin/env Rscript\n",
    "\n",
    "# This global processing script is derived from the global processing notebook \n",
    "#the input can be the iso3 code (3-character) for one or multiple countries \n",
    "\n",
    "options(warn=-1)\n",
    "options(dplyr.summarise.inform = FALSE)\n",
    "\n",
    "packages <- c(\"sp\",\"rgdal\",\"sf\",\"rgeos\",\"dplyr\",\"plyr\",\"ggplot2\",\"raster\",\"mapview\",\"stringr\",\n",
    "              \"maptools\",\"gridExtra\",\"lattice\",\"MASS\",\"foreach\",\"doParallel\",\"RItools\",\"optmatch\",\n",
    "              \"rlang\",\"tidyr\",\"magrittr\",\"viridis\",\"ggmap\",\"Hmisc\",\"hrbrthemes\",\"spatialEco\",\"bit64\",\"randomForest\", \"modelr\")\n",
    "#as.factor(paste0('r-', packages,\" \"))\n",
    "\n",
    "#mamba install -c conda-forge r-sp r-rgdal r-sf r-rgeos r-dplyr r-plyr r-ggplot2 r-raster r-mapview r-stringr r-maptools r-gridExtra r-lattice r-MASS r-foreach r-doParallel r-rlang r-tidyr r-magrittr r-viridis r-ggmap r-Hmisc r-hrbrthemes r-spatialEco r-bit64 r-randomForest r-modelr\n",
    "\n",
    "\n",
    "package.check <- lapply(packages, FUN = function(x) {\n",
    "    suppressPackageStartupMessages(library(x, character.only = TRUE))\n",
    "})\n"
   ]
  },
  {
   "cell_type": "code",
   "execution_count": 6,
   "id": "420b92e2-83a1-4e3f-a445-c33d6b8ac216",
   "metadata": {
    "tags": []
   },
   "outputs": [],
   "source": [
    "args = commandArgs(trailingOnly=TRUE)\n",
    "if (length(args)==0) {\n",
    "  stop(\"At least one argument must be supplied (input file).n\", call.=FALSE)\n",
    "} else if (length(args)>=1) {\n",
    "  \n",
    "  iso3 <- args[1]  #country to process\n",
    "  gediwk <- args[2]   #the # of weeks GEDI data to use\n",
    "  mproc <- as.integer(args[3])#the number of cores to use for macthing \n",
    "}"
   ]
  },
  {
   "cell_type": "code",
   "execution_count": 7,
   "id": "a114beb8-e378-43d7-a198-2f6bbdf4029e",
   "metadata": {
    "tags": []
   },
   "outputs": [
    {
     "name": "stdout",
     "output_type": "stream",
     "text": [
      "Step 0: Loading global variables for /projects/.local/share/jupyter/runtime/kernel-ea5a9be3-0922-4096-869f-eef1d7c6abe0.json with wk NA data \n"
     ]
    }
   ],
   "source": [
    "cat(\"Step 0: Loading global variables for\", iso3,\"with wk\", gediwk, \"data \\n\")"
   ]
  },
  {
   "cell_type": "code",
   "execution_count": 8,
   "id": "b3681de5-0910-49c0-b783-897f9ad9f7bb",
   "metadata": {
    "tags": []
   },
   "outputs": [],
   "source": [
    "f.path <- \"https://maap-ops-workspace.s3.amazonaws.com/shared/abarenblitt/GEDI_PA/Matching_Layers/AGO\"\n",
    "matching_tifs <- c(\"wwf_biomes\",\"wwf_ecoreg\",\"lc2000\",\"d2roads\", \"dcities\",\"dem\",\"pop_cnt_2000\",\"pop_den_2000\",\"slope\", \"tt2cities_2000\", \"wc_prec_1990-1999\",\n",
    "                   \"wc_tmax_1990-1999\",\"wc_tavg_1990-1999\",\"wc_tmin_1990-1999\" )"
   ]
  },
  {
   "cell_type": "code",
   "execution_count": 9,
   "id": "148583af-1261-496c-be85-74334f4b2c4d",
   "metadata": {
    "tags": []
   },
   "outputs": [
    {
     "data": {
      "text/html": [],
      "text/latex": [],
      "text/markdown": [],
      "text/plain": [
       "character(0)"
      ]
     },
     "metadata": {},
     "output_type": "display_data"
    }
   ],
   "source": [
    "list.files(path=\"f.path\", pattern=NULL, all.files=FALSE, \n",
    "    full.names=FALSE)"
   ]
  },
  {
   "cell_type": "code",
   "execution_count": 10,
   "id": "f9782a05-60ba-4d75-9a74-4079e5757e92",
   "metadata": {
    "tags": []
   },
   "outputs": [
    {
     "ename": "ERROR",
     "evalue": "Error in file(file, \"rt\"): cannot open the connection to 'https://maap-ops-workspace.s3.amazonaws.com/shared/abarenblitt/GEDI_PA/Matching_Layers/AGOwwf_ecoregions_key.csv'\n",
     "output_type": "error",
     "traceback": [
      "Error in file(file, \"rt\"): cannot open the connection to 'https://maap-ops-workspace.s3.amazonaws.com/shared/abarenblitt/GEDI_PA/Matching_Layers/AGOwwf_ecoregions_key.csv'\nTraceback:\n",
      "1. read.csv(paste(f.path, \"wwf_ecoregions_key.csv\", sep = \"\"))",
      "2. read.table(file = file, header = header, sep = sep, quote = quote, \n .     dec = dec, fill = fill, comment.char = comment.char, ...)",
      "3. file(file, \"rt\")"
     ]
    }
   ],
   "source": [
    "ecoreg_key <- read.csv(paste(f.path,\"wwf_ecoregions_key.csv\",sep=\"\"))"
   ]
  },
  {
   "cell_type": "code",
   "execution_count": 18,
   "id": "df44ac1b-895c-4dde-8b07-a290f0a5964a",
   "metadata": {
    "tags": []
   },
   "outputs": [
    {
     "ename": "ERROR",
     "evalue": "Error in file(file, \"rt\"): cannot open the connection\n",
     "output_type": "error",
     "traceback": [
      "Error in file(file, \"rt\"): cannot open the connection\nTraceback:\n",
      "1. read.csv(paste(f.path, \"wwf_ecoregions_key.csv\", sep = \"\"))",
      "2. read.table(file = file, header = header, sep = sep, quote = quote, \n .     dec = dec, fill = fill, comment.char = comment.char, ...)",
      "3. file(file, \"rt\")"
     ]
    }
   ],
   "source": [
    "ecoreg_key <- read.csv(paste(f.path,\"wwf_ecoregions_key.csv\",sep=\"\"))\n",
    "allPAs <- readRDS(paste(f.path,\"WDPA_shapefiles/WDPA_polygons/\",iso3,\"_PA_poly.rds\",sep=\"\"))\n",
    "MCD12Q1 <- raster(paste(f.path,\"GEDI_ANCI_PFT_r1000m_EASE2.0_UMD_v1_projection_defined_6933.tif\",sep=\"\"))\n",
    "projection(MCD12Q1) <- sp::CRS(paste(\"+init=epsg:\",6933,sep=\"\"))\n",
    "world_region <- raster(paste(f.path,\"GEDI_ANCI_CONTINENT_r1000m_EASE2.0_UMD_v1_revised_projection_defined_6933.tif\",sep=\"\"))\n",
    "projection(world_region) <- sp::CRS(paste(\"+init=epsg:\",6933,sep=\"\"))\n",
    "adm <- readOGR(paste(f.path,\"WDPA_countries/shp/\",iso3,\".shp\",sep=\"\"),verbose=F)\n",
    "adm_prj <- spTransform(adm, \"+init=epsg:6933\") \n",
    "load(\"/shared-buckets/abarenblitt/GEDI_PA/Matching_Layers/AGO/rf_noclimate.RData\")\n",
    "source(\"/shared-buckets/abarenblitt/GEDI_PA/Matching_Layers/AGO/matching_func.R\")"
   ]
  }
 ],
 "metadata": {
  "kernelspec": {
   "display_name": "R [conda env:r-with-gdal]",
   "language": "R",
   "name": "conda-env-r-with-gdal-r"
  },
  "language_info": {
   "codemirror_mode": "r",
   "file_extension": ".r",
   "mimetype": "text/x-r-source",
   "name": "R",
   "pygments_lexer": "r",
   "version": "4.3.1"
  }
 },
 "nbformat": 4,
 "nbformat_minor": 5
}
