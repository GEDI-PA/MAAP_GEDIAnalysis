{
 "cells": [
  {
   "cell_type": "markdown",
   "id": "b9f3da12",
   "metadata": {},
   "source": [
    "This code works through the GEDI subsetter version 0.6.0. This converts a geojson of tiles over a study area to temp geojson files to feed into the subsetter"
   ]
  },
  {
   "cell_type": "code",
   "execution_count": 22,
   "id": "87bffd98",
   "metadata": {},
   "outputs": [],
   "source": [
    "#Open the MAAP host\n",
    "from maap.maap import MAAP\n",
    "maap = MAAP(maap_host='api.ops.maap-project.org')\n"
   ]
  },
  {
   "cell_type": "code",
   "execution_count": 113,
   "id": "2d559534",
   "metadata": {},
   "outputs": [],
   "source": [
    "#Import numpy for making column inputs easier\n",
    "import numpy as np\n",
    "import geopandas as gpd\n",
    "import shapely"
   ]
  },
  {
   "cell_type": "code",
   "execution_count": 137,
   "id": "e7202427",
   "metadata": {},
   "outputs": [
    {
     "name": "stdout",
     "output_type": "stream",
     "text": [
      "<bound method DataFrame.info of          id    random                                           geometry\n",
      "0      8,-7  0.685510  POLYGON ((8.00000 -7.00000, 9.00000 -7.00000, ...\n",
      "1      9,-7  0.452251  POLYGON ((9.00000 -7.00000, 10.00000 -7.00000,...\n",
      "2     12,-7  0.231314  POLYGON ((12.00000 -7.00000, 13.00000 -7.00000...\n",
      "3      8,-6  0.597992  POLYGON ((8.00000 -6.00000, 9.00000 -6.00000, ...\n",
      "4      9,-6  0.995462  POLYGON ((9.00000 -6.00000, 10.00000 -6.00000,...\n",
      "..      ...       ...                                                ...\n",
      "146  -17,20  0.612239  POLYGON ((-17.00000 20.00000, -16.00000 20.000...\n",
      "147  -16,20  0.167271  POLYGON ((-16.00000 20.00000, -15.00000 20.000...\n",
      "148  -18,21  0.473960  POLYGON ((-18.00000 21.00000, -17.00000 21.000...\n",
      "149  -17,21  0.156771  POLYGON ((-17.00000 21.00000, -16.00000 21.000...\n",
      "150  -16,21  0.512777  POLYGON ((-16.00000 21.00000, -15.00000 21.000...\n",
      "\n",
      "[151 rows x 3 columns]>\n"
     ]
    }
   ],
   "source": [
    "#Load in Tiled AOI\n",
    "tiles = gpd.read_file(\"https://maap-ops-workspace.s3.amazonaws.com/shared/abarenblitt/EEZBounds/WestAfricaGrid.geojson\")\n",
    "\n",
    "print(tiles.info)"
   ]
  },
  {
   "cell_type": "code",
   "execution_count": 99,
   "id": "7f61b4d6",
   "metadata": {},
   "outputs": [],
   "source": [
    "#Set index to the correct column name, in this case \"random\"\n",
    "tiles.set_index('random',inplace=True)"
   ]
  },
  {
   "cell_type": "code",
   "execution_count": 100,
   "id": "b5af739d",
   "metadata": {},
   "outputs": [
    {
     "data": {
      "text/plain": [
       "id                                              8,-7\n",
       "geometry    POLYGON ((8 -7, 9 -7, 9 -6, 8 -6, 8 -7))\n",
       "Name: 0.6855097362903453, dtype: object"
      ]
     },
     "execution_count": 100,
     "metadata": {},
     "output_type": "execute_result"
    }
   ],
   "source": [
    "#Test a single tile\n",
    "tiles.loc[0.6855097362903453]"
   ]
  },
  {
   "cell_type": "markdown",
   "id": "03701db7",
   "metadata": {},
   "source": [
    "Use \"random\" column for ID to generate features to tile over"
   ]
  },
  {
   "cell_type": "code",
   "execution_count": 101,
   "id": "f9f04a24",
   "metadata": {},
   "outputs": [
    {
     "name": "stdout",
     "output_type": "stream",
     "text": [
      "[0.6855097362903453, 0.4522512836485828, 0.23131388830190724, 0.5979918962060293, 0.9954619410018374, 0.7363462239298356, 0.16955097115328577, 0.17510753017660985, 0.3925692959970333, 0.5752152674405157, 0.7412455810081872, 0.7392697493154132, 0.4653903570931611, 0.8354018764581234, 0.38600958865659807, 0.23490126284236712, 0.6936479469170777, 0.895062222650941, 0.789772170178162, 0.5160985973254504, 0.9244779703796152, 0.5150738620210101, 0.894109796377685, 0.06989256159489654, 0.6310652493506097, 0.8557841478391265, 0.3657585583436155, 0.7485440110765288, 0.5672959857440157, 0.33153070200335955, 0.39138004097717916, 0.5822984975127008, 0.4411987903729985, 0.5549448029680308, 0.1657510400319916, 0.658522680224497, 0.5666193031784508, 0.4415834231141531, 0.9917320562143129, 0.5326880936290095, 0.9621639521726443, 0.07476782962538708, 0.7317576801263533, 0.8968646730286827, 0.14280037807636703, 0.582712155141294, 0.03319394615667215, 0.6036670510954576, 0.023375478336133515, 0.17561754375653738, 0.8592154196191055, 0.5535467273484774, 0.5051412200711658, 0.16848180586268835, 0.48557945545860937, 0.7613040540319054, 0.8670101216719808, 0.6404214781206369, 0.33839649920396264, 0.6500039954907694, 0.2586368494382929, 0.5071067970950951, 0.07263589449883168, 0.4664693955591195, 0.20319560926915337, 0.6770732646941269, 0.6831805046391944, 0.8553645000752359, 0.3248105955158245, 0.45397183204433844, 0.16843347578627288, 0.6706038764150968, 0.7846724429138495, 0.671900718616502, 0.5405603930554532, 0.12371620977895226, 0.6224613277764768, 0.27946581444968444, 0.30032398652444403, 0.7649394494697057, 0.3444255668954379, 0.4995682721537348, 0.8106130492234029, 0.44442285015001515, 0.8161683069471228, 0.6259558089360269, 0.4141731213398757, 0.6887519836283349, 0.35992938569358857, 0.9345650680706282, 0.18318936057876423, 0.5730015693059755, 0.23482919449395312, 0.4163868170025672, 0.04586121988667524, 0.09622923698556995, 0.011085056152904005, 0.6708383093438415, 0.8593170426227251, 0.48317962348302723, 0.6561323406543959, 0.3098681441417914, 0.89671706459566, 0.8270217788491215, 0.655652706622649, 0.7398724686253122, 0.016200411350141053, 0.6423749758827763, 0.22315630025973465, 0.8108727545179361, 0.5605824877399651, 0.6797303789881467, 0.2275091834592623, 0.1854388867605823, 0.2085513423761285, 0.7525999942548174, 0.30138757547251127, 0.33930019751933205, 0.7516215411211691, 0.8839609005214139, 0.6081734752199957, 0.19291197173237873, 0.19333529809869465, 0.264874623578352, 0.21171191514967913, 0.6435061407498786, 0.4873828994513433, 0.98127026221308, 0.6175514229571625, 0.34151838610839, 0.44994939202230533, 0.7812545494898194, 0.0008195283710246137, 0.41817149484244853, 0.9415937569630844, 0.41747194639078866, 0.3271451711347336, 0.3201267629708132, 0.055356832721973115, 0.08673457431725884, 0.4632618687047304, 0.33432537851519384, 0.09327051352684723, 0.21832543158454099, 0.1067723695428543, 0.47138249909528607, 0.6122391000999631, 0.16727076733555413, 0.4739597327148176, 0.15677124764364314, 0.5127771678107681]\n"
     ]
    }
   ],
   "source": [
    "#List out the individual aois\n",
    "list_aois = tiles.index.unique().tolist() #tiles[tiles.columns[1]].values.tolist()\n",
    "print(list_aois)"
   ]
  },
  {
   "cell_type": "code",
   "execution_count": 114,
   "id": "699bf8d7",
   "metadata": {},
   "outputs": [
    {
     "name": "stdout",
     "output_type": "stream",
     "text": [
      "{\"type\":\"Polygon\",\"coordinates\":[[[8.0,-7.0],[9.0,-7.0],[9.0,-6.0],[8.0,-6.0],[8.0,-7.0]]]}\n"
     ]
    }
   ],
   "source": [
    "aoiTest=shapely.to_geojson(tiles.loc[0.6855097362903453,\"geometry\"])\n",
    "print(aoiTest)"
   ]
  },
  {
   "cell_type": "code",
   "execution_count": 74,
   "id": "c0fc3c0a",
   "metadata": {},
   "outputs": [],
   "source": [
    "#Create empty variables to fill with all 29 appearances of cover_z* and pai_z* \n",
    "variables = []\n",
    "for n in np.arange(0, 30,1):\n",
    "    variables.append('cover_z' + str(n))\n",
    "    variables.append('pai_z' + str(n))\n"
   ]
  },
  {
   "cell_type": "markdown",
   "id": "4a2a84aa",
   "metadata": {},
   "source": [
    "For several AOI's run this code:"
   ]
  },
  {
   "cell_type": "code",
   "execution_count": 75,
   "id": "d3b253a4",
   "metadata": {},
   "outputs": [],
   "source": [
    "#Set up job results to print output during run\n",
    "\n",
    "import xml.etree.ElementTree as ET\n",
    "from urllib.parse import urlparse\n",
    "\n",
    "def job_status_for(job_id: str) -> str:\n",
    "    response = maap.getJobStatus(job_id)\n",
    "    response.raise_for_status()\n",
    "    \n",
    "    root = ET.fromstring(response.text)\n",
    "    status_element = root.find('.//{http://www.opengis.net/wps/2.0}Status')\n",
    "    \n",
    "    return status_element.text\n",
    "\n",
    "def job_result_for(job_id: str) -> str:\n",
    "    response = maap.getJobResult(job_id)\n",
    "    response.raise_for_status()\n",
    "    \n",
    "    root = ET.fromstring(response.text)\n",
    "\n",
    "    return root.find('.//{http://www.opengis.net/wps/2.0}Data').text\n",
    "\n",
    "def to_job_output_dir(job_result_url: str) -> str:\n",
    "    url_path = urlparse(job_result_url).path\n",
    "    # The S3 Key is the URL path excluding the `/{username}` prefix\n",
    "    s3_key = \"/\".join(url_path.split(\"/\")[2:])\n",
    "\n",
    "    return f\"/projects/my-private-bucket/{s3_key}\""
   ]
  },
  {
   "cell_type": "code",
   "execution_count": 115,
   "id": "b6fc3633",
   "metadata": {},
   "outputs": [],
   "source": [
    "#Import geojson and tempfile for creating temp files for the subsetter\n",
    "\n",
    "from geojson import Point, Feature, FeatureCollection, dump\n",
    "\n",
    "import tempfile"
   ]
  },
  {
   "cell_type": "code",
   "execution_count": 128,
   "id": "b2bc9cbc",
   "metadata": {},
   "outputs": [],
   "source": [
    "#def write_json(shape):\n",
    "   # feature is a shapely geometry type\n",
    "#        geom_in_geojson = geojson.Feature(geometry=shape, properties={})\n",
    "#        tmp_file = tempfile.mkstemp(suffix='.geojson')\n",
    "#        with open(tmp_file[1], 'w') as outfile:\n",
    "#            geojson.dump(geom_in_geojson, outfile)\n",
    "#        return tmp_file[1]"
   ]
  },
  {
   "cell_type": "code",
   "execution_count": 140,
   "id": "24215420",
   "metadata": {},
   "outputs": [],
   "source": [
    "#list_aois = tiles['random'].unique().tolist()\n",
    "#list_aois"
   ]
  },
  {
   "cell_type": "code",
   "execution_count": 142,
   "id": "9a6ffc9f",
   "metadata": {},
   "outputs": [
    {
     "name": "stdout",
     "output_type": "stream",
     "text": [
      "<class 'geopandas.geodataframe.GeoDataFrame'>\n"
     ]
    }
   ],
   "source": [
    "#for aoi in list_aois[:1]:\n",
    "    #shape = shapely.to_geojson(tiles.loc[aoi,\"geometry\"])\n",
    "    #f = write_json(shape)\n",
    "#    tile = tiles[tiles['random']==aoi]\n",
    "    #print(type(tile))\n",
    "#    tile.to_file('temp.geojson')\n",
    "    "
   ]
  },
  {
   "cell_type": "code",
   "execution_count": null,
   "id": "9d54394c",
   "metadata": {},
   "outputs": [
    {
     "name": "stdout",
     "output_type": "stream",
     "text": [
      "2b9644bc-f429-4bab-9a9c-bc37d99d0825\n",
      "97ecde26-b976-4ae0-a619-febe38252898\n",
      "6095cc48-7f11-4c1c-92ca-9cc196d0e4cf\n",
      "57301614-9088-4dc9-b718-6718a9b64d92\n",
      "5d9f33ca-f0a8-49e7-9ab9-99a485e745c0\n",
      "00257b35-32d1-45b2-b01c-c9af9dbe8313\n",
      "dc53fc02-6ded-4466-ac79-29a9aa7e76ca\n",
      "e89a3d5b-5825-4885-9c53-f55dfe111877\n",
      "bb864ad5-c571-4abe-9d17-55c8953428a1\n",
      "aa50847e-ab59-463b-8e91-9492bf60c3c3\n",
      "053ef475-56f7-4d28-82bf-a45e8c679940\n",
      "66894945-fddb-41d6-a790-9ca344b7b8ab\n",
      "b42dabdf-006b-49fb-aeeb-a91fd0913ccd\n",
      "6e20c105-04e4-4239-a40a-1afdc063a298\n",
      "87faf2f6-daad-4d85-8bad-0b61e56f781d\n",
      "21fc0756-1598-4cad-baa9-5fde5a86cce7\n",
      "497614ea-4cdc-4d64-a19d-253373829002\n",
      "38307f42-32f7-4bb4-bfbd-6da839f6b16e\n",
      "45784887-a8ee-4b2b-a6c0-cffbe2256154\n",
      "78b3e3bb-d0b4-4b09-85c2-8758c05acb59\n",
      "9035ac64-7314-4e11-aa05-7159680243b8\n",
      "e4f0cce5-1214-4b65-8c22-738e3358b57b\n",
      "6ac7abbc-e081-4f58-989b-bb8506cf081c\n",
      "cf0d641e-fe57-4a48-8308-ac081c9be02a\n",
      "58ac520d-61f0-4f3b-9198-e5a7ec73fd43\n",
      "b33e52fa-5636-48ca-a810-58622548568c\n",
      "1bb9ec9b-ca4c-435a-a6d2-687ea4224b9d\n",
      "10ac2d51-0474-41f9-bd2f-0bb789084ac4\n",
      "5a2954c7-a420-4b4f-956c-fade9e37db53\n",
      "c89d71cc-2dd6-42cd-a61c-8d695f15d946\n",
      "1b5b2c18-7ad7-4011-9c64-170ef5b37b05\n",
      "0c87d4a2-801e-4e1e-9467-e9db359d5f2b\n",
      "919f2026-f139-4139-81df-809cfd912982\n",
      "d51bd629-277c-4057-a745-cdf44018122f\n",
      "f34d28c5-ec7e-45c9-bc39-a30a0fdbdd2a\n",
      "f3b3faaa-9796-4a25-af77-3a9c9c937dbe\n",
      "e7336cf9-741e-4492-bb0b-dfdecf5e41a9\n",
      "82ecffc1-b9e2-444c-9602-03a6d9a119a6\n",
      "58ae4f0f-b1a9-4e58-b135-bdfebb01ccd0\n",
      "55a0194b-b4d8-47e8-ba55-064ec202db25\n",
      "bc5b2a46-3fc3-4c28-822a-41c9f8c0be40\n",
      "da53106f-4a71-4f5e-a36b-213ffef233ff\n",
      "31213ae3-3027-4894-80e8-ac3366a7041d\n",
      "f686104a-edc9-48ab-90de-9284cacedaf2\n",
      "12de2419-c447-46a4-91ff-a6b19813318a\n",
      "9f6cbddf-dab0-4b40-b25c-d3bd49e83e2b\n",
      "36e8c4aa-5546-47fa-addc-5a01787ce3b4\n",
      "fe894f7f-3a8b-4290-9a75-305866d07442\n",
      "a1d466c5-274d-4ffa-89cd-90124bc8e3c8\n",
      "9d5fad58-106b-4a22-b42f-aa1e2141cc2b\n",
      "648c4bd9-6aab-41ec-bc19-20affed4dcf9\n",
      "7cd26979-0b31-42fc-adf8-37925d20641b\n",
      "2889a902-9fee-4b9f-a4fa-d3be0e987337\n",
      "8d25d00d-a3ea-450f-9927-1506069f0d05\n",
      "3aa0dcee-4e2d-44d2-8b95-d13fc0442dfa\n",
      "e89c7d48-3335-4bb9-a88b-8ed53da08b81\n",
      "14060772-cf12-4ea0-a017-ede5e5f2e83b\n",
      "b17a1bcc-4248-4edd-adbd-0ea9b9ba9846\n",
      "62b23295-3fa6-4509-90d0-ef2eeba3bd27\n",
      "28833510-8d54-4845-ab94-d38520594c05\n",
      "edbebe41-c4a9-4838-b8d7-905b1e573630\n",
      "93984e6e-47dd-4e4f-abfe-a98b42d77713\n",
      "a107cf95-22e5-4c6f-a45a-aaf26156d754\n",
      "dfef0800-f66a-421e-9869-e7963eaa134e\n",
      "3826394d-e316-4c1e-a40c-4d441e77a485\n",
      "8e8c1d6b-f277-4b81-b36b-5cd4b3d00f7b\n",
      "8e5b8ca9-61ee-4a15-a183-eee3fda10515\n",
      "0391c22a-c9dc-4fab-934c-f750fa9bbf4f\n",
      "d124cffd-3f1a-4c93-83de-4da60864d440\n",
      "98c8b9c7-25ce-4ff1-893c-f0b1f9399057\n",
      "54ba80d0-e7fb-4513-a4b2-5c26c416abb0\n",
      "42716e33-2e6b-4902-84e6-8e1afec88744\n",
      "869ad1ce-91c8-475f-92f0-b68835b9f7ca\n",
      "a147dee5-2403-4cbb-b394-b05eb114468e\n",
      "06dbaee4-1627-41e0-92c8-dea48e4598a9\n",
      "f6036c89-a391-4326-a3fe-bfc9f5628c5c\n",
      "a594b48b-b7ac-4acf-9626-f54a5a841d38\n",
      "2897835b-0572-4dba-81a6-b51d49964e7c\n",
      "e3f2a7f8-d5a6-4e0c-a407-a8864de9a35b\n",
      "276ebe70-192e-42fa-bc6a-24690397f984\n",
      "3f2b80ba-c706-48d9-9b2b-82941c6cb790\n",
      "761611ba-6f56-4498-9232-9a4615926635\n",
      "5d1fa007-2e0c-4c4f-852a-90646a1ce50b\n",
      "dc8749eb-5f08-4c84-b176-d4a83c04d253\n",
      "370a0977-82a0-4a37-ba63-69a6a713ecd2\n",
      "aa726a5c-6054-44c7-9611-b99854b30950\n",
      "44e1aae8-9dc2-4cf4-879c-d8edfe0c3154\n",
      "7da150ae-69eb-4372-a113-cdb79d52afa9\n",
      "952d50c9-7a55-448e-9464-aa2138e269f3\n",
      "0fd2fa43-c73b-4b3d-9e70-52af67c06615\n",
      "fe4dc6d7-36e4-4949-a3c2-227e2c31cbcb\n",
      "dd5a088c-ed3f-44e1-b70e-62750ccf1ca4\n",
      "e43e6332-7ce1-473f-9304-298524d28c3f\n",
      "c50d1ad8-3149-47fb-bfb5-30754a473202\n",
      "af7fff2e-7ab8-480d-9a08-20a7577b8578\n",
      "96d93438-da0a-4254-8873-e6c8fc57ea47\n",
      "3c245d5e-4f33-45ca-91d2-d8251adcaf29\n",
      "73738270-8774-46b0-bf99-b152319fbe64\n",
      "e797e0ad-d37b-4a23-881a-ba19bc175a32\n",
      "5a34b72c-e7fe-469a-a8c7-abd2bb7e50cc\n",
      "249560e1-64a5-42f9-bde0-8f1b750ff7f2\n",
      "1539af12-535f-4b07-ad58-96f6277ddd82\n",
      "113989fd-c2bc-4342-ac45-a80b28d909c4\n",
      "40a727c8-ec32-44b7-a858-bba84999672b\n",
      "3c31e21d-5c6d-4757-a95d-f9eb5c38c162\n",
      "3db0418c-491b-486a-99d0-4a6be5182114\n",
      "783d56a3-79e1-4071-8389-7aab9e5e0b9f\n",
      "1db28659-2bc9-499c-b585-b6c921e3bb6b\n",
      "a845ec05-3519-4b05-b84a-749c7573ee2c\n",
      "341b3c8c-c123-422e-9de4-68663603ee24\n",
      "7ef60b5b-8172-4322-a03f-fee2660d5945\n",
      "c58c7817-78c7-406a-9dd0-5c2c6ad032d3\n",
      "a750d3be-57d9-4b1d-b787-1646ebb0a196\n",
      "fc9816ef-bbf9-401e-b643-166607499a18\n",
      "cd4b64eb-acb8-48f4-81e3-876d82782806\n",
      "e9a7fa5d-cf1c-44e3-b187-4ccb0f5be1fd\n",
      "eeebc1ce-3cd4-46f3-a23b-83dc0fee6a97\n",
      "61260809-05fd-4310-a9c0-e30f09f45bea\n",
      "7c4be69a-df3a-441e-994b-f3fa20927944\n",
      "33258a76-56fc-4a1b-8c35-a2c3dd5369e1\n",
      "f3e7bfb0-5b03-4269-92e5-61bcfa7e64ca\n",
      "01340ed1-65c3-4388-82e5-0b055785d5d4\n",
      "25454a20-5e8f-4c88-8aae-61fd185ddee0\n",
      "a2dfaa34-a3fa-4d79-af52-2827d048c97f\n",
      "eddd47cb-89a9-40cc-8983-dd40a820ffd5\n",
      "db254332-d1d7-41d4-ac64-4c5ec1ea41fa\n",
      "91f7fb17-44ea-4300-92bf-66ce2acb4007\n",
      "72cb959e-d0b1-4d1c-bf94-99e829bf9a36\n",
      "2bff1fe3-f42e-48b1-bf18-3f210c287ef2\n",
      "7956b674-88c7-4108-8e64-8f41991e7f34\n",
      "1c8e129f-32b2-4578-92c5-42e12b576f86\n",
      "7901e35f-69f6-4fc4-ad3e-8e2fd9ca09e6\n",
      "6fbb002d-b0d8-422b-afb4-fa84abe9b464\n",
      "bab0c661-584b-4fd1-ae1d-9642c26eab57\n",
      "2384739f-30a8-43d9-aeee-0185fc67a30d\n",
      "8c3997cb-f8bc-4b15-b8bf-1c7f93f9e2e7\n",
      "a7e85bb6-91cc-4bf5-af88-71961b382db6\n",
      "8f23054a-12de-48b1-bd04-47a9cfba4dc7\n",
      "f10a2a98-83d7-4a72-8b78-97dd78e6b0d6\n",
      "0ba58c51-4947-49c6-99ea-a6ede6ab2e36\n",
      "9ce4d9e8-676e-4c28-9602-9d053802720a\n",
      "bfda7b8e-47aa-4dcf-af6d-1822060fe79b\n",
      "611f0e8f-b6d4-49c6-8973-edf606bed954\n",
      "6e8c64c0-3470-4576-a55f-749d31e049d0\n",
      "64aedc8e-cc62-4e46-95ab-a573388c5508\n",
      "584ec8d9-058f-4bcb-a9cd-7a92bd099d02\n",
      "9ef29635-94ce-486b-a3f2-16fb121db3bd\n",
      "da304d6d-2d6e-41d9-98bb-533bfb9938d7\n",
      "161d4e0f-5b53-4cc3-b7db-ff3561d28401\n",
      "c3a37eab-fa07-458f-9528-604cf1558ffc\n"
     ]
    },
    {
     "name": "stderr",
     "output_type": "stream",
     "text": [
      "INFO:backoff:Backing off wait_for_job(...) for 48.9s (Accepted)\n"
     ]
    },
    {
     "name": "stdout",
     "output_type": "stream",
     "text": [
      "9a90ea3d-60a1-4cb2-9b5e-a3886a603fc0\n"
     ]
    },
    {
     "name": "stderr",
     "output_type": "stream",
     "text": [
      "INFO:backoff:Backing off wait_for_job(...) for 21.8s (Accepted)\n",
      "INFO:backoff:Backing off wait_for_job(...) for 108.2s (Accepted)\n",
      "INFO:backoff:Backing off wait_for_job(...) for 24.6s (Accepted)\n",
      "INFO:backoff:Backing off wait_for_job(...) for 9.5s (Accepted)\n",
      "INFO:backoff:Backing off wait_for_job(...) for 73.0s (Accepted)\n",
      "INFO:backoff:Backing off wait_for_job(...) for 41.8s (Accepted)\n",
      "INFO:backoff:Backing off wait_for_job(...) for 90.0s (Accepted)\n",
      "INFO:backoff:Backing off wait_for_job(...) for 32.6s (Accepted)\n"
     ]
    }
   ],
   "source": [
    "#Set up input dictionary and import backoff to display run results\n",
    "#First part of the for loop uses the \"random\" column to search through the tiles geojson to \n",
    "#create temp files one at a time to set the AOI\n",
    "#################################\n",
    "\n",
    "for aoi in list_aois: \n",
    "    \n",
    "    \n",
    "    tile = tiles[tiles['random']==aoi]\n",
    "    tile.to_file('temp.geojson')\n",
    "    \n",
    "    inputs = dict(\n",
    "       aoi=\"https://maap-ops-workspace.s3.amazonaws.com/shared/abarenblitt/MAAP_GEDIAnalysis/temp.geojson\",\n",
    "       doi=\"L2B\",\n",
    "       lat=\"geolocation/lat_lowestmode\",\n",
    "       lon=\"geolocation/lon_lowestmode\",\n",
    "       beams=\"all\",\n",
    "       columns=\"rh100, cover,land_cover_data/landsat_treecover, pai,fhd_normal,\"+\",\".join(variables),\n",
    "       query=\"l2a_quality_flag == 1 and l2b_quality_flag == 1 and sensitivity > 0.95\",\n",
    "       limit = 1000,\n",
    "       temporal=\"-\",\n",
    "       output=\"-\"\n",
    "    )\n",
    "    result = maap.submitJob(\n",
    "        identifier=\"gedi-subset\",\n",
    "        algo_id=\"gedi-subset_ubuntu\",\n",
    "        version=\"0.6.0\",\n",
    "        queue=\"maap-dps-worker-32gb\",\n",
    "        username=\"abarenblitt\",\n",
    "    **inputs\n",
    "    )\n",
    "    \n",
    "    job_id = result[\"job_id\"]\n",
    "    print(job_id)\n",
    "    \n",
    "try:\n",
    "    import backoff\n",
    "except:\n",
    "    job_status = job_status_for(job_id)\n",
    "else:\n",
    "    # Check job status every 2 minutes\n",
    "    @backoff.on_predicate(\n",
    "        backoff.constant,\n",
    "        lambda status: status not in [\"Deleted\", \"Succeeded\", \"Failed\"],\n",
    "        interval=120,\n",
    "    )\n",
    "    def wait_for_job(job_id: str) -> str:\n",
    "        return job_status_for(job_id)\n",
    "\n",
    "    job_status = wait_for_job(job_id)\n",
    "    job_status"
   ]
  },
  {
   "cell_type": "code",
   "execution_count": 95,
   "id": "259a629e",
   "metadata": {},
   "outputs": [
    {
     "data": {
      "text/plain": [
       "'Failed'"
      ]
     },
     "execution_count": 95,
     "metadata": {},
     "output_type": "execute_result"
    }
   ],
   "source": [
    "job_id = \"a4596ff3-8bfc-4d03-a9dc-3cb4883b9d59\"\n",
    "\n",
    "job_status"
   ]
  },
  {
   "cell_type": "code",
   "execution_count": 96,
   "id": "5cff510c",
   "metadata": {},
   "outputs": [
    {
     "data": {
      "text/plain": [
       "'<wps:Result xmlns:ows=\"http://www.opengis.net/ows/2.0\" xmlns:schemaLocation=\"http://schemas.opengis.net/wps/2.0/wps.xsd\" xmlns:wps=\"http://www.opengis.net/wps/2.0\" xmlns:xsi=\"http://www.w3.org/2001/XMLSchema-instance\"><wps:JobID>a4596ff3-8bfc-4d03-a9dc-3cb4883b9d59</wps:JobID><wps:Output id=\"traceback\"><wps:Data>Traceback (most recent call last):\\n  File \"/home/ops/verdi/ops/osaka-1.0.1/osaka/storage/file.py\", line 67, in get\\n    fh = open(path, \"r\")\\nFileNotFoundError: [Errno 2] No such file or directory: \\'POLYGON ((-16 21, -15 21, -15 22, -16 22, -16 21))\\'\\n\\nDuring handling of the above exception, another exception occurred:\\n\\nTraceback (most recent call last):\\n  File \"/home/ops/verdi/ops/hysds-0.3.11/hysds/utils.py\", line 139, in download_file\\n    osaka.main.get(url, cache_dir, params=params)\\n  File \"/home/ops/verdi/ops/osaka-1.0.1/osaka/main.py\", line 86, in get\\n    noclobber=noclobber,\\n  File \"/home/ops/verdi/ops/osaka-1.0.1/osaka/main.py\", line 128, in transfer\\n    noclobber=noclobber,\\n  File \"/home/ops/verdi/ops/osaka-1.0.1/osaka/transfer.py\", line 128, in transfer\\n    raise err\\n  File \"/home/ops/verdi/ops/osaka-1.0.1/osaka/transfer.py\", line 106, in transfer\\n    metrics = self.transfer_uri(source, shandle, dest, dhandle)\\n  File \"/home/ops/verdi/ops/osaka-1.0.1/osaka/transfer.py\", line 157, in transfer_uri\\n    counts = osaka.utils.product_composite_iterator(source, shandle, transfer_one)\\n  File \"/home/ops/verdi/ops/osaka-1.0.1/osaka/utils.py\", line 103, in product_composite_iterator\\n    return list(map(callback, uris))\\n  File \"/home/ops/verdi/ops/osaka-1.0.1/osaka/transfer.py\", line 152, in transfer_one\\n    stream = shandle.get(uri)\\n  File \"/home/ops/verdi/ops/osaka-1.0.1/osaka/storage/file.py\", line 69, in get\\n    raise osaka.utils.OsakaFileNotFound(\"File {} doesn\\'t exist.\".format(uri))\\nosaka.utils.OsakaFileNotFound: File POLYGON ((-16 21, -15 21, -15 22, -16 22, -16 21)) doesn\\'t exist.\\n\\nDuring handling of the above exception, another exception occurred:\\n\\nTraceback (most recent call last):\\n  File \"/home/ops/verdi/ops/hysds-0.3.11/hysds/utils.py\", line 482, in localize_urls\\n    download_file(url, path, cache=cache)\\n  File \"/home/ops/verdi/ops/hysds-0.3.11/hysds/utils.py\", line 144, in download_file\\n    url, cache_dir, str(e), tb))\\nRuntimeError: Failed to download POLYGON ((-16 21, -15 21, -15 22, -16 22, -16 21)) to cache /data/work/cache/c/2/0/3/c2031339080217f9f13b0200a4dcc87b: File POLYGON ((-16 21, -15 21, -15 22, -16 22, -16 21)) doesn\\'t exist.\\nTraceback (most recent call last):\\n  File \"/home/ops/verdi/ops/osaka-1.0.1/osaka/storage/file.py\", line 67, in get\\n    fh = open(path, \"r\")\\nFileNotFoundError: [Errno 2] No such file or directory: \\'POLYGON ((-16 21, -15 21, -15 22, -16 22, -16 21))\\'\\n\\nDuring handling of the above exception, another exception occurred:\\n\\nTraceback (most recent call last):\\n  File \"/home/ops/verdi/ops/hysds-0.3.11/hysds/utils.py\", line 139, in download_file\\n    osaka.main.get(url, cache_dir, params=params)\\n  File \"/home/ops/verdi/ops/osaka-1.0.1/osaka/main.py\", line 86, in get\\n    noclobber=noclobber,\\n  File \"/home/ops/verdi/ops/osaka-1.0.1/osaka/main.py\", line 128, in transfer\\n    noclobber=noclobber,\\n  File \"/home/ops/verdi/ops/osaka-1.0.1/osaka/transfer.py\", line 128, in transfer\\n    raise err\\n  File \"/home/ops/verdi/ops/osaka-1.0.1/osaka/transfer.py\", line 106, in transfer\\n    metrics = self.transfer_uri(source, shandle, dest, dhandle)\\n  File \"/home/ops/verdi/ops/osaka-1.0.1/osaka/transfer.py\", line 157, in transfer_uri\\n    counts = osaka.utils.product_composite_iterator(source, shandle, transfer_one)\\n  File \"/home/ops/verdi/ops/osaka-1.0.1/osaka/utils.py\", line 103, in product_composite_iterator\\n    return list(map(callback, uris))\\n  File \"/home/ops/verdi/ops/osaka-1.0.1/osaka/transfer.py\", line 152, in transfer_one\\n    stream = shandle.get(uri)\\n  File \"/home/ops/verdi/ops/osaka-1.0.1/osaka/storage/file.py\", line 69, in get\\n    raise osaka.utils.OsakaFileNotFound(\"File {} doesn\\'t exist.\".format(uri))\\nosaka.utils.OsakaFileNotFound: File POLYGON ((-16 21, -15 21, -15 22, -16 22, -16 21)) doesn\\'t exist.\\n\\n\\nDuring handling of the above exception, another exception occurred:\\n\\nTraceback (most recent call last):\\n  File \"/home/ops/verdi/ops/hysds-0.3.11/hysds/job_worker.py\", line 995, in run_job\\n    pre_processor_sigs.append(func(job, context))\\n  File \"/home/ops/verdi/ops/hysds-0.3.11/hysds/utils.py\", line 485, in localize_urls\\n    raise RuntimeError(\"Failed to download {}: {}\\\\n{}\".format(url, str(e), tb))\\nRuntimeError: Failed to download POLYGON ((-16 21, -15 21, -15 22, -16 22, -16 21)): Failed to download POLYGON ((-16 21, -15 21, -15 22, -16 22, -16 21)) to cache /data/work/cache/c/2/0/3/c2031339080217f9f13b0200a4dcc87b: File POLYGON ((-16 21, -15 21, -15 22, -16 22, -16 21)) doesn\\'t exist.\\nTraceback (most recent call last):\\n  File \"/home/ops/verdi/ops/osaka-1.0.1/osaka/storage/file.py\", line 67, in get\\n    fh = open(path, \"r\")\\nFileNotFoundError: [Errno 2] No such file or directory: \\'POLYGON ((-16 21, -15 21, -15 22, -16 22, -16 21))\\'\\n\\nDuring handling of the above exception, another exception occurred:\\n\\nTraceback (most recent call last):\\n  File \"/home/ops/verdi/ops/hysds-0.3.11/hysds/utils.py\", line 139, in download_file\\n    osaka.main.get(url, cache_dir, params=params)\\n  File \"/home/ops/verdi/ops/osaka-1.0.1/osaka/main.py\", line 86, in get\\n    noclobber=noclobber,\\n  File \"/home/ops/verdi/ops/osaka-1.0.1/osaka/main.py\", line 128, in transfer\\n    noclobber=noclobber,\\n  File \"/home/ops/verdi/ops/osaka-1.0.1/osaka/transfer.py\", line 128, in transfer\\n    raise err\\n  File \"/home/ops/verdi/ops/osaka-1.0.1/osaka/transfer.py\", line 106, in transfer\\n    metrics = self.transfer_uri(source, shandle, dest, dhandle)\\n  File \"/home/ops/verdi/ops/osaka-1.0.1/osaka/transfer.py\", line 157, in transfer_uri\\n    counts = osaka.utils.product_composite_iterator(source, shandle, transfer_one)\\n  File \"/home/ops/verdi/ops/osaka-1.0.1/osaka/utils.py\", line 103, in product_composite_iterator\\n    return list(map(callback, uris))\\n  File \"/home/ops/verdi/ops/osaka-1.0.1/osaka/transfer.py\", line 152, in transfer_one\\n    stream = shandle.get(uri)\\n  File \"/home/ops/verdi/ops/osaka-1.0.1/osaka/storage/file.py\", line 69, in get\\n    raise osaka.utils.OsakaFileNotFound(\"File {} doesn\\'t exist.\".format(uri))\\nosaka.utils.OsakaFileNotFound: File POLYGON ((-16 21, -15 21, -15 22, -16 22, -16 21)) doesn\\'t exist.\\n\\nTraceback (most recent call last):\\n  File \"/home/ops/verdi/ops/osaka-1.0.1/osaka/storage/file.py\", line 67, in get\\n    fh = open(path, \"r\")\\nFileNotFoundError: [Errno 2] No such file or directory: \\'POLYGON ((-16 21, -15 21, -15 22, -16 22, -16 21))\\'\\n\\nDuring handling of the above exception, another exception occurred:\\n\\nTraceback (most recent call last):\\n  File \"/home/ops/verdi/ops/hysds-0.3.11/hysds/utils.py\", line 139, in download_file\\n    osaka.main.get(url, cache_dir, params=params)\\n  File \"/home/ops/verdi/ops/osaka-1.0.1/osaka/main.py\", line 86, in get\\n    noclobber=noclobber,\\n  File \"/home/ops/verdi/ops/osaka-1.0.1/osaka/main.py\", line 128, in transfer\\n    noclobber=noclobber,\\n  File \"/home/ops/verdi/ops/osaka-1.0.1/osaka/transfer.py\", line 128, in transfer\\n    raise err\\n  File \"/home/ops/verdi/ops/osaka-1.0.1/osaka/transfer.py\", line 106, in transfer\\n    metrics = self.transfer_uri(source, shandle, dest, dhandle)\\n  File \"/home/ops/verdi/ops/osaka-1.0.1/osaka/transfer.py\", line 157, in transfer_uri\\n    counts = osaka.utils.product_composite_iterator(source, shandle, transfer_one)\\n  File \"/home/ops/verdi/ops/osaka-1.0.1/osaka/utils.py\", line 103, in product_composite_iterator\\n    return list(map(callback, uris))\\n  File \"/home/ops/verdi/ops/osaka-1.0.1/osaka/transfer.py\", line 152, in transfer_one\\n    stream = shandle.get(uri)\\n  File \"/home/ops/verdi/ops/osaka-1.0.1/osaka/storage/file.py\", line 69, in get\\n    raise osaka.utils.OsakaFileNotFound(\"File {} doesn\\'t exist.\".format(uri))\\nosaka.utils.OsakaFileNotFound: File POLYGON ((-16 21, -15 21, -15 22, -16 22, -16 21)) doesn\\'t exist.\\n\\nDuring handling of the above exception, another exception occurred:\\n\\nTraceback (most recent call last):\\n  File \"/home/ops/verdi/ops/hysds-0.3.11/hysds/utils.py\", line 482, in localize_urls\\n    download_file(url, path, cache=cache)\\n  File \"/home/ops/verdi/ops/hysds-0.3.11/hysds/utils.py\", line 144, in download_file\\n    url, cache_dir, str(e), tb))\\nRuntimeError: Failed to download POLYGON ((-16 21, -15 21, -15 22, -16 22, -16 21)) to cache /data/work/cache/c/2/0/3/c2031339080217f9f13b0200a4dcc87b: File POLYGON ((-16 21, -15 21, -15 22, -16 22, -16 21)) doesn\\'t exist.\\nTraceback (most recent call last):\\n  File \"/home/ops/verdi/ops/osaka-1.0.1/osaka/storage/file.py\", line 67, in get\\n    fh = open(path, \"r\")\\nFileNotFoundError: [Errno 2] No such file or directory: \\'POLYGON ((-16 21, -15 21, -15 22, -16 22, -16 21))\\'\\n\\nDuring handling of the above exception, another exception occurred:\\n\\nTraceback (most recent call last):\\n  File \"/home/ops/verdi/ops/hysds-0.3.11/hysds/utils.py\", line 139, in download_file\\n    osaka.main.get(url, cache_dir, params=params)\\n  File \"/home/ops/verdi/ops/osaka-1.0.1/osaka/main.py\", line 86, in get\\n    noclobber=noclobber,\\n  File \"/home/ops/verdi/ops/osaka-1.0.1/osaka/main.py\", line 128, in transfer\\n    noclobber=noclobber,\\n  File \"/home/ops/verdi/ops/osaka-1.0.1/osaka/transfer.py\", line 128, in transfer\\n    raise err\\n  File \"/home/ops/verdi/ops/osaka-1.0.1/osaka/transfer.py\", line 106, in transfer\\n    metrics = self.transfer_uri(source, shandle, dest, dhandle)\\n  File \"/home/ops/verdi/ops/osaka-1.0.1/osaka/transfer.py\", line 157, in transfer_uri\\n    counts = osaka.utils.product_composite_iterator(source, shandle, transfer_one)\\n  File \"/home/ops/verdi/ops/osaka-1.0.1/osaka/utils.py\", line 103, in product_composite_iterator\\n    return list(map(callback, uris))\\n  File \"/home/ops/verdi/ops/osaka-1.0.1/osaka/transfer.py\", line 152, in transfer_one\\n    stream = shandle.get(uri)\\n  File \"/home/ops/verdi/ops/osaka-1.0.1/osaka/storage/file.py\", line 69, in get\\n    raise osaka.utils.OsakaFileNotFound(\"File {} doesn\\'t exist.\".format(uri))\\nosaka.utils.OsakaFileNotFound: File POLYGON ((-16 21, -15 21, -15 22, -16 22, -16 21)) doesn\\'t exist.\\n\\n\\n</wps:Data></wps:Output></wps:Result>'"
      ]
     },
     "execution_count": 96,
     "metadata": {},
     "output_type": "execute_result"
    }
   ],
   "source": [
    "#Get job result full text to bug Alex with\n",
    " \n",
    "maap.getJobResult(job_id).text"
   ]
  }
 ],
 "metadata": {
  "kernelspec": {
   "display_name": "Python gediknight",
   "language": "python",
   "name": "gediknight"
  },
  "language_info": {
   "codemirror_mode": {
    "name": "ipython",
    "version": 3
   },
   "file_extension": ".py",
   "mimetype": "text/x-python",
   "name": "python",
   "nbconvert_exporter": "python",
   "pygments_lexer": "ipython3",
   "version": "3.7.8"
  }
 },
 "nbformat": 4,
 "nbformat_minor": 5
}
