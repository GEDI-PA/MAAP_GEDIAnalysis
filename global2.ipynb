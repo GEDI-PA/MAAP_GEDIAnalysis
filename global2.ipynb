{
 "cells": [
  {
   "cell_type": "code",
   "execution_count": 1,
   "id": "09f48a25-a39f-48c1-9061-c306a3251c22",
   "metadata": {
    "tags": []
   },
   "outputs": [
    {
     "name": "stderr",
     "output_type": "stream",
     "text": [
      "Warning message in install.packages(\"raster\"):\n",
      "“installation of package ‘raster’ had non-zero exit status”\n",
      "Updating HTML index of packages in '.Library'\n",
      "\n",
      "Making 'packages.html' ...\n",
      " done\n",
      "\n",
      "Updating HTML index of packages in '.Library'\n",
      "\n",
      "Making 'packages.html' ...\n",
      " done\n",
      "\n"
     ]
    }
   ],
   "source": [
    "install.packages(\"raster\")\n",
    "install.packages(\"RItools\")"
   ]
  },
  {
   "cell_type": "code",
   "execution_count": 2,
   "id": "153f2cf1-bb56-4db1-8660-3a97648971a5",
   "metadata": {
    "tags": []
   },
   "outputs": [],
   "source": [
    "#!/usr/bin/env Rscript\n",
    "\n",
    "# This global processing script PART II is derived from the global processing notebook \n",
    "#the input can be the iso3 code (3-character) for one or multiple countries \n",
    "\n",
    "#mamba install -c conda-forge r-terra r-optmatch r-sp r-rgdal r-sf r-rgeos r-dplyr r-plyr r-ggplot2 r-raster r-mapview r-stringr r-maptools r-gridExtra r-lattice r-MASS r-foreach r-doParallel r-rlang r-tidyr r-magrittr r-viridis r-ggmap r-Hmisc r-hrbrthemes r-spatialEco r-bit64 r-randomForest r-modelr r-ranger r-caret r-rgeos r-ritools\n",
    "\n",
    "options(warn=-1)\n",
    "options(dplyr.summarise.inform = FALSE)\n",
    "\n",
    "packages <- c(\"sp\",\"rgdal\",\"sf\",\"rgeos\",\"dplyr\",\"plyr\",\"ggplot2\",\"raster\",\"mapview\",\"stringr\",\n",
    "              \"maptools\",\"gridExtra\",\"lattice\",\"MASS\",\"foreach\",\"optmatch\",\"doParallel\",\"RItools\",\"gdalUtils\",\n",
    "              \"rlang\",\"tidyr\",\"magrittr\",\"viridis\",\"ggmap\",\"Hmisc\",\"hrbrthemes\",\"spatialEco\",\"bit64\",\"randomForest\", \"modelr\",\"ranger\",\"caret\")\n",
    "package.check <- lapply(packages, FUN = function(x) {\n",
    "  suppressPackageStartupMessages(library(x, character.only = TRUE))\n",
    "})\n",
    "\n",
    "args = commandArgs(trailingOnly=TRUE)\n",
    "if (length(args)==0) {\n",
    "  stop(\"At least one argument must be supplied (input file).n\", call.=FALSE)\n",
    "} else if (length(args)>=1) {\n",
    "  \n",
    "  iso3 <- args[1]  #country to process\n",
    "  gediwk <- args[2]   #the # of weeks GEDI data to use\n",
    "  mproc <- as.integer(args[3])#the number of cores to use for macthing \n",
    "}"
   ]
  },
  {
   "cell_type": "code",
   "execution_count": 3,
   "id": "515259ba-19e3-445e-bc0d-2cce2ba3dd8d",
   "metadata": {
    "tags": []
   },
   "outputs": [],
   "source": [
    "#Get Info for GPKG Table Name\n",
    "# ogrInfo(paste(\"~/GEDI_PA/Matching_Layers/SEN/SEN_Tiles/N14.30728831742391W-13.52951992770953.geojson_L2A.gpkg\",sep=\"\"))"
   ]
  },
  {
   "cell_type": "code",
   "execution_count": 70,
   "id": "d98129be-a26c-4088-a04d-6e357f84b638",
   "metadata": {
    "tags": []
   },
   "outputs": [],
   "source": [
    "# Subset GEDI data to first 3 features for running troubleshooting\n",
    "#Run only once!\n",
    "# sf<- st_read(\"~/GEDI_PA/Matching_Layers/SEN/WDPA_gedi_l2a+l2b_clean2_SEN/SEN_admin_L2A.gpkg\",query = \"select * from SEN_admin_L2A limit 3;\")\n",
    "# print(sf)\n",
    "# st_write(sf,\"~/GEDI_PA/Matching_Layers/SEN/WDPA_gedi_l2a+l2b_clean2_SEN/SEN_L2A_subset.gpkg\")"
   ]
  },
  {
   "cell_type": "code",
   "execution_count": 3,
   "id": "1ba226ec-3c5c-4dc6-88f0-e24c19b594ea",
   "metadata": {
    "tags": []
   },
   "outputs": [
    {
     "name": "stdout",
     "output_type": "stream",
     "text": [
      "Step 0: Loading global variables to process country SEN with GEDI data until week 24 \n",
      "~/GEDI_PA/Matching_Layers/SEN/"
     ]
    }
   ],
   "source": [
    "iso3 <- \"SEN\"\n",
    "gediwk<-24\n",
    "mproc <-1\n",
    "\n",
    "cat(\"Step 0: Loading global variables to process country\", iso3,\"with GEDI data until week\", gediwk, \"\\n\")\n",
    "\n",
    "f.path <- cat(\"~/GEDI_PA/Matching_Layers/SEN/\")\n",
    "ecoreg_key <- read.csv(paste(\"~/GEDI_PA/wwf_ecoregions_key.csv\",sep=\"\"))\n",
    "allPAs <- readRDS(paste(\"~/GEDI_PA/Matching_Layers/SEN/SEN_PA_poly.rds\",sep=\"\"))\n",
    "MCD12Q1 <- raster(paste(\"~/GEDI_PA/GEDI_ANCI_PFT_r1000m_EASE2.0_UMD_v1_projection_defined_6933.tif\",sep=\"\"))\n",
    "projection(MCD12Q1) <- sp::CRS(paste(\"+init=epsg:\",6933,sep=\"\"))\n",
    "world_region <- raster(paste(\"~/GEDI_PA/GEDI_ANCI_CONTINENT_r1000m_EASE2.0_UMD_v1_revised_projection_defined_6933.tif\",sep=\"\"))\n",
    "projection(world_region) <- sp::CRS(paste(\"+init=epsg:\",6933,sep=\"\"))\n",
    "adm <- readOGR(paste(\"~/GEDI_PA/Matching_Layers/SEN/SEN_admin.geojson\"),verbose=FALSE)\n",
    "adm_prj <- spTransform(adm, \"+init=epsg:6933\") \n",
    "load(\"~/GEDI_PA/rf_noclimate.rdata\")\n",
    "source(\"~/GEDI_PA/matching_func-Copy1.r\")\n",
    "# flag <- \"don't ran extraction\"\n",
    "flag <- \"run all\"\n",
    "# flag <- \"run remaining\""
   ]
  },
  {
   "cell_type": "code",
   "execution_count": 6,
   "id": "ea4d173e-3e37-42a0-b188-87087b7da84d",
   "metadata": {
    "tags": []
   },
   "outputs": [
    {
     "name": "stdout",
     "output_type": "stream",
     "text": [
      "Step 5: Performing WK  24 GEDI extraction for SEN \n"
     ]
    }
   ],
   "source": [
    "#---------------STEP5. GEDI PROCESSING - using GEDI shots to extract the treatment/control status, also extract the MODIS PFT for AGB prediction---------------- \n",
    "# if (file.exists(paste(f.path,\"WDPA_GEDI_extract/\",iso3,\"_wk\",gediwk,\"/\",iso3,\"_gedi_extracted_matching_wk\",gediwk,\".RDS\", sep=\"\"))){\n",
    "cat(paste(\"Step 5: Performing WK \",gediwk,\"GEDI extraction for\", iso3,\"\\n\"))\n",
    "#matched_all <-read.csv(paste(f.path,\"WDPA_extract4_residual_PAs/\", iso3, \"_wk_\", gediwk, \"_null_matches_rerun.csv\",sep=\"\")) \n",
    "matched_all<-list.files(paste(\"~/GEDI_PA/Matching_Layers/SEN/WDPA_matching_points/\",iso3,\"_wk\",gediwk,sep=\"\"), pattern=\".RDS\", full.names = FALSE)\n",
    "# readr::parse_number() %>% unique()\n",
    "#list.files(paste(f.path,\"WDPA_matching_results/\",iso3,\"_wk\",gediwk,sep=\"\"), pattern=\".RDS\", full.names = FALSE)\n",
    "registerDoParallel(3)\n",
    "matched_PAs <- foreach(this_rds=matched_all, .combine = c, .packages=c('sp','magrittr', 'dplyr','tidyr','raster')) %dopar% {   #non-NA matched results\n",
    "  matched_PAs=c()\n",
    "  print(this_rds)\n",
    "  if(nchar(iso3)>3){\n",
    "    id_pa <- this_rds %>% str_split(\"_\") %>% unlist %>% .[4]  \n",
    "  } else {\n",
    "    id_pa <- this_rds %>% str_split(\"_\") %>% unlist %>% .[3]\n",
    "  }\n",
    "  matched <- readRDS(paste(\"~/GEDI_PA/Matching_Layers/SEN/WDPA_matching_results/SEN_wk24/\",iso3,\"_pa_\", id_pa,\"_matching_results_wk\",gediwk,\".RDS\", sep=\"\"))\n",
    "  if(!is.null(matched)){\n",
    "    if(nrow(matched)!=0){\n",
    "      matched_PAs=c(matched_PAs,this_rds) \n",
    "    }\n",
    "  }else {\n",
    "    # print(this_rds)\n",
    "    matched_PAs=matched_PAs\n",
    "  }\n",
    "  return(matched_PAs)\n",
    "}\n",
    "stopImplicitCluster()"
   ]
  },
  {
   "cell_type": "code",
   "execution_count": 7,
   "id": "d13db82c-9c40-4e9e-9fcc-aef96ba23e81",
   "metadata": {
    "tags": []
   },
   "outputs": [
    {
     "name": "stdout",
     "output_type": "stream",
     "text": [
      "Step 5: Performing WK  24 GEDI extraction for SEN \n"
     ]
    }
   ],
   "source": [
    "# UPDATED FOR ALL OF SEN\n",
    "cat(paste(\"Step 5: Performing WK \",gediwk,\"GEDI extraction for\", iso3,\"\\n\"))\n",
    "#matched_all <-read.csv(paste(f.path,\"WDPA_extract4_residual_PAs/\", iso3, \"_wk_\", gediwk, \"_null_matches_rerun.csv\",sep=\"\")) \n",
    "matched_all<-list.files(paste(\"~/GEDI_PA/Matching_Layers/SEN/WDPA_matching_results/\",iso3,\"_wk\",gediwk,sep=\"\"),full.names = FALSE)\n",
    "# readr::parse_number() %>% unique()\n",
    "#list.files(paste(f.path,\"WDPA_matching_results/\",iso3,\"_wk\",gediwk,sep=\"\"), pattern=\".RDS\", full.names = FALSE)\n",
    "registerDoParallel(3)\n",
    "matched_PAs <- foreach(this_rds=matched_all, .combine = c, .packages=c('sp','magrittr', 'dplyr','tidyr','raster')) %dopar% {   #non-NA matched results\n",
    "  matched_PAs=c()\n",
    "  print(this_rds)\n",
    "  if(nchar(iso3)>3){\n",
    "    id_pa <- this_rds %>% str_split(\"_\") %>% unlist %>% .[4]  \n",
    "  } else {\n",
    "    id_pa <- this_rds %>% str_split(\"_\") %>% unlist %>% .[3]\n",
    "  }\n",
    "  matched <- readRDS(paste(\"~/GEDI_PA/Matching_Layers/SEN/WDPA_matching_results/SEN_wk24/\",iso3,\"_pa_\", id_pa,\"_matching_results_wk\",gediwk,\".RDS\", sep=\"\"))\n",
    "  if(!is.null(matched)){\n",
    "    if(nrow(matched)!=0){\n",
    "      matched_PAs=c(matched_PAs,this_rds) \n",
    "    }\n",
    "  }else {\n",
    "    # print(this_rds)\n",
    "    matched_PAs=matched_PAs\n",
    "  }\n",
    "  return(matched_PAs)\n",
    "}\n",
    "stopImplicitCluster()"
   ]
  },
  {
   "cell_type": "code",
   "execution_count": 8,
   "id": "f94e083b-071a-47bc-877f-7c9cce2c4f53",
   "metadata": {
    "tags": []
   },
   "outputs": [
    {
     "name": "stdout",
     "output_type": "stream",
     "text": [
      "Step 5: runing extraction on all 107 of non-NA matched results in SEN \n"
     ]
    }
   ],
   "source": [
    "if(flag==\"run all\"){  #determine how many PAs to run the extraction process\n",
    "  matched_PAs <- matched_PAs\n",
    "  cat(\"Step 5: runing extraction on all\", length(matched_PAs),\"of non-NA matched results in\", iso3,\"\\n\")\n",
    "} else if (flag==\"run remaining\"){\n",
    "  pattern1 = c(paste(\"wk\",gediwk,sep=\"\"),\"RDS\")\n",
    "  extracted_PAid <- list.files(paste(\"~/GEDI_PA/Matching_Layers/SEN/WDPA_GEDI_extract4/\",iso3,\"_wk\",gediwk,\"/\",sep=\"\"), full.names = F, pattern=paste0(pattern1, collapse=\"|\"))%>%\n",
    "    readr::parse_number() %>% unique()\n",
    "  matched_PA_id <- matched_PAs %>% readr::parse_number()\n",
    "  runPA_id <- matched_PA_id[!(matched_PA_id %in% extracted_PAid)]\n",
    "  if (length(runPA_id)>0){\n",
    "    Pattern2 <-  paste(runPA_id, collapse=\"|\")\n",
    "    runPA <-  matched_PAs[grepl(Pattern2,matched_PAs)]\n",
    "    # runPA_ind <- str_detect(matched_PAs, paste(runPA_id, collapse = \"|\"))\n",
    "    matched_PAs <-runPA\n",
    "  } else {\n",
    "    matched_PAs <- NULL\n",
    "    cat(\"Step 5 already done for\", iso3, \"\\n\")\n",
    "  }\n",
    "}"
   ]
  },
  {
   "cell_type": "code",
   "execution_count": 9,
   "id": "b5afe845-668d-4783-8fbd-3af5343fa57d",
   "metadata": {
    "tags": []
   },
   "outputs": [],
   "source": [
    "source(\"~/GEDI_PA/matching_func-Copy1.r\")"
   ]
  },
  {
   "cell_type": "code",
   "execution_count": 67,
   "id": "d2cb8697-0e8c-4458-8d84-b8c4baaf0d2d",
   "metadata": {
    "tags": []
   },
   "outputs": [
    {
     "data": {
      "text/html": [
       "2"
      ],
      "text/latex": [
       "2"
      ],
      "text/markdown": [
       "2"
      ],
      "text/plain": [
       "[1] 2"
      ]
     },
     "metadata": {},
     "output_type": "display_data"
    },
    {
     "name": "stdout",
     "output_type": "stream",
     "text": [
      "Extracting for no.  1 pa out of 1 \n",
      "[1] \"352659\"\n",
      "SEN converting the matched csv to a raster stack for extraction\n",
      "\n",
      " 0  1 \n",
      "12 12 \n",
      "Done GEDI for no.  59 pa out of 107 \n",
      "3.221881 for extracting all PAs in SEN \n",
      "Done GEDI for no.  59 pa out of 107 \n",
      "[1] \"output df 10233\" \"output df 12\"   \n",
      "352659 in SEN results is written to dir\n"
     ]
    },
    {
     "data": {
      "text/plain": [
       "NULL"
      ]
     },
     "metadata": {},
     "output_type": "display_data"
    },
    {
     "name": "stdout",
     "output_type": "stream",
     "text": [
      "3.24237 for extracting all PAs in SEN \n",
      "Done GEDI extraction for pa in  SEN \n"
     ]
    }
   ],
   "source": [
    "# SUB VERSION\n",
    "# mproc=2\n",
    "# registerDoParallel(cores=round(mproc))\n",
    "# getDoParWorkers()\n",
    "# startTime <- Sys.time()\n",
    "# foreach(this_rds=sub, .combine = foreach_rbind, .packages=c('sp','magrittr', 'dplyr','tidyr','raster')) %dopar% {\n",
    "\n",
    "#     cat(\"Extracting for no. \", match(this_rds,sub),\"pa out of\", length(sub),\"\\n\")\n",
    "#     if(nchar(iso3)>3){\n",
    "#         id_pa <- this_rds %>% str_split(\"_\") %>% unlist %>% .[4]  \n",
    "#     } else {\n",
    "#         id_pa <- this_rds %>% str_split(\"_\") %>% unlist %>% .[3]\n",
    "#     }\n",
    "#     print(id_pa)\n",
    "#     matched <- readRDS(paste(\"~/GEDI_PA/Matching_Layers/SEN/WDPA_matching_results/SEN_wk24/\",iso3,\"_pa_\",id_pa,\"_matching_results_wk24.RDS\", sep=\"\"))\n",
    "#     if (is.null(matched)==TRUE  | nrow(matched)==0) {\n",
    "#         cat(\"Matched result is null for PA\", id_pa, \"quitting...\\n\")\n",
    "#     } else if (!is.null(matched)==TRUE){\n",
    "#     mras  <- tryCatch(matched2ras(matched),\n",
    "#                       error=function(cond){\n",
    "#                         message(cond)\n",
    "#                         cat(\"Matched result is likely null for country\", iso3,\"pa\", id_pa, \"dimension of the match is\", dim(matched),\"\\n\")\n",
    "#                         # writeLines(\"Matched results is likely null for country\", paste(f.path,\"WDPA_log/\",iso3,\"_log_matching.txt\", sep=\"\"))\n",
    "#                         return(NULL)}) #convert the macthed df to a raster stack \n",
    "#     print(table(mras$status[]))\n",
    "#     if(table(mras$status[])[2]==0 | table(mras$status[])[1]==0 | is.null(mras)){\n",
    "#       cat(\"Rasterized results unbalanced for PA\", id_pa, \"quitting...\\n\")\n",
    "#     } else {\n",
    "#       startTime <- Sys.time()\n",
    "#       iso_matched_gedi<- extract_gedi(matched=matched, mras = mras)#}  #run filtered csvs on mras for extarction\n",
    "\n",
    "#       tElapsed <- Sys.time()-startTime\n",
    "#       cat(tElapsed, \"for extracting all PAs in\", iso3,\"\\n\")\n",
    "#       cat(\"Done GEDI for no. \",grep(unique(matched$pa_id), matched_PAs),\"pa out of\", length(matched_PAs),\"\\n\")\n",
    "\n",
    "#       iso_matched_gedi <-  iso_matched_gedi %>%\n",
    "# #         #ASK AMBER ABOUT OG COLUMNS\n",
    "# #         #THIS NEEDS TO BE ADJUSTED!!!!\n",
    "#         dplyr::select(\"pa_id\",\"status\",\n",
    "#                       \"wwfbiom\",\"wwfecoreg\",\"shot_number\",\"lon_lowestmode\", \n",
    "#                       \"lat_lowestmode\", \"lon_lowestmode\", \n",
    "#                       \"lat_lowestmode\",\"rh25\", \"rh50\", \"rh75\",\"rh90\", \"rh98\")  #write to individual country folder\n",
    "#       if (length(unique(iso_matched_gedi$wwfbiom)) >1){\n",
    "#         pabiome <- iso_matched_gedi$wwfbiom %>% unique() %>% gsub('\\\\b(\\\\pL)\\\\pL{2,}|.','\\\\U\\\\1',.,perl = TRUE)%>% str_c( collapse = \"+\")\n",
    "#       } else if (length(unique(iso_matched_gedi$wwfbiom))==1){\n",
    "#         pabiome <- iso_matched_gedi$wwfbiom %>% unique() %>% gsub('\\\\b(\\\\pL)\\\\pL{2,}|.','\\\\U\\\\1',.,perl = TRUE)\n",
    "#       } else {\n",
    "#         pabiome <- iso_matched_gedi$wwfbiom %>% unique()\n",
    "#       }\n",
    "#       # papaddd <- unique(iso_matched_gedi$PADDD) %>% getmode()\n",
    "#       continent <- unique(iso_matched_gedi$region) %>% getmode()\n",
    "#       print(paste('output df',dim(iso_matched_gedi)))\n",
    "\n",
    "#       dir.create(file.path(paste(\"~/GEDI_PA/Matching_Layers/SEN/WDPA_GEDI_extract4/\",iso3,\"_wk\",gediwk,\"/\",sep=\"\")))\n",
    "#       saveRDS(iso_matched_gedi, file=paste(\"~/GEDI_PA/Matching_Layers/SEN/WDPA_GEDI_extract4/SEN_wk24/\",iso3,\"_pa_\", id_pa,\"_gedi_wk_\",gediwk,\"_conti_\",\"biome_\",pabiome,\".RDS\", sep=\"\"))\n",
    "#       cat(id_pa,\"in\",iso3,\"results is written to dir\\n\")\n",
    "#       write.csv(iso_matched_gedi, file=paste(\"~/GEDI_PA/Matching_Layers/SEN/WDPA_GEDI_extract4/SEN_wk24/\",\"SEN_pa_\", id_pa,\"_iso_matched_gedi_sub_wk_\",gediwk,\".csv\", sep=\"\"))\n",
    "#     }\n",
    "    \n",
    "#     }\n",
    "    \n",
    "#     return(NULL)\n",
    "# }\n",
    "# stopImplicitCluster()\n",
    "# tElapsed <- Sys.time()-startTime\n",
    "# cat(tElapsed, \"for extracting all PAs in\", iso3,\"\\n\")\n",
    "# cat(\"Done GEDI extraction for pa in \",iso3,\"\\n\")    \n",
    "    \n"
   ]
  },
  {
   "cell_type": "code",
   "execution_count": 11,
   "id": "1ee73dd1-337c-46a1-8504-7c0c1e45ff86",
   "metadata": {
    "tags": []
   },
   "outputs": [
    {
     "data": {
      "text/html": [
       "'/projects/GEDI_PA/MAAP_GEDIAnalysis'"
      ],
      "text/latex": [
       "'/projects/GEDI\\_PA/MAAP\\_GEDIAnalysis'"
      ],
      "text/markdown": [
       "'/projects/GEDI_PA/MAAP_GEDIAnalysis'"
      ],
      "text/plain": [
       "[1] \"/projects/GEDI_PA/MAAP_GEDIAnalysis\""
      ]
     },
     "metadata": {},
     "output_type": "display_data"
    }
   ],
   "source": [
    "getwd()"
   ]
  },
  {
   "cell_type": "code",
   "execution_count": 12,
   "id": "f7223929-ce12-4406-a79c-9c55ff4e86cd",
   "metadata": {
    "tags": []
   },
   "outputs": [],
   "source": [
    "writeLines(c(\"\"), \"SENlogJul5_1344.txt\")  "
   ]
  },
  {
   "cell_type": "code",
   "execution_count": null,
   "id": "9f4fe4d7-ecc1-48e6-ab46-f15d3e037a55",
   "metadata": {
    "tags": []
   },
   "outputs": [
    {
     "data": {
      "text/html": [
       "3"
      ],
      "text/latex": [
       "3"
      ],
      "text/markdown": [
       "3"
      ],
      "text/plain": [
       "[1] 3"
      ]
     },
     "metadata": {},
     "output_type": "display_data"
    }
   ],
   "source": [
    "# MATCHED_PA VERSION\n",
    "# NOTE: PA 866 failed since it was over the water so it's been removed from \"matching_results\"\n",
    "mproc=3\n",
    "registerDoParallel(cores=round(mproc))\n",
    "getDoParWorkers()\n",
    "startTime <- Sys.time()\n",
    "\n",
    "foreach(this_rds=matched_PAs, .combine = foreach_rbind, .packages=c('sp','magrittr', 'dplyr','tidyr','raster')) %dopar% {\n",
    "    # sink(\"SENlogJul5_1127.txt\", append=TRUE)\n",
    "    log.text <- paste0(Sys.time(), \" processing loop run \", this_rds, length(matched_PAs))\n",
    "    write.table(log.text, \"SENlogJul5_1255.txt\", append = TRUE, row.names = FALSE, col.names = FALSE)\n",
    "\n",
    "    cat(\"Extracting for no. \", match(this_rds,matched_PAs),\"pa out of\", length(matched_PAs),\"\\n\")\n",
    "    # flush.console()\n",
    "    if(nchar(iso3)>3){\n",
    "        id_pa <- this_rds %>% str_split(\"_\") %>% unlist %>% .[4]  \n",
    "    } else {\n",
    "        id_pa <- this_rds %>% str_split(\"_\") %>% unlist %>% .[3]\n",
    "    }\n",
    "    matched <- readRDS(paste(\"~/GEDI_PA/Matching_Layers/SEN/WDPA_matching_results/SEN_wk24/\",iso3,\"_pa_\",id_pa,\"_matching_results_wk24.RDS\", sep=\"\"))\n",
    "    if (is.null(matched)==TRUE  | nrow(matched)==0) {\n",
    "        cat(\"Matched result is null for PA\", id_pa, \"quitting...\\n\")\n",
    "    } else if (!is.null(matched)==TRUE){\n",
    "    mras  <- tryCatch(matched2ras(matched),\n",
    "                      error=function(cond){\n",
    "                        message(cond)\n",
    "                        cat(\"Matched result is likely null for country\", iso3,\"pa\", id_pa, \"dimension of the match is\", dim(matched),\"\\n\")\n",
    "                        # writeLines(\"Matched results is likely null for country\", paste(f.path,\"WDPA_log/\",iso3,\"_log_matching.txt\", sep=\"\"))\n",
    "                        return(NULL)}) #convert the macthed df to a raster stack \n",
    "    print(table(mras$status[]))\n",
    "    if(table(mras$status[])[2]==0 | table(mras$status[])[1]==0 | is.null(mras)){\n",
    "      cat(\"Rasterized results unbalanced for PA\", id_pa, \"quitting...\\n\")\n",
    "    } else {\n",
    "      startTime <- Sys.time()\n",
    "      iso_matched_gedi<- extract_gedi(matched=matched, mras = mras)#}  #run filtered csvs on mras for extarction\n",
    "\n",
    "      tElapsed <- Sys.time()-startTime\n",
    "      cat(tElapsed, \"for extracting all PAs in\", iso3,\"\\n\")\n",
    "      cat(\"Done GEDI for no. \",grep(unique(matched$pa_id), matched_PAs),\"pa out of\", length(matched_PAs),\"\\n\")\n",
    "\n",
    "      iso_matched_gedi <-  iso_matched_gedi %>%\n",
    "#         #ASK AMBER ABOUT OG COLUMNS\n",
    "#         #THIS NEEDS TO BE ADJUSTED!!!!\n",
    "        dplyr::select(\"pa_id\",\"status\",\n",
    "                      \"wwfbiom\",\"wwfecoreg\",\"shot_number\",\"lon_lowestmode\", \n",
    "                      \"lat_lowestmode\", \"lon_lowestmode\", \n",
    "                      \"lat_lowestmode\",\"rh25\", \"rh50\", \"rh75\",\"rh90\", \"rh98\")  #write to individual country folder\n",
    "      if (length(unique(iso_matched_gedi$wwfbiom)) >1){\n",
    "        pabiome <- iso_matched_gedi$wwfbiom %>% unique() %>% gsub('\\\\b(\\\\pL)\\\\pL{2,}|.','\\\\U\\\\1',.,perl = TRUE)%>% str_c( collapse = \"+\")\n",
    "      } else if (length(unique(iso_matched_gedi$wwfbiom))==1){\n",
    "        pabiome <- iso_matched_gedi$wwfbiom %>% unique() %>% gsub('\\\\b(\\\\pL)\\\\pL{2,}|.','\\\\U\\\\1',.,perl = TRUE)\n",
    "      } else {\n",
    "        pabiome <- iso_matched_gedi$wwfbiom %>% unique()\n",
    "      }\n",
    "      # papaddd <- unique(iso_matched_gedi$PADDD) %>% getmode()\n",
    "      continent <- unique(iso_matched_gedi$region) %>% getmode()\n",
    "      print(paste('output df',dim(iso_matched_gedi)))\n",
    "\n",
    "      dir.create(file.path(paste(\"~/GEDI_PA/Matching_Layers/SEN/WDPA_GEDI_extract4/\",iso3,\"_wk\",gediwk,\"/\",sep=\"\")))\n",
    "      saveRDS(iso_matched_gedi, file=paste(\"~/GEDI_PA/Matching_Layers/SEN/WDPA_GEDI_extract4/SEN_wk24/\",iso3,\"_pa_\", id_pa,\"_gedi_wk_\",gediwk,\"_conti_\",\"biome_\",pabiome,\".RDS\", sep=\"\"))\n",
    "      write.csv(iso_matched_gedi, file=paste(\"~/GEDI_PA/Matching_Layers/SEN/WDPA_GEDI_extract4/SEN_wk24/\",\"SEN_pa_\", id_pa,\"_iso_matched_gedi_sub_wk_\",gediwk,\".csv\", sep=\"\"))\n",
    "      cat(id_pa,\"in\",iso3,\"results is written to dir\\n\")\n",
    "    }\n",
    "    }\n",
    "    \n",
    "    return(NULL)\n",
    "}\n",
    "\n",
    "\n",
    "stopImplicitCluster()\n",
    "tElapsed <- Sys.time()-startTime\n",
    "cat(tElapsed, \"for extracting all PAs in\", iso3,\"\\n\")\n",
    "cat(\"Done GEDI extraction for pa in \",iso3,\"\\n\")\n"
   ]
  },
  {
   "cell_type": "code",
   "execution_count": 17,
   "id": "f609f032-647a-4d9f-bcfb-c897c9218fb5",
   "metadata": {
    "tags": []
   },
   "outputs": [
    {
     "data": {
      "text/html": [
       "72"
      ],
      "text/latex": [
       "72"
      ],
      "text/markdown": [
       "72"
      ],
      "text/plain": [
       "[1] 72"
      ]
     },
     "metadata": {},
     "output_type": "display_data"
    }
   ],
   "source": [
    "length(list.files(\"~/GEDI_PA/Matching_Layers/SEN/WDPA_GEDI_extract4/SEN_wk24\",pattern = \".csv\"))"
   ]
  },
  {
   "cell_type": "markdown",
   "id": "dd82e5b6-35e3-40a4-9ddc-10d067e1746d",
   "metadata": {},
   "source": [
    "#########not using the below anymore###########"
   ]
  },
  {
   "cell_type": "code",
   "execution_count": 18,
   "id": "e8994b03-82e1-4c0c-bc8b-29de560d5f8a",
   "metadata": {
    "tags": []
   },
   "outputs": [],
   "source": [
    "# fileA<-read.csv(\"~/GEDI_PA/Matching_Layers/SEN/WDPA_GEDI_extract4/SEN_wk24/SEN_pa_352673_iso_matched_gedi_sub_wk_24.csv\")\n",
    "# dim(fileA)"
   ]
  },
  {
   "cell_type": "code",
   "execution_count": 19,
   "id": "a674a5b0-8346-41b8-a3e4-c86c8abe71af",
   "metadata": {
    "tags": []
   },
   "outputs": [],
   "source": [
    "# fileB<-read.csv(\"~/GEDI_PA/Matching_Layers/SEN/WDPA_GEDI_extract4/SEN_wk24/SEN_pa_352642_iso_matched_gedi_sub_wk_24.csv\")\n",
    "# dim(fileB)"
   ]
  },
  {
   "cell_type": "code",
   "execution_count": 20,
   "id": "23bb5198-4560-4160-84ed-bc794dc2790e",
   "metadata": {
    "tags": []
   },
   "outputs": [],
   "source": [
    "########***not used***##########\n",
    "#SUB VERSION UPDATING FOR ALL RDS\n",
    "#Pull the CRS from one of the GEDI files so results use \n",
    "#Reprojection is clunky and needs to be updated, and overall the projections of above layers do not match the WGS84 projection\n",
    "# tile<- st_read(\"~/shared-buckets/abarenblitt/SEN_Tiles/N14.30728831742391W-13.52951992770953.geojson\")\n",
    "#WORKS THROUGH MRAS\n",
    "# registerDoParallel(cores=round(mproc))\n",
    "# getDoParWorkers()\n",
    "# startTime <- Sys.time()\n",
    "\n",
    "# foreach(this_rds=sub, .combine = foreach_rbind, .packages=c('sp','magrittr', 'dplyr','tidyr','raster')) %dopar% {\n",
    "#   cat(\"Extracting for no. \", match(this_rds,sub),\"pa out of\", length(sub),\"\\n\")\n",
    "#   if(nchar(iso3)>3){\n",
    "#     id_pa <- this_rds %>% str_split(\"_\") %>% unlist %>% .[4]  \n",
    "#   } else {\n",
    "#     id_pa <- this_rds %>% str_split(\"_\") %>% unlist %>% .[3]\n",
    "#   }\n",
    "#   matched <- readRDS(paste(\"~/GEDI_PA/Matching_Layers/SEN/WDPA_matching_results/SEN_wk24/\",iso3,\"_pa_\",id_pa,\"_matching_results_wk24.RDS\", sep=\"\"))\n",
    "#   if (is.null(matched)==TRUE  | nrow(matched)==0) {\n",
    "#     cat(\"Matched result is null for PA\", id_pa, \"quitting...\\n\")\n",
    "#   } else if (!is.null(matched)==TRUE){\n",
    "#     mras  <- tryCatch(matched2ras(matched),\n",
    "#                       error=function(cond){\n",
    "#                         message(cond)\n",
    "#                         cat(\"Matched result is likely null for country\", iso3,\"pa\", id_pa, \"dimension of the match is\", dim(matched),\"\\n\")\n",
    "#                         # writeLines(\"Matched results is likely null for country\", paste(f.path,\"WDPA_log/\",iso3,\"_log_matching.txt\", sep=\"\"))\n",
    "#                         return(NULL)}) #convert the macthed df to a raster stack \n",
    "#     if(table(mras$status[])[2]==0 | table(mras$status[])[1]==0 | is.null(mras)){\n",
    "#       cat(\"Rasterized results unbalanced for PA\", id_pa, \"quitting...\\n\")\n",
    "#     } else {\n",
    "#       startTime <- Sys.time()\n",
    "#       iso_matched_gedi<- extract_gedi(matched=matched, mras = mras)#}  #run filtered csvs on mras for extarction\n",
    "#       tElapsed <- Sys.time()-startTime\n",
    "\n",
    "#       cat(tElapsed, \"for extracting all PAs in\", iso3,\"\\n\")\n",
    "#       iso_matched_gedi_sub <- iso_matched_gedi %>%\n",
    "# #         #ASK AMBER ABOUT OG COLUMNS\n",
    "# #         #THIS NEEDS TO BE ADJUSTED!!!!\n",
    "#         dplyr::select(\"pa_id\",\"status\",\n",
    "#                       \"wwfbiom\",\"wwfecoreg\",\"shot_number\",\"lon_lowestmode\", \n",
    "#                       \"lat_lowestmode\", \"lon_lowestmode\", \n",
    "#                       \"lat_lowestmode\",\"rh25\", \"rh50\", \"rh75\",\"rh90\", \"rh98\")  #write to individual country folder\n",
    "#       if (length(unique(iso_matched_gedi$wwfbiom)) >1){\n",
    "#         pabiome <- iso_matched_gedi$wwfbiom %>% unique() %>% gsub('\\\\b(\\\\pL)\\\\pL{2,}|.','\\\\U\\\\1',.,perl = TRUE)%>% str_c( collapse = \"+\")\n",
    "#       } else if (length(unique(iso_matched_gedi$wwfbiom))==1){\n",
    "#         pabiome <- iso_matched_gedi$wwfbiom %>% unique() %>% gsub('\\\\b(\\\\pL)\\\\pL{2,}|.','\\\\U\\\\1',.,perl = TRUE)\n",
    "#       } else {\n",
    "#         pabiome <- iso_matched_gedi$wwfbiom %>% unique()\n",
    "#       }\n",
    "#       # papaddd <- unique(iso_matched_gedi$PADDD) %>% getmode()\n",
    "#       continent <- unique(iso_matched_gedi$region) %>% getmode()\n",
    "\n",
    "#       dir.create(file.path(paste(\"~/GEDI_PA/Matching_Layers/SEN/WDPA_GEDI_extract4/\",iso3,\"_wk\",gediwk,\"/\",sep=\"\")))\n",
    "#       saveRDS(iso_matched_gedi, file=paste(\"~/GEDI_PA/Matching_Layers/SEN/WDPA_GEDI_extract4/SEN_wk24/\",iso3,\"_pa_\", id_pa,\"_gedi_wk_\",gediwk,\"_conti_\",\"biome_\",pabiome,\".RDS\", sep=\"\"))\n",
    "#       cat(id_pa,\"in\",iso3,\"results is written to dir\\n\")\n",
    "#       write.csv(iso_matched_gedi, file=paste(\"~/GEDI_PA/Matching_Layers/SEN/WDPA_GEDI_extract4/SEN_wk24/\",\"SEN_pa_\", id_pa,\"_iso_matched_gedi_sub_wk_\",gediwk,\".csv\", sep=\"\"))\n",
    "#     }\n",
    "#   }\n",
    "#   return(NULL)\n",
    "# }\n",
    "\n",
    "# stopImplicitCluster()\n",
    "# tElapsed <- Sys.time()-startTime\n",
    "# cat(tElapsed, \"for extracting all PAs in\", iso3,\"\\n\")\n",
    "# cat(\"Done GEDI extraction for pa in \",iso3,\"\\n\")    "
   ]
  },
  {
   "cell_type": "code",
   "execution_count": 21,
   "id": "8cf42d0b-3d1d-4987-a262-ffcec43d5700",
   "metadata": {
    "tags": []
   },
   "outputs": [],
   "source": [
    "#FULL VERSION UPDATING FOR ALL RDS\n",
    "#Pull the CRS from one of the GEDI files so results use \n",
    "#Reprojection is clunky and needs to be updated, and overall the projections of above layers do not match the WGS84 projection\n",
    "# tile<- st_read(\"~/shared-buckets/abarenblitt/SEN_Tiles/N14.30728831742391W-13.52951992770953.geojson\")\n",
    "#WORKS THROUGH MRAS\n",
    "# registerDoParallel(cores=round(mproc))\n",
    "# getDoParWorkers()\n",
    "# startTime <- Sys.time()\n",
    "\n",
    "# foreach(this_rds=matched_PAs, .combine = foreach_rbind, .packages=c('sp','magrittr', 'dplyr','tidyr','raster')) %dopar% {\n",
    "#   cat(\"Extracting for no. \", match(this_rds,matched_PAs),\"pa out of\", length(matched_PAs),\"\\n\")\n",
    "#   if(nchar(iso3)>3){\n",
    "#     id_pa <- this_rds %>% str_split(\"_\") %>% unlist %>% .[4]  \n",
    "#   } else {\n",
    "#     id_pa <- this_rds %>% str_split(\"_\") %>% unlist %>% .[3]\n",
    "#   }\n",
    "#   matched <- readRDS(paste(\"~/GEDI_PA/Matching_Layers/SEN/WDPA_matching_results/SEN_wk24/\",iso3,\"_pa_\",id_pa,\"_matching_results_wk24.RDS\", sep=\"\"))\n",
    "#   if (is.null(matched)==TRUE  | nrow(matched)==0) {\n",
    "#     cat(\"Matched result is null for PA\", id_pa, \"quitting...\\n\")\n",
    "#   } else if (!is.null(matched)==TRUE){\n",
    "#     mras  <- tryCatch(matched2ras(matched),\n",
    "#                       error=function(cond){\n",
    "#                         message(cond)\n",
    "#                         cat(\"Matched result is likely null for country\", iso3,\"pa\", id_pa, \"dimension of the match is\", dim(matched),\"\\n\")\n",
    "#                         # writeLines(\"Matched results is likely null for country\", paste(f.path,\"WDPA_log/\",iso3,\"_log_matching.txt\", sep=\"\"))\n",
    "#                         return(NULL)}) #convert the macthed df to a raster stack \n",
    "#     if(table(mras$status[])[2]==0 | table(mras$status[])[1]==0 | is.null(mras)){\n",
    "#       cat(\"Rasterized results unbalanced for PA\", id_pa, \"quitting...\\n\")\n",
    "#     } else {\n",
    "#       startTime <- Sys.time()\n",
    "#       iso_matched_gedi<- extract_gedi(matched=matched, mras = mras)#}  #run filtered csvs on mras for extarction\n",
    "#       tElapsed <- Sys.time()-startTime\n",
    "\n",
    "#       cat(tElapsed, \"for extracting all PAs in\", iso3,\"\\n\")\n",
    "#       iso_matched_gedi_sub <- iso_matched_gedi %>%\n",
    "# #         #ASK AMBER ABOUT OG COLUMNS\n",
    "# #         #THIS NEEDS TO BE ADJUSTED!!!!\n",
    "#         dplyr::select(\"pa_id\",\"status\",\n",
    "#                       \"wwfbiom\",\"wwfecoreg\",\"shot_number\",\"lon_lowestmode\", \n",
    "#                       \"lat_lowestmode\", \"lon_lowestmode\", \n",
    "#                       \"lat_lowestmode\",\"rh25\", \"rh50\", \"rh75\",\"rh90\", \"rh98\")  #write to individual country folder\n",
    "#       if (length(unique(iso_matched_gedi$wwfbiom)) >1){\n",
    "#         pabiome <- iso_matched_gedi$wwfbiom %>% unique() %>% gsub('\\\\b(\\\\pL)\\\\pL{2,}|.','\\\\U\\\\1',.,perl = TRUE)%>% str_c( collapse = \"+\")\n",
    "#       } else if (length(unique(iso_matched_gedi$wwfbiom))==1){\n",
    "#         pabiome <- iso_matched_gedi$wwfbiom %>% unique() %>% gsub('\\\\b(\\\\pL)\\\\pL{2,}|.','\\\\U\\\\1',.,perl = TRUE)\n",
    "#       } else {\n",
    "#         pabiome <- iso_matched_gedi$wwfbiom %>% unique()\n",
    "#       }\n",
    "#       # papaddd <- unique(iso_matched_gedi$PADDD) %>% getmode()\n",
    "#       continent <- unique(iso_matched_gedi$region) %>% getmode()\n",
    "\n",
    "#       dir.create(file.path(paste(\"~/GEDI_PA/Matching_Layers/SEN/WDPA_GEDI_extract4/\",iso3,\"_wk\",gediwk,\"/\",sep=\"\")))\n",
    "#       saveRDS(iso_matched_gedi, file=paste(\"~/GEDI_PA/Matching_Layers/SEN/WDPA_GEDI_extract4/SEN_wk24/\",iso3,\"_pa_\", id_pa,\"_gedi_wk_\",gediwk,\"_conti_\",\"biome_\",pabiome,\".RDS\", sep=\"\"))\n",
    "#       cat(id_pa,\"in\",iso3,\"results is written to dir\\n\")\n",
    "#       write.csv(iso_matched_gedi, file=paste(\"~/GEDI_PA/Matching_Layers/SEN/WDPA_GEDI_extract4/SEN_wk24/\",\"SEN_pa_\", id_pa,\"_iso_matched_gedi_sub_wk_\",gediwk,\".csv\", sep=\"\"))\n",
    "#     }\n",
    "#   }\n",
    "#   return(NULL)\n",
    "# }\n",
    "\n",
    "# stopImplicitCluster()\n",
    "# tElapsed <- Sys.time()-startTime\n",
    "# cat(tElapsed, \"for extracting all PAs in\", iso3,\"\\n\")\n",
    "# cat(\"Done GEDI extraction for pa in \",iso3,\"\\n\")    "
   ]
  },
  {
   "cell_type": "code",
   "execution_count": 43,
   "id": "10553d1b-b825-44c6-91da-f0f2ba8ea6f3",
   "metadata": {
    "tags": []
   },
   "outputs": [
    {
     "name": "stdout",
     "output_type": "stream",
     "text": [
      "Step 6: calculating per pa summary stats for SEN \n"
     ]
    }
   ],
   "source": [
    "# #---------------STEP6: [FIGURE 4B] Calculating per pa summary stats, 1 pa per row, contain shot#/PA---------------------------- \n",
    "# f.path<-\"~/GEDI_PA/Matching_Layers/SEN/\"\n",
    "# gedi_paf <-list.files(paste(f.path,\"WDPA_GEDI_extract4/\",iso3,\"_wk\",gediwk,sep=\"\"), pattern=\".RDS\", full.names = TRUE)\n",
    "# cat(paste(\"Step 6: calculating per pa summary stats for\", iso3,\"\\n\"))\n",
    "# # if (file.exists(paste(f.path,\"WDPA_GEDI_extract3/pa_stats/\",iso3,\"_pa_stats_summary_wk\",gediwk,\".csv\", sep=\"\"))) {\n",
    "# #   #Delete existing files in exists to avoid duplicate appending\n",
    "# #   cat(\"old version for\", iso3,\"exists, removing...\\n\")\n",
    "# #   file.remove(paste(f.path,\"WDPA_GEDI_extract3/pa_stats/\",iso3,\"_pa_stats_summary_wk\",gediwk,\".csv\", sep=\"\"))\n",
    "# # }"
   ]
  },
  {
   "cell_type": "code",
   "execution_count": 45,
   "id": "d43c5a7e-7e87-4960-9bec-25e1af9e348e",
   "metadata": {
    "tags": []
   },
   "outputs": [
    {
     "ename": "ERROR",
     "evalue": "Error in gzfile(file, \"rb\"): invalid 'description' argument\n",
     "output_type": "error",
     "traceback": [
      "Error in gzfile(file, \"rb\"): invalid 'description' argument\nTraceback:\n",
      "1. readRDS(gedi_paf[3])",
      "2. gzfile(file, \"rb\")"
     ]
    }
   ],
   "source": [
    "# pa_metrics <-readRDS(gedi_paf[3])"
   ]
  },
  {
   "cell_type": "code",
   "execution_count": 113,
   "id": "ae2f54e5-27c6-402e-93e3-08b0c9a45268",
   "metadata": {
    "tags": []
   },
   "outputs": [
    {
     "data": {
      "text/html": [
       "0"
      ],
      "text/latex": [
       "0"
      ],
      "text/markdown": [
       "0"
      ],
      "text/plain": [
       "[1] 0"
      ]
     },
     "metadata": {},
     "output_type": "display_data"
    }
   ],
   "source": [
    "# length(table(pa_metrics$status))"
   ]
  },
  {
   "cell_type": "code",
   "execution_count": null,
   "id": "1e8879cf-6489-4414-bf26-350f14c7b26a",
   "metadata": {},
   "outputs": [],
   "source": []
  },
  {
   "cell_type": "code",
   "execution_count": null,
   "id": "0f6501b0-8324-4ffa-a146-918607eaebe0",
   "metadata": {
    "tags": []
   },
   "outputs": [
    {
     "ename": "ERROR",
     "evalue": "Error in eval(expr, envir, enclos): object 'gedi_paf' not found\n",
     "output_type": "error",
     "traceback": [
      "Error in eval(expr, envir, enclos): object 'gedi_paf' not found\nTraceback:\n"
     ]
    }
   ],
   "source": [
    "# if (flag ==\"run all\"){\n",
    "#   if(file.exists(paste(f.path,\"WDPA_GEDI_extract4/pa_stats/\",iso3,\"_pa_stats_summary_wk\",gediwk,\".csv\", sep=\"\"))){  #if flag indicates running all steps, we remove the pa_stats for the iso from previous iteration and prompt creation of a new file\n",
    "#     file.remove(paste(f.path,\"WDPA_GEDI_extract4/pa_stats/\",iso3,\"_pa_stats_summary_wk\",gediwk,\".csv\", sep=\"\"))\n",
    "#   }\n",
    "  \n",
    "#   for (this_paf in gedi_paf){\n",
    "#     cat(this_paf,\"\\n\")\n",
    "#     pa_metrics <-readRDS(this_paf)\n",
    "#     if (length(table(pa_metrics$status))<2) {\n",
    "#       cat(iso3, this_paf, \"has 0 protected or treatment \\n\")\n",
    "#     } else if (table(pa_metrics$status)[1]!=0 && table(pa_metrics$status)[2]!=0) {\n",
    "#       #filter the datafrme by number of shots in each cell, which is euivalent of the number of occurence of each unique UID code\n",
    "#       tt <- table(pa_metrics$UID)\n",
    "#       qcellid <- table(pa_metrics$UID)[tt>5] %>% names()\n",
    "#       pa_metrics_filtered <- pa_metrics %>% dplyr::filter(UID %in% qcellid)\n",
    "      \n",
    "#       #calc summary stats for each country \n",
    "#       if(nrow(pa_metrics_filtered)>0){\n",
    "#         pa_stats_summary <- pa_metrics_filtered %>%\n",
    "#           group_by(status) %>% \n",
    "#           dplyr::mutate(pa_id=as.character(pa_id)) %>%\n",
    "#           dplyr::summarise(pa_id=na.omit(unique(pa_id)),\n",
    "#                            count=length(rh98),meanrh98=mean(rh98, na.rm=TRUE), sdrh98=sd(rh98, na.rm = TRUE),medrh98=median(rh98, na.rm = TRUE),\n",
    "#                            meanrh75=mean(rh75,na.rm=TRUE), sdrh75=sd(rh75,na.rm=TRUE), medrh75=median(rh75,na.rm=TRUE),\n",
    "#                            meanrh50=mean(rh50,na.rm=TRUE), sdrh50=sd(rh50,na.rm=TRUE), medrh50=median(rh50,na.rm=TRUE),\n",
    "#                            meanrh25=mean(rh25,na.rm=TRUE ), sdrh25=sd(rh25, na.rm=TRUE),medrh25=median(rh25, na.rm=TRUE),\n",
    "#                            # meanpai=mean(pai, na.rm=TRUE), sdpai=sd(pai, na.rm=TRUE), medpai=median(pai, na.rm=TRUE),\n",
    "#                            # meancov=mean(cover, na.rm=TRUE), sdcov=sd(cover,na.rm=TRUE),  medcov=median(cover,na.rm=TRUE),\n",
    "#                            meanagbd=mean(agbd, na.rm=TRUE), sdagbd=sd(agbd, na.rm=TRUE),medagbd=median(agbd, na.rm=TRUE),\n",
    "#                            wwfecoreg=getmode(wwfecoreg),REGION=getmode(region))%>% \n",
    "#           tidyr::pivot_wider(names_from=status, values_from= setdiff(names(.),c(\"pa_id\", \"status\"))) #writeLine to a large txt file where world pas stats are\n",
    "#         pa_stats_summary$iso3 <- iso3\n",
    "#         print(ncol(pa_stats_summary))\n",
    "#         if(ncol(pa_stats_summary)>30){\n",
    "#           if(!file.exists(paste(f.path,\"WDPA_GEDI_extract4/pa_stats/\",iso3,\"_pa_stats_summary_wk\",gediwk,\".csv\", sep=\"\"))){\n",
    "#             print(\"not exists\")\n",
    "#             write.csv(pa_stats_summary, file=paste(f.path,\"WDPA_GEDI_extract4/pa_stats/\",iso3,\"_pa_stats_summary_wk\",gediwk,\".csv\", sep=\"\"), row.names = FALSE)\n",
    "#           } else if (file.exists(paste(f.path,\"WDPA_GEDI_extract4/pa_stats/\",iso3,\"_pa_stats_summary_wk\",gediwk,\".csv\", sep=\"\"))){\n",
    "#             print(\"exists so appending to existing file\")\n",
    "#             write.table(pa_stats_summary, file=paste(f.path,\"WDPA_GEDI_extract4/pa_stats/\",iso3,\"_pa_stats_summary_wk\",gediwk,\".csv\", sep=\"\"),\n",
    "#                         sep=\",\", append=TRUE , row.names=FALSE, col.names=FALSE)   #will not overwrite but append to existing files\n",
    "#           }\n",
    "          \n",
    "#         }\n",
    "#       }\n",
    "#     }\n",
    "#   }\n",
    "#   cat(\"Done summarizing pa-level stats for country\",iso3,\"\\n\")  \n",
    "# }"
   ]
  },
  {
   "cell_type": "code",
   "execution_count": 48,
   "id": "819806ef-967e-4c94-92c7-495a8e8dc71e",
   "metadata": {
    "tags": []
   },
   "outputs": [
    {
     "name": "stdout",
     "output_type": "stream",
     "text": [
      "Step7a: Compiling country wide dataframe for SEN and removing duplicates...\n"
     ]
    },
    {
     "data": {
      "text/html": [],
      "text/latex": [],
      "text/markdown": [],
      "text/plain": [
       "character(0)"
      ]
     },
     "metadata": {},
     "output_type": "display_data"
    },
    {
     "ename": "ERROR",
     "evalue": "Error in `$<-.data.frame`(`*tmp*`, iso3, value = \"SEN\"): replacement has 1 row, data has 0\n",
     "output_type": "error",
     "traceback": [
      "Error in `$<-.data.frame`(`*tmp*`, iso3, value = \"SEN\"): replacement has 1 row, data has 0\nTraceback:\n",
      "1. `$<-`(`*tmp*`, iso3, value = \"SEN\")",
      "2. `$<-.data.frame`(`*tmp*`, iso3, value = \"SEN\")",
      "3. stop(sprintf(ngettext(N, \"replacement has %d row, data has %d\", \n .     \"replacement has %d rows, data has %d\"), N, nrows), domain = NA)"
     ]
    }
   ],
   "source": [
    "#---------------STEP7: [Figure 4A] Removing dup gedi shots in overlapping region, count shot#/PA w/o dups, results in [extract4/iso_full_nodup]-------------------\n",
    "# f.path<-\"~/GEDI_PA/Matching_Layers/SEN/\"\n",
    "# gedi_paf <-list.files(paste(f.path,\"WDPA_GEDI_extract4/\",iso3,\"_wk\",gediwk,sep=\"\"), pattern=\".RDS\", full.names = TRUE)\n",
    "# fullds <- data.frame()\n",
    "# cat (\"Step7a: Compiling country wide dataframe for\",iso3, \"and removing duplicates...\\n\")\n",
    "\n",
    "# gedi_paf\n",
    "# for (c in gedi_paf){  #removing dups based on shot#\n",
    "#   cat(match(c, gedi_paf),\"in total of\", length(gedi_paf),\"files\\n\")\n",
    "#   tmpds <- tryCatch(readRDS(c),error=function(cond){return(NULL)})\n",
    "#   if(!is.null(tmpds)){\n",
    "#     tmpds$shot_number=as.character(tmpds$shot_number)\n",
    "#     tt <- table(tmpds$UID)\n",
    "#     qcellid <- table(tmpds$UID)[tt>5] %>% names()\n",
    "#     tmpds_filtered <- tmpds %>% dplyr::filter(UID %in% qcellid)\n",
    "#     fullds <- rbind(fullds, tmpds_filtered)\n",
    "#     print(dim(fullds))\n",
    "#     fullds <- fullds[!duplicated(fullds$shot_number), ]\n",
    "#     print(dim(fullds))\n",
    "#   } else {\n",
    "#     fullds <- fullds\n",
    "#     print(dim(fullds))\n",
    "    \n",
    "#   }\n",
    "  \n",
    "# }\n",
    "# fullds$iso3 <- iso3\n",
    "# write.csv(fullds, file=paste(f.path,\"WDPA_GEDI_extract4/iso_full_nodup/\",iso3,\"_country_full_nodup_wk\",gediwk,\".csv\", sep=\"\"), row.names = F)\n",
    "# cat(iso3,\"Dup removed df is exported to /iso_full_nodup/ \\n\")"
   ]
  },
  {
   "cell_type": "code",
   "execution_count": 16,
   "id": "0ff954b2-b32c-4394-99a5-21eaf426561f",
   "metadata": {
    "tags": []
   },
   "outputs": [
    {
     "name": "stdout",
     "output_type": "stream",
     "text": [
      "Step 7b: Summarizing #of GEDI shots per 1km pixel\n",
      " SEN 1km pixel level shot count df is exported to /cell_stats/ \n"
     ]
    }
   ],
   "source": [
    "#---------------STEP7b: Rasterize the non-dup GEDI results to return the shots-per-1km results, results in [extract4/cell_stats/] & [extract4/matched_raster_stack]---------------------------------\n",
    "# cat(\"Step 7b: Summarizing #of GEDI shots per 1km pixel\\n \")\n",
    "# # fullds0 <- read.csv(paste(f.path,\"WDPA_GEDI_extract3/iso_full_nodup/\",iso3,\"_country_full_nodup_wk\",gediwk,\".csv\", sep=\"\"))\n",
    "# iso_gedi_spdf <- SpatialPointsDataFrame(coords=fullds[,c(\"lon_lowestmode\",\"lat_lowestmode\")],\n",
    "#                                                 proj4string=CRS(\"+init=epsg:4326\"), data=fullds) %>%spTransform(., CRS(\"+init=epsg:6933\"))\n",
    "# ras <- crop(MCD12Q1, extent(iso_gedi_spdf)) #a little slow with buffer \n",
    "# gcount_ras <- rasterize(coordinates(iso_gedi_spdf),ras, fun=\"count\",background=NA)\n",
    "# names(gcount_ras) <- \"gshot_counts\"\n",
    "# gpid_ras <- rasterize(coordinates(iso_gedi_spdf),ras, fun=getmode,field=iso_gedi_spdf$pa_id,background=NA)\n",
    "# names(gpid_ras) <- \"pid\"\n",
    "# gattr_ras <- rasterize(iso_gedi_spdf@coords, ras, fun=getmode, field=iso_gedi_spdf$status, background=NA)\n",
    "# names(gattr_ras) <- \"status\"\n",
    "# gstack <- stack(gcount_ras,gpid_ras,gattr_ras)\n",
    "# g1km_sp <- as(gstack, 'SpatialPointsDataFrame')\n",
    "# g1km <- cbind(g1km_sp@coords, g1km_sp@data, country=iso3)\n",
    "# # dir.create(paste(f.path,\"WDPA_GEDI_extract3/cell_stats/\",sep=\"\"))\n",
    "# # writeRaster(gstack,paste(f.path,\"WDPA_GEDI_extract4/matched_raster_stack/\",iso3,\"_cell_shots_pa_wk\",gediwk,\".tif\", sep=\"\"))  #just for later checks as needed\n",
    "# write.csv(g1km, file=paste(f.path,\"WDPA_GEDI_extract4/cell_stats/\",iso3,\"_cell_shots_wk\",gediwk,\".csv\", sep=\"\"))\n",
    "# cat(iso3,\"1km pixel level shot count df is exported to /cell_stats/ \\n\")\n",
    "# rm(ras, gstack)"
   ]
  },
  {
   "cell_type": "code",
   "execution_count": 18,
   "id": "21c18814-7b3e-4861-8d84-8787a1044a5d",
   "metadata": {
    "tags": []
   },
   "outputs": [
    {
     "name": "stdout",
     "output_type": "stream",
     "text": [
      "Step 8: Calculating country level summary stats for  SEN \n",
      " SEN country level summary stats is exported to /iso_stats/ \n"
     ]
    }
   ],
   "source": [
    "#---------------STEP8: Calculating per country summary stats, 1 country per row, summarize key stats for the country ---------------------    \n",
    "# cat(\"Step 8: Calculating country level summary stats for \", iso3,\"\\n \")\n",
    "# # fullds <- read.csv(paste(f.path,\"WDPA_GEDI_extract3/iso_full_nodup/\",iso3,\"_country_full_nodup_wk\",gediwk,\".csv\", sep=\"\"))\n",
    "# getmode <- function(v) {\n",
    "#   uniqv <- na.omit(unique(v))\n",
    "#   uniqv[which.max(tabulate(match(v, uniqv)))]\n",
    "# }\n",
    "\n",
    "# # fullds <- read.csv(paste(f.path,\"WDPA_GEDI_extract4/iso_full_nodup/\",iso3,\"_country_full_nodup_wk\",gediwk,\".csv\", sep=\"\"))\n",
    "\n",
    "# #Currently commented out since L2B needed\n",
    "# # fullds$pai[!is.finite(fullds$pai)] <- NA\n",
    "\n",
    "# iso_sum <- fullds %>%\n",
    "#   group_by(status) %>%  \n",
    "#   dplyr::summarise(count_ttl=length(rh98),\n",
    "#                    meanrh98=mean(rh98, na.rm=TRUE), sdrh98=sd(rh98, na.rm = TRUE), medrh98=median(rh98, na.rm = TRUE),msrh98=sum(is.na(rh98)),\n",
    "#                    # meanpai=mean(pai, na.rm=TRUE), sdpai=sd(pai, na.rm=TRUE),  medpai=median(pai, na.rm=TRUE),mspai=sum(is.na(pai)),\n",
    "#                    # meancov=mean(cover, na.rm=TRUE), sdcov=sd(cover,na.rm=TRUE),  medcov=median(cover,na.rm=TRUE),mscov=sum(is.na(cov)),\n",
    "#                    meanagbd=mean(agbd, na.rm=TRUE), sdagbd=sd(agbd, na.rm=TRUE), medagbd=median(agbd, na.rm=TRUE), msagbd=sum(is.na(agbd)))%>% \n",
    "#   tidyr::pivot_wider(names_from=status, values_from= setdiff(names(.),c(\"pa_id\", \"status\")))#writeLine to a large txt file where world pas stats are\n",
    "# iso_sum$iso3 <- iso3\n",
    "# continent <- fullds$region %>% unique() %>% getmode()\n",
    "# iso_sum$continent <- continent\n",
    "\n",
    "# write.csv(iso_sum, file=paste(f.path,\"WDPA_GEDI_extract4/iso_stats/\",iso3,\"_country_stats_summary_wk\",gediwk,\"2.csv\", sep=\"\"), row.names = F)\n",
    "# cat(iso3,\"country level summary stats is exported to /iso_stats/ \\n\")\n"
   ]
  }
 ],
 "metadata": {
  "kernelspec": {
   "display_name": "R [conda env:r-with-gdal]",
   "language": "R",
   "name": "conda-env-r-with-gdal-r"
  },
  "language_info": {
   "codemirror_mode": "r",
   "file_extension": ".r",
   "mimetype": "text/x-r-source",
   "name": "R",
   "pygments_lexer": "r",
   "version": "4.3.1"
  }
 },
 "nbformat": 4,
 "nbformat_minor": 5
}
