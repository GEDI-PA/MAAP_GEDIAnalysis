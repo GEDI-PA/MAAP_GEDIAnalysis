{
 "cells": [
  {
   "cell_type": "code",
   "execution_count": 1,
   "id": "09f48a25-a39f-48c1-9061-c306a3251c22",
   "metadata": {
    "tags": []
   },
   "outputs": [
    {
     "name": "stderr",
     "output_type": "stream",
     "text": [
      "Warning message in install.packages(\"raster\"):\n",
      "“installation of package ‘raster’ had non-zero exit status”\n",
      "Updating HTML index of packages in '.Library'\n",
      "\n",
      "Making 'packages.html' ...\n",
      " done\n",
      "\n",
      "Updating HTML index of packages in '.Library'\n",
      "\n",
      "Making 'packages.html' ...\n",
      " done\n",
      "\n"
     ]
    }
   ],
   "source": [
    "install.packages(\"raster\")\n",
    "install.packages(\"RItools\")"
   ]
  },
  {
   "cell_type": "code",
   "execution_count": 2,
   "id": "153f2cf1-bb56-4db1-8660-3a97648971a5",
   "metadata": {
    "tags": []
   },
   "outputs": [],
   "source": [
    "#!/usr/bin/env Rscript\n",
    "\n",
    "# This global processing script PART II is derived from the global processing notebook \n",
    "#the input can be the iso3 code (3-character) for one or multiple countries \n",
    "\n",
    "#mamba install -c conda-forge r-doSNOW r-terra r-optmatch r-sp r-rgdal r-sf r-rgeos r-dplyr r-plyr r-ggplot2 r-raster r-mapview r-stringr r-maptools r-gridExtra r-lattice r-MASS r-foreach r-doParallel r-rlang r-tidyr r-magrittr r-viridis r-ggmap r-Hmisc r-hrbrthemes r-spatialEco r-bit64 r-randomForest r-modelr r-ranger r-caret r-rgeos r-ritools\n",
    "\n",
    "options(warn=-1)\n",
    "options(dplyr.summarise.inform = FALSE)\n",
    "\n",
    "packages <- c(\"sp\",\"rgdal\",\"sf\",\"rgeos\",\"dplyr\",\"plyr\",\"ggplot2\",\"raster\",\"mapview\",\"stringr\",\"doSNOW\",\n",
    "              \"maptools\",\"gridExtra\",\"lattice\",\"MASS\",\"foreach\",\"optmatch\",\"doParallel\",\"RItools\",\"gdalUtils\",\n",
    "              \"rlang\",\"tidyr\",\"magrittr\",\"viridis\",\"ggmap\",\"Hmisc\",\"hrbrthemes\",\"spatialEco\",\"bit64\",\"randomForest\", \"modelr\",\"ranger\",\"caret\")\n",
    "package.check <- lapply(packages, FUN = function(x) {\n",
    "  suppressPackageStartupMessages(library(x, character.only = TRUE))\n",
    "})\n",
    "\n",
    "args = commandArgs(trailingOnly=TRUE)\n",
    "if (length(args)==0) {\n",
    "  stop(\"At least one argument must be supplied (input file).n\", call.=FALSE)\n",
    "} else if (length(args)>=1) {\n",
    "  \n",
    "  iso3 <- args[1]  #country to process\n",
    "  gediwk <- args[2]   #the # of weeks GEDI data to use\n",
    "  mproc <- as.integer(args[3])#the number of cores to use for macthing \n",
    "}"
   ]
  },
  {
   "cell_type": "code",
   "execution_count": 3,
   "id": "515259ba-19e3-445e-bc0d-2cce2ba3dd8d",
   "metadata": {
    "tags": []
   },
   "outputs": [],
   "source": [
    "#Get Info for GPKG Table Name\n",
    "# ogrInfo(paste(\"~/GEDI_PA/Matching_Layers/SEN/SEN_Tiles/N14.30728831742391W-13.52951992770953.geojson_L2A.gpkg\",sep=\"\"))"
   ]
  },
  {
   "cell_type": "code",
   "execution_count": 70,
   "id": "d98129be-a26c-4088-a04d-6e357f84b638",
   "metadata": {
    "tags": []
   },
   "outputs": [],
   "source": [
    "# Subset GEDI data to first 3 features for running troubleshooting\n",
    "#Run only once!\n",
    "# sf<- st_read(\"~/GEDI_PA/Matching_Layers/SEN/WDPA_gedi_l2a+l2b_clean2_SEN/SEN_admin_L2A.gpkg\",query = \"select * from SEN_admin_L2A limit 3;\")\n",
    "# print(sf)\n",
    "# st_write(sf,\"~/GEDI_PA/Matching_Layers/SEN/WDPA_gedi_l2a+l2b_clean2_SEN/SEN_L2A_subset.gpkg\")"
   ]
  },
  {
   "cell_type": "code",
   "execution_count": 3,
   "id": "1ba226ec-3c5c-4dc6-88f0-e24c19b594ea",
   "metadata": {
    "tags": []
   },
   "outputs": [
    {
     "name": "stdout",
     "output_type": "stream",
     "text": [
      "Step 0: Loading global variables to process country SEN with GEDI data until week 24 \n",
      "~/GEDI_PA/Matching_Layers/SEN/"
     ]
    }
   ],
   "source": [
    "iso3 <- \"SEN\"\n",
    "gediwk<-24\n",
    "mproc <-1\n",
    "\n",
    "cat(\"Step 0: Loading global variables to process country\", iso3,\"with GEDI data until week\", gediwk, \"\\n\")\n",
    "\n",
    "f.path <- cat(\"~/GEDI_PA/Matching_Layers/SEN/\")\n",
    "ecoreg_key <- read.csv(paste(\"~/GEDI_PA/wwf_ecoregions_key.csv\",sep=\"\"))\n",
    "allPAs <- readRDS(paste(\"~/GEDI_PA/Matching_Layers/SEN/SEN_PA_poly.rds\",sep=\"\"))\n",
    "MCD12Q1 <- raster(paste(\"~/GEDI_PA/GEDI_ANCI_PFT_r1000m_EASE2.0_UMD_v1_projection_defined_6933.tif\",sep=\"\"))\n",
    "projection(MCD12Q1) <- sp::CRS(paste(\"+init=epsg:\",6933,sep=\"\"))\n",
    "world_region <- raster(paste(\"~/GEDI_PA/GEDI_ANCI_CONTINENT_r1000m_EASE2.0_UMD_v1_revised_projection_defined_6933.tif\",sep=\"\"))\n",
    "projection(world_region) <- sp::CRS(paste(\"+init=epsg:\",6933,sep=\"\"))\n",
    "adm <- readOGR(paste(\"~/GEDI_PA/Matching_Layers/SEN/SEN_admin.geojson\"),verbose=FALSE)\n",
    "adm_prj <- spTransform(adm, \"+init=epsg:6933\") \n",
    "load(\"~/GEDI_PA/rf_noclimate.rdata\")\n",
    "source(\"~/GEDI_PA/matching_func-Copy1.r\")\n",
    "# flag <- \"don't ran extraction\"\n",
    "flag <- \"run all\"\n",
    "# flag <- \"run remaining\""
   ]
  },
  {
   "cell_type": "code",
   "execution_count": 5,
   "id": "ea4d173e-3e37-42a0-b188-87087b7da84d",
   "metadata": {
    "tags": []
   },
   "outputs": [
    {
     "name": "stdout",
     "output_type": "stream",
     "text": [
      "Step 5: Performing WK  24 GEDI extraction for SEN \n"
     ]
    }
   ],
   "source": [
    "#---------------STEP5. GEDI PROCESSING - using GEDI shots to extract the treatment/control status, also extract the MODIS PFT for AGB prediction---------------- \n",
    "# if (file.exists(paste(f.path,\"WDPA_GEDI_extract/\",iso3,\"_wk\",gediwk,\"/\",iso3,\"_gedi_extracted_matching_wk\",gediwk,\".RDS\", sep=\"\"))){\n",
    "cat(paste(\"Step 5: Performing WK \",gediwk,\"GEDI extraction for\", iso3,\"\\n\"))\n",
    "#matched_all <-read.csv(paste(f.path,\"WDPA_extract4_residual_PAs/\", iso3, \"_wk_\", gediwk, \"_null_matches_rerun.csv\",sep=\"\")) \n",
    "matched_all<-list.files(paste(\"~/GEDI_PA/Matching_Layers/SEN/WDPA_matching_points/\",iso3,\"_wk\",gediwk,sep=\"\"), pattern=\".RDS\", full.names = FALSE)\n",
    "# readr::parse_number() %>% unique()\n",
    "#list.files(paste(f.path,\"WDPA_matching_results/\",iso3,\"_wk\",gediwk,sep=\"\"), pattern=\".RDS\", full.names = FALSE)\n",
    "registerDoParallel(3)\n",
    "matched_PAs <- foreach(this_rds=matched_all, .combine = c, .packages=c('sp','magrittr', 'dplyr','tidyr','raster')) %dopar% {   #non-NA matched results\n",
    "  matched_PAs=c()\n",
    "  print(this_rds)\n",
    "  if(nchar(iso3)>3){\n",
    "    id_pa <- this_rds %>% str_split(\"_\") %>% unlist %>% .[4]  \n",
    "  } else {\n",
    "    id_pa <- this_rds %>% str_split(\"_\") %>% unlist %>% .[3]\n",
    "  }\n",
    "  matched <- readRDS(paste(\"~/GEDI_PA/Matching_Layers/SEN/WDPA_matching_results/SEN_wk24/\",iso3,\"_pa_\", id_pa,\"_matching_results_wk\",gediwk,\".RDS\", sep=\"\"))\n",
    "  if(!is.null(matched)){\n",
    "    if(nrow(matched)!=0){\n",
    "      matched_PAs=c(matched_PAs,this_rds) \n",
    "    }\n",
    "  }else {\n",
    "    # print(this_rds)\n",
    "    matched_PAs=matched_PAs\n",
    "  }\n",
    "  return(matched_PAs)\n",
    "}\n",
    "stopImplicitCluster()"
   ]
  },
  {
   "cell_type": "code",
   "execution_count": 6,
   "id": "d13db82c-9c40-4e9e-9fcc-aef96ba23e81",
   "metadata": {
    "tags": []
   },
   "outputs": [
    {
     "name": "stdout",
     "output_type": "stream",
     "text": [
      "Step 5: Performing WK  24 GEDI extraction for SEN \n"
     ]
    }
   ],
   "source": [
    "# UPDATED FOR ALL OF SEN\n",
    "cat(paste(\"Step 5: Performing WK \",gediwk,\"GEDI extraction for\", iso3,\"\\n\"))\n",
    "#matched_all <-read.csv(paste(f.path,\"WDPA_extract4_residual_PAs/\", iso3, \"_wk_\", gediwk, \"_null_matches_rerun.csv\",sep=\"\")) \n",
    "matched_all<-list.files(paste(\"~/GEDI_PA/Matching_Layers/SEN/WDPA_matching_results/\",iso3,\"_wk\",gediwk,sep=\"\"),full.names = FALSE)\n",
    "# readr::parse_number() %>% unique()\n",
    "#list.files(paste(f.path,\"WDPA_matching_results/\",iso3,\"_wk\",gediwk,sep=\"\"), pattern=\".RDS\", full.names = FALSE)\n",
    "registerDoParallel(3)\n",
    "matched_PAs <- foreach(this_rds=matched_all, .combine = c, .packages=c('sp','magrittr', 'dplyr','tidyr','raster')) %dopar% {   #non-NA matched results\n",
    "  matched_PAs=c()\n",
    "  print(this_rds)\n",
    "  if(nchar(iso3)>3){\n",
    "    id_pa <- this_rds %>% str_split(\"_\") %>% unlist %>% .[4]  \n",
    "  } else {\n",
    "    id_pa <- this_rds %>% str_split(\"_\") %>% unlist %>% .[3]\n",
    "  }\n",
    "  matched <- readRDS(paste(\"~/GEDI_PA/Matching_Layers/SEN/WDPA_matching_results/SEN_wk24/\",iso3,\"_pa_\", id_pa,\"_matching_results_wk\",gediwk,\".RDS\", sep=\"\"))\n",
    "  if(!is.null(matched)){\n",
    "    if(nrow(matched)!=0){\n",
    "      matched_PAs=c(matched_PAs,this_rds) \n",
    "    }\n",
    "  }else {\n",
    "    # print(this_rds)\n",
    "    matched_PAs=matched_PAs\n",
    "  }\n",
    "  return(matched_PAs)\n",
    "}\n",
    "stopImplicitCluster()"
   ]
  },
  {
   "cell_type": "code",
   "execution_count": 7,
   "id": "f94e083b-071a-47bc-877f-7c9cce2c4f53",
   "metadata": {
    "tags": []
   },
   "outputs": [
    {
     "name": "stdout",
     "output_type": "stream",
     "text": [
      "Step 5: runing extraction on all 107 of non-NA matched results in SEN \n"
     ]
    }
   ],
   "source": [
    "if(flag==\"run all\"){  #determine how many PAs to run the extraction process\n",
    "  matched_PAs <- matched_PAs\n",
    "  cat(\"Step 5: runing extraction on all\", length(matched_PAs),\"of non-NA matched results in\", iso3,\"\\n\")\n",
    "} else if (flag==\"run remaining\"){\n",
    "  pattern1 = c(paste(\"wk\",gediwk,sep=\"\"),\"RDS\")\n",
    "  extracted_PAid <- list.files(paste(\"~/GEDI_PA/Matching_Layers/SEN/WDPA_GEDI_extract4/\",iso3,\"_wk\",gediwk,\"/\",sep=\"\"), full.names = F, pattern=paste0(pattern1, collapse=\"|\"))%>%\n",
    "    readr::parse_number() %>% unique()\n",
    "  matched_PA_id <- matched_PAs %>% readr::parse_number()\n",
    "  runPA_id <- matched_PA_id[!(matched_PA_id %in% extracted_PAid)]\n",
    "  if (length(runPA_id)>0){\n",
    "    Pattern2 <-  paste(runPA_id, collapse=\"|\")\n",
    "    runPA <-  matched_PAs[grepl(Pattern2,matched_PAs)]\n",
    "    # runPA_ind <- str_detect(matched_PAs, paste(runPA_id, collapse = \"|\"))\n",
    "    matched_PAs <-runPA\n",
    "  } else {\n",
    "    matched_PAs <- NULL\n",
    "    cat(\"Step 5 already done for\", iso3, \"\\n\")\n",
    "  }\n",
    "}"
   ]
  },
  {
   "cell_type": "code",
   "execution_count": 8,
   "id": "2a6482b6-b197-4922-972d-9a68e99e53b3",
   "metadata": {
    "tags": []
   },
   "outputs": [
    {
     "name": "stdout",
     "output_type": "stream",
     "text": [
      "  [1] \"SEN_pa_2332_matching_results_wk24.RDS\"     \n",
      "  [2] \"SEN_pa_2333_matching_results_wk24.RDS\"     \n",
      "  [3] \"SEN_pa_2578_matching_results_wk24.RDS\"     \n",
      "  [4] \"SEN_pa_2580_matching_results_wk24.RDS\"     \n",
      "  [5] \"SEN_pa_3044_matching_results_wk24.RDS\"     \n",
      "  [6] \"SEN_pa_3045_matching_results_wk24.RDS\"     \n",
      "  [7] \"SEN_pa_352605_matching_results_wk24.RDS\"   \n",
      "  [8] \"SEN_pa_352606_matching_results_wk24.RDS\"   \n",
      "  [9] \"SEN_pa_352607_matching_results_wk24.RDS\"   \n",
      " [10] \"SEN_pa_352608_matching_results_wk24.RDS\"   \n",
      " [11] \"SEN_pa_352609_matching_results_wk24.RDS\"   \n",
      " [12] \"SEN_pa_352610_matching_results_wk24.RDS\"   \n",
      " [13] \"SEN_pa_352611_matching_results_wk24.RDS\"   \n",
      " [14] \"SEN_pa_352613_matching_results_wk24.RDS\"   \n",
      " [15] \"SEN_pa_352614_matching_results_wk24.RDS\"   \n",
      " [16] \"SEN_pa_352615_matching_results_wk24.RDS\"   \n",
      " [17] \"SEN_pa_352616_matching_results_wk24.RDS\"   \n",
      " [18] \"SEN_pa_352617_matching_results_wk24.RDS\"   \n",
      " [19] \"SEN_pa_352618_matching_results_wk24.RDS\"   \n",
      " [20] \"SEN_pa_352619_matching_results_wk24.RDS\"   \n",
      " [21] \"SEN_pa_352620_matching_results_wk24.RDS\"   \n",
      " [22] \"SEN_pa_352621_matching_results_wk24.RDS\"   \n",
      " [23] \"SEN_pa_352622_matching_results_wk24.RDS\"   \n",
      " [24] \"SEN_pa_352623_matching_results_wk24.RDS\"   \n",
      " [25] \"SEN_pa_352624_matching_results_wk24.RDS\"   \n",
      " [26] \"SEN_pa_352625_matching_results_wk24.RDS\"   \n",
      " [27] \"SEN_pa_352626_matching_results_wk24.RDS\"   \n",
      " [28] \"SEN_pa_352627_matching_results_wk24.RDS\"   \n",
      " [29] \"SEN_pa_352628_matching_results_wk24.RDS\"   \n",
      " [30] \"SEN_pa_352629_matching_results_wk24.RDS\"   \n",
      " [31] \"SEN_pa_352630_matching_results_wk24.RDS\"   \n",
      " [32] \"SEN_pa_352631_matching_results_wk24.RDS\"   \n",
      " [33] \"SEN_pa_352632_matching_results_wk24.RDS\"   \n",
      " [34] \"SEN_pa_352633_matching_results_wk24.RDS\"   \n",
      " [35] \"SEN_pa_352634_matching_results_wk24.RDS\"   \n",
      " [36] \"SEN_pa_352635_matching_results_wk24.RDS\"   \n",
      " [37] \"SEN_pa_352636_matching_results_wk24.RDS\"   \n",
      " [38] \"SEN_pa_352637_matching_results_wk24.RDS\"   \n",
      " [39] \"SEN_pa_352638_matching_results_wk24.RDS\"   \n",
      " [40] \"SEN_pa_352639_matching_results_wk24.RDS\"   \n",
      " [41] \"SEN_pa_352640_matching_results_wk24.RDS\"   \n",
      " [42] \"SEN_pa_352641_matching_results_wk24.RDS\"   \n",
      " [43] \"SEN_pa_352642_matching_results_wk24.RDS\"   \n",
      " [44] \"SEN_pa_352643_matching_results_wk24.RDS\"   \n",
      " [45] \"SEN_pa_352644_matching_results_wk24.RDS\"   \n",
      " [46] \"SEN_pa_352645_matching_results_wk24.RDS\"   \n",
      " [47] \"SEN_pa_352646_matching_results_wk24.RDS\"   \n",
      " [48] \"SEN_pa_352647_matching_results_wk24.RDS\"   \n",
      " [49] \"SEN_pa_352648_matching_results_wk24.RDS\"   \n",
      " [50] \"SEN_pa_352649_matching_results_wk24.RDS\"   \n",
      " [51] \"SEN_pa_352650_matching_results_wk24.RDS\"   \n",
      " [52] \"SEN_pa_352651_matching_results_wk24.RDS\"   \n",
      " [53] \"SEN_pa_352653_matching_results_wk24.RDS\"   \n",
      " [54] \"SEN_pa_352654_matching_results_wk24.RDS\"   \n",
      " [55] \"SEN_pa_352655_matching_results_wk24.RDS\"   \n",
      " [56] \"SEN_pa_352656_matching_results_wk24.RDS\"   \n",
      " [57] \"SEN_pa_352657_matching_results_wk24.RDS\"   \n",
      " [58] \"SEN_pa_352658_matching_results_wk24.RDS\"   \n",
      " [59] \"SEN_pa_352659_matching_results_wk24.RDS\"   \n",
      " [60] \"SEN_pa_352660_matching_results_wk24.RDS\"   \n",
      " [61] \"SEN_pa_352661_matching_results_wk24.RDS\"   \n",
      " [62] \"SEN_pa_352662_matching_results_wk24.RDS\"   \n",
      " [63] \"SEN_pa_352663_matching_results_wk24.RDS\"   \n",
      " [64] \"SEN_pa_352664_matching_results_wk24.RDS\"   \n",
      " [65] \"SEN_pa_352665_matching_results_wk24.RDS\"   \n",
      " [66] \"SEN_pa_352666_matching_results_wk24.RDS\"   \n",
      " [67] \"SEN_pa_352667_matching_results_wk24.RDS\"   \n",
      " [68] \"SEN_pa_352668_matching_results_wk24.RDS\"   \n",
      " [69] \"SEN_pa_352669_matching_results_wk24.RDS\"   \n",
      " [70] \"SEN_pa_352670_matching_results_wk24.RDS\"   \n",
      " [71] \"SEN_pa_352671_matching_results_wk24.RDS\"   \n",
      " [72] \"SEN_pa_352672_matching_results_wk24.RDS\"   \n",
      " [73] \"SEN_pa_352673_matching_results_wk24.RDS\"   \n",
      " [74] \"SEN_pa_352674_matching_results_wk24.RDS\"   \n",
      " [75] \"SEN_pa_352675_matching_results_wk24.RDS\"   \n",
      " [76] \"SEN_pa_352676_matching_results_wk24.RDS\"   \n",
      " [77] \"SEN_pa_352677_matching_results_wk24.RDS\"   \n",
      " [78] \"SEN_pa_352678_matching_results_wk24.RDS\"   \n",
      " [79] \"SEN_pa_352679_matching_results_wk24.RDS\"   \n",
      " [80] \"SEN_pa_352680_matching_results_wk24.RDS\"   \n",
      " [81] \"SEN_pa_352681_matching_results_wk24.RDS\"   \n",
      " [82] \"SEN_pa_352682_matching_results_wk24.RDS\"   \n",
      " [83] \"SEN_pa_352683_matching_results_wk24.RDS\"   \n",
      " [84] \"SEN_pa_352684_matching_results_wk24.RDS\"   \n",
      " [85] \"SEN_pa_352685_matching_results_wk24.RDS\"   \n",
      " [86] \"SEN_pa_352686_matching_results_wk24.RDS\"   \n",
      " [87] \"SEN_pa_352687_matching_results_wk24.RDS\"   \n",
      " [88] \"SEN_pa_352688_matching_results_wk24.RDS\"   \n",
      " [89] \"SEN_pa_352690_matching_results_wk24.RDS\"   \n",
      " [90] \"SEN_pa_352691_matching_results_wk24.RDS\"   \n",
      " [91] \"SEN_pa_352693_matching_results_wk24.RDS\"   \n",
      " [92] \"SEN_pa_352694_matching_results_wk24.RDS\"   \n",
      " [93] \"SEN_pa_352695_matching_results_wk24.RDS\"   \n",
      " [94] \"SEN_pa_352696_matching_results_wk24.RDS\"   \n",
      " [95] \"SEN_pa_352697_matching_results_wk24.RDS\"   \n",
      " [96] \"SEN_pa_352698_matching_results_wk24.RDS\"   \n",
      " [97] \"SEN_pa_352699_matching_results_wk24.RDS\"   \n",
      " [98] \"SEN_pa_5178_matching_results_wk24.RDS\"     \n",
      " [99] \"SEN_pa_555629212_matching_results_wk24.RDS\"\n",
      "[100] \"SEN_pa_555629213_matching_results_wk24.RDS\"\n",
      "[101] \"SEN_pa_555629214_matching_results_wk24.RDS\"\n",
      "[102] \"SEN_pa_68151_matching_results_wk24.RDS\"    \n",
      "[103] \"SEN_pa_68153_matching_results_wk24.RDS\"    \n",
      "[104] \"SEN_pa_68154_matching_results_wk24.RDS\"    \n",
      "[105] \"SEN_pa_865_matching_results_wk24.RDS\"      \n",
      "[106] \"SEN_pa_867_matching_results_wk24.RDS\"      \n",
      "[107] \"SEN_pa_868_matching_results_wk24.RDS\"      \n"
     ]
    }
   ],
   "source": [
    "print(matched_PAs)"
   ]
  },
  {
   "cell_type": "markdown",
   "id": "784d29ad-75fd-4c9f-908f-7df3ebc719d8",
   "metadata": {
    "tags": []
   },
   "source": [
    "### 5/23: Code below works for single RDS and needs to be updated for multiple RDS and multiple GEDI files"
   ]
  },
  {
   "cell_type": "code",
   "execution_count": 12,
   "id": "d87263b2-85bd-4fa3-9ff2-b79fd18e4a98",
   "metadata": {
    "tags": []
   },
   "outputs": [
    {
     "data": {
      "text/html": [
       "<style>\n",
       ".list-inline {list-style: none; margin:0; padding: 0}\n",
       ".list-inline>li {display: inline-block}\n",
       ".list-inline>li:not(:last-child)::after {content: \"\\00b7\"; padding: 0 .5ex}\n",
       "</style>\n",
       "<ol class=list-inline><li>'lat'</li><li>'lon'</li><li>'UID'</li><li>'status'</li><li>'land_cover'</li><li>'wwfbiom'</li><li>'wwfecoreg'</li><li>'elevation'</li><li>'slope'</li><li>'mean_temp'</li><li>'max_temp'</li><li>'min_temp'</li><li>'prec'</li><li>'d2road'</li><li>'d2city'</li><li>'popden'</li><li>'tt2city'</li><li>'popcnt'</li><li>'propensity_score'</li><li>'propensity_scoreA'</li><li>'matched'</li><li>'pa_id'</li></ol>\n"
      ],
      "text/latex": [
       "\\begin{enumerate*}\n",
       "\\item 'lat'\n",
       "\\item 'lon'\n",
       "\\item 'UID'\n",
       "\\item 'status'\n",
       "\\item 'land\\_cover'\n",
       "\\item 'wwfbiom'\n",
       "\\item 'wwfecoreg'\n",
       "\\item 'elevation'\n",
       "\\item 'slope'\n",
       "\\item 'mean\\_temp'\n",
       "\\item 'max\\_temp'\n",
       "\\item 'min\\_temp'\n",
       "\\item 'prec'\n",
       "\\item 'd2road'\n",
       "\\item 'd2city'\n",
       "\\item 'popden'\n",
       "\\item 'tt2city'\n",
       "\\item 'popcnt'\n",
       "\\item 'propensity\\_score'\n",
       "\\item 'propensity\\_scoreA'\n",
       "\\item 'matched'\n",
       "\\item 'pa\\_id'\n",
       "\\end{enumerate*}\n"
      ],
      "text/markdown": [
       "1. 'lat'\n",
       "2. 'lon'\n",
       "3. 'UID'\n",
       "4. 'status'\n",
       "5. 'land_cover'\n",
       "6. 'wwfbiom'\n",
       "7. 'wwfecoreg'\n",
       "8. 'elevation'\n",
       "9. 'slope'\n",
       "10. 'mean_temp'\n",
       "11. 'max_temp'\n",
       "12. 'min_temp'\n",
       "13. 'prec'\n",
       "14. 'd2road'\n",
       "15. 'd2city'\n",
       "16. 'popden'\n",
       "17. 'tt2city'\n",
       "18. 'popcnt'\n",
       "19. 'propensity_score'\n",
       "20. 'propensity_scoreA'\n",
       "21. 'matched'\n",
       "22. 'pa_id'\n",
       "\n",
       "\n"
      ],
      "text/plain": [
       " [1] \"lat\"               \"lon\"               \"UID\"              \n",
       " [4] \"status\"            \"land_cover\"        \"wwfbiom\"          \n",
       " [7] \"wwfecoreg\"         \"elevation\"         \"slope\"            \n",
       "[10] \"mean_temp\"         \"max_temp\"          \"min_temp\"         \n",
       "[13] \"prec\"              \"d2road\"            \"d2city\"           \n",
       "[16] \"popden\"            \"tt2city\"           \"popcnt\"           \n",
       "[19] \"propensity_score\"  \"propensity_scoreA\" \"matched\"          \n",
       "[22] \"pa_id\"            "
      ]
     },
     "metadata": {},
     "output_type": "display_data"
    }
   ],
   "source": [
    "colnames(readRDS(paste(\"~/GEDI_PA/Matching_Layers/SEN/WDPA_matching_results/SEN_wk24/SEN_pa_2332_matching_results_wk24.RDS\", sep=\"\")))"
   ]
  },
  {
   "cell_type": "code",
   "execution_count": 9,
   "id": "6c824486-7c39-47c9-8ca5-7ca7a32d8e08",
   "metadata": {
    "tags": []
   },
   "outputs": [],
   "source": [
    "f.path <- '~/GEDI_PA/Matching_Layers/SEN/SEN_Tiles/'\n",
    "    \n",
    "    all_gedil2_f <- list.files(path=f.path, pattern=\"L2A\", all.files=TRUE, full.names=TRUE)  \n",
    "    all_gedil4_f <- list.files(path=f.path, pattern=\"L4A\", all.files=TRUE, full.names=TRUE) "
   ]
  },
  {
   "cell_type": "code",
   "execution_count": 71,
   "id": "8bb8fca3-aa5c-42fd-bf95-fd7643eac8da",
   "metadata": {
    "tags": []
   },
   "outputs": [
    {
     "name": "stdout",
     "output_type": "stream",
     "text": [
      "Reading layer `N17.30728831742391W-15.52951992770953.geojson_L2A' from data source `/projects/GEDI_PA/Matching_Layers/SEN/SEN_Tiles/N17.30728831742391W-15.52951992770953.geojson_L2A.gpkg' \n",
      "  using driver `GPKG'\n",
      "Integer64 values larger than 9.0072e+15 lost significance after conversion to double;\n",
      "use argument int64_as_string = TRUE to import them lossless, as character\n",
      "Simple feature collection with 431671 features and 10 fields\n",
      "Geometry type: POINT\n",
      "Dimension:     XY\n",
      "Bounding box:  xmin: -16.5295 ymin: 17.30729 xmax: -15.52953 ymax: 18.30729\n",
      "Geodetic CRS:  WGS 84\n"
     ]
    }
   ],
   "source": [
    "st<-st_read(all_gedil2_f[39])"
   ]
  },
  {
   "cell_type": "code",
   "execution_count": 72,
   "id": "e82f519f-c304-4211-841d-d79cfcaae4de",
   "metadata": {
    "tags": []
   },
   "outputs": [
    {
     "data": {
      "text/html": [
       "<style>\n",
       ".list-inline {list-style: none; margin:0; padding: 0}\n",
       ".list-inline>li {display: inline-block}\n",
       ".list-inline>li:not(:last-child)::after {content: \"\\00b7\"; padding: 0 .5ex}\n",
       "</style>\n",
       "<ol class=list-inline><li>'filename'</li><li>'rh90'</li><li>'geolocation.sensitivity_a2'</li><li>'rh75'</li><li>'rh50'</li><li>'rh25'</li><li>'shot_number'</li><li>'lat_lowestmode'</li><li>'rh98'</li><li>'lon_lowestmode'</li><li>'geom'</li></ol>\n"
      ],
      "text/latex": [
       "\\begin{enumerate*}\n",
       "\\item 'filename'\n",
       "\\item 'rh90'\n",
       "\\item 'geolocation.sensitivity\\_a2'\n",
       "\\item 'rh75'\n",
       "\\item 'rh50'\n",
       "\\item 'rh25'\n",
       "\\item 'shot\\_number'\n",
       "\\item 'lat\\_lowestmode'\n",
       "\\item 'rh98'\n",
       "\\item 'lon\\_lowestmode'\n",
       "\\item 'geom'\n",
       "\\end{enumerate*}\n"
      ],
      "text/markdown": [
       "1. 'filename'\n",
       "2. 'rh90'\n",
       "3. 'geolocation.sensitivity_a2'\n",
       "4. 'rh75'\n",
       "5. 'rh50'\n",
       "6. 'rh25'\n",
       "7. 'shot_number'\n",
       "8. 'lat_lowestmode'\n",
       "9. 'rh98'\n",
       "10. 'lon_lowestmode'\n",
       "11. 'geom'\n",
       "\n",
       "\n"
      ],
      "text/plain": [
       " [1] \"filename\"                   \"rh90\"                      \n",
       " [3] \"geolocation.sensitivity_a2\" \"rh75\"                      \n",
       " [5] \"rh50\"                       \"rh25\"                      \n",
       " [7] \"shot_number\"                \"lat_lowestmode\"            \n",
       " [9] \"rh98\"                       \"lon_lowestmode\"            \n",
       "[11] \"geom\"                      "
      ]
     },
     "metadata": {},
     "output_type": "display_data"
    }
   ],
   "source": [
    "colnames(st)"
   ]
  },
  {
   "cell_type": "code",
   "execution_count": 10,
   "id": "e21f4d1f-bc3d-44b6-9246-592102f3af8a",
   "metadata": {
    "tags": []
   },
   "outputs": [
    {
     "data": {
      "text/html": [
       "<style>\n",
       ".list-inline {list-style: none; margin:0; padding: 0}\n",
       ".list-inline>li {display: inline-block}\n",
       ".list-inline>li:not(:last-child)::after {content: \"\\00b7\"; padding: 0 .5ex}\n",
       "</style>\n",
       "<ol class=list-inline><li>'/projects/GEDI_PA/Matching_Layers/SEN/SEN_Tiles//N12.30728831742391W-10.52951992770953.geojson_L4A.gpkg'</li><li>'/projects/GEDI_PA/Matching_Layers/SEN/SEN_Tiles//N12.30728831742391W-11.52951992770953.geojson_L4A.gpkg'</li><li>'/projects/GEDI_PA/Matching_Layers/SEN/SEN_Tiles//N12.30728831742391W-12.52951992770953.geojson_L4A.gpkg'</li><li>'/projects/GEDI_PA/Matching_Layers/SEN/SEN_Tiles//N12.30728831742391W-13.52951992770953.geojson_L4A.gpkg'</li><li>'/projects/GEDI_PA/Matching_Layers/SEN/SEN_Tiles//N12.30728831742391W-14.52951992770953.geojson_L4A.gpkg'</li><li>'/projects/GEDI_PA/Matching_Layers/SEN/SEN_Tiles//N12.30728831742391W-15.52951992770953.geojson_L4A.gpkg'</li><li>'/projects/GEDI_PA/Matching_Layers/SEN/SEN_Tiles//N12.30728831742391W-16.52951992770953.geojson_L4A.gpkg'</li><li>'/projects/GEDI_PA/Matching_Layers/SEN/SEN_Tiles//N13.30728831742391W-10.52951992770953.geojson_L4A.gpkg'</li><li>'/projects/GEDI_PA/Matching_Layers/SEN/SEN_Tiles//N13.30728831742391W-11.52951992770953.geojson_L4A.gpkg'</li><li>'/projects/GEDI_PA/Matching_Layers/SEN/SEN_Tiles//N13.30728831742391W-12.52951992770953.geojson_L4A.gpkg'</li></ol>\n"
      ],
      "text/latex": [
       "\\begin{enumerate*}\n",
       "\\item '/projects/GEDI\\_PA/Matching\\_Layers/SEN/SEN\\_Tiles//N12.30728831742391W-10.52951992770953.geojson\\_L4A.gpkg'\n",
       "\\item '/projects/GEDI\\_PA/Matching\\_Layers/SEN/SEN\\_Tiles//N12.30728831742391W-11.52951992770953.geojson\\_L4A.gpkg'\n",
       "\\item '/projects/GEDI\\_PA/Matching\\_Layers/SEN/SEN\\_Tiles//N12.30728831742391W-12.52951992770953.geojson\\_L4A.gpkg'\n",
       "\\item '/projects/GEDI\\_PA/Matching\\_Layers/SEN/SEN\\_Tiles//N12.30728831742391W-13.52951992770953.geojson\\_L4A.gpkg'\n",
       "\\item '/projects/GEDI\\_PA/Matching\\_Layers/SEN/SEN\\_Tiles//N12.30728831742391W-14.52951992770953.geojson\\_L4A.gpkg'\n",
       "\\item '/projects/GEDI\\_PA/Matching\\_Layers/SEN/SEN\\_Tiles//N12.30728831742391W-15.52951992770953.geojson\\_L4A.gpkg'\n",
       "\\item '/projects/GEDI\\_PA/Matching\\_Layers/SEN/SEN\\_Tiles//N12.30728831742391W-16.52951992770953.geojson\\_L4A.gpkg'\n",
       "\\item '/projects/GEDI\\_PA/Matching\\_Layers/SEN/SEN\\_Tiles//N13.30728831742391W-10.52951992770953.geojson\\_L4A.gpkg'\n",
       "\\item '/projects/GEDI\\_PA/Matching\\_Layers/SEN/SEN\\_Tiles//N13.30728831742391W-11.52951992770953.geojson\\_L4A.gpkg'\n",
       "\\item '/projects/GEDI\\_PA/Matching\\_Layers/SEN/SEN\\_Tiles//N13.30728831742391W-12.52951992770953.geojson\\_L4A.gpkg'\n",
       "\\end{enumerate*}\n"
      ],
      "text/markdown": [
       "1. '/projects/GEDI_PA/Matching_Layers/SEN/SEN_Tiles//N12.30728831742391W-10.52951992770953.geojson_L4A.gpkg'\n",
       "2. '/projects/GEDI_PA/Matching_Layers/SEN/SEN_Tiles//N12.30728831742391W-11.52951992770953.geojson_L4A.gpkg'\n",
       "3. '/projects/GEDI_PA/Matching_Layers/SEN/SEN_Tiles//N12.30728831742391W-12.52951992770953.geojson_L4A.gpkg'\n",
       "4. '/projects/GEDI_PA/Matching_Layers/SEN/SEN_Tiles//N12.30728831742391W-13.52951992770953.geojson_L4A.gpkg'\n",
       "5. '/projects/GEDI_PA/Matching_Layers/SEN/SEN_Tiles//N12.30728831742391W-14.52951992770953.geojson_L4A.gpkg'\n",
       "6. '/projects/GEDI_PA/Matching_Layers/SEN/SEN_Tiles//N12.30728831742391W-15.52951992770953.geojson_L4A.gpkg'\n",
       "7. '/projects/GEDI_PA/Matching_Layers/SEN/SEN_Tiles//N12.30728831742391W-16.52951992770953.geojson_L4A.gpkg'\n",
       "8. '/projects/GEDI_PA/Matching_Layers/SEN/SEN_Tiles//N13.30728831742391W-10.52951992770953.geojson_L4A.gpkg'\n",
       "9. '/projects/GEDI_PA/Matching_Layers/SEN/SEN_Tiles//N13.30728831742391W-11.52951992770953.geojson_L4A.gpkg'\n",
       "10. '/projects/GEDI_PA/Matching_Layers/SEN/SEN_Tiles//N13.30728831742391W-12.52951992770953.geojson_L4A.gpkg'\n",
       "\n",
       "\n"
      ],
      "text/plain": [
       " [1] \"/projects/GEDI_PA/Matching_Layers/SEN/SEN_Tiles//N12.30728831742391W-10.52951992770953.geojson_L4A.gpkg\"\n",
       " [2] \"/projects/GEDI_PA/Matching_Layers/SEN/SEN_Tiles//N12.30728831742391W-11.52951992770953.geojson_L4A.gpkg\"\n",
       " [3] \"/projects/GEDI_PA/Matching_Layers/SEN/SEN_Tiles//N12.30728831742391W-12.52951992770953.geojson_L4A.gpkg\"\n",
       " [4] \"/projects/GEDI_PA/Matching_Layers/SEN/SEN_Tiles//N12.30728831742391W-13.52951992770953.geojson_L4A.gpkg\"\n",
       " [5] \"/projects/GEDI_PA/Matching_Layers/SEN/SEN_Tiles//N12.30728831742391W-14.52951992770953.geojson_L4A.gpkg\"\n",
       " [6] \"/projects/GEDI_PA/Matching_Layers/SEN/SEN_Tiles//N12.30728831742391W-15.52951992770953.geojson_L4A.gpkg\"\n",
       " [7] \"/projects/GEDI_PA/Matching_Layers/SEN/SEN_Tiles//N12.30728831742391W-16.52951992770953.geojson_L4A.gpkg\"\n",
       " [8] \"/projects/GEDI_PA/Matching_Layers/SEN/SEN_Tiles//N13.30728831742391W-10.52951992770953.geojson_L4A.gpkg\"\n",
       " [9] \"/projects/GEDI_PA/Matching_Layers/SEN/SEN_Tiles//N13.30728831742391W-11.52951992770953.geojson_L4A.gpkg\"\n",
       "[10] \"/projects/GEDI_PA/Matching_Layers/SEN/SEN_Tiles//N13.30728831742391W-12.52951992770953.geojson_L4A.gpkg\""
      ]
     },
     "metadata": {},
     "output_type": "display_data"
    }
   ],
   "source": [
    "f.path <- '~/GEDI_PA/Matching_Layers/SEN/SEN_Tiles/'\n",
    "all_gedil2_f <- list.files(path=f.path, pattern=\"L2A\", all.files=TRUE, full.names=TRUE)[1:10]  \n",
    "all_gedil4_f <- list.files(path=f.path, pattern=\"L4A\", all.files=TRUE, full.names=TRUE) [1:10] \n",
    "all_gedil4_f   "
   ]
  },
  {
   "cell_type": "code",
   "execution_count": 11,
   "id": "63990280-4a83-4bf6-924d-e012e17ca28a",
   "metadata": {
    "tags": []
   },
   "outputs": [
    {
     "name": "stdout",
     "output_type": "stream",
     "text": [
      "Reading layer `N12.30728831742391W-10.52951992770953.geojson_L4A' from data source `/projects/GEDI_PA/Matching_Layers/SEN/SEN_Tiles/N12.30728831742391W-10.52951992770953.geojson_L4A.gpkg' \n",
      "  using driver `GPKG'\n",
      "Integer64 values larger than 9.0072e+15 lost significance after conversion to double;\n",
      "use argument int64_as_string = TRUE to import them lossless, as character\n",
      "Simple feature collection with 239924 features and 16 fields\n",
      "Geometry type: POINT\n",
      "Dimension:     XY\n",
      "Bounding box:  xmin: -11.52952 ymin: 12.30729 xmax: -10.52952 ymax: 13.30728\n",
      "Geodetic CRS:  WGS 84\n",
      " [1] \"filename\"             \"selected_algorithm\"   \"agbd_se\"             \n",
      " [4] \"agbd_t_se\"            \"response_limit_flag\"  \"selected_mode\"       \n",
      " [7] \"agbd\"                 \"selected_mode_flag\"   \"lon_lowestmode\"      \n",
      "[10] \"agbd_t\"               \"predictor_limit_flag\" \"agbd_pi_lower\"       \n",
      "[13] \"shot_number\"          \"agbd_pi_upper\"        \"lat_lowestmode\"      \n",
      "[16] \"sensitivity\"          \"geom\"                \n"
     ]
    }
   ],
   "source": [
    "table<-as.data.frame(st_read(all_gedil4_f[1]))\n",
    "print(colnames(table))"
   ]
  },
  {
   "cell_type": "code",
   "execution_count": null,
   "id": "fbf49e6d-56dd-4ff0-aa8e-0d8c137abaab",
   "metadata": {},
   "outputs": [],
   "source": []
  },
  {
   "cell_type": "code",
   "execution_count": 80,
   "id": "f35011a1-81e5-4dec-bc5b-4cd628e10cf9",
   "metadata": {
    "tags": []
   },
   "outputs": [
    {
     "name": "stdout",
     "output_type": "stream",
     "text": [
      "Readng in no.  1 csv of  1 csvs for iso3 SEN \n"
     ]
    }
   ],
   "source": [
    "registerDoParallel(cores=2)\n",
    "    ex_out <- foreach(this_csvid=seq(length(all_gedil2_f)), \n",
    "                  .combine = foreach_rbind, .packages=c('sp','magrittr', 'dplyr','tidyr','raster')) %dopar% {\n",
    "        ##add the GEDI l4a model prediction for AGB here :\n",
    "        cat(\"Readng in no. \", this_csvid,\"csv of \", length(all_gedil2_f),\"csvs for iso3\",iso3,\"\\n\")}\n"
   ]
  },
  {
   "cell_type": "code",
   "execution_count": 74,
   "id": "ca213f89-8aa2-43f1-a0d6-b95c6ebce443",
   "metadata": {
    "tags": []
   },
   "outputs": [],
   "source": [
    "# for (this_gedi4 in all_gedil4_f){\n",
    "#         gedil4_f <- as.data.frame(st_read(this_gedi4))}\n",
    "#     for (this_gedi2 in all_gedil2_f){\n",
    "#         gedil2_f <- as.data.frame(st_read(this_gedi2))}\n",
    "#             if (nrow(gedil4_f) < 1){   #is.na(gedi_l4) || \n",
    "#               cat(\"error\")\n",
    "#               gedi_l24 <- gedil2_f\n",
    "#               gedi_l24$agbd <- NA\n",
    "#               gedi_l24$agbd_se <- NA\n",
    "#               gedi_l24$agbd_t <- NA\n",
    "#               gedi_l24$agbd_t_se <- NA\n",
    "#             } else {\n",
    "#               gedi_l4_sub <- gedil4_f %>%\n",
    "#                 dplyr::select(shot_number, agbd, agbd_se, agbd_t, agbd_t_se)\n",
    "#               gedi_l24 <- inner_join(gedil2_f, gedi_l4_sub, by=\"shot_number\")\n",
    "\n",
    "#             }"
   ]
  },
  {
   "cell_type": "code",
   "execution_count": 81,
   "id": "87680d76-73f2-414b-9a8e-a79376777afe",
   "metadata": {
    "tags": []
   },
   "outputs": [],
   "source": [
    "iso_matched_gedi_df <- data.frame()"
   ]
  },
  {
   "cell_type": "code",
   "execution_count": 82,
   "id": "eceff4e3-cde8-4e8f-bccf-d20db42cdc9c",
   "metadata": {
    "tags": []
   },
   "outputs": [],
   "source": [
    "if(nrow(gedi_l24)>0){\n",
    "            gedi_l24_sp <- gedi_l24 %>% \n",
    "                SpatialPointsDataFrame(coords=.[,c(\"lon_lowestmode\",\"lat_lowestmode\")],\n",
    "                                     proj4string=CRS(\"+init=epsg:4326\"), data=.) %>%spTransform(., CRS(\"+init=epsg:6933\"))\n",
    "\n",
    "            matched_gedi <- raster::extract(mras,gedi_l24_sp, df=TRUE)\n",
    "            matched_gedi_metrics <- cbind(matched_gedi,gedi_l24_sp@data)\n",
    "            matched_gedi_metrics_filtered <- matched_gedi_metrics %>% dplyr::filter(!is.na(status)) %>% \n",
    "              convertFactor(matched0 = matched,exgedi = .) \n",
    "\n",
    "            iso_matched_gedi_df <- rbind(matched_gedi_metrics_filtered,iso_matched_gedi_df)}"
   ]
  },
  {
   "cell_type": "code",
   "execution_count": 125,
   "id": "0b89a11c-f40c-4641-8249-fd91da2e0ee7",
   "metadata": {
    "tags": []
   },
   "outputs": [],
   "source": [
    "extract_gedi <- function(matched, mras){\n",
    "    f.path <- '~/GEDI_PA/Matching_Layers/SEN/SEN_Tiles/'\n",
    "    \n",
    "    all_gedil2_f <- list.files(path=f.path, pattern=\"L2A\", all.files=TRUE, full.names=TRUE)[1:10]  \n",
    "    all_gedil4_f <- list.files(path=f.path, pattern=\"L4A\", all.files=TRUE, full.names=TRUE)[1:10]\n",
    "        \n",
    "    registerDoParallel(cores=2) #Later on may want to increase this number\n",
    "    ex_out <- foreach(this_csvid=seq(length(all_gedil2_f)), \n",
    "                  .combine = foreach_rbind, .packages=c('sp','magrittr', 'dplyr','tidyr','raster')) %dopar% {\n",
    "        ##add the GEDI l4a model prediction for AGB here :\n",
    "        cat(\"Readng in no. \", this_csvid,\"csv of \", length(all_gedil2_f),\"csvs for iso3\",iso3,\"\\n\")\n",
    "\n",
    "    for (this_gedi4 in all_gedil4_f){\n",
    "        gedil4_f <- as.data.frame(st_read(this_gedi4))}\n",
    "    for (this_gedi2 in all_gedil2_f){\n",
    "        gedil2_f <- as.data.frame(st_read(this_gedi2))}\n",
    "            if (nrow(gedil4_f) < 1){   #is.na(gedi_l4) || \n",
    "              cat(\"error\")\n",
    "              gedi_l24 <- gedil2_f\n",
    "              gedi_l24$agbd <- NA\n",
    "              gedi_l24$agbd_se <- NA\n",
    "              gedi_l24$agbd_t <- NA\n",
    "              gedi_l24$agbd_t_se <- NA\n",
    "            } else {\n",
    "              gedi_l4_sub <- gedil4_f %>%\n",
    "                dplyr::select(shot_number, agbd, agbd_se, agbd_t, agbd_t_se)\n",
    "              gedi_l24 <- inner_join(gedil2_f, gedi_l4_sub, by=\"shot_number\")\n",
    "\n",
    "            }\n",
    "\n",
    "        print(dim(gedi_l24))\n",
    "        iso_matched_gedi_df <- data.frame()\n",
    "        if(nrow(gedi_l24)>0){\n",
    "            gedi_l24_sp <- gedi_l24 %>% \n",
    "                SpatialPointsDataFrame(coords=.[,c(\"lon_lowestmode\",\"lat_lowestmode\")],\n",
    "                                     proj4string=CRS(\"+init=epsg:4326\"), data=.) %>%spTransform(., CRS(\"+init=epsg:6933\"))\n",
    "\n",
    "            matched_gedi <- raster::extract(mras,gedi_l24_sp, df=TRUE)\n",
    "            matched_gedi_metrics <- cbind(matched_gedi,gedi_l24_sp@data)\n",
    "            matched_gedi_metrics_filtered <- matched_gedi_metrics %>% dplyr::filter(!is.na(status)) %>% \n",
    "              convertFactor(matched0 = matched,exgedi = .) \n",
    "\n",
    "            iso_matched_gedi_df <- rbind(matched_gedi_metrics_filtered,iso_matched_gedi_df)\n",
    "            print(dim(iso_matched_gedi_df))\n",
    "        }\n",
    "\n",
    "        return(iso_matched_gedi_df)\n",
    "}\n",
    "    \n",
    "    stopImplicitCluster()\n",
    "    cat(\"Done GEDI for no. \",grep(unique(matched$pa_id), matched_PAs),\"pa out of\", length(matched_PAs),\"\\n\")\n",
    "    return(ex_out)\n",
    "    \n",
    "}       "
   ]
  },
  {
   "cell_type": "code",
   "execution_count": 126,
   "id": "a3e9ce4c-a6b5-4235-97fb-425cbc21c790",
   "metadata": {
    "tags": []
   },
   "outputs": [],
   "source": [
    "matched <- readRDS(paste(\"~/GEDI_PA/Matching_Layers/SEN/WDPA_matching_results/SEN_wk24/SEN_pa_352642_matching_results_wk24.RDS\", sep=\"\"))"
   ]
  },
  {
   "cell_type": "code",
   "execution_count": 127,
   "id": "300ab7dc-b6d9-4c4c-a4fa-f4f5da96406f",
   "metadata": {
    "tags": []
   },
   "outputs": [
    {
     "name": "stdout",
     "output_type": "stream",
     "text": [
      "SEN converting the matched csv to a raster stack for extraction\n"
     ]
    }
   ],
   "source": [
    "mras  <- tryCatch(matched2ras(matched),\n",
    "                      error=function(cond){\n",
    "                        message(cond)\n",
    "                        cat(\"Matched result is likely null for country\", iso3,\"pa\", id_pa, \"dimension of the match is\", dim(matched),\"\\n\")\n",
    "                        # writeLines(\"Matched results is likely null for country\", paste(f.path,\"WDPA_log/\",iso3,\"_log_matching.txt\", sep=\"\"))\n",
    "                        return(NULL)}) #convert the macthed df to a raster stack "
   ]
  },
  {
   "cell_type": "code",
   "execution_count": 128,
   "id": "149d734f-e8d9-4a77-9e6e-ed8108eb3c88",
   "metadata": {
    "tags": []
   },
   "outputs": [],
   "source": [
    "extract_gedi(matched=matched, mras = mras)"
   ]
  },
  {
   "cell_type": "code",
   "execution_count": 10,
   "id": "1b416b19-d082-477a-be5d-8407bbe1d6a9",
   "metadata": {
    "tags": []
   },
   "outputs": [],
   "source": [
    "sub<-matched_PAs[c(43,73)]"
   ]
  },
  {
   "cell_type": "code",
   "execution_count": 11,
   "id": "81d92e17-3375-41d6-9a75-29809484fcfb",
   "metadata": {
    "tags": []
   },
   "outputs": [
    {
     "data": {
      "text/html": [
       "<style>\n",
       ".list-inline {list-style: none; margin:0; padding: 0}\n",
       ".list-inline>li {display: inline-block}\n",
       ".list-inline>li:not(:last-child)::after {content: \"\\00b7\"; padding: 0 .5ex}\n",
       "</style>\n",
       "<ol class=list-inline><li>'SEN_pa_352642_matching_results_wk24.RDS'</li><li>'SEN_pa_352673_matching_results_wk24.RDS'</li></ol>\n"
      ],
      "text/latex": [
       "\\begin{enumerate*}\n",
       "\\item 'SEN\\_pa\\_352642\\_matching\\_results\\_wk24.RDS'\n",
       "\\item 'SEN\\_pa\\_352673\\_matching\\_results\\_wk24.RDS'\n",
       "\\end{enumerate*}\n"
      ],
      "text/markdown": [
       "1. 'SEN_pa_352642_matching_results_wk24.RDS'\n",
       "2. 'SEN_pa_352673_matching_results_wk24.RDS'\n",
       "\n",
       "\n"
      ],
      "text/plain": [
       "[1] \"SEN_pa_352642_matching_results_wk24.RDS\"\n",
       "[2] \"SEN_pa_352673_matching_results_wk24.RDS\""
      ]
     },
     "metadata": {},
     "output_type": "display_data"
    }
   ],
   "source": [
    "sub"
   ]
  },
  {
   "cell_type": "code",
   "execution_count": 140,
   "id": "76271c39-da76-48ee-9789-9b05ba66f68e",
   "metadata": {
    "tags": []
   },
   "outputs": [],
   "source": [
    "# f.path <- '~/GEDI_PA/Matching_Layers/SEN/WDPA_matching_results/SEN_wk24/'\n",
    "# readRDS(paste(f.path,sub[5],sep=\"\"))"
   ]
  },
  {
   "cell_type": "code",
   "execution_count": 25,
   "id": "310e9d06-d622-469f-ba41-552c056a0a88",
   "metadata": {
    "tags": []
   },
   "outputs": [
    {
     "name": "stdout",
     "output_type": "stream",
     "text": [
      "Extracting for no.  1 pa out of 107 \n"
     ]
    },
    {
     "data": {
      "text/html": [
       "'2332'"
      ],
      "text/latex": [
       "'2332'"
      ],
      "text/markdown": [
       "'2332'"
      ],
      "text/plain": [
       "[1] \"2332\""
      ]
     },
     "metadata": {},
     "output_type": "display_data"
    }
   ],
   "source": [
    "foreach(this_rds=sub, .combine = foreach_rbind, .packages=c('sp','magrittr', 'dplyr','tidyr','raster')) %dopar% {\n",
    "  cat(\"Extracting for no. \", match(this_rds,matched_PAs),\"pa out of\", length(matched_PAs),\"\\n\")\n",
    "  if(nchar(iso3)>3){\n",
    "    id_pa <- this_rds %>% str_split(\"_\") %>% unlist %>% .[4]  \n",
    "  } else {\n",
    "    id_pa <- this_rds %>% str_split(\"_\") %>% unlist %>% .[3]\n",
    "  }\n",
    "}"
   ]
  },
  {
   "cell_type": "code",
   "execution_count": 41,
   "id": "e2f64ccf-92c5-44f5-a85d-01252b5f78f3",
   "metadata": {
    "tags": []
   },
   "outputs": [],
   "source": [
    "iso_matched_gedi<- extract_gedi(matched=matched, mras = mras)"
   ]
  },
  {
   "cell_type": "code",
   "execution_count": 38,
   "id": "6918ad66-3c6b-4331-8898-13096e69c4f6",
   "metadata": {
    "tags": []
   },
   "outputs": [],
   "source": [
    "source(\"~/GEDI_PA/matching_func-Copy1.r\")\n",
    "# source(\"~/GEDI_PA/matching_func.r\")"
   ]
  },
  {
   "cell_type": "code",
   "execution_count": 41,
   "id": "aa423189-860d-4f42-92aa-d10c360a283e",
   "metadata": {
    "tags": []
   },
   "outputs": [
    {
     "data": {
      "text/html": [
       "<style>\n",
       ".list-inline {list-style: none; margin:0; padding: 0}\n",
       ".list-inline>li {display: inline-block}\n",
       ".list-inline>li:not(:last-child)::after {content: \"\\00b7\"; padding: 0 .5ex}\n",
       "</style>\n",
       "<ol class=list-inline><li>'SEN_pa_352642_matching_results_wk24.RDS'</li><li>'SEN_pa_352673_matching_results_wk24.RDS'</li></ol>\n"
      ],
      "text/latex": [
       "\\begin{enumerate*}\n",
       "\\item 'SEN\\_pa\\_352642\\_matching\\_results\\_wk24.RDS'\n",
       "\\item 'SEN\\_pa\\_352673\\_matching\\_results\\_wk24.RDS'\n",
       "\\end{enumerate*}\n"
      ],
      "text/markdown": [
       "1. 'SEN_pa_352642_matching_results_wk24.RDS'\n",
       "2. 'SEN_pa_352673_matching_results_wk24.RDS'\n",
       "\n",
       "\n"
      ],
      "text/plain": [
       "[1] \"SEN_pa_352642_matching_results_wk24.RDS\"\n",
       "[2] \"SEN_pa_352673_matching_results_wk24.RDS\""
      ]
     },
     "metadata": {},
     "output_type": "display_data"
    }
   ],
   "source": [
    "sub"
   ]
  },
  {
   "cell_type": "code",
   "execution_count": 12,
   "id": "babd58ab-a056-4bce-9203-22025e4bf2f2",
   "metadata": {},
   "outputs": [],
   "source": [
    "      \n",
    "extract_gedi <- function(matched, mras){\n",
    "    f.path <- '~/GEDI_PA/Matching_Layers/SEN/SEN_Tiles/'\n",
    "    \n",
    "    all_gedil2_f <- list.files(path=f.path, pattern=\"L2A\", all.files=TRUE, full.names=TRUE)[3:4]  \n",
    "    all_gedil4_f <- list.files(path=f.path, pattern=\"L4A\", all.files=TRUE, full.names=TRUE) [3:4] \n",
    "        \n",
    "    registerDoParallel(cores=8)\n",
    "    ex_out <- foreach(this_csvid=seq(length(all_gedil2_f)), \n",
    "                  .combine = foreach_rbind, .packages=c('sp','magrittr', 'dplyr','tidyr','raster')) %dopar% {\n",
    "        ##add the GEDI l4a model prediction for AGB here :\n",
    "        cat(\"Readng in no. \", this_csvid,\"csv of \", length(all_gedil2_f),\"csvs for iso3\",iso3,\"\\n\")\n",
    "\n",
    "    for (this_gedi4 in all_gedil4_f){\n",
    "        gedil4_f <- as.data.frame(st_read(this_gedi4))}\n",
    "    for (this_gedi2 in all_gedil2_f){\n",
    "        gedil2_f <- as.data.frame(st_read(this_gedi2))}\n",
    "            if (nrow(gedil4_f) < 1){   #is.na(gedi_l4) || \n",
    "              cat(\"error\")\n",
    "              gedi_l24 <- gedil2_f\n",
    "              gedi_l24$agbd <- NA\n",
    "              gedi_l24$agbd_se <- NA\n",
    "              gedi_l24$agbd_t <- NA\n",
    "              gedi_l24$agbd_t_se <- NA\n",
    "            } else {\n",
    "              gedi_l4_sub <- gedil4_f %>%\n",
    "                dplyr::select(shot_number, agbd, agbd_se, agbd_t, agbd_t_se)\n",
    "              gedi_l24 <- inner_join(gedil2_f, gedi_l4_sub, by=\"shot_number\")\n",
    "\n",
    "            }\n",
    "\n",
    "        print(dim(gedi_l24))\n",
    "        iso_matched_gedi_df <- data.frame()\n",
    "        if(nrow(gedi_l24)>0){\n",
    "            gedi_l24_sp <- gedi_l24 %>% \n",
    "                SpatialPointsDataFrame(coords=.[,c(\"lon_lowestmode\",\"lat_lowestmode\")],\n",
    "                                     proj4string=CRS(\"+init=epsg:4326\"), data=.) %>%spTransform(., CRS(\"+init=epsg:6933\"))\n",
    "\n",
    "            matched_gedi <- raster::extract(mras,gedi_l24_sp, df=TRUE)\n",
    "            matched_gedi_metrics <- cbind(matched_gedi,gedi_l24_sp@data)\n",
    "            matched_gedi_metrics_filtered <- matched_gedi_metrics %>% dplyr::filter(!is.na(status)) %>% \n",
    "              convertFactor(matched0 = matched,exgedi = .) \n",
    "\n",
    "            iso_matched_gedi_df <- rbind(matched_gedi_metrics_filtered,iso_matched_gedi_df)\n",
    "            print(dim(iso_matched_gedi_df))\n",
    "        }\n",
    "\n",
    "        return(iso_matched_gedi_df)\n",
    "}\n",
    "    \n",
    "    stopImplicitCluster()\n",
    "    cat(\"Done GEDI for no. \",grep(unique(matched$pa_id), matched_PAs),\"pa out of\", length(matched_PAs),\"\\n\")\n",
    "    return(ex_out)\n",
    "    \n",
    "}                                   \n",
    "############################################################################################                                      \n"
   ]
  },
  {
   "cell_type": "code",
   "execution_count": 13,
   "id": "7bdf910f-99cb-4b4d-a51b-aef544c9a83d",
   "metadata": {
    "tags": []
   },
   "outputs": [
    {
     "ename": "ERROR",
     "evalue": "Error in h(simpleError(msg, call)): error in evaluating the argument 'x' in selecting a method for function 'extract': object 'mras' not found\n",
     "output_type": "error",
     "traceback": [
      "Error in h(simpleError(msg, call)): error in evaluating the argument 'x' in selecting a method for function 'extract': object 'mras' not found\nTraceback:\n",
      "1. raster::extract(mras, gedi_l24_sp, df = TRUE)",
      "2. .handleSimpleError(function (cond) \n . .Internal(C_tryCatchHelper(addr, 1L, cond)), \"object 'mras' not found\", \n .     base::quote(eval(expr, envir, enclos)))",
      "3. h(simpleError(msg, call))"
     ]
    }
   ],
   "source": [
    "matched_gedi <- raster::extract(mras,gedi_l24_sp, df=TRUE)"
   ]
  },
  {
   "cell_type": "code",
   "execution_count": 65,
   "id": "e2b2d4bc-684c-4f21-af25-0a81a41ab838",
   "metadata": {
    "tags": []
   },
   "outputs": [
    {
     "data": {
      "text/html": [
       "<style>\n",
       ".list-inline {list-style: none; margin:0; padding: 0}\n",
       ".list-inline>li {display: inline-block}\n",
       ".list-inline>li:not(:last-child)::after {content: \"\\00b7\"; padding: 0 .5ex}\n",
       "</style>\n",
       "<ol class=list-inline><li>&lt;NA&gt;</li><li>0</li></ol>\n"
      ],
      "text/latex": [
       "\\begin{enumerate*}\n",
       "\\item <NA>\n",
       "\\item 0\n",
       "\\end{enumerate*}\n"
      ],
      "text/markdown": [
       "1. &lt;NA&gt;\n",
       "2. 0\n",
       "\n",
       "\n"
      ],
      "text/plain": [
       "[1] NA  0"
      ]
     },
     "metadata": {},
     "output_type": "display_data"
    }
   ],
   "source": [
    "unique(matched_gedi$status)"
   ]
  },
  {
   "cell_type": "code",
   "execution_count": 89,
   "id": "f534ec38-a7c2-4c6e-a3f5-f59a7fdd3fb2",
   "metadata": {
    "tags": []
   },
   "outputs": [
    {
     "data": {
      "image/png": "[encoded data removed]",
      "text/plain": [
       "plot without title"
      ]
     },
     "metadata": {
      "image/png": {
       "height": 420,
       "width": 420
      }
     },
     "output_type": "display_data"
    }
   ],
   "source": [
    "plot(gedi_l24_sp)\n",
    "plot(mras$status,  add=TRUE)"
   ]
  },
  {
   "cell_type": "code",
   "execution_count": 108,
   "id": "85e9cad1-668a-4c4c-9bab-8801bad9bd56",
   "metadata": {
    "tags": []
   },
   "outputs": [
    {
     "data": {
      "image/png": "[encoded data removed]",
      "text/plain": [
       "plot without title"
      ]
     },
     "metadata": {
      "image/png": {
       "height": 420,
       "width": 420
      }
     },
     "output_type": "display_data"
    }
   ],
   "source": [
    "plot(extent(mras))\n",
    "plot(gedi_l24_sp,  add=TRUE)"
   ]
  },
  {
   "cell_type": "code",
   "execution_count": 106,
   "id": "5c743fbf-6288-4e49-a055-3f8044ffd62e",
   "metadata": {
    "tags": []
   },
   "outputs": [
    {
     "data": {
      "text/plain": [
       "class      : Extent \n",
       "xmin       : -1401899 \n",
       "xmax       : -1305413 \n",
       "ymin       : 1682831 \n",
       "ymax       : 1806811 "
      ]
     },
     "metadata": {},
     "output_type": "display_data"
    }
   ],
   "source": [
    "extent(gedi_l24_sp)"
   ]
  },
  {
   "cell_type": "code",
   "execution_count": 107,
   "id": "8ea61e4c-92db-49d6-a25e-b472c22d1589",
   "metadata": {
    "tags": []
   },
   "outputs": [
    {
     "data": {
      "text/plain": [
       "class      : RasterStack \n",
       "dimensions : 259, 415, 107485, 7  (nrow, ncol, ncell, nlayers)\n",
       "resolution : 1000, 1000  (x, y)\n",
       "extent     : -1631530, -1216530, 1568650, 1827650  (xmin, xmax, ymin, ymax)\n",
       "crs        : +proj=cea +lat_ts=30 +lon_0=0 +x_0=0 +y_0=0 +datum=WGS84 +units=m +no_defs \n",
       "names      : status,  pa_id, wwfbiom, wwfecoreg,    UID,    pft, region \n",
       "min values :      0, 352673,       1,         1,     29,      0,      0 \n",
       "max values :      1, 352673,       1,         1,  64441,     11,      4 \n"
      ]
     },
     "metadata": {},
     "output_type": "display_data"
    }
   ],
   "source": [
    "mras"
   ]
  },
  {
   "cell_type": "code",
   "execution_count": 69,
   "id": "2daab157-4275-4e11-a4b9-1f675cd8b025",
   "metadata": {
    "tags": []
   },
   "outputs": [
    {
     "data": {
      "text/html": [
       "<style>\n",
       ".list-inline {list-style: none; margin:0; padding: 0}\n",
       ".list-inline>li {display: inline-block}\n",
       ".list-inline>li:not(:last-child)::after {content: \"\\00b7\"; padding: 0 .5ex}\n",
       "</style>\n",
       "<ol class=list-inline><li>4042924</li><li>8</li></ol>\n"
      ],
      "text/latex": [
       "\\begin{enumerate*}\n",
       "\\item 4042924\n",
       "\\item 8\n",
       "\\end{enumerate*}\n"
      ],
      "text/markdown": [
       "1. 4042924\n",
       "2. 8\n",
       "\n",
       "\n"
      ],
      "text/plain": [
       "[1] 4042924       8"
      ]
     },
     "metadata": {},
     "output_type": "display_data"
    }
   ],
   "source": [
    "matched_gedi%>%dim()\n"
   ]
  },
  {
   "cell_type": "code",
   "execution_count": 68,
   "id": "ca086659-9bb0-4cff-b057-486bf30b95bb",
   "metadata": {
    "tags": []
   },
   "outputs": [
    {
     "data": {
      "text/html": [
       "<style>\n",
       ".list-inline {list-style: none; margin:0; padding: 0}\n",
       ".list-inline>li {display: inline-block}\n",
       ".list-inline>li:not(:last-child)::after {content: \"\\00b7\"; padding: 0 .5ex}\n",
       "</style>\n",
       "<ol class=list-inline><li>4042924</li><li>15</li></ol>\n"
      ],
      "text/latex": [
       "\\begin{enumerate*}\n",
       "\\item 4042924\n",
       "\\item 15\n",
       "\\end{enumerate*}\n"
      ],
      "text/markdown": [
       "1. 4042924\n",
       "2. 15\n",
       "\n",
       "\n"
      ],
      "text/plain": [
       "[1] 4042924      15"
      ]
     },
     "metadata": {},
     "output_type": "display_data"
    }
   ],
   "source": [
    "gedi_l24_sp%>%dim()"
   ]
  },
  {
   "cell_type": "code",
   "execution_count": 81,
   "id": "17b74666-851d-4226-a469-ef39d08346f2",
   "metadata": {
    "tags": []
   },
   "outputs": [
    {
     "data": {
      "text/html": [
       "<style>\n",
       ".list-inline {list-style: none; margin:0; padding: 0}\n",
       ".list-inline>li {display: inline-block}\n",
       ".list-inline>li:not(:last-child)::after {content: \"\\00b7\"; padding: 0 .5ex}\n",
       "</style>\n",
       "<ol class=list-inline><li>'SEN_pa_352642_matching_results_wk24.RDS'</li><li>'SEN_pa_352673_matching_results_wk24.RDS'</li></ol>\n"
      ],
      "text/latex": [
       "\\begin{enumerate*}\n",
       "\\item 'SEN\\_pa\\_352642\\_matching\\_results\\_wk24.RDS'\n",
       "\\item 'SEN\\_pa\\_352673\\_matching\\_results\\_wk24.RDS'\n",
       "\\end{enumerate*}\n"
      ],
      "text/markdown": [
       "1. 'SEN_pa_352642_matching_results_wk24.RDS'\n",
       "2. 'SEN_pa_352673_matching_results_wk24.RDS'\n",
       "\n",
       "\n"
      ],
      "text/plain": [
       "[1] \"SEN_pa_352642_matching_results_wk24.RDS\"\n",
       "[2] \"SEN_pa_352673_matching_results_wk24.RDS\""
      ]
     },
     "metadata": {},
     "output_type": "display_data"
    }
   ],
   "source": [
    "sub"
   ]
  },
  {
   "cell_type": "code",
   "execution_count": 112,
   "id": "636d17ba-bd60-492f-acfd-179767fd1f3b",
   "metadata": {
    "tags": []
   },
   "outputs": [
    {
     "data": {
      "text/html": [
       "<style>\n",
       ".list-inline {list-style: none; margin:0; padding: 0}\n",
       ".list-inline>li {display: inline-block}\n",
       ".list-inline>li:not(:last-child)::after {content: \"\\00b7\"; padding: 0 .5ex}\n",
       "</style>\n",
       "<ol class=list-inline><li>'/projects/GEDI_PA/Matching_Layers/SEN/SEN_Tiles//N12.30728831742391W-13.52951992770953.geojson_L2A.gpkg'</li><li>'/projects/GEDI_PA/Matching_Layers/SEN/SEN_Tiles//N13.30728831742391W-13.52951992770953.geojson_L2A.gpkg'</li></ol>\n"
      ],
      "text/latex": [
       "\\begin{enumerate*}\n",
       "\\item '/projects/GEDI\\_PA/Matching\\_Layers/SEN/SEN\\_Tiles//N12.30728831742391W-13.52951992770953.geojson\\_L2A.gpkg'\n",
       "\\item '/projects/GEDI\\_PA/Matching\\_Layers/SEN/SEN\\_Tiles//N13.30728831742391W-13.52951992770953.geojson\\_L2A.gpkg'\n",
       "\\end{enumerate*}\n"
      ],
      "text/markdown": [
       "1. '/projects/GEDI_PA/Matching_Layers/SEN/SEN_Tiles//N12.30728831742391W-13.52951992770953.geojson_L2A.gpkg'\n",
       "2. '/projects/GEDI_PA/Matching_Layers/SEN/SEN_Tiles//N13.30728831742391W-13.52951992770953.geojson_L2A.gpkg'\n",
       "\n",
       "\n"
      ],
      "text/plain": [
       "[1] \"/projects/GEDI_PA/Matching_Layers/SEN/SEN_Tiles//N12.30728831742391W-13.52951992770953.geojson_L2A.gpkg\"\n",
       "[2] \"/projects/GEDI_PA/Matching_Layers/SEN/SEN_Tiles//N13.30728831742391W-13.52951992770953.geojson_L2A.gpkg\""
      ]
     },
     "metadata": {},
     "output_type": "display_data"
    }
   ],
   "source": [
    "list.files(path=f.path, pattern=\"L2A\", all.files=TRUE, full.names=TRUE)[c(4,11)]"
   ]
  },
  {
   "cell_type": "code",
   "execution_count": 110,
   "id": "e41381b0-1d39-4c04-9f47-c3137c545271",
   "metadata": {
    "tags": []
   },
   "outputs": [
    {
     "data": {
      "text/html": [
       "<style>\n",
       ".list-inline {list-style: none; margin:0; padding: 0}\n",
       ".list-inline>li {display: inline-block}\n",
       ".list-inline>li:not(:last-child)::after {content: \"\\00b7\"; padding: 0 .5ex}\n",
       "</style>\n",
       "<ol class=list-inline><li>1</li><li>2</li></ol>\n"
      ],
      "text/latex": [
       "\\begin{enumerate*}\n",
       "\\item 1\n",
       "\\item 2\n",
       "\\end{enumerate*}\n"
      ],
      "text/markdown": [
       "1. 1\n",
       "2. 2\n",
       "\n",
       "\n"
      ],
      "text/plain": [
       "[1] 1 2"
      ]
     },
     "metadata": {},
     "output_type": "display_data"
    }
   ],
   "source": [
    "seq(length(all_gedil2_f))"
   ]
  },
  {
   "cell_type": "code",
   "execution_count": 114,
   "id": "a250240d-b87d-4c62-8830-428e34ca7811",
   "metadata": {
    "tags": []
   },
   "outputs": [
    {
     "data": {
      "text/html": [
       "<style>\n",
       ".list-inline {list-style: none; margin:0; padding: 0}\n",
       ".list-inline>li {display: inline-block}\n",
       ".list-inline>li:not(:last-child)::after {content: \"\\00b7\"; padding: 0 .5ex}\n",
       "</style>\n",
       "<ol class=list-inline><li>'/projects/GEDI_PA/Matching_Layers/SEN/SEN_Tiles//N12.30728831742391W-12.52951992770953.geojson_L2A.gpkg'</li><li>'/projects/GEDI_PA/Matching_Layers/SEN/SEN_Tiles//N12.30728831742391W-13.52951992770953.geojson_L2A.gpkg'</li><li>'/projects/GEDI_PA/Matching_Layers/SEN/SEN_Tiles//N13.30728831742391W-13.52951992770953.geojson_L2A.gpkg'</li></ol>\n"
      ],
      "text/latex": [
       "\\begin{enumerate*}\n",
       "\\item '/projects/GEDI\\_PA/Matching\\_Layers/SEN/SEN\\_Tiles//N12.30728831742391W-12.52951992770953.geojson\\_L2A.gpkg'\n",
       "\\item '/projects/GEDI\\_PA/Matching\\_Layers/SEN/SEN\\_Tiles//N12.30728831742391W-13.52951992770953.geojson\\_L2A.gpkg'\n",
       "\\item '/projects/GEDI\\_PA/Matching\\_Layers/SEN/SEN\\_Tiles//N13.30728831742391W-13.52951992770953.geojson\\_L2A.gpkg'\n",
       "\\end{enumerate*}\n"
      ],
      "text/markdown": [
       "1. '/projects/GEDI_PA/Matching_Layers/SEN/SEN_Tiles//N12.30728831742391W-12.52951992770953.geojson_L2A.gpkg'\n",
       "2. '/projects/GEDI_PA/Matching_Layers/SEN/SEN_Tiles//N12.30728831742391W-13.52951992770953.geojson_L2A.gpkg'\n",
       "3. '/projects/GEDI_PA/Matching_Layers/SEN/SEN_Tiles//N13.30728831742391W-13.52951992770953.geojson_L2A.gpkg'\n",
       "\n",
       "\n"
      ],
      "text/plain": [
       "[1] \"/projects/GEDI_PA/Matching_Layers/SEN/SEN_Tiles//N12.30728831742391W-12.52951992770953.geojson_L2A.gpkg\"\n",
       "[2] \"/projects/GEDI_PA/Matching_Layers/SEN/SEN_Tiles//N12.30728831742391W-13.52951992770953.geojson_L2A.gpkg\"\n",
       "[3] \"/projects/GEDI_PA/Matching_Layers/SEN/SEN_Tiles//N13.30728831742391W-13.52951992770953.geojson_L2A.gpkg\""
      ]
     },
     "metadata": {},
     "output_type": "display_data"
    }
   ],
   "source": [
    "all_gedil2_f "
   ]
  },
  {
   "cell_type": "code",
   "execution_count": 121,
   "id": "31a1f417-d1a6-41f4-9f74-5cf59b4ba2a5",
   "metadata": {
    "tags": []
   },
   "outputs": [
    {
     "data": {
      "text/html": [
       "<style>\n",
       ".list-inline {list-style: none; margin:0; padding: 0}\n",
       ".list-inline>li {display: inline-block}\n",
       ".list-inline>li:not(:last-child)::after {content: \"\\00b7\"; padding: 0 .5ex}\n",
       "</style>\n",
       "<ol class=list-inline><li>1</li><li>2</li></ol>\n"
      ],
      "text/latex": [
       "\\begin{enumerate*}\n",
       "\\item 1\n",
       "\\item 2\n",
       "\\end{enumerate*}\n"
      ],
      "text/markdown": [
       "1. 1\n",
       "2. 2\n",
       "\n",
       "\n"
      ],
      "text/plain": [
       "[1] 1 2"
      ]
     },
     "metadata": {},
     "output_type": "display_data"
    }
   ],
   "source": [
    "seq(length(all_gedil2_f))"
   ]
  },
  {
   "cell_type": "code",
   "execution_count": 120,
   "id": "0ba5da8c-2434-4a88-8e3f-ea115c83ed90",
   "metadata": {
    "tags": []
   },
   "outputs": [],
   "source": [
    "all_gedil2_f <- list.files(path=f.path, pattern=\"L2A\", all.files=TRUE, full.names=TRUE)[c(4,11)]  \n",
    "all_gedil4_f <- list.files(path=f.path, pattern=\"L4A\", all.files=TRUE, full.names=TRUE)[c(4,11)]\n"
   ]
  },
  {
   "cell_type": "code",
   "execution_count": 126,
   "id": "06b25edf-bfba-41ee-81f1-c18a5d116a3d",
   "metadata": {
    "tags": []
   },
   "outputs": [
    {
     "data": {
      "text/html": [
       "1"
      ],
      "text/latex": [
       "1"
      ],
      "text/markdown": [
       "1"
      ],
      "text/plain": [
       "[1] 1"
      ]
     },
     "metadata": {},
     "output_type": "display_data"
    }
   ],
   "source": [
    "mproc"
   ]
  },
  {
   "cell_type": "code",
   "execution_count": 16,
   "id": "b831fed4-2fcc-4b9c-84ec-6c6a85f02ccf",
   "metadata": {
    "tags": []
   },
   "outputs": [],
   "source": [
    "extract_gedi <- function(matched, mras){\n",
    "    f.path <- '~/GEDI_PA/Matching_Layers/SEN/SEN_Tiles/'\n",
    "    \n",
    "    all_gedil2_f <- list.files(path=f.path, pattern=\"L2A\", all.files=TRUE, full.names=TRUE)[1:11]  \n",
    "    all_gedil4_f <- list.files(path=f.path, pattern=\"L4A\", all.files=TRUE, full.names=TRUE)[1:11] \n",
    "        \n",
    "    registerDoParallel(cores=8)\n",
    "    ex_out <- foreach(this_csvid=seq(length(all_gedil2_f)), \n",
    "                  .combine = foreach_rbind, .packages=c('sp','magrittr', 'dplyr','tidyr','raster')) %dopar% {\n",
    "        ##add the GEDI l4a model prediction for AGB here :\n",
    "        cat(\"Readng in no. \", this_csvid,\"csv of \", length(all_gedil2_f),\"csvs for iso3\",iso3,\"\\n\")\n",
    "\n",
    "    for (this_gedi4 in all_gedil4_f[this_csvid]){\n",
    "            gedil4_f <- as.data.frame(st_read(this_gedi4))}\n",
    "    for (this_gedi2 in all_gedil2_f[this_csvid]){\n",
    "            gedil2_f <- as.data.frame(st_read(this_gedi2))}\n",
    "            if (nrow(gedil4_f) < 1){   #is.na(gedi_l4) || \n",
    "              cat(\"error\")\n",
    "              gedi_l24 <- gedil2_f\n",
    "              gedi_l24$agbd <- NA\n",
    "              gedi_l24$agbd_se <- NA\n",
    "              gedi_l24$agbd_t <- NA\n",
    "              gedi_l24$agbd_t_se <- NA\n",
    "            } else {\n",
    "              gedi_l4_sub <- gedil4_f %>%\n",
    "                dplyr::select(shot_number, agbd, agbd_se, agbd_t, agbd_t_se)\n",
    "              gedi_l24 <- inner_join(gedil2_f, gedi_l4_sub, by=\"shot_number\")\n",
    "\n",
    "            }\n",
    "\n",
    "        print(dim(gedi_l24))\n",
    "        iso_matched_gedi_df <- data.frame()\n",
    "        if(nrow(gedi_l24)>0){\n",
    "            gedi_l24_sp <- gedi_l24 %>% \n",
    "                SpatialPointsDataFrame(coords=.[,c(\"lon_lowestmode\",\"lat_lowestmode\")],\n",
    "                                     proj4string=CRS(\"+init=epsg:4326\"), data=.) %>%spTransform(., CRS(\"+init=epsg:6933\"))\n",
    "\n",
    "            matched_gedi <- raster::extract(mras,gedi_l24_sp, df=TRUE)\n",
    "            matched_gedi_metrics <- cbind(matched_gedi,gedi_l24_sp@data)\n",
    "            matched_gedi_metrics_filtered <- matched_gedi_metrics %>% dplyr::filter(!is.na(status)) %>% \n",
    "              convertFactor(matched0 = matched,exgedi = .) \n",
    "\n",
    "            iso_matched_gedi_df <- rbind(matched_gedi_metrics_filtered,iso_matched_gedi_df)\n",
    "            print(dim(iso_matched_gedi_df))\n",
    "        }\n",
    "\n",
    "        return(iso_matched_gedi_df)\n",
    "}\n",
    "    \n",
    "    stopImplicitCluster()\n",
    "    cat(\"Done GEDI for no. \",grep(unique(matched$pa_id), matched_PAs),\"pa out of\", length(matched_PAs),\"\\n\")\n",
    "    return(ex_out)\n",
    "    \n",
    "}       "
   ]
  },
  {
   "cell_type": "code",
   "execution_count": 143,
   "id": "8ccab17f-e125-4b42-8cd2-8052d2359445",
   "metadata": {
    "tags": []
   },
   "outputs": [
    {
     "data": {
      "text/html": [
       "<style>\n",
       ".list-inline {list-style: none; margin:0; padding: 0}\n",
       ".list-inline>li {display: inline-block}\n",
       ".list-inline>li:not(:last-child)::after {content: \"\\00b7\"; padding: 0 .5ex}\n",
       "</style>\n",
       "<ol class=list-inline><li>'SEN_pa_352642_matching_results_wk24.RDS'</li><li>'SEN_pa_352673_matching_results_wk24.RDS'</li></ol>\n"
      ],
      "text/latex": [
       "\\begin{enumerate*}\n",
       "\\item 'SEN\\_pa\\_352642\\_matching\\_results\\_wk24.RDS'\n",
       "\\item 'SEN\\_pa\\_352673\\_matching\\_results\\_wk24.RDS'\n",
       "\\end{enumerate*}\n"
      ],
      "text/markdown": [
       "1. 'SEN_pa_352642_matching_results_wk24.RDS'\n",
       "2. 'SEN_pa_352673_matching_results_wk24.RDS'\n",
       "\n",
       "\n"
      ],
      "text/plain": [
       "[1] \"SEN_pa_352642_matching_results_wk24.RDS\"\n",
       "[2] \"SEN_pa_352673_matching_results_wk24.RDS\""
      ]
     },
     "metadata": {},
     "output_type": "display_data"
    }
   ],
   "source": [
    "sub"
   ]
  },
  {
   "cell_type": "code",
   "execution_count": 9,
   "id": "b5afe845-668d-4783-8fbd-3af5343fa57d",
   "metadata": {
    "tags": []
   },
   "outputs": [],
   "source": [
    "source(\"~/GEDI_PA/matching_func-Copy1.r\")"
   ]
  },
  {
   "cell_type": "code",
   "execution_count": 33,
   "id": "d2cb8697-0e8c-4458-8d84-b8c4baaf0d2d",
   "metadata": {
    "tags": []
   },
   "outputs": [
    {
     "data": {
      "text/html": [
       "2"
      ],
      "text/latex": [
       "2"
      ],
      "text/markdown": [
       "2"
      ],
      "text/plain": [
       "[1] 2"
      ]
     },
     "metadata": {},
     "output_type": "display_data"
    },
    {
     "data": {
      "text/plain": [
       "NULL"
      ]
     },
     "metadata": {},
     "output_type": "display_data"
    },
    {
     "name": "stdout",
     "output_type": "stream",
     "text": [
      "3.691874 for extracting all PAs in SEN \n",
      "Done GEDI extraction for pa in  SEN \n"
     ]
    }
   ],
   "source": [
    "# SUB VERSION\n",
    "mproc=2\n",
    "registerDoParallel(cores=round(mproc))\n",
    "getDoParWorkers()\n",
    "startTime <- Sys.time()\n",
    "foreach(this_rds=sub, .combine = foreach_rbind, .packages=c('sp','magrittr', 'dplyr','tidyr','raster')) %dopar% {\n",
    "\n",
    "    cat(\"Extracting for no. \", match(this_rds,sub),\"pa out of\", length(sub),\"\\n\")\n",
    "    if(nchar(iso3)>3){\n",
    "        id_pa <- this_rds %>% str_split(\"_\") %>% unlist %>% .[4]  \n",
    "    } else {\n",
    "        id_pa <- this_rds %>% str_split(\"_\") %>% unlist %>% .[3]\n",
    "    }\n",
    "    print(id_pa)\n",
    "    matched <- readRDS(paste(\"~/GEDI_PA/Matching_Layers/SEN/WDPA_matching_results/SEN_wk24/\",iso3,\"_pa_\",id_pa,\"_matching_results_wk24.RDS\", sep=\"\"))\n",
    "    if (is.null(matched)==TRUE  | nrow(matched)==0) {\n",
    "        cat(\"Matched result is null for PA\", id_pa, \"quitting...\\n\")\n",
    "    } else if (!is.null(matched)==TRUE){\n",
    "    mras  <- tryCatch(matched2ras(matched),\n",
    "                      error=function(cond){\n",
    "                        message(cond)\n",
    "                        cat(\"Matched result is likely null for country\", iso3,\"pa\", id_pa, \"dimension of the match is\", dim(matched),\"\\n\")\n",
    "                        # writeLines(\"Matched results is likely null for country\", paste(f.path,\"WDPA_log/\",iso3,\"_log_matching.txt\", sep=\"\"))\n",
    "                        return(NULL)}) #convert the macthed df to a raster stack \n",
    "    print(table(mras$status[]))\n",
    "    if(table(mras$status[])[2]==0 | table(mras$status[])[1]==0 | is.null(mras)){\n",
    "      cat(\"Rasterized results unbalanced for PA\", id_pa, \"quitting...\\n\")\n",
    "    } else {\n",
    "      startTime <- Sys.time()\n",
    "      iso_matched_gedi<- extract_gedi(matched=matched, mras = mras)#}  #run filtered csvs on mras for extarction\n",
    "\n",
    "      tElapsed <- Sys.time()-startTime\n",
    "      cat(tElapsed, \"for extracting all PAs in\", iso3,\"\\n\")\n",
    "      cat(\"Done GEDI for no. \",grep(unique(matched$pa_id), matched_PAs),\"pa out of\", length(matched_PAs),\"\\n\")\n",
    "\n",
    "      iso_matched_gedi <-  iso_matched_gedi %>%\n",
    "#         #ASK AMBER ABOUT OG COLUMNS\n",
    "#         #THIS NEEDS TO BE ADJUSTED!!!!\n",
    "        dplyr::select(\"pa_id\",\"status\",\n",
    "                      \"wwfbiom\",\"wwfecoreg\",\"shot_number\",\"lon_lowestmode\", \n",
    "                      \"lat_lowestmode\", \"lon_lowestmode\", \n",
    "                      \"lat_lowestmode\",\"rh25\", \"rh50\", \"rh75\",\"rh90\", \"rh98\")  #write to individual country folder\n",
    "      if (length(unique(iso_matched_gedi$wwfbiom)) >1){\n",
    "        pabiome <- iso_matched_gedi$wwfbiom %>% unique() %>% gsub('\\\\b(\\\\pL)\\\\pL{2,}|.','\\\\U\\\\1',.,perl = TRUE)%>% str_c( collapse = \"+\")\n",
    "      } else if (length(unique(iso_matched_gedi$wwfbiom))==1){\n",
    "        pabiome <- iso_matched_gedi$wwfbiom %>% unique() %>% gsub('\\\\b(\\\\pL)\\\\pL{2,}|.','\\\\U\\\\1',.,perl = TRUE)\n",
    "      } else {\n",
    "        pabiome <- iso_matched_gedi$wwfbiom %>% unique()\n",
    "      }\n",
    "      # papaddd <- unique(iso_matched_gedi$PADDD) %>% getmode()\n",
    "      continent <- unique(iso_matched_gedi$region) %>% getmode()\n",
    "      print(paste('output df',dim(iso_matched_gedi)))\n",
    "\n",
    "      dir.create(file.path(paste(\"~/GEDI_PA/Matching_Layers/SEN/WDPA_GEDI_extract4/\",iso3,\"_wk\",gediwk,\"/\",sep=\"\")))\n",
    "      saveRDS(iso_matched_gedi, file=paste(\"~/GEDI_PA/Matching_Layers/SEN/WDPA_GEDI_extract4/SEN_wk24/\",iso3,\"_pa_\", id_pa,\"_gedi_wk_\",gediwk,\"_conti_\",\"biome_\",pabiome,\".RDS\", sep=\"\"))\n",
    "      cat(id_pa,\"in\",iso3,\"results is written to dir\\n\")\n",
    "      write.csv(iso_matched_gedi, file=paste(\"~/GEDI_PA/Matching_Layers/SEN/WDPA_GEDI_extract4/SEN_wk24/\",\"SEN_pa_\", id_pa,\"_iso_matched_gedi_sub_wk_\",gediwk,\".csv\", sep=\"\"))\n",
    "    }\n",
    "    \n",
    "    }\n",
    "    \n",
    "    return(NULL)\n",
    "}\n",
    "stopImplicitCluster()\n",
    "tElapsed <- Sys.time()-startTime\n",
    "cat(tElapsed, \"for extracting all PAs in\", iso3,\"\\n\")\n",
    "cat(\"Done GEDI extraction for pa in \",iso3,\"\\n\")    \n",
    "    \n"
   ]
  },
  {
   "cell_type": "code",
   "execution_count": 17,
   "id": "f7223929-ce12-4406-a79c-9c55ff4e86cd",
   "metadata": {
    "tags": []
   },
   "outputs": [
    {
     "name": "stderr",
     "output_type": "stream",
     "text": [
      "\n",
      "Attaching package: ‘progressr’\n",
      "\n",
      "\n",
      "The following object is masked from ‘package:caret’:\n",
      "\n",
      "    progress\n",
      "\n",
      "\n"
     ]
    }
   ],
   "source": [
    "library(progressr)"
   ]
  },
  {
   "cell_type": "code",
   "execution_count": null,
   "id": "9f4fe4d7-ecc1-48e6-ab46-f15d3e037a55",
   "metadata": {
    "tags": []
   },
   "outputs": [
    {
     "data": {
      "text/html": [
       "3"
      ],
      "text/latex": [
       "3"
      ],
      "text/markdown": [
       "3"
      ],
      "text/plain": [
       "[1] 3"
      ]
     },
     "metadata": {},
     "output_type": "display_data"
    }
   ],
   "source": [
    "# MATCHED_PA VERSION\n",
    "\n",
    "mproc=3\n",
    "registerDoParallel(cores=round(mproc))\n",
    "getDoParWorkers()\n",
    "startTime <- Sys.time()\n",
    "\n",
    "with_progress(\n",
    "foreach(this_rds=matched_PAs, .combine = foreach_rbind, .packages=c('sp','magrittr', 'dplyr','tidyr','raster')) %dopar% {\n",
    "\n",
    "    cat(\"Extracting for no. \", match(this_rds,matched_PAs),\"pa out of\", length(matched_PAs),\"\\n\")\n",
    "    # flush.console()\n",
    "    if(nchar(iso3)>3){\n",
    "        id_pa <- this_rds %>% str_split(\"_\") %>% unlist %>% .[4]  \n",
    "    } else {\n",
    "        id_pa <- this_rds %>% str_split(\"_\") %>% unlist %>% .[3]\n",
    "    }\n",
    "    print(id_pa)\n",
    "    matched <- readRDS(paste(\"~/GEDI_PA/Matching_Layers/SEN/WDPA_matching_results/SEN_wk24/\",iso3,\"_pa_\",id_pa,\"_matching_results_wk24.RDS\", sep=\"\"))\n",
    "    if (is.null(matched)==TRUE  | nrow(matched)==0) {\n",
    "        cat(\"Matched result is null for PA\", id_pa, \"quitting...\\n\")\n",
    "    } else if (!is.null(matched)==TRUE){\n",
    "    mras  <- tryCatch(matched2ras(matched),\n",
    "                      error=function(cond){\n",
    "                        message(cond)\n",
    "                        cat(\"Matched result is likely null for country\", iso3,\"pa\", id_pa, \"dimension of the match is\", dim(matched),\"\\n\")\n",
    "                        # writeLines(\"Matched results is likely null for country\", paste(f.path,\"WDPA_log/\",iso3,\"_log_matching.txt\", sep=\"\"))\n",
    "                        return(NULL)}) #convert the macthed df to a raster stack \n",
    "    print(table(mras$status[]))\n",
    "    if(table(mras$status[])[2]==0 | table(mras$status[])[1]==0 | is.null(mras)){\n",
    "      cat(\"Rasterized results unbalanced for PA\", id_pa, \"quitting...\\n\")\n",
    "    } else {\n",
    "      startTime <- Sys.time()\n",
    "      iso_matched_gedi<- extract_gedi(matched=matched, mras = mras)#}  #run filtered csvs on mras for extarction\n",
    "\n",
    "      tElapsed <- Sys.time()-startTime\n",
    "      cat(tElapsed, \"for extracting all PAs in\", iso3,\"\\n\")\n",
    "      cat(\"Done GEDI for no. \",grep(unique(matched$pa_id), matched_PAs),\"pa out of\", length(matched_PAs),\"\\n\")\n",
    "\n",
    "      iso_matched_gedi <-  iso_matched_gedi %>%\n",
    "#         #ASK AMBER ABOUT OG COLUMNS\n",
    "#         #THIS NEEDS TO BE ADJUSTED!!!!\n",
    "        dplyr::select(\"pa_id\",\"status\",\n",
    "                      \"wwfbiom\",\"wwfecoreg\",\"shot_number\",\"lon_lowestmode\", \n",
    "                      \"lat_lowestmode\", \"lon_lowestmode\", \n",
    "                      \"lat_lowestmode\",\"rh25\", \"rh50\", \"rh75\",\"rh90\", \"rh98\")  #write to individual country folder\n",
    "      if (length(unique(iso_matched_gedi$wwfbiom)) >1){\n",
    "        pabiome <- iso_matched_gedi$wwfbiom %>% unique() %>% gsub('\\\\b(\\\\pL)\\\\pL{2,}|.','\\\\U\\\\1',.,perl = TRUE)%>% str_c( collapse = \"+\")\n",
    "      } else if (length(unique(iso_matched_gedi$wwfbiom))==1){\n",
    "        pabiome <- iso_matched_gedi$wwfbiom %>% unique() %>% gsub('\\\\b(\\\\pL)\\\\pL{2,}|.','\\\\U\\\\1',.,perl = TRUE)\n",
    "      } else {\n",
    "        pabiome <- iso_matched_gedi$wwfbiom %>% unique()\n",
    "      }\n",
    "      # papaddd <- unique(iso_matched_gedi$PADDD) %>% getmode()\n",
    "      continent <- unique(iso_matched_gedi$region) %>% getmode()\n",
    "      print(paste('output df',dim(iso_matched_gedi)))\n",
    "\n",
    "      dir.create(file.path(paste(\"~/GEDI_PA/Matching_Layers/SEN/WDPA_GEDI_extract4/\",iso3,\"_wk\",gediwk,\"/\",sep=\"\")))\n",
    "      saveRDS(iso_matched_gedi, file=paste(\"~/GEDI_PA/Matching_Layers/SEN/WDPA_GEDI_extract4/SEN_wk24/\",iso3,\"_pa_\", id_pa,\"_gedi_wk_\",gediwk,\"_conti_\",\"biome_\",pabiome,\".RDS\", sep=\"\"))\n",
    "      write.csv(iso_matched_gedi, file=paste(\"~/GEDI_PA/Matching_Layers/SEN/WDPA_GEDI_extract4/SEN_wk24/\",\"SEN_pa_\", id_pa,\"_iso_matched_gedi_sub_wk_\",gediwk,\".csv\", sep=\"\"))\n",
    "      cat(id_pa,\"in\",iso3,\"results is written to dir\\n\")\n",
    "    }\n",
    "    \n",
    "    }\n",
    "\n",
    "    return(NULL)\n",
    "})\n",
    "\n",
    "\n",
    "stopImplicitCluster()\n",
    "tElapsed <- Sys.time()-startTime\n",
    "cat(tElapsed, \"for extracting all PAs in\", iso3,\"\\n\")\n",
    "cat(\"Done GEDI extraction for pa in \",iso3,\"\\n\")\n"
   ]
  },
  {
   "cell_type": "code",
   "execution_count": 45,
   "id": "f609f032-647a-4d9f-bcfb-c897c9218fb5",
   "metadata": {
    "tags": []
   },
   "outputs": [
    {
     "data": {
      "text/html": [
       "60"
      ],
      "text/latex": [
       "60"
      ],
      "text/markdown": [
       "60"
      ],
      "text/plain": [
       "[1] 60"
      ]
     },
     "metadata": {},
     "output_type": "display_data"
    }
   ],
   "source": [
    "length(list.files(\"~/GEDI_PA/Matching_Layers/SEN/WDPA_GEDI_extract4/SEN_wk24\",pattern = \".csv\"))"
   ]
  },
  {
   "cell_type": "markdown",
   "id": "dd82e5b6-35e3-40a4-9ddc-10d067e1746d",
   "metadata": {},
   "source": [
    "#########not using the below anymore###########"
   ]
  },
  {
   "cell_type": "code",
   "execution_count": 34,
   "id": "e8994b03-82e1-4c0c-bc8b-29de560d5f8a",
   "metadata": {
    "tags": []
   },
   "outputs": [
    {
     "data": {
      "text/html": [
       "<style>\n",
       ".list-inline {list-style: none; margin:0; padding: 0}\n",
       ".list-inline>li {display: inline-block}\n",
       ".list-inline>li:not(:last-child)::after {content: \"\\00b7\"; padding: 0 .5ex}\n",
       "</style>\n",
       "<ol class=list-inline><li>20398</li><li>13</li></ol>\n"
      ],
      "text/latex": [
       "\\begin{enumerate*}\n",
       "\\item 20398\n",
       "\\item 13\n",
       "\\end{enumerate*}\n"
      ],
      "text/markdown": [
       "1. 20398\n",
       "2. 13\n",
       "\n",
       "\n"
      ],
      "text/plain": [
       "[1] 20398    13"
      ]
     },
     "metadata": {},
     "output_type": "display_data"
    }
   ],
   "source": [
    "fileA<-read.csv(\"~/GEDI_PA/Matching_Layers/SEN/WDPA_GEDI_extract4/SEN_wk24/SEN_pa_352673_iso_matched_gedi_sub_wk_24.csv\")\n",
    "dim(fileA)"
   ]
  },
  {
   "cell_type": "code",
   "execution_count": 35,
   "id": "a674a5b0-8346-41b8-a3e4-c86c8abe71af",
   "metadata": {
    "tags": []
   },
   "outputs": [
    {
     "data": {
      "text/html": [
       "<style>\n",
       ".list-inline {list-style: none; margin:0; padding: 0}\n",
       ".list-inline>li {display: inline-block}\n",
       ".list-inline>li:not(:last-child)::after {content: \"\\00b7\"; padding: 0 .5ex}\n",
       "</style>\n",
       "<ol class=list-inline><li>73248</li><li>13</li></ol>\n"
      ],
      "text/latex": [
       "\\begin{enumerate*}\n",
       "\\item 73248\n",
       "\\item 13\n",
       "\\end{enumerate*}\n"
      ],
      "text/markdown": [
       "1. 73248\n",
       "2. 13\n",
       "\n",
       "\n"
      ],
      "text/plain": [
       "[1] 73248    13"
      ]
     },
     "metadata": {},
     "output_type": "display_data"
    }
   ],
   "source": [
    "fileB<-read.csv(\"~/GEDI_PA/Matching_Layers/SEN/WDPA_GEDI_extract4/SEN_wk24/SEN_pa_352642_iso_matched_gedi_sub_wk_24.csv\")\n",
    "dim(fileB)"
   ]
  },
  {
   "cell_type": "code",
   "execution_count": 141,
   "id": "23bb5198-4560-4160-84ed-bc794dc2790e",
   "metadata": {
    "tags": []
   },
   "outputs": [
    {
     "data": {
      "text/html": [
       "1"
      ],
      "text/latex": [
       "1"
      ],
      "text/markdown": [
       "1"
      ],
      "text/plain": [
       "[1] 1"
      ]
     },
     "metadata": {},
     "output_type": "display_data"
    },
    {
     "name": "stdout",
     "output_type": "stream",
     "text": [
      "Extracting for no.  1 pa out of 2 \n",
      "SEN converting the matched csv to a raster stack for extraction\n",
      "Done GEDI for no.  43 pa out of 107 \n",
      "40.98683 for extracting all PAs in SEN \n",
      "352642 in SEN results is written to dir\n",
      "Extracting for no.  2 pa out of 2 \n",
      "SEN converting the matched csv to a raster stack for extraction\n",
      "Done GEDI for no.  73 pa out of 107 \n",
      "39.25359 for extracting all PAs in SEN \n",
      "352673 in SEN results is written to dir\n"
     ]
    },
    {
     "data": {
      "text/plain": [
       "NULL"
      ]
     },
     "metadata": {},
     "output_type": "display_data"
    },
    {
     "name": "stdout",
     "output_type": "stream",
     "text": [
      "1.515823 for extracting all PAs in SEN \n",
      "Done GEDI extraction for pa in  SEN \n"
     ]
    }
   ],
   "source": [
    "########***not used***##########\n",
    "#SUB VERSION UPDATING FOR ALL RDS\n",
    "#Pull the CRS from one of the GEDI files so results use \n",
    "#Reprojection is clunky and needs to be updated, and overall the projections of above layers do not match the WGS84 projection\n",
    "# tile<- st_read(\"~/shared-buckets/abarenblitt/SEN_Tiles/N14.30728831742391W-13.52951992770953.geojson\")\n",
    "#WORKS THROUGH MRAS\n",
    "registerDoParallel(cores=round(mproc))\n",
    "getDoParWorkers()\n",
    "startTime <- Sys.time()\n",
    "\n",
    "foreach(this_rds=sub, .combine = foreach_rbind, .packages=c('sp','magrittr', 'dplyr','tidyr','raster')) %dopar% {\n",
    "  cat(\"Extracting for no. \", match(this_rds,sub),\"pa out of\", length(sub),\"\\n\")\n",
    "  if(nchar(iso3)>3){\n",
    "    id_pa <- this_rds %>% str_split(\"_\") %>% unlist %>% .[4]  \n",
    "  } else {\n",
    "    id_pa <- this_rds %>% str_split(\"_\") %>% unlist %>% .[3]\n",
    "  }\n",
    "  matched <- readRDS(paste(\"~/GEDI_PA/Matching_Layers/SEN/WDPA_matching_results/SEN_wk24/\",iso3,\"_pa_\",id_pa,\"_matching_results_wk24.RDS\", sep=\"\"))\n",
    "  if (is.null(matched)==TRUE  | nrow(matched)==0) {\n",
    "    cat(\"Matched result is null for PA\", id_pa, \"quitting...\\n\")\n",
    "  } else if (!is.null(matched)==TRUE){\n",
    "    mras  <- tryCatch(matched2ras(matched),\n",
    "                      error=function(cond){\n",
    "                        message(cond)\n",
    "                        cat(\"Matched result is likely null for country\", iso3,\"pa\", id_pa, \"dimension of the match is\", dim(matched),\"\\n\")\n",
    "                        # writeLines(\"Matched results is likely null for country\", paste(f.path,\"WDPA_log/\",iso3,\"_log_matching.txt\", sep=\"\"))\n",
    "                        return(NULL)}) #convert the macthed df to a raster stack \n",
    "    if(table(mras$status[])[2]==0 | table(mras$status[])[1]==0 | is.null(mras)){\n",
    "      cat(\"Rasterized results unbalanced for PA\", id_pa, \"quitting...\\n\")\n",
    "    } else {\n",
    "      startTime <- Sys.time()\n",
    "      iso_matched_gedi<- extract_gedi(matched=matched, mras = mras)#}  #run filtered csvs on mras for extarction\n",
    "      tElapsed <- Sys.time()-startTime\n",
    "\n",
    "      cat(tElapsed, \"for extracting all PAs in\", iso3,\"\\n\")\n",
    "      iso_matched_gedi_sub <- iso_matched_gedi %>%\n",
    "#         #ASK AMBER ABOUT OG COLUMNS\n",
    "#         #THIS NEEDS TO BE ADJUSTED!!!!\n",
    "        dplyr::select(\"pa_id\",\"status\",\n",
    "                      \"wwfbiom\",\"wwfecoreg\",\"shot_number\",\"lon_lowestmode\", \n",
    "                      \"lat_lowestmode\", \"lon_lowestmode\", \n",
    "                      \"lat_lowestmode\",\"rh25\", \"rh50\", \"rh75\",\"rh90\", \"rh98\")  #write to individual country folder\n",
    "      if (length(unique(iso_matched_gedi$wwfbiom)) >1){\n",
    "        pabiome <- iso_matched_gedi$wwfbiom %>% unique() %>% gsub('\\\\b(\\\\pL)\\\\pL{2,}|.','\\\\U\\\\1',.,perl = TRUE)%>% str_c( collapse = \"+\")\n",
    "      } else if (length(unique(iso_matched_gedi$wwfbiom))==1){\n",
    "        pabiome <- iso_matched_gedi$wwfbiom %>% unique() %>% gsub('\\\\b(\\\\pL)\\\\pL{2,}|.','\\\\U\\\\1',.,perl = TRUE)\n",
    "      } else {\n",
    "        pabiome <- iso_matched_gedi$wwfbiom %>% unique()\n",
    "      }\n",
    "      # papaddd <- unique(iso_matched_gedi$PADDD) %>% getmode()\n",
    "      continent <- unique(iso_matched_gedi$region) %>% getmode()\n",
    "\n",
    "      dir.create(file.path(paste(\"~/GEDI_PA/Matching_Layers/SEN/WDPA_GEDI_extract4/\",iso3,\"_wk\",gediwk,\"/\",sep=\"\")))\n",
    "      saveRDS(iso_matched_gedi, file=paste(\"~/GEDI_PA/Matching_Layers/SEN/WDPA_GEDI_extract4/SEN_wk24/\",iso3,\"_pa_\", id_pa,\"_gedi_wk_\",gediwk,\"_conti_\",\"biome_\",pabiome,\".RDS\", sep=\"\"))\n",
    "      cat(id_pa,\"in\",iso3,\"results is written to dir\\n\")\n",
    "      write.csv(iso_matched_gedi, file=paste(\"~/GEDI_PA/Matching_Layers/SEN/WDPA_GEDI_extract4/SEN_wk24/\",\"SEN_pa_\", id_pa,\"_iso_matched_gedi_sub_wk_\",gediwk,\".csv\", sep=\"\"))\n",
    "    }\n",
    "  }\n",
    "  return(NULL)\n",
    "}\n",
    "\n",
    "stopImplicitCluster()\n",
    "tElapsed <- Sys.time()-startTime\n",
    "cat(tElapsed, \"for extracting all PAs in\", iso3,\"\\n\")\n",
    "cat(\"Done GEDI extraction for pa in \",iso3,\"\\n\")    "
   ]
  },
  {
   "cell_type": "code",
   "execution_count": 12,
   "id": "8cf42d0b-3d1d-4987-a262-ffcec43d5700",
   "metadata": {
    "tags": []
   },
   "outputs": [
    {
     "data": {
      "text/html": [
       "1"
      ],
      "text/latex": [
       "1"
      ],
      "text/markdown": [
       "1"
      ],
      "text/plain": [
       "[1] 1"
      ]
     },
     "metadata": {},
     "output_type": "display_data"
    }
   ],
   "source": [
    "#FULL VERSION UPDATING FOR ALL RDS\n",
    "#Pull the CRS from one of the GEDI files so results use \n",
    "#Reprojection is clunky and needs to be updated, and overall the projections of above layers do not match the WGS84 projection\n",
    "# tile<- st_read(\"~/shared-buckets/abarenblitt/SEN_Tiles/N14.30728831742391W-13.52951992770953.geojson\")\n",
    "#WORKS THROUGH MRAS\n",
    "registerDoParallel(cores=round(mproc))\n",
    "getDoParWorkers()\n",
    "startTime <- Sys.time()\n",
    "\n",
    "foreach(this_rds=matched_PAs, .combine = foreach_rbind, .packages=c('sp','magrittr', 'dplyr','tidyr','raster')) %dopar% {\n",
    "  cat(\"Extracting for no. \", match(this_rds,matched_PAs),\"pa out of\", length(matched_PAs),\"\\n\")\n",
    "  if(nchar(iso3)>3){\n",
    "    id_pa <- this_rds %>% str_split(\"_\") %>% unlist %>% .[4]  \n",
    "  } else {\n",
    "    id_pa <- this_rds %>% str_split(\"_\") %>% unlist %>% .[3]\n",
    "  }\n",
    "  matched <- readRDS(paste(\"~/GEDI_PA/Matching_Layers/SEN/WDPA_matching_results/SEN_wk24/\",iso3,\"_pa_\",id_pa,\"_matching_results_wk24.RDS\", sep=\"\"))\n",
    "  if (is.null(matched)==TRUE  | nrow(matched)==0) {\n",
    "    cat(\"Matched result is null for PA\", id_pa, \"quitting...\\n\")\n",
    "  } else if (!is.null(matched)==TRUE){\n",
    "    mras  <- tryCatch(matched2ras(matched),\n",
    "                      error=function(cond){\n",
    "                        message(cond)\n",
    "                        cat(\"Matched result is likely null for country\", iso3,\"pa\", id_pa, \"dimension of the match is\", dim(matched),\"\\n\")\n",
    "                        # writeLines(\"Matched results is likely null for country\", paste(f.path,\"WDPA_log/\",iso3,\"_log_matching.txt\", sep=\"\"))\n",
    "                        return(NULL)}) #convert the macthed df to a raster stack \n",
    "    if(table(mras$status[])[2]==0 | table(mras$status[])[1]==0 | is.null(mras)){\n",
    "      cat(\"Rasterized results unbalanced for PA\", id_pa, \"quitting...\\n\")\n",
    "    } else {\n",
    "      startTime <- Sys.time()\n",
    "      iso_matched_gedi<- extract_gedi(matched=matched, mras = mras)#}  #run filtered csvs on mras for extarction\n",
    "      tElapsed <- Sys.time()-startTime\n",
    "\n",
    "      cat(tElapsed, \"for extracting all PAs in\", iso3,\"\\n\")\n",
    "      iso_matched_gedi_sub <- iso_matched_gedi %>%\n",
    "#         #ASK AMBER ABOUT OG COLUMNS\n",
    "#         #THIS NEEDS TO BE ADJUSTED!!!!\n",
    "        dplyr::select(\"pa_id\",\"status\",\n",
    "                      \"wwfbiom\",\"wwfecoreg\",\"shot_number\",\"lon_lowestmode\", \n",
    "                      \"lat_lowestmode\", \"lon_lowestmode\", \n",
    "                      \"lat_lowestmode\",\"rh25\", \"rh50\", \"rh75\",\"rh90\", \"rh98\")  #write to individual country folder\n",
    "      if (length(unique(iso_matched_gedi$wwfbiom)) >1){\n",
    "        pabiome <- iso_matched_gedi$wwfbiom %>% unique() %>% gsub('\\\\b(\\\\pL)\\\\pL{2,}|.','\\\\U\\\\1',.,perl = TRUE)%>% str_c( collapse = \"+\")\n",
    "      } else if (length(unique(iso_matched_gedi$wwfbiom))==1){\n",
    "        pabiome <- iso_matched_gedi$wwfbiom %>% unique() %>% gsub('\\\\b(\\\\pL)\\\\pL{2,}|.','\\\\U\\\\1',.,perl = TRUE)\n",
    "      } else {\n",
    "        pabiome <- iso_matched_gedi$wwfbiom %>% unique()\n",
    "      }\n",
    "      # papaddd <- unique(iso_matched_gedi$PADDD) %>% getmode()\n",
    "      continent <- unique(iso_matched_gedi$region) %>% getmode()\n",
    "\n",
    "      dir.create(file.path(paste(\"~/GEDI_PA/Matching_Layers/SEN/WDPA_GEDI_extract4/\",iso3,\"_wk\",gediwk,\"/\",sep=\"\")))\n",
    "      saveRDS(iso_matched_gedi, file=paste(\"~/GEDI_PA/Matching_Layers/SEN/WDPA_GEDI_extract4/SEN_wk24/\",iso3,\"_pa_\", id_pa,\"_gedi_wk_\",gediwk,\"_conti_\",\"biome_\",pabiome,\".RDS\", sep=\"\"))\n",
    "      cat(id_pa,\"in\",iso3,\"results is written to dir\\n\")\n",
    "      write.csv(iso_matched_gedi, file=paste(\"~/GEDI_PA/Matching_Layers/SEN/WDPA_GEDI_extract4/SEN_wk24/\",\"SEN_pa_\", id_pa,\"_iso_matched_gedi_sub_wk_\",gediwk,\".csv\", sep=\"\"))\n",
    "    }\n",
    "  }\n",
    "  return(NULL)\n",
    "}\n",
    "\n",
    "stopImplicitCluster()\n",
    "tElapsed <- Sys.time()-startTime\n",
    "cat(tElapsed, \"for extracting all PAs in\", iso3,\"\\n\")\n",
    "cat(\"Done GEDI extraction for pa in \",iso3,\"\\n\")    "
   ]
  },
  {
   "cell_type": "code",
   "execution_count": 11,
   "id": "43849823-56b2-4ea2-90b3-05140e8bd30d",
   "metadata": {
    "tags": []
   },
   "outputs": [],
   "source": [
    "matched <- readRDS(paste(\"~/GEDI_PA/Matching_Layers/SEN/WDPA_matching_results/SEN_wk24/SEN_pa_2332_matching_results_wk24.RDS\", sep=\"\"))"
   ]
  },
  {
   "cell_type": "code",
   "execution_count": 12,
   "id": "9992f102-d13a-4457-88e4-98d8a5e0ae88",
   "metadata": {
    "tags": []
   },
   "outputs": [
    {
     "name": "stdout",
     "output_type": "stream",
     "text": [
      "SEN converting the matched csv to a raster stack for extraction\n"
     ]
    }
   ],
   "source": [
    " mras  <- tryCatch(matched2ras(matched),\n",
    "                      error=function(cond){\n",
    "                        message(cond)\n",
    "                        cat(\"Matched result is likely null for country\", iso3,\"pa\", id_pa, \"dimension of the match is\", dim(matched),\"\\n\")\n",
    "                        # writeLines(\"Matched results is likely null for country\", paste(f.path,\"WDPA_log/\",iso3,\"_log_matching.txt\", sep=\"\"))\n",
    "                        return(NULL)}) #convert the macthed df to a raster stack \n"
   ]
  },
  {
   "cell_type": "code",
   "execution_count": null,
   "id": "48e68ff9-7a9e-42c0-ad17-3fef7e22d083",
   "metadata": {
    "tags": []
   },
   "outputs": [],
   "source": [
    "id_pa<-2332\n",
    "matched <- readRDS(paste(\"~/GEDI_PA/Matching_Layers/SEN/WDPA_matching_results/SEN_wk24/SEN_pa_2332_matching_results_wk24.RDS\", sep=\"\"))\n",
    "  if (is.null(matched)==TRUE  | nrow(matched)==0) {\n",
    "    cat(\"Matched result is null for PA\", id_pa, \"quitting...\\n\")\n",
    "  } \n",
    "\n",
    "# else if (!is.null(matched)==TRUE){\n",
    "    mras  <- tryCatch(matched2ras(matched),\n",
    "                      error=function(cond){\n",
    "                        message(cond)\n",
    "                        cat(\"Matched result is likely null for country\", iso3,\"pa\", id_pa, \"dimension of the match is\", dim(matched),\"\\n\")\n",
    "                        writeLines(\"Matched results is likely null for country\", paste(f.path,\"WDPA_log/\",iso3,\"_log_matching.txt\", sep=\"\"))\n",
    "                        return(NULL)}) #convert the macthed df to a raster stack \n",
    "    # if(table(mras$status[])[2]==0 | table(mras$status[])[1]==0 | is.null(mras)){\n",
    "    #   cat(\"Rasterized results unbalanced for PA\", id_pa, \"quitting...\\n\")\n",
    "    # } else {\n",
    "    #   startTime <- Sys.time()\n",
    "      iso_matched_gedi<- extract_gedi(matched=matched, mras = mras)  #run filtered csvs on mras for extarction\n",
    "      # tElapsed <- Sys.time()-startTime\n",
    "\n",
    "      # cat(tElapsed, \"for extracting all PAs in\", iso3,\"\\n\")\n",
    "      iso_matched_gedi_sub <- iso_matched_gedi %>%\n",
    "        #ASK AMBER ABOUT OG COLUMNS\n",
    "        #THIS NEEDS TO BE ADJUSTED!!!!\n",
    "        dplyr::select(\"pa_id\",\"status\",\n",
    "                      \"wwfbiom\",\"wwfecoreg\",\"shot_number\",\"lon_lowestmode\", \n",
    "                      \"lat_lowestmode\", \"lon_lowestmode\", \n",
    "                      \"lat_lowestmode\",\"rh25\", \"rh50\", \"rh75\",\"rh90\", \"rh98\")  #write to individual country folder\n",
    "      # if (length(unique(iso_matched_gedi$wwfbiom)) >1){\n",
    "      #   pabiome <- iso_matched_gedi$wwfbiom %>% unique() %>% gsub('\\\\b(\\\\pL)\\\\pL{2,}|.','\\\\U\\\\1',.,perl = TRUE)%>% str_c( collapse = \"+\")\n",
    "      # } else if (length(unique(iso_matched_gedi$wwfbiom))==1){\n",
    "      #   pabiome <- iso_matched_gedi$wwfbiom %>% unique() %>% gsub('\\\\b(\\\\pL)\\\\pL{2,}|.','\\\\U\\\\1',.,perl = TRUE)\n",
    "      # } else {\n",
    "      #   pabiome <- iso_matched_gedi$wwfbiom %>% unique()\n",
    "      # }\n",
    "      # # papaddd <- unique(iso_matched_gedi$PADDD) %>% getmode()\n",
    "      # continent <- unique(iso_matched_gedi$region) %>% getmode()\n",
    "\n",
    "    #   dir.create(file.path(paste(\"~/GEDI_PA/Matching_Layers/SEN/WDPA_GEDI_extract4/\",iso3,\"_wk\",gediwk,\"/\",sep=\"\")))\n",
    "    #   saveRDS(iso_matched_gedi, file=paste(\"~/GEDI_PA/Matching_Layers/SEN/WDPA_GEDI_extract4/SEN_wk24/\",iso3,\"_pa_\", id_pa,\"_gedi_wk_\",gediwk,\"_conti_\",\"biome_\",pabiome,\".RDS\", sep=\"\"))\n",
    "    #   cat(id_pa,\"in\",iso3,\"results is written to dir\\n\")\n",
    "    #   write.csv(iso_matched_gedi, file=paste(\"~/GEDI_PA/Matching_Layers/SEN/WDPA_GEDI_extract4/SEN_wk24/\",\"SEN_pa_\", id_pa,\"_iso_matched_gedi_sub_wk_\",gediwk,\".csv\", sep=\"\"))\n",
    "    # }"
   ]
  },
  {
   "cell_type": "code",
   "execution_count": 43,
   "id": "10553d1b-b825-44c6-91da-f0f2ba8ea6f3",
   "metadata": {
    "tags": []
   },
   "outputs": [
    {
     "name": "stdout",
     "output_type": "stream",
     "text": [
      "Step 6: calculating per pa summary stats for SEN \n"
     ]
    }
   ],
   "source": [
    "#---------------STEP6: [FIGURE 4B] Calculating per pa summary stats, 1 pa per row, contain shot#/PA---------------------------- \n",
    "f.path<-\"~/GEDI_PA/Matching_Layers/SEN/\"\n",
    "gedi_paf <-list.files(paste(f.path,\"WDPA_GEDI_extract4/\",iso3,\"_wk\",gediwk,sep=\"\"), pattern=\".RDS\", full.names = TRUE)\n",
    "cat(paste(\"Step 6: calculating per pa summary stats for\", iso3,\"\\n\"))\n",
    "# if (file.exists(paste(f.path,\"WDPA_GEDI_extract3/pa_stats/\",iso3,\"_pa_stats_summary_wk\",gediwk,\".csv\", sep=\"\"))) {\n",
    "#   #Delete existing files in exists to avoid duplicate appending\n",
    "#   cat(\"old version for\", iso3,\"exists, removing...\\n\")\n",
    "#   file.remove(paste(f.path,\"WDPA_GEDI_extract3/pa_stats/\",iso3,\"_pa_stats_summary_wk\",gediwk,\".csv\", sep=\"\"))\n",
    "# }"
   ]
  },
  {
   "cell_type": "code",
   "execution_count": 45,
   "id": "d43c5a7e-7e87-4960-9bec-25e1af9e348e",
   "metadata": {
    "tags": []
   },
   "outputs": [
    {
     "ename": "ERROR",
     "evalue": "Error in gzfile(file, \"rb\"): invalid 'description' argument\n",
     "output_type": "error",
     "traceback": [
      "Error in gzfile(file, \"rb\"): invalid 'description' argument\nTraceback:\n",
      "1. readRDS(gedi_paf[3])",
      "2. gzfile(file, \"rb\")"
     ]
    }
   ],
   "source": [
    "pa_metrics <-readRDS(gedi_paf[3])"
   ]
  },
  {
   "cell_type": "code",
   "execution_count": 113,
   "id": "ae2f54e5-27c6-402e-93e3-08b0c9a45268",
   "metadata": {
    "tags": []
   },
   "outputs": [
    {
     "data": {
      "text/html": [
       "0"
      ],
      "text/latex": [
       "0"
      ],
      "text/markdown": [
       "0"
      ],
      "text/plain": [
       "[1] 0"
      ]
     },
     "metadata": {},
     "output_type": "display_data"
    }
   ],
   "source": [
    "length(table(pa_metrics$status))"
   ]
  },
  {
   "cell_type": "code",
   "execution_count": null,
   "id": "1e8879cf-6489-4414-bf26-350f14c7b26a",
   "metadata": {},
   "outputs": [],
   "source": []
  },
  {
   "cell_type": "code",
   "execution_count": null,
   "id": "0f6501b0-8324-4ffa-a146-918607eaebe0",
   "metadata": {
    "tags": []
   },
   "outputs": [
    {
     "ename": "ERROR",
     "evalue": "Error in eval(expr, envir, enclos): object 'gedi_paf' not found\n",
     "output_type": "error",
     "traceback": [
      "Error in eval(expr, envir, enclos): object 'gedi_paf' not found\nTraceback:\n"
     ]
    }
   ],
   "source": [
    "if (flag ==\"run all\"){\n",
    "  if(file.exists(paste(f.path,\"WDPA_GEDI_extract4/pa_stats/\",iso3,\"_pa_stats_summary_wk\",gediwk,\".csv\", sep=\"\"))){  #if flag indicates running all steps, we remove the pa_stats for the iso from previous iteration and prompt creation of a new file\n",
    "    file.remove(paste(f.path,\"WDPA_GEDI_extract4/pa_stats/\",iso3,\"_pa_stats_summary_wk\",gediwk,\".csv\", sep=\"\"))\n",
    "  }\n",
    "  \n",
    "  for (this_paf in gedi_paf){\n",
    "    cat(this_paf,\"\\n\")\n",
    "    pa_metrics <-readRDS(this_paf)\n",
    "    if (length(table(pa_metrics$status))<2) {\n",
    "      cat(iso3, this_paf, \"has 0 protected or treatment \\n\")\n",
    "    } else if (table(pa_metrics$status)[1]!=0 && table(pa_metrics$status)[2]!=0) {\n",
    "      #filter the datafrme by number of shots in each cell, which is euivalent of the number of occurence of each unique UID code\n",
    "      tt <- table(pa_metrics$UID)\n",
    "      qcellid <- table(pa_metrics$UID)[tt>5] %>% names()\n",
    "      pa_metrics_filtered <- pa_metrics %>% dplyr::filter(UID %in% qcellid)\n",
    "      \n",
    "      #calc summary stats for each country \n",
    "      if(nrow(pa_metrics_filtered)>0){\n",
    "        pa_stats_summary <- pa_metrics_filtered %>%\n",
    "          group_by(status) %>% \n",
    "          dplyr::mutate(pa_id=as.character(pa_id)) %>%\n",
    "          dplyr::summarise(pa_id=na.omit(unique(pa_id)),\n",
    "                           count=length(rh98),meanrh98=mean(rh98, na.rm=TRUE), sdrh98=sd(rh98, na.rm = TRUE),medrh98=median(rh98, na.rm = TRUE),\n",
    "                           meanrh75=mean(rh75,na.rm=TRUE), sdrh75=sd(rh75,na.rm=TRUE), medrh75=median(rh75,na.rm=TRUE),\n",
    "                           meanrh50=mean(rh50,na.rm=TRUE), sdrh50=sd(rh50,na.rm=TRUE), medrh50=median(rh50,na.rm=TRUE),\n",
    "                           meanrh25=mean(rh25,na.rm=TRUE ), sdrh25=sd(rh25, na.rm=TRUE),medrh25=median(rh25, na.rm=TRUE),\n",
    "                           # meanpai=mean(pai, na.rm=TRUE), sdpai=sd(pai, na.rm=TRUE), medpai=median(pai, na.rm=TRUE),\n",
    "                           # meancov=mean(cover, na.rm=TRUE), sdcov=sd(cover,na.rm=TRUE),  medcov=median(cover,na.rm=TRUE),\n",
    "                           meanagbd=mean(agbd, na.rm=TRUE), sdagbd=sd(agbd, na.rm=TRUE),medagbd=median(agbd, na.rm=TRUE),\n",
    "                           wwfecoreg=getmode(wwfecoreg),REGION=getmode(region))%>% \n",
    "          tidyr::pivot_wider(names_from=status, values_from= setdiff(names(.),c(\"pa_id\", \"status\"))) #writeLine to a large txt file where world pas stats are\n",
    "        pa_stats_summary$iso3 <- iso3\n",
    "        print(ncol(pa_stats_summary))\n",
    "        if(ncol(pa_stats_summary)>30){\n",
    "          if(!file.exists(paste(f.path,\"WDPA_GEDI_extract4/pa_stats/\",iso3,\"_pa_stats_summary_wk\",gediwk,\".csv\", sep=\"\"))){\n",
    "            print(\"not exists\")\n",
    "            write.csv(pa_stats_summary, file=paste(f.path,\"WDPA_GEDI_extract4/pa_stats/\",iso3,\"_pa_stats_summary_wk\",gediwk,\".csv\", sep=\"\"), row.names = FALSE)\n",
    "          } else if (file.exists(paste(f.path,\"WDPA_GEDI_extract4/pa_stats/\",iso3,\"_pa_stats_summary_wk\",gediwk,\".csv\", sep=\"\"))){\n",
    "            print(\"exists so appending to existing file\")\n",
    "            write.table(pa_stats_summary, file=paste(f.path,\"WDPA_GEDI_extract4/pa_stats/\",iso3,\"_pa_stats_summary_wk\",gediwk,\".csv\", sep=\"\"),\n",
    "                        sep=\",\", append=TRUE , row.names=FALSE, col.names=FALSE)   #will not overwrite but append to existing files\n",
    "          }\n",
    "          \n",
    "        }\n",
    "      }\n",
    "    }\n",
    "  }\n",
    "  cat(\"Done summarizing pa-level stats for country\",iso3,\"\\n\")  \n",
    "}"
   ]
  },
  {
   "cell_type": "code",
   "execution_count": 48,
   "id": "819806ef-967e-4c94-92c7-495a8e8dc71e",
   "metadata": {
    "tags": []
   },
   "outputs": [
    {
     "name": "stdout",
     "output_type": "stream",
     "text": [
      "Step7a: Compiling country wide dataframe for SEN and removing duplicates...\n"
     ]
    },
    {
     "data": {
      "text/html": [],
      "text/latex": [],
      "text/markdown": [],
      "text/plain": [
       "character(0)"
      ]
     },
     "metadata": {},
     "output_type": "display_data"
    },
    {
     "ename": "ERROR",
     "evalue": "Error in `$<-.data.frame`(`*tmp*`, iso3, value = \"SEN\"): replacement has 1 row, data has 0\n",
     "output_type": "error",
     "traceback": [
      "Error in `$<-.data.frame`(`*tmp*`, iso3, value = \"SEN\"): replacement has 1 row, data has 0\nTraceback:\n",
      "1. `$<-`(`*tmp*`, iso3, value = \"SEN\")",
      "2. `$<-.data.frame`(`*tmp*`, iso3, value = \"SEN\")",
      "3. stop(sprintf(ngettext(N, \"replacement has %d row, data has %d\", \n .     \"replacement has %d rows, data has %d\"), N, nrows), domain = NA)"
     ]
    }
   ],
   "source": [
    "#---------------STEP7: [Figure 4A] Removing dup gedi shots in overlapping region, count shot#/PA w/o dups, results in [extract4/iso_full_nodup]-------------------\n",
    "f.path<-\"~/GEDI_PA/Matching_Layers/SEN/\"\n",
    "gedi_paf <-list.files(paste(f.path,\"WDPA_GEDI_extract4/\",iso3,\"_wk\",gediwk,sep=\"\"), pattern=\".RDS\", full.names = TRUE)\n",
    "fullds <- data.frame()\n",
    "cat (\"Step7a: Compiling country wide dataframe for\",iso3, \"and removing duplicates...\\n\")\n",
    "\n",
    "gedi_paf\n",
    "for (c in gedi_paf){  #removing dups based on shot#\n",
    "  cat(match(c, gedi_paf),\"in total of\", length(gedi_paf),\"files\\n\")\n",
    "  tmpds <- tryCatch(readRDS(c),error=function(cond){return(NULL)})\n",
    "  if(!is.null(tmpds)){\n",
    "    tmpds$shot_number=as.character(tmpds$shot_number)\n",
    "    tt <- table(tmpds$UID)\n",
    "    qcellid <- table(tmpds$UID)[tt>5] %>% names()\n",
    "    tmpds_filtered <- tmpds %>% dplyr::filter(UID %in% qcellid)\n",
    "    fullds <- rbind(fullds, tmpds_filtered)\n",
    "    print(dim(fullds))\n",
    "    fullds <- fullds[!duplicated(fullds$shot_number), ]\n",
    "    print(dim(fullds))\n",
    "  } else {\n",
    "    fullds <- fullds\n",
    "    print(dim(fullds))\n",
    "    \n",
    "  }\n",
    "  \n",
    "}\n",
    "fullds$iso3 <- iso3\n",
    "write.csv(fullds, file=paste(f.path,\"WDPA_GEDI_extract4/iso_full_nodup/\",iso3,\"_country_full_nodup_wk\",gediwk,\".csv\", sep=\"\"), row.names = F)\n",
    "cat(iso3,\"Dup removed df is exported to /iso_full_nodup/ \\n\")"
   ]
  },
  {
   "cell_type": "code",
   "execution_count": 16,
   "id": "0ff954b2-b32c-4394-99a5-21eaf426561f",
   "metadata": {
    "tags": []
   },
   "outputs": [
    {
     "name": "stdout",
     "output_type": "stream",
     "text": [
      "Step 7b: Summarizing #of GEDI shots per 1km pixel\n",
      " SEN 1km pixel level shot count df is exported to /cell_stats/ \n"
     ]
    }
   ],
   "source": [
    "#---------------STEP7b: Rasterize the non-dup GEDI results to return the shots-per-1km results, results in [extract4/cell_stats/] & [extract4/matched_raster_stack]---------------------------------\n",
    "cat(\"Step 7b: Summarizing #of GEDI shots per 1km pixel\\n \")\n",
    "# fullds0 <- read.csv(paste(f.path,\"WDPA_GEDI_extract3/iso_full_nodup/\",iso3,\"_country_full_nodup_wk\",gediwk,\".csv\", sep=\"\"))\n",
    "iso_gedi_spdf <- SpatialPointsDataFrame(coords=fullds[,c(\"lon_lowestmode\",\"lat_lowestmode\")],\n",
    "                                                proj4string=CRS(\"+init=epsg:4326\"), data=fullds) %>%spTransform(., CRS(\"+init=epsg:6933\"))\n",
    "ras <- crop(MCD12Q1, extent(iso_gedi_spdf)) #a little slow with buffer \n",
    "gcount_ras <- rasterize(coordinates(iso_gedi_spdf),ras, fun=\"count\",background=NA)\n",
    "names(gcount_ras) <- \"gshot_counts\"\n",
    "gpid_ras <- rasterize(coordinates(iso_gedi_spdf),ras, fun=getmode,field=iso_gedi_spdf$pa_id,background=NA)\n",
    "names(gpid_ras) <- \"pid\"\n",
    "gattr_ras <- rasterize(iso_gedi_spdf@coords, ras, fun=getmode, field=iso_gedi_spdf$status, background=NA)\n",
    "names(gattr_ras) <- \"status\"\n",
    "gstack <- stack(gcount_ras,gpid_ras,gattr_ras)\n",
    "g1km_sp <- as(gstack, 'SpatialPointsDataFrame')\n",
    "g1km <- cbind(g1km_sp@coords, g1km_sp@data, country=iso3)\n",
    "# dir.create(paste(f.path,\"WDPA_GEDI_extract3/cell_stats/\",sep=\"\"))\n",
    "# writeRaster(gstack,paste(f.path,\"WDPA_GEDI_extract4/matched_raster_stack/\",iso3,\"_cell_shots_pa_wk\",gediwk,\".tif\", sep=\"\"))  #just for later checks as needed\n",
    "write.csv(g1km, file=paste(f.path,\"WDPA_GEDI_extract4/cell_stats/\",iso3,\"_cell_shots_wk\",gediwk,\".csv\", sep=\"\"))\n",
    "cat(iso3,\"1km pixel level shot count df is exported to /cell_stats/ \\n\")\n",
    "rm(ras, gstack)"
   ]
  },
  {
   "cell_type": "code",
   "execution_count": 18,
   "id": "21c18814-7b3e-4861-8d84-8787a1044a5d",
   "metadata": {
    "tags": []
   },
   "outputs": [
    {
     "name": "stdout",
     "output_type": "stream",
     "text": [
      "Step 8: Calculating country level summary stats for  SEN \n",
      " SEN country level summary stats is exported to /iso_stats/ \n"
     ]
    }
   ],
   "source": [
    "#---------------STEP8: Calculating per country summary stats, 1 country per row, summarize key stats for the country ---------------------    \n",
    "cat(\"Step 8: Calculating country level summary stats for \", iso3,\"\\n \")\n",
    "# fullds <- read.csv(paste(f.path,\"WDPA_GEDI_extract3/iso_full_nodup/\",iso3,\"_country_full_nodup_wk\",gediwk,\".csv\", sep=\"\"))\n",
    "getmode <- function(v) {\n",
    "  uniqv <- na.omit(unique(v))\n",
    "  uniqv[which.max(tabulate(match(v, uniqv)))]\n",
    "}\n",
    "\n",
    "# fullds <- read.csv(paste(f.path,\"WDPA_GEDI_extract4/iso_full_nodup/\",iso3,\"_country_full_nodup_wk\",gediwk,\".csv\", sep=\"\"))\n",
    "\n",
    "#Currently commented out since L2B needed\n",
    "# fullds$pai[!is.finite(fullds$pai)] <- NA\n",
    "\n",
    "iso_sum <- fullds %>%\n",
    "  group_by(status) %>%  \n",
    "  dplyr::summarise(count_ttl=length(rh98),\n",
    "                   meanrh98=mean(rh98, na.rm=TRUE), sdrh98=sd(rh98, na.rm = TRUE), medrh98=median(rh98, na.rm = TRUE),msrh98=sum(is.na(rh98)),\n",
    "                   # meanpai=mean(pai, na.rm=TRUE), sdpai=sd(pai, na.rm=TRUE),  medpai=median(pai, na.rm=TRUE),mspai=sum(is.na(pai)),\n",
    "                   # meancov=mean(cover, na.rm=TRUE), sdcov=sd(cover,na.rm=TRUE),  medcov=median(cover,na.rm=TRUE),mscov=sum(is.na(cov)),\n",
    "                   meanagbd=mean(agbd, na.rm=TRUE), sdagbd=sd(agbd, na.rm=TRUE), medagbd=median(agbd, na.rm=TRUE), msagbd=sum(is.na(agbd)))%>% \n",
    "  tidyr::pivot_wider(names_from=status, values_from= setdiff(names(.),c(\"pa_id\", \"status\")))#writeLine to a large txt file where world pas stats are\n",
    "iso_sum$iso3 <- iso3\n",
    "continent <- fullds$region %>% unique() %>% getmode()\n",
    "iso_sum$continent <- continent\n",
    "\n",
    "write.csv(iso_sum, file=paste(f.path,\"WDPA_GEDI_extract4/iso_stats/\",iso3,\"_country_stats_summary_wk\",gediwk,\"2.csv\", sep=\"\"), row.names = F)\n",
    "cat(iso3,\"country level summary stats is exported to /iso_stats/ \\n\")\n"
   ]
  },
  {
   "cell_type": "raw",
   "id": "54071730-1a2c-40a2-8102-e8435d4c24d0",
   "metadata": {},
   "source": [
    "June 6th Testing for Multiple PAs"
   ]
  },
  {
   "cell_type": "code",
   "execution_count": 30,
   "id": "b53d6179-0b74-4279-aba6-31268e5cbbd9",
   "metadata": {
    "tags": []
   },
   "outputs": [],
   "source": [
    "id_pa <-2333\n",
    "matched <- readRDS(paste(\"~/GEDI_PA/Matching_Layers/SEN/WDPA_matching_points/SEN_wk24/\",iso3,\"_pa_\", id_pa,\"_matching_results_wk\",gediwk,\".RDS\", sep=\"\"))"
   ]
  },
  {
   "cell_type": "code",
   "execution_count": 129,
   "id": "429a3b2d-f32a-4b9f-9820-6f3bd05ef080",
   "metadata": {
    "tags": []
   },
   "outputs": [
    {
     "name": "stdout",
     "output_type": "stream",
     "text": [
      "SEN converting the matched csv to a raster stack for extraction\n"
     ]
    }
   ],
   "source": [
    "mras  <- tryCatch(matched2ras(matched),\n",
    "                      error=function(cond){\n",
    "                        message(cond)\n",
    "                        cat(\"Matched result is likely null for country\", iso3,\"pa\", id_pa, \"dimension of the match is\", dim(matched),\"\\n\")\n",
    "                        # writeLines(\"Matched results is likely null for country\", paste(f.path,\"WDPA_log/\",iso3,\"_log_matching.txt\", sep=\"\"))\n",
    "                        return(NULL)})"
   ]
  },
  {
   "cell_type": "code",
   "execution_count": 167,
   "id": "068c7d18-3b95-45c5-b93d-eca5a7ccd051",
   "metadata": {
    "tags": []
   },
   "outputs": [
    {
     "data": {
      "text/html": [
       "47"
      ],
      "text/latex": [
       "47"
      ],
      "text/markdown": [
       "47"
      ],
      "text/plain": [
       "[1] 47"
      ]
     },
     "metadata": {},
     "output_type": "display_data"
    }
   ],
   "source": [
    "f.path <- '~/GEDI_PA/Matching_Layers/SEN/SEN_Tiles/'\n",
    "all_gedil2_f <- list.files(path=f.path, pattern=\"L2A\", all.files=FALSE, full.names=FALSE)\n",
    "length(all_gedil2_f)"
   ]
  },
  {
   "cell_type": "code",
   "execution_count": 147,
   "id": "ec36a711-8420-4f1e-bd0f-8727c287e057",
   "metadata": {
    "tags": []
   },
   "outputs": [
    {
     "name": "stdout",
     "output_type": "stream",
     "text": [
      "                                                    gedi\n",
      "1 N12.30728831742391W-11.52951992770953.geojson_L2A.gpkg\n"
     ]
    }
   ],
   "source": [
    "table <- as.data.frame(gedi)\n",
    "print(table)"
   ]
  },
  {
   "cell_type": "code",
   "execution_count": 157,
   "id": "3e8e9445-05d9-4d99-b39a-a69c2a381dc7",
   "metadata": {
    "tags": []
   },
   "outputs": [],
   "source": [
    "extract_gedi <- function(matched, mras){\n",
    "    f.path <- '~/GEDI_PA/Matching_Layers/SEN/SEN_Tiles/'\n",
    "    \n",
    "    all_gedil2_f <- list.files(path=f.path, pattern=\"L2A\", all.files=FALSE, full.names=FALSE)  \n",
    "    all_gedil4_f <- list.files(path=f.path, pattern=\"L4A\", all.files=FALSE, full.names=FALSE)  \n",
    "        \n",
    "    registerDoParallel(cores=1)\n",
    "    ex_out <- foreach(this_csvid=seq(length(all_gedil2_f)), \n",
    "                  .combine = foreach_rbind, .packages=c('sp','magrittr', 'dplyr','tidyr','raster')) %dopar% {\n",
    "        ##add the GEDI l4a model prediction for AGB here :\n",
    "        cat(\"Readng in no. \", this_csvid,\"csv of \", length(all_gedil2_f),\"csvs for iso3\",iso3,\"\\n\")\n",
    "\n",
    "    for (this_gedi4 in all_gedil4_f){\n",
    "        gedil4_f <- st_read(this_gedi4)}\n",
    "    for (this_gedi2 in all_gedil2_f){\n",
    "        gedil2_f <- st_read(this_gedi2)}\n",
    "            if (nrow(gedil4_f) < 1){   #is.na(gedi_l4) || \n",
    "              cat(\"error\")\n",
    "              gedi_l24 <- gedil2_f\n",
    "              gedi_l24$agbd <- NA\n",
    "              gedi_l24$agbd_se <- NA\n",
    "              gedi_l24$agbd_t <- NA\n",
    "              gedi_l24$agbd_t_se <- NA\n",
    "            } else {\n",
    "              gedi_l4_sub <- gedil4_f %>%\n",
    "                dplyr::select(shot_number, agbd, agbd_se, agbd_t, agbd_t_se)\n",
    "              gedi_l24 <- inner_join(gedil2_f, gedi_l4_sub, by=\"shot_number\")\n",
    "\n",
    "            }\n",
    "\n",
    "        print(dim(gedi_l24))\n",
    "        iso_matched_gedi_df <- data.frame()\n",
    "        if(nrow(gedi_l24)>0){\n",
    "            gedi_l24_sp <- gedi_l24 %>% \n",
    "                SpatialPointsDataFrame(coords=.[,c(\"lon_lowestmode\",\"lat_lowestmode\")],\n",
    "                                     proj4string=CRS(\"+init=epsg:4326\"), data=.) %>%spTransform(., CRS(\"+init=epsg:6933\"))\n",
    "\n",
    "            matched_gedi <- raster::extract(mras,gedi_l24_sp, df=TRUE)\n",
    "            matched_gedi_metrics <- cbind(matched_gedi,gedi_l24_sp@data)\n",
    "            matched_gedi_metrics_filtered <- matched_gedi_metrics %>% dplyr::filter(!is.na(status)) %>% \n",
    "              convertFactor(matched0 = matched,exgedi = .) \n",
    "\n",
    "            iso_matched_gedi_df <- rbind(matched_gedi_metrics_filtered,iso_matched_gedi_df)\n",
    "            print(dim(iso_matched_gedi_df))\n",
    "        }\n",
    "\n",
    "        return(iso_matched_gedi_df)\n",
    "}\n",
    "    \n",
    "    stopImplicitCluster()\n",
    "    cat(\"Done GEDI for no. \",grep(unique(matched$pa_id), matched_PAs),\"pa out of\", length(matched_PAs),\"\\n\")\n",
    "    return(ex_out)\n",
    "    \n",
    "} "
   ]
  },
  {
   "cell_type": "code",
   "execution_count": 158,
   "id": "02111dc6-89a9-4b3e-b0b4-c98445bb34e4",
   "metadata": {
    "tags": []
   },
   "outputs": [
    {
     "name": "stdout",
     "output_type": "stream",
     "text": [
      "Readng in no.  1 csv of  47 csvs for iso3 SEN \n",
      "Readng in no.  2 csv of  47 csvs for iso3 SEN \n",
      "Readng in no.  3 csv of  47 csvs for iso3 SEN \n",
      "Readng in no.  4 csv of  47 csvs for iso3 SEN \n",
      "Readng in no.  5 csv of  47 csvs for iso3 SEN \n",
      "Readng in no.  6 csv of  47 csvs for iso3 SEN \n",
      "Readng in no.  7 csv of  47 csvs for iso3 SEN \n",
      "Readng in no.  8 csv of  47 csvs for iso3 SEN \n",
      "Readng in no.  9 csv of  47 csvs for iso3 SEN \n",
      "Readng in no.  10 csv of  47 csvs for iso3 SEN \n",
      "Readng in no.  11 csv of  47 csvs for iso3 SEN \n",
      "Readng in no.  12 csv of  47 csvs for iso3 SEN \n",
      "Readng in no.  13 csv of  47 csvs for iso3 SEN \n",
      "Readng in no.  14 csv of  47 csvs for iso3 SEN \n",
      "Readng in no.  15 csv of  47 csvs for iso3 SEN \n",
      "Readng in no.  16 csv of  47 csvs for iso3 SEN \n",
      "Readng in no.  17 csv of  47 csvs for iso3 SEN \n",
      "Readng in no.  18 csv of  47 csvs for iso3 SEN \n",
      "Readng in no.  19 csv of  47 csvs for iso3 SEN \n",
      "Readng in no.  20 csv of  47 csvs for iso3 SEN \n",
      "Readng in no.  21 csv of  47 csvs for iso3 SEN \n",
      "Readng in no.  22 csv of  47 csvs for iso3 SEN \n",
      "Readng in no.  23 csv of  47 csvs for iso3 SEN \n",
      "Readng in no.  24 csv of  47 csvs for iso3 SEN \n",
      "Readng in no.  25 csv of  47 csvs for iso3 SEN \n",
      "Readng in no.  26 csv of  47 csvs for iso3 SEN \n",
      "Readng in no.  27 csv of  47 csvs for iso3 SEN \n",
      "Readng in no.  28 csv of  47 csvs for iso3 SEN \n",
      "Readng in no.  29 csv of  47 csvs for iso3 SEN \n",
      "Readng in no.  30 csv of  47 csvs for iso3 SEN \n",
      "Readng in no.  31 csv of  47 csvs for iso3 SEN \n",
      "Readng in no.  32 csv of  47 csvs for iso3 SEN \n",
      "Readng in no.  33 csv of  47 csvs for iso3 SEN \n",
      "Readng in no.  34 csv of  47 csvs for iso3 SEN \n",
      "Readng in no.  35 csv of  47 csvs for iso3 SEN \n",
      "Readng in no.  36 csv of  47 csvs for iso3 SEN \n",
      "Readng in no.  37 csv of  47 csvs for iso3 SEN \n",
      "Readng in no.  38 csv of  47 csvs for iso3 SEN \n",
      "Readng in no.  39 csv of  47 csvs for iso3 SEN \n",
      "Readng in no.  40 csv of  47 csvs for iso3 SEN \n",
      "Readng in no.  41 csv of  47 csvs for iso3 SEN \n",
      "Readng in no.  42 csv of  47 csvs for iso3 SEN \n",
      "Readng in no.  43 csv of  47 csvs for iso3 SEN \n",
      "Readng in no.  44 csv of  47 csvs for iso3 SEN \n",
      "Readng in no.  45 csv of  47 csvs for iso3 SEN \n",
      "Readng in no.  46 csv of  47 csvs for iso3 SEN \n",
      "Readng in no.  47 csv of  47 csvs for iso3 SEN \n"
     ]
    },
    {
     "ename": "ERROR",
     "evalue": "Error in {: task 1 failed - \"Cannot open \"N12.30728831742391W-10.52951992770953.geojson_L4A.gpkg\"; The file doesn't seem to exist.\"\n",
     "output_type": "error",
     "traceback": [
      "Error in {: task 1 failed - \"Cannot open \"N12.30728831742391W-10.52951992770953.geojson_L4A.gpkg\"; The file doesn't seem to exist.\"\nTraceback:\n",
      "1. extract_gedi(matched, mras)",
      "2. foreach(this_csvid = seq(length(all_gedil2_f)), .combine = foreach_rbind, \n .     .packages = c(\"sp\", \"magrittr\", \"dplyr\", \"tidyr\", \"raster\")) %dopar% \n .     {\n .         cat(\"Readng in no. \", this_csvid, \"csv of \", length(all_gedil2_f), \n .             \"csvs for iso3\", iso3, \"\\n\")\n .         for (this_gedi4 in all_gedil4_f) {\n .             gedil4_f <- st_read(this_gedi4)\n .         }\n .         for (this_gedi2 in all_gedil2_f) {\n .             gedil2_f <- st_read(this_gedi2)\n .         }\n .         if (nrow(gedil4_f) < 1) {\n .             cat(\"error\")\n .             gedi_l24 <- gedil2_f\n .             gedi_l24$agbd <- NA\n .             gedi_l24$agbd_se <- NA\n .             gedi_l24$agbd_t <- NA\n .             gedi_l24$agbd_t_se <- NA\n .         }\n .         else {\n .             gedi_l4_sub <- gedil4_f %>% dplyr::select(shot_number, \n .                 agbd, agbd_se, agbd_t, agbd_t_se)\n .             gedi_l24 <- inner_join(gedil2_f, gedi_l4_sub, by = \"shot_number\")\n .         }\n .         print(dim(gedi_l24))\n .         iso_matched_gedi_df <- data.frame()\n .         if (nrow(gedi_l24) > 0) {\n .             gedi_l24_sp <- gedi_l24 %>% SpatialPointsDataFrame(coords = .[, \n .                 c(\"lon_lowestmode\", \"lat_lowestmode\")], proj4string = CRS(\"+init=epsg:4326\"), \n .                 data = .) %>% spTransform(., CRS(\"+init=epsg:6933\"))\n .             matched_gedi <- raster::extract(mras, gedi_l24_sp, \n .                 df = TRUE)\n .             matched_gedi_metrics <- cbind(matched_gedi, gedi_l24_sp@data)\n .             matched_gedi_metrics_filtered <- matched_gedi_metrics %>% \n .                 dplyr::filter(!is.na(status)) %>% convertFactor(matched0 = matched, \n .                 exgedi = .)\n .             iso_matched_gedi_df <- rbind(matched_gedi_metrics_filtered, \n .                 iso_matched_gedi_df)\n .             print(dim(iso_matched_gedi_df))\n .         }\n .         return(iso_matched_gedi_df)\n .     }   # at line 8-48 of file <text>",
      "3. e$fun(obj, substitute(ex), parent.frame(), e$data)"
     ]
    }
   ],
   "source": [
    "extract_gedi(matched, mras)"
   ]
  },
  {
   "cell_type": "code",
   "execution_count": 155,
   "id": "1e682de3-adfe-46a6-aa2b-c7ab9c8f3a30",
   "metadata": {
    "tags": []
   },
   "outputs": [],
   "source": [
    "f.path <- '~/GEDI_PA/Matching_Layers/SEN/SEN_Tiles/'\n",
    "all_gedil2_f <- list.files(path=f.path, pattern=\"L2A\", all.files=FALSE, \n",
    "    full.names=FALSE) "
   ]
  },
  {
   "cell_type": "code",
   "execution_count": 156,
   "id": "2d4b81db-b72c-4758-89c4-ba80f4c02b67",
   "metadata": {
    "tags": []
   },
   "outputs": [
    {
     "data": {
      "text/html": [
       "<style>\n",
       ".list-inline {list-style: none; margin:0; padding: 0}\n",
       ".list-inline>li {display: inline-block}\n",
       ".list-inline>li:not(:last-child)::after {content: \"\\00b7\"; padding: 0 .5ex}\n",
       "</style>\n",
       "<ol class=list-inline><li>'N12.30728831742391W-11.52951992770953.geojson_L2A.gpkg'</li><li>'N12.30728831742391W-12.52951992770953.geojson_L2A.gpkg'</li><li>'N12.30728831742391W-13.52951992770953.geojson_L2A.gpkg'</li><li>'N12.30728831742391W-14.52951992770953.geojson_L2A.gpkg'</li><li>'N12.30728831742391W-15.52951992770953.geojson_L2A.gpkg'</li><li>'N12.30728831742391W-16.52951992770953.geojson_L2A.gpkg'</li><li>'N12.30728831742391W-17.52951992770953.geojson_L2A.gpkg'</li><li>'N13.30728831742391W-10.52951992770953.geojson_L2A.gpkg'</li><li>'N13.30728831742391W-11.52951992770953.geojson_L2A.gpkg'</li><li>'N13.30728831742391W-12.52951992770953.geojson_L2A.gpkg'</li><li>'N13.30728831742391W-13.52951992770953.geojson_L2A.gpkg'</li><li>'N13.30728831742391W-14.52951992770953.geojson_L2A.gpkg'</li><li>'N13.30728831742391W-15.52951992770953.geojson_L2A.gpkg'</li><li>'N13.30728831742391W-16.52951992770953.geojson_L2A.gpkg'</li><li>'N13.30728831742391W-17.52951992770953.geojson_L2A.gpkg'</li><li>'N14.30728831742391W-10.52951992770953.geojson_L2A.gpkg'</li><li>'N14.30728831742391W-11.52951992770953.geojson_L2A.gpkg'</li><li>'N14.30728831742391W-12.52951992770953.geojson_L2A.gpkg'</li><li>'N14.30728831742391W-13.52951992770953.geojson_L2A.gpkg'</li><li>'N14.30728831742391W-14.52951992770953.geojson_L2A.gpkg'</li><li>'N14.30728831742391W-15.52951992770953.geojson_L2A.gpkg'</li><li>'N14.30728831742391W-16.52951992770953.geojson_L2A.gpkg'</li><li>'N14.30728831742391W-17.52951992770953.geojson_L2A.gpkg'</li><li>'N15.30728831742391W-10.52951992770953.geojson_L2A.gpkg'</li><li>'N15.30728831742391W-11.52951992770953.geojson_L2A.gpkg'</li><li>'N15.30728831742391W-12.52951992770953.geojson_L2A.gpkg'</li><li>'N15.30728831742391W-13.52951992770953.geojson_L2A.gpkg'</li><li>'N15.30728831742391W-14.52951992770953.geojson_L2A.gpkg'</li><li>'N15.30728831742391W-15.52951992770953.geojson_L2A.gpkg'</li><li>'N15.30728831742391W-16.52951992770953.geojson_L2A.gpkg'</li><li>'N15.30728831742391W-17.52951992770953.geojson_L2A.gpkg'</li><li>'N16.30728831742391W-10.52951992770953.geojson_L2A.gpkg'</li><li>'N16.30728831742391W-11.52951992770953.geojson_L2A.gpkg'</li><li>'N16.30728831742391W-12.52951992770953.geojson_L2A.gpkg'</li><li>'N16.30728831742391W-13.52951992770953.geojson_L2A.gpkg'</li><li>'N16.30728831742391W-14.52951992770953.geojson_L2A.gpkg'</li><li>'N16.30728831742391W-15.52951992770953.geojson_L2A.gpkg'</li><li>'N16.30728831742391W-16.52951992770953.geojson_L2A.gpkg'</li><li>'N16.30728831742391W-17.52951992770953.geojson_L2A.gpkg'</li><li>'N17.30728831742391W-10.52951992770953.geojson_L2A.gpkg'</li><li>'N17.30728831742391W-11.52951992770953.geojson_L2A.gpkg'</li><li>'N17.30728831742391W-12.52951992770953.geojson_L2A.gpkg'</li><li>'N17.30728831742391W-13.52951992770953.geojson_L2A.gpkg'</li><li>'N17.30728831742391W-14.52951992770953.geojson_L2A.gpkg'</li><li>'N17.30728831742391W-15.52951992770953.geojson_L2A.gpkg'</li><li>'N17.30728831742391W-16.52951992770953.geojson_L2A.gpkg'</li><li>'N17.30728831742391W-17.52951992770953.geojson_L2A.gpkg'</li></ol>\n"
      ],
      "text/latex": [
       "\\begin{enumerate*}\n",
       "\\item 'N12.30728831742391W-11.52951992770953.geojson\\_L2A.gpkg'\n",
       "\\item 'N12.30728831742391W-12.52951992770953.geojson\\_L2A.gpkg'\n",
       "\\item 'N12.30728831742391W-13.52951992770953.geojson\\_L2A.gpkg'\n",
       "\\item 'N12.30728831742391W-14.52951992770953.geojson\\_L2A.gpkg'\n",
       "\\item 'N12.30728831742391W-15.52951992770953.geojson\\_L2A.gpkg'\n",
       "\\item 'N12.30728831742391W-16.52951992770953.geojson\\_L2A.gpkg'\n",
       "\\item 'N12.30728831742391W-17.52951992770953.geojson\\_L2A.gpkg'\n",
       "\\item 'N13.30728831742391W-10.52951992770953.geojson\\_L2A.gpkg'\n",
       "\\item 'N13.30728831742391W-11.52951992770953.geojson\\_L2A.gpkg'\n",
       "\\item 'N13.30728831742391W-12.52951992770953.geojson\\_L2A.gpkg'\n",
       "\\item 'N13.30728831742391W-13.52951992770953.geojson\\_L2A.gpkg'\n",
       "\\item 'N13.30728831742391W-14.52951992770953.geojson\\_L2A.gpkg'\n",
       "\\item 'N13.30728831742391W-15.52951992770953.geojson\\_L2A.gpkg'\n",
       "\\item 'N13.30728831742391W-16.52951992770953.geojson\\_L2A.gpkg'\n",
       "\\item 'N13.30728831742391W-17.52951992770953.geojson\\_L2A.gpkg'\n",
       "\\item 'N14.30728831742391W-10.52951992770953.geojson\\_L2A.gpkg'\n",
       "\\item 'N14.30728831742391W-11.52951992770953.geojson\\_L2A.gpkg'\n",
       "\\item 'N14.30728831742391W-12.52951992770953.geojson\\_L2A.gpkg'\n",
       "\\item 'N14.30728831742391W-13.52951992770953.geojson\\_L2A.gpkg'\n",
       "\\item 'N14.30728831742391W-14.52951992770953.geojson\\_L2A.gpkg'\n",
       "\\item 'N14.30728831742391W-15.52951992770953.geojson\\_L2A.gpkg'\n",
       "\\item 'N14.30728831742391W-16.52951992770953.geojson\\_L2A.gpkg'\n",
       "\\item 'N14.30728831742391W-17.52951992770953.geojson\\_L2A.gpkg'\n",
       "\\item 'N15.30728831742391W-10.52951992770953.geojson\\_L2A.gpkg'\n",
       "\\item 'N15.30728831742391W-11.52951992770953.geojson\\_L2A.gpkg'\n",
       "\\item 'N15.30728831742391W-12.52951992770953.geojson\\_L2A.gpkg'\n",
       "\\item 'N15.30728831742391W-13.52951992770953.geojson\\_L2A.gpkg'\n",
       "\\item 'N15.30728831742391W-14.52951992770953.geojson\\_L2A.gpkg'\n",
       "\\item 'N15.30728831742391W-15.52951992770953.geojson\\_L2A.gpkg'\n",
       "\\item 'N15.30728831742391W-16.52951992770953.geojson\\_L2A.gpkg'\n",
       "\\item 'N15.30728831742391W-17.52951992770953.geojson\\_L2A.gpkg'\n",
       "\\item 'N16.30728831742391W-10.52951992770953.geojson\\_L2A.gpkg'\n",
       "\\item 'N16.30728831742391W-11.52951992770953.geojson\\_L2A.gpkg'\n",
       "\\item 'N16.30728831742391W-12.52951992770953.geojson\\_L2A.gpkg'\n",
       "\\item 'N16.30728831742391W-13.52951992770953.geojson\\_L2A.gpkg'\n",
       "\\item 'N16.30728831742391W-14.52951992770953.geojson\\_L2A.gpkg'\n",
       "\\item 'N16.30728831742391W-15.52951992770953.geojson\\_L2A.gpkg'\n",
       "\\item 'N16.30728831742391W-16.52951992770953.geojson\\_L2A.gpkg'\n",
       "\\item 'N16.30728831742391W-17.52951992770953.geojson\\_L2A.gpkg'\n",
       "\\item 'N17.30728831742391W-10.52951992770953.geojson\\_L2A.gpkg'\n",
       "\\item 'N17.30728831742391W-11.52951992770953.geojson\\_L2A.gpkg'\n",
       "\\item 'N17.30728831742391W-12.52951992770953.geojson\\_L2A.gpkg'\n",
       "\\item 'N17.30728831742391W-13.52951992770953.geojson\\_L2A.gpkg'\n",
       "\\item 'N17.30728831742391W-14.52951992770953.geojson\\_L2A.gpkg'\n",
       "\\item 'N17.30728831742391W-15.52951992770953.geojson\\_L2A.gpkg'\n",
       "\\item 'N17.30728831742391W-16.52951992770953.geojson\\_L2A.gpkg'\n",
       "\\item 'N17.30728831742391W-17.52951992770953.geojson\\_L2A.gpkg'\n",
       "\\end{enumerate*}\n"
      ],
      "text/markdown": [
       "1. 'N12.30728831742391W-11.52951992770953.geojson_L2A.gpkg'\n",
       "2. 'N12.30728831742391W-12.52951992770953.geojson_L2A.gpkg'\n",
       "3. 'N12.30728831742391W-13.52951992770953.geojson_L2A.gpkg'\n",
       "4. 'N12.30728831742391W-14.52951992770953.geojson_L2A.gpkg'\n",
       "5. 'N12.30728831742391W-15.52951992770953.geojson_L2A.gpkg'\n",
       "6. 'N12.30728831742391W-16.52951992770953.geojson_L2A.gpkg'\n",
       "7. 'N12.30728831742391W-17.52951992770953.geojson_L2A.gpkg'\n",
       "8. 'N13.30728831742391W-10.52951992770953.geojson_L2A.gpkg'\n",
       "9. 'N13.30728831742391W-11.52951992770953.geojson_L2A.gpkg'\n",
       "10. 'N13.30728831742391W-12.52951992770953.geojson_L2A.gpkg'\n",
       "11. 'N13.30728831742391W-13.52951992770953.geojson_L2A.gpkg'\n",
       "12. 'N13.30728831742391W-14.52951992770953.geojson_L2A.gpkg'\n",
       "13. 'N13.30728831742391W-15.52951992770953.geojson_L2A.gpkg'\n",
       "14. 'N13.30728831742391W-16.52951992770953.geojson_L2A.gpkg'\n",
       "15. 'N13.30728831742391W-17.52951992770953.geojson_L2A.gpkg'\n",
       "16. 'N14.30728831742391W-10.52951992770953.geojson_L2A.gpkg'\n",
       "17. 'N14.30728831742391W-11.52951992770953.geojson_L2A.gpkg'\n",
       "18. 'N14.30728831742391W-12.52951992770953.geojson_L2A.gpkg'\n",
       "19. 'N14.30728831742391W-13.52951992770953.geojson_L2A.gpkg'\n",
       "20. 'N14.30728831742391W-14.52951992770953.geojson_L2A.gpkg'\n",
       "21. 'N14.30728831742391W-15.52951992770953.geojson_L2A.gpkg'\n",
       "22. 'N14.30728831742391W-16.52951992770953.geojson_L2A.gpkg'\n",
       "23. 'N14.30728831742391W-17.52951992770953.geojson_L2A.gpkg'\n",
       "24. 'N15.30728831742391W-10.52951992770953.geojson_L2A.gpkg'\n",
       "25. 'N15.30728831742391W-11.52951992770953.geojson_L2A.gpkg'\n",
       "26. 'N15.30728831742391W-12.52951992770953.geojson_L2A.gpkg'\n",
       "27. 'N15.30728831742391W-13.52951992770953.geojson_L2A.gpkg'\n",
       "28. 'N15.30728831742391W-14.52951992770953.geojson_L2A.gpkg'\n",
       "29. 'N15.30728831742391W-15.52951992770953.geojson_L2A.gpkg'\n",
       "30. 'N15.30728831742391W-16.52951992770953.geojson_L2A.gpkg'\n",
       "31. 'N15.30728831742391W-17.52951992770953.geojson_L2A.gpkg'\n",
       "32. 'N16.30728831742391W-10.52951992770953.geojson_L2A.gpkg'\n",
       "33. 'N16.30728831742391W-11.52951992770953.geojson_L2A.gpkg'\n",
       "34. 'N16.30728831742391W-12.52951992770953.geojson_L2A.gpkg'\n",
       "35. 'N16.30728831742391W-13.52951992770953.geojson_L2A.gpkg'\n",
       "36. 'N16.30728831742391W-14.52951992770953.geojson_L2A.gpkg'\n",
       "37. 'N16.30728831742391W-15.52951992770953.geojson_L2A.gpkg'\n",
       "38. 'N16.30728831742391W-16.52951992770953.geojson_L2A.gpkg'\n",
       "39. 'N16.30728831742391W-17.52951992770953.geojson_L2A.gpkg'\n",
       "40. 'N17.30728831742391W-10.52951992770953.geojson_L2A.gpkg'\n",
       "41. 'N17.30728831742391W-11.52951992770953.geojson_L2A.gpkg'\n",
       "42. 'N17.30728831742391W-12.52951992770953.geojson_L2A.gpkg'\n",
       "43. 'N17.30728831742391W-13.52951992770953.geojson_L2A.gpkg'\n",
       "44. 'N17.30728831742391W-14.52951992770953.geojson_L2A.gpkg'\n",
       "45. 'N17.30728831742391W-15.52951992770953.geojson_L2A.gpkg'\n",
       "46. 'N17.30728831742391W-16.52951992770953.geojson_L2A.gpkg'\n",
       "47. 'N17.30728831742391W-17.52951992770953.geojson_L2A.gpkg'\n",
       "\n",
       "\n"
      ],
      "text/plain": [
       " [1] \"N12.30728831742391W-11.52951992770953.geojson_L2A.gpkg\"\n",
       " [2] \"N12.30728831742391W-12.52951992770953.geojson_L2A.gpkg\"\n",
       " [3] \"N12.30728831742391W-13.52951992770953.geojson_L2A.gpkg\"\n",
       " [4] \"N12.30728831742391W-14.52951992770953.geojson_L2A.gpkg\"\n",
       " [5] \"N12.30728831742391W-15.52951992770953.geojson_L2A.gpkg\"\n",
       " [6] \"N12.30728831742391W-16.52951992770953.geojson_L2A.gpkg\"\n",
       " [7] \"N12.30728831742391W-17.52951992770953.geojson_L2A.gpkg\"\n",
       " [8] \"N13.30728831742391W-10.52951992770953.geojson_L2A.gpkg\"\n",
       " [9] \"N13.30728831742391W-11.52951992770953.geojson_L2A.gpkg\"\n",
       "[10] \"N13.30728831742391W-12.52951992770953.geojson_L2A.gpkg\"\n",
       "[11] \"N13.30728831742391W-13.52951992770953.geojson_L2A.gpkg\"\n",
       "[12] \"N13.30728831742391W-14.52951992770953.geojson_L2A.gpkg\"\n",
       "[13] \"N13.30728831742391W-15.52951992770953.geojson_L2A.gpkg\"\n",
       "[14] \"N13.30728831742391W-16.52951992770953.geojson_L2A.gpkg\"\n",
       "[15] \"N13.30728831742391W-17.52951992770953.geojson_L2A.gpkg\"\n",
       "[16] \"N14.30728831742391W-10.52951992770953.geojson_L2A.gpkg\"\n",
       "[17] \"N14.30728831742391W-11.52951992770953.geojson_L2A.gpkg\"\n",
       "[18] \"N14.30728831742391W-12.52951992770953.geojson_L2A.gpkg\"\n",
       "[19] \"N14.30728831742391W-13.52951992770953.geojson_L2A.gpkg\"\n",
       "[20] \"N14.30728831742391W-14.52951992770953.geojson_L2A.gpkg\"\n",
       "[21] \"N14.30728831742391W-15.52951992770953.geojson_L2A.gpkg\"\n",
       "[22] \"N14.30728831742391W-16.52951992770953.geojson_L2A.gpkg\"\n",
       "[23] \"N14.30728831742391W-17.52951992770953.geojson_L2A.gpkg\"\n",
       "[24] \"N15.30728831742391W-10.52951992770953.geojson_L2A.gpkg\"\n",
       "[25] \"N15.30728831742391W-11.52951992770953.geojson_L2A.gpkg\"\n",
       "[26] \"N15.30728831742391W-12.52951992770953.geojson_L2A.gpkg\"\n",
       "[27] \"N15.30728831742391W-13.52951992770953.geojson_L2A.gpkg\"\n",
       "[28] \"N15.30728831742391W-14.52951992770953.geojson_L2A.gpkg\"\n",
       "[29] \"N15.30728831742391W-15.52951992770953.geojson_L2A.gpkg\"\n",
       "[30] \"N15.30728831742391W-16.52951992770953.geojson_L2A.gpkg\"\n",
       "[31] \"N15.30728831742391W-17.52951992770953.geojson_L2A.gpkg\"\n",
       "[32] \"N16.30728831742391W-10.52951992770953.geojson_L2A.gpkg\"\n",
       "[33] \"N16.30728831742391W-11.52951992770953.geojson_L2A.gpkg\"\n",
       "[34] \"N16.30728831742391W-12.52951992770953.geojson_L2A.gpkg\"\n",
       "[35] \"N16.30728831742391W-13.52951992770953.geojson_L2A.gpkg\"\n",
       "[36] \"N16.30728831742391W-14.52951992770953.geojson_L2A.gpkg\"\n",
       "[37] \"N16.30728831742391W-15.52951992770953.geojson_L2A.gpkg\"\n",
       "[38] \"N16.30728831742391W-16.52951992770953.geojson_L2A.gpkg\"\n",
       "[39] \"N16.30728831742391W-17.52951992770953.geojson_L2A.gpkg\"\n",
       "[40] \"N17.30728831742391W-10.52951992770953.geojson_L2A.gpkg\"\n",
       "[41] \"N17.30728831742391W-11.52951992770953.geojson_L2A.gpkg\"\n",
       "[42] \"N17.30728831742391W-12.52951992770953.geojson_L2A.gpkg\"\n",
       "[43] \"N17.30728831742391W-13.52951992770953.geojson_L2A.gpkg\"\n",
       "[44] \"N17.30728831742391W-14.52951992770953.geojson_L2A.gpkg\"\n",
       "[45] \"N17.30728831742391W-15.52951992770953.geojson_L2A.gpkg\"\n",
       "[46] \"N17.30728831742391W-16.52951992770953.geojson_L2A.gpkg\"\n",
       "[47] \"N17.30728831742391W-17.52951992770953.geojson_L2A.gpkg\""
      ]
     },
     "metadata": {},
     "output_type": "display_data"
    }
   ],
   "source": [
    "all_gedil2_f"
   ]
  },
  {
   "cell_type": "code",
   "execution_count": 94,
   "id": "4ec81551-5eed-4c0a-8a75-535981efd091",
   "metadata": {
    "tags": []
   },
   "outputs": [
    {
     "data": {
      "text/html": [],
      "text/latex": [],
      "text/markdown": [],
      "text/plain": [
       "character(0)"
      ]
     },
     "metadata": {},
     "output_type": "display_data"
    }
   ],
   "source": [
    "\n",
    "all_gedil2_f "
   ]
  }
 ],
 "metadata": {
  "kernelspec": {
   "display_name": "R [conda env:r-with-gdal]",
   "language": "R",
   "name": "conda-env-r-with-gdal-r"
  },
  "language_info": {
   "codemirror_mode": "r",
   "file_extension": ".r",
   "mimetype": "text/x-r-source",
   "name": "R",
   "pygments_lexer": "r",
   "version": "4.3.1"
  }
 },
 "nbformat": 4,
 "nbformat_minor": 5
}
