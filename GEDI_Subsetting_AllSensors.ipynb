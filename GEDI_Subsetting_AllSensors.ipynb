{
 "cells": [
  {
   "cell_type": "raw",
   "id": "94e9fc8f-e355-4853-a525-cd31772cba59",
   "metadata": {},
   "source": [
    "For loops to pull L2A, L2B, L4A\n",
    "\n",
    "sensor = \"L2B\"\n",
    "\n",
    "If L2B run L2B subsetter"
   ]
  },
  {
   "cell_type": "markdown",
   "id": "3633374e",
   "metadata": {},
   "source": [
    "This code works through the GEDI subsetter version 0.6.0. This converts a geojson of tiles over a study area to temp geojson files to feed into the subsetter"
   ]
  },
  {
   "cell_type": "code",
   "execution_count": 1,
   "id": "19b8daec",
   "metadata": {
    "tags": []
   },
   "outputs": [],
   "source": [
    "#Open the MAAP host\n",
    "from maap.maap import MAAP\n",
    "maap = MAAP(maap_host='api.maap-project.org')\n"
   ]
  },
  {
   "cell_type": "code",
   "execution_count": 2,
   "id": "8dfe988a",
   "metadata": {
    "tags": []
   },
   "outputs": [],
   "source": [
    "#pip install geopandas\n",
    "#pip install shapely\n",
    "#Import numpy for making column inputs easier\n",
    "import numpy as np\n",
    "import geopandas as gpd\n",
    "import shapely\n",
    "import glob\n",
    "import os\n",
    "import pandas as pd\n",
    "import fiona"
   ]
  },
  {
   "cell_type": "code",
   "execution_count": 3,
   "id": "d38fec66-08ed-4d39-8228-ff123815e1de",
   "metadata": {
    "tags": []
   },
   "outputs": [],
   "source": [
    "import xml.etree.ElementTree as ET\n",
    "from urllib.parse import urlparse\n",
    "\n",
    "def job_status_for(job_id: str) -> str:\n",
    "    response = maap.getJobStatus(job_id)\n",
    "    response.raise_for_status()\n",
    "    \n",
    "    root = ET.fromstring(response.text)\n",
    "    status_element = root.find('.//{http://www.opengis.net/wps/2.0}Status')\n",
    "    \n",
    "    return status_element.text\n",
    "\n",
    "def job_result_for(job_id: str) -> str:\n",
    "    response = maap.getJobResult(job_id)\n",
    "    response.raise_for_status()\n",
    "    \n",
    "    root = ET.fromstring(response.text)\n",
    "\n",
    "    return root.find('.//{http://www.opengis.net/wps/2.0}Data').text\n",
    "\n",
    "def to_job_output_dir(job_result_url: str) -> str:\n",
    "    url_path = urlparse(job_result_url).path\n",
    "    # The S3 Key is the URL path excluding the `/{username}` prefix\n",
    "    s3_key = \"/\".join(url_path.split(\"/\")[2:])\n",
    "\n",
    "    return f\"/projects/my-private-bucket/{s3_key}\""
   ]
  },
  {
   "cell_type": "code",
   "execution_count": 4,
   "id": "e59bab5d-9978-4684-9356-5f071f695288",
   "metadata": {
    "tags": []
   },
   "outputs": [],
   "source": [
    "#Needed For L2B\n",
    "#Create empty variables to fill with all 29 appearances of cover_z* and pai_z* \n",
    "variables = []\n",
    "for n in np.arange(0, 30,1):\n",
    "    variables.append('cover_z' + str(n))\n",
    "    variables.append('pai_z' + str(n))"
   ]
  },
  {
   "cell_type": "code",
   "execution_count": 6,
   "id": "b512583d-7241-4b37-8d26-da843bc8ad0d",
   "metadata": {
    "tags": []
   },
   "outputs": [
    {
     "data": {
      "text/plain": [
       "'/projects/GEDI_PA/MAAP_GEDIAnalysis'"
      ]
     },
     "execution_count": 6,
     "metadata": {},
     "output_type": "execute_result"
    }
   ],
   "source": [
    "cwd = os.getcwd()\n",
    "cwd"
   ]
  },
  {
   "cell_type": "code",
   "execution_count": 7,
   "id": "0eb674a0-c067-49eb-b9d5-325d1fa33843",
   "metadata": {
    "tags": []
   },
   "outputs": [],
   "source": [
    "os.chdir('/projects/GEDI_PA')"
   ]
  },
  {
   "cell_type": "code",
   "execution_count": 31,
   "id": "67a9e647-879c-4e95-bdf7-5cf4a182308e",
   "metadata": {
    "tags": []
   },
   "outputs": [
    {
     "name": "stdout",
     "output_type": "stream",
     "text": [
      "['N12.30728831742391W-10.52951992770953.geojson', 'N12.30728831742391W-11.52951992770953.geojson', 'N12.30728831742391W-12.52951992770953.geojson', 'N12.30728831742391W-13.52951992770953.geojson', 'N12.30728831742391W-14.52951992770953.geojson', 'N12.30728831742391W-15.52951992770953.geojson', 'N12.30728831742391W-16.52951992770953.geojson', 'N12.30728831742391W-17.52951992770953.geojson', 'N13.30728831742391W-10.52951992770953.geojson', 'N13.30728831742391W-11.52951992770953.geojson', 'N13.30728831742391W-12.52951992770953.geojson', 'N13.30728831742391W-13.52951992770953.geojson', 'N13.30728831742391W-14.52951992770953.geojson', 'N13.30728831742391W-15.52951992770953.geojson', 'N13.30728831742391W-16.52951992770953.geojson', 'N13.30728831742391W-17.52951992770953.geojson', 'N14.30728831742391W-10.52951992770953.geojson', 'N14.30728831742391W-11.52951992770953.geojson', 'N14.30728831742391W-12.52951992770953.geojson', 'N14.30728831742391W-13.52951992770953.geojson', 'N14.30728831742391W-14.52951992770953.geojson', 'N14.30728831742391W-15.52951992770953.geojson', 'N14.30728831742391W-16.52951992770953.geojson', 'N14.30728831742391W-17.52951992770953.geojson', 'N15.30728831742391W-10.52951992770953.geojson', 'N15.30728831742391W-11.52951992770953.geojson', 'N15.30728831742391W-12.52951992770953.geojson', 'N15.30728831742391W-13.52951992770953.geojson', 'N15.30728831742391W-14.52951992770953.geojson', 'N15.30728831742391W-15.52951992770953.geojson', 'N15.30728831742391W-16.52951992770953.geojson', 'N15.30728831742391W-17.52951992770953.geojson', 'N16.30728831742391W-10.52951992770953.geojson', 'N16.30728831742391W-11.52951992770953.geojson', 'N16.30728831742391W-12.52951992770953.geojson', 'N16.30728831742391W-13.52951992770953.geojson', 'N16.30728831742391W-14.52951992770953.geojson', 'N16.30728831742391W-15.52951992770953.geojson', 'N16.30728831742391W-16.52951992770953.geojson', 'N16.30728831742391W-17.52951992770953.geojson', 'N17.30728831742391W-10.52951992770953.geojson', 'N17.30728831742391W-11.52951992770953.geojson', 'N17.30728831742391W-12.52951992770953.geojson', 'N17.30728831742391W-13.52951992770953.geojson', 'N17.30728831742391W-14.52951992770953.geojson', 'N17.30728831742391W-15.52951992770953.geojson', 'N17.30728831742391W-16.52951992770953.geojson', 'N17.30728831742391W-17.52951992770953.geojson']\n"
     ]
    }
   ],
   "source": [
    "result_folder = \"/projects/shared-buckets/abarenblitt/SEN_Tiles\"\n",
    "AOIS = [file for file in os.listdir(result_folder) if file.endswith('.geojson')]\n",
    "print(AOIS)\n",
    "# for each_aoi in AOIS:\n",
    "#     aoi_url = os.path.join('s3://maap-ops-workspace/shared/abarenblitt/SEN_Tiles', each_aoi)\n",
    "#     print(aoi_url)"
   ]
  },
  {
   "cell_type": "code",
   "execution_count": 29,
   "id": "40194482-cbcc-431e-989a-de086b6996a0",
   "metadata": {
    "tags": []
   },
   "outputs": [],
   "source": [
    "PRODUCTS = [\"L4A\",\"L2A\",\"L2B\"]"
   ]
  },
  {
   "cell_type": "code",
   "execution_count": 34,
   "id": "d1148dc4-6335-452f-91eb-9215504ed072",
   "metadata": {
    "tags": []
   },
   "outputs": [
    {
     "name": "stdout",
     "output_type": "stream",
     "text": [
      "Thanks, I'll run the GEDI L4A subsetter!!\n",
      "Thanks, I'll run the GEDI L2B subsetter!!\n",
      "Thanks, I'll run the GEDI L2A subsetter!!\n",
      "Thanks, I'll run the GEDI L4A subsetter!!\n",
      "Thanks, I'll run the GEDI L2B subsetter!!\n",
      "Thanks, I'll run the GEDI L2A subsetter!!\n",
      "Thanks, I'll run the GEDI L4A subsetter!!\n",
      "Thanks, I'll run the GEDI L2B subsetter!!\n",
      "Thanks, I'll run the GEDI L2A subsetter!!\n",
      "Thanks, I'll run the GEDI L4A subsetter!!\n",
      "Thanks, I'll run the GEDI L2B subsetter!!\n",
      "Thanks, I'll run the GEDI L2A subsetter!!\n",
      "Thanks, I'll run the GEDI L4A subsetter!!\n",
      "Thanks, I'll run the GEDI L2B subsetter!!\n",
      "Thanks, I'll run the GEDI L2A subsetter!!\n",
      "Thanks, I'll run the GEDI L4A subsetter!!\n",
      "Thanks, I'll run the GEDI L2B subsetter!!\n",
      "Thanks, I'll run the GEDI L2A subsetter!!\n",
      "Thanks, I'll run the GEDI L4A subsetter!!\n",
      "Thanks, I'll run the GEDI L2B subsetter!!\n",
      "Thanks, I'll run the GEDI L2A subsetter!!\n",
      "Thanks, I'll run the GEDI L4A subsetter!!\n",
      "Thanks, I'll run the GEDI L2B subsetter!!\n",
      "Thanks, I'll run the GEDI L2A subsetter!!\n",
      "Thanks, I'll run the GEDI L4A subsetter!!\n",
      "Thanks, I'll run the GEDI L2B subsetter!!\n",
      "Thanks, I'll run the GEDI L2A subsetter!!\n",
      "Thanks, I'll run the GEDI L4A subsetter!!\n",
      "Thanks, I'll run the GEDI L2B subsetter!!\n",
      "Thanks, I'll run the GEDI L2A subsetter!!\n",
      "Thanks, I'll run the GEDI L4A subsetter!!\n",
      "Thanks, I'll run the GEDI L2B subsetter!!\n",
      "Thanks, I'll run the GEDI L2A subsetter!!\n",
      "Thanks, I'll run the GEDI L4A subsetter!!\n",
      "Thanks, I'll run the GEDI L2B subsetter!!\n",
      "Thanks, I'll run the GEDI L2A subsetter!!\n",
      "Thanks, I'll run the GEDI L4A subsetter!!\n",
      "Thanks, I'll run the GEDI L2B subsetter!!\n",
      "Thanks, I'll run the GEDI L2A subsetter!!\n",
      "Thanks, I'll run the GEDI L4A subsetter!!\n",
      "Thanks, I'll run the GEDI L2B subsetter!!\n",
      "Thanks, I'll run the GEDI L2A subsetter!!\n",
      "Thanks, I'll run the GEDI L4A subsetter!!\n",
      "Thanks, I'll run the GEDI L2B subsetter!!\n",
      "Thanks, I'll run the GEDI L2A subsetter!!\n",
      "Thanks, I'll run the GEDI L4A subsetter!!\n",
      "Thanks, I'll run the GEDI L2B subsetter!!\n",
      "Thanks, I'll run the GEDI L2A subsetter!!\n",
      "Thanks, I'll run the GEDI L4A subsetter!!\n",
      "Thanks, I'll run the GEDI L2B subsetter!!\n",
      "Thanks, I'll run the GEDI L2A subsetter!!\n",
      "Thanks, I'll run the GEDI L4A subsetter!!\n",
      "Thanks, I'll run the GEDI L2B subsetter!!\n",
      "Thanks, I'll run the GEDI L2A subsetter!!\n",
      "Thanks, I'll run the GEDI L4A subsetter!!\n",
      "Thanks, I'll run the GEDI L2B subsetter!!\n",
      "Thanks, I'll run the GEDI L2A subsetter!!\n",
      "Thanks, I'll run the GEDI L4A subsetter!!\n",
      "Thanks, I'll run the GEDI L2B subsetter!!\n",
      "Thanks, I'll run the GEDI L2A subsetter!!\n",
      "Thanks, I'll run the GEDI L4A subsetter!!\n",
      "Thanks, I'll run the GEDI L2B subsetter!!\n",
      "Thanks, I'll run the GEDI L2A subsetter!!\n",
      "Thanks, I'll run the GEDI L4A subsetter!!\n",
      "Thanks, I'll run the GEDI L2B subsetter!!\n",
      "Thanks, I'll run the GEDI L2A subsetter!!\n",
      "Thanks, I'll run the GEDI L4A subsetter!!\n",
      "Thanks, I'll run the GEDI L2B subsetter!!\n",
      "Thanks, I'll run the GEDI L2A subsetter!!\n",
      "Thanks, I'll run the GEDI L4A subsetter!!\n",
      "Thanks, I'll run the GEDI L2B subsetter!!\n",
      "Thanks, I'll run the GEDI L2A subsetter!!\n",
      "Thanks, I'll run the GEDI L4A subsetter!!\n",
      "Thanks, I'll run the GEDI L2B subsetter!!\n",
      "Thanks, I'll run the GEDI L2A subsetter!!\n",
      "Thanks, I'll run the GEDI L4A subsetter!!\n",
      "Thanks, I'll run the GEDI L2B subsetter!!\n",
      "Thanks, I'll run the GEDI L2A subsetter!!\n",
      "Thanks, I'll run the GEDI L4A subsetter!!\n",
      "Thanks, I'll run the GEDI L2B subsetter!!\n",
      "Thanks, I'll run the GEDI L2A subsetter!!\n",
      "Thanks, I'll run the GEDI L4A subsetter!!\n",
      "Thanks, I'll run the GEDI L2B subsetter!!\n",
      "Thanks, I'll run the GEDI L2A subsetter!!\n",
      "Thanks, I'll run the GEDI L4A subsetter!!\n",
      "Thanks, I'll run the GEDI L2B subsetter!!\n",
      "Thanks, I'll run the GEDI L2A subsetter!!\n",
      "Thanks, I'll run the GEDI L4A subsetter!!\n",
      "Thanks, I'll run the GEDI L2B subsetter!!\n",
      "Thanks, I'll run the GEDI L2A subsetter!!\n",
      "Thanks, I'll run the GEDI L4A subsetter!!\n",
      "Thanks, I'll run the GEDI L2B subsetter!!\n",
      "Thanks, I'll run the GEDI L2A subsetter!!\n",
      "Thanks, I'll run the GEDI L4A subsetter!!\n",
      "Thanks, I'll run the GEDI L2B subsetter!!\n",
      "Thanks, I'll run the GEDI L2A subsetter!!\n",
      "Thanks, I'll run the GEDI L4A subsetter!!\n",
      "Thanks, I'll run the GEDI L2B subsetter!!\n",
      "Thanks, I'll run the GEDI L2A subsetter!!\n",
      "Thanks, I'll run the GEDI L4A subsetter!!\n",
      "Thanks, I'll run the GEDI L2B subsetter!!\n",
      "Thanks, I'll run the GEDI L2A subsetter!!\n",
      "Thanks, I'll run the GEDI L4A subsetter!!\n",
      "Thanks, I'll run the GEDI L2B subsetter!!\n",
      "Thanks, I'll run the GEDI L2A subsetter!!\n",
      "Thanks, I'll run the GEDI L4A subsetter!!\n",
      "Thanks, I'll run the GEDI L2B subsetter!!\n",
      "Thanks, I'll run the GEDI L2A subsetter!!\n",
      "Thanks, I'll run the GEDI L4A subsetter!!\n",
      "Thanks, I'll run the GEDI L2B subsetter!!\n",
      "Thanks, I'll run the GEDI L2A subsetter!!\n",
      "Thanks, I'll run the GEDI L4A subsetter!!\n",
      "Thanks, I'll run the GEDI L2B subsetter!!\n",
      "Thanks, I'll run the GEDI L2A subsetter!!\n",
      "Thanks, I'll run the GEDI L4A subsetter!!\n",
      "Thanks, I'll run the GEDI L2B subsetter!!\n",
      "Thanks, I'll run the GEDI L2A subsetter!!\n",
      "Thanks, I'll run the GEDI L4A subsetter!!\n",
      "Thanks, I'll run the GEDI L2B subsetter!!\n",
      "Thanks, I'll run the GEDI L2A subsetter!!\n",
      "Thanks, I'll run the GEDI L4A subsetter!!\n",
      "Thanks, I'll run the GEDI L2B subsetter!!\n",
      "Thanks, I'll run the GEDI L2A subsetter!!\n",
      "Thanks, I'll run the GEDI L4A subsetter!!\n",
      "Thanks, I'll run the GEDI L2B subsetter!!\n",
      "Thanks, I'll run the GEDI L2A subsetter!!\n",
      "Thanks, I'll run the GEDI L4A subsetter!!\n",
      "Thanks, I'll run the GEDI L2B subsetter!!\n",
      "Thanks, I'll run the GEDI L2A subsetter!!\n",
      "Thanks, I'll run the GEDI L4A subsetter!!\n",
      "Thanks, I'll run the GEDI L2B subsetter!!\n",
      "Thanks, I'll run the GEDI L2A subsetter!!\n",
      "Thanks, I'll run the GEDI L4A subsetter!!\n",
      "Thanks, I'll run the GEDI L2B subsetter!!\n",
      "Thanks, I'll run the GEDI L2A subsetter!!\n",
      "Thanks, I'll run the GEDI L4A subsetter!!\n",
      "Thanks, I'll run the GEDI L2B subsetter!!\n",
      "Thanks, I'll run the GEDI L2A subsetter!!\n",
      "Thanks, I'll run the GEDI L4A subsetter!!\n",
      "Thanks, I'll run the GEDI L2B subsetter!!\n",
      "Thanks, I'll run the GEDI L2A subsetter!!\n",
      "Thanks, I'll run the GEDI L4A subsetter!!\n",
      "Thanks, I'll run the GEDI L2B subsetter!!\n",
      "Thanks, I'll run the GEDI L2A subsetter!!\n"
     ]
    }
   ],
   "source": [
    "#Set up run to pull products for all GEDI products simultaneously\n",
    "#To run for only 1 or 2 products, change \"PRODUCTS\"\n",
    "\n",
    "for aoi in AOIS:\n",
    "    if \"L4A\" in PRODUCTS: \n",
    "        print(\"Thanks, I'll run the GEDI L4A subsetter!!\")\n",
    "        aoi_url = os.path.join('s3://maap-ops-workspace/shared/abarenblitt/SEN_tiles', aoi)\n",
    "        # aoi_url = os.path.basename(each_aoi)\n",
    "        inputs = dict(\n",
    "           aoi=aoi_url,\n",
    "           doi=\"L4A\",\n",
    "           lat=\"lat_lowestmode\",\n",
    "           lon=\"lon_lowestmode\",\n",
    "           beams=\"all\",\n",
    "           columns=\"shot_number,lat_lowestmode,lon_lowestmode,agbd,agbd_se,agbd_t,agbd_t_se,agbd_pi_upper,agbd_pi_lower,sensitivity,predictor_limit_flag,response_limit_flag,selected_algorithm,selected_mode,selected_mode_flag\",\n",
    "           query=\"l2_quality_flag == 1 and l4_quality_flag == 1 and sensitivity > 0.95 and `geolocation/sensitivity_a2` > 0.95\",\n",
    "           limit = 10_000,\n",
    "           output= os.path.basename(aoi).split('.')[0] + \"_L4A.gpkg\"\n",
    "        )\n",
    "        result = maap.submitJob(\n",
    "            identifier=\"gedi-subset\",\n",
    "            algo_id=\"gedi-subset\",\n",
    "            version=\"0.7.0\",\n",
    "            queue=\"maap-dps-worker-32gb\",\n",
    "            username=\"abarenblitt\",\n",
    "            **inputs\n",
    "        )\n",
    "        inputs\n",
    "        job_id = result.id\n",
    "        job_id or result\n",
    "\n",
    "    if \"L2B\" in PRODUCTS: \n",
    "        print(\"Thanks, I'll run the GEDI L2B subsetter!!\")\n",
    "        aoi_url = os.path.join('s3://maap-ops-workspace/shared/abarenblitt/SEN_tiles', aoi)\n",
    "        inputs = dict(\n",
    "           aoi=aoi_url,\n",
    "           doi=\"L2B\",\n",
    "           lat=\"geolocation/lat_lowestmode\",\n",
    "           lon=\"geolocation/lon_lowestmode\",\n",
    "           beams=\"all\",\n",
    "           columns=\"shot_number,geolocation/lon_lowestmode,geolocation/lat_lowestmode,rh100, l2b_quality_flag,sensitivity,cover,land_cover_data/landsat_treecover, pai,fhd_normal,\"+\",\".join(variables),\n",
    "           query=\"l2a_quality_flag == 1 and l2b_quality_flag == 1 and sensitivity > 0.95\",\n",
    "           limit = 10_000,\n",
    "           output= os.path.basename(aoi).split('.')[0] + \"_L2B.gpkg\"\n",
    "        )\n",
    "        result = maap.submitJob(\n",
    "            identifier=\"gedi-subset\",\n",
    "            algo_id=\"gedi-subset\",\n",
    "            version=\"0.7.0\",\n",
    "            queue=\"maap-dps-worker-32gb\",\n",
    "            username=\"abarenblitt\",\n",
    "            **inputs\n",
    "        )\n",
    "        inputs\n",
    "        job_id = result.id\n",
    "        job_id or result\n",
    "\n",
    "\n",
    "    if \"L2A\" in PRODUCTS: \n",
    "        print(\"Thanks, I'll run the GEDI L2A subsetter!!\")\n",
    "        aoi_url = os.path.join('s3://maap-ops-workspace/shared/abarenblitt/SEN_tiles', aoi)\n",
    "        inputs = dict(\n",
    "           aoi=aoi_url,\n",
    "           doi=\"L2A\",\n",
    "           lat=\"lat_lowestmode\",\n",
    "           lon=\"lon_lowestmode\",\n",
    "           beams=\"all\",\n",
    "           columns=\"geolocation/sensitivity_a2,shot_number,lon_lowestmode,lat_lowestmode,rh25,rh50,rh75,rh90,rh98\",\n",
    "           query=\"quality_flag == 1 and geolocation.sensitivity_a2 > 0.95\", ## geolocation.sensitivity_a2 > 0.95\n",
    "           limit = 10_000,\n",
    "           output= os.path.basename(aoi).split('.')[0] + \"_L2A.csv\"\n",
    "        )\n",
    "        result = maap.submitJob(\n",
    "            identifier=\"gedi-subset\",\n",
    "            algo_id=\"gedi-subset\",\n",
    "            version=\"0.7.0\",\n",
    "            queue=\"maap-dps-worker-32gb\",\n",
    "            username=\"abarenblitt\",\n",
    "            **inputs\n",
    "        )\n",
    "        inputs\n",
    "        job_id = result.id\n",
    "        job_id or result\n",
    "        \n",
    "# Need to choose 1 of 6 algorithms for ground-finding for each shot CHECK WITH LAURA"
   ]
  },
  {
   "cell_type": "code",
   "execution_count": 8,
   "id": "d6acb272-376e-4617-91ea-0c5a3d63315f",
   "metadata": {
    "tags": []
   },
   "outputs": [
    {
     "data": {
      "text/plain": [
       "'9df0a35f-29ee-43d8-807b-9d177da4f44d'"
      ]
     },
     "execution_count": 8,
     "metadata": {},
     "output_type": "execute_result"
    }
   ],
   "source": [
    "job_id or result"
   ]
  },
  {
   "cell_type": "code",
   "execution_count": 9,
   "id": "8f3ba488-cee0-49e6-9b60-d387c3f6b265",
   "metadata": {},
   "outputs": [
    {
     "name": "stdout",
     "output_type": "stream",
     "text": [
      "Found directory: /projects/my-private-bucket/dps_output/gedi-subset/0.6.2/gedi-subset/2024/02/27\n",
      "Found directory: /projects/my-private-bucket/dps_output/gedi-subset/0.6.2/gedi-subset/2024/02/27/12\n",
      "Found directory: /projects/my-private-bucket/dps_output/gedi-subset/0.6.2/gedi-subset/2024/02/27/12/46\n",
      "Found directory: /projects/my-private-bucket/dps_output/gedi-subset/0.6.2/gedi-subset/2024/02/27/12/46/09\n",
      "Found directory: /projects/my-private-bucket/dps_output/gedi-subset/0.6.2/gedi-subset/2024/02/27/12/46/09/010752\n",
      "SEN_admin_L4A.gpkg\n",
      "Found directory: /projects/my-private-bucket/dps_output/gedi-subset/0.6.2/gedi-subset/2024/02/27/16\n",
      "Found directory: /projects/my-private-bucket/dps_output/gedi-subset/0.6.2/gedi-subset/2024/02/27/16/18\n",
      "Found directory: /projects/my-private-bucket/dps_output/gedi-subset/0.6.2/gedi-subset/2024/02/27/16/18/27\n",
      "Found directory: /projects/my-private-bucket/dps_output/gedi-subset/0.6.2/gedi-subset/2024/02/27/16/18/27/006542\n",
      "SEN_admin_L2A.gpkg\n"
     ]
    }
   ],
   "source": [
    "import os\n",
    "import subprocess\n",
    "\n",
    "root_dir = '/projects/my-private-bucket/dps_output/gedi-subset/0.6.2/gedi-subset/2024/02/27' #Can now set name\n",
    "out_dir = '~/GEDI_PA/Matching_Layers/SEN'\n",
    "for dirName, subdirList, fileList in os.walk(root_dir):\n",
    "    print('Found directory: %s' % dirName)\n",
    "    for fname in fileList:\n",
    "        if fname.endswith('.gpkg'):\n",
    "            print(fname)\n",
    "            subprocess.call('cp ' + os.path.join(dirName, fname) + ' ' + os.path.join(out_dir, fname),shell=True)"
   ]
  },
  {
   "cell_type": "code",
   "execution_count": 21,
   "id": "01555444-61b2-4063-b86c-cb5e1016fed7",
   "metadata": {},
   "outputs": [
    {
     "data": {
      "text/plain": [
       "pandas.core.frame.DataFrame"
      ]
     },
     "execution_count": 21,
     "metadata": {},
     "output_type": "execute_result"
    }
   ],
   "source": [
    "# LIST_OF_OUTPUTS = glob.glob(\"/projects/my-private-bucket/dps_output/gedi-subset/0.6.2/GGNP/*.gpkg\")\n",
    "\n",
    "LIST_OF_COUNTRIES = ['GGNP/GGNPBorder']\n",
    "\n",
    "\n",
    "for each_country in LIST_OF_COUNTRIES:\n",
    "    L2A = gpd.read_file('/projects/my-private-bucket/dps_output/gedi-subset/0.6.2/' + each_country +'_L2A.gpkg')\n",
    "    L2B = gpd.read_file('/projects/my-private-bucket/dps_output/gedi-subset/0.6.2/'+ each_country +'_L2B.gpkg')\n",
    "    L4A = gpd.read_file('/projects/my-private-bucket/dps_output/gedi-subset/0.6.2/'+ each_country +'_L4A.gpkg')\n",
    "    combo = L2A.merge(L2B,on='shot_number').merge(L4A,on='shot_number')\n",
    "    combo\n",
    "\n",
    "type(combo)"
   ]
  },
  {
   "cell_type": "code",
   "execution_count": 31,
   "id": "82b88d7a-474f-4673-9657-b20eadcfe52a",
   "metadata": {
    "tags": []
   },
   "outputs": [
    {
     "data": {
      "text/plain": [
       "['filename_x',\n",
       " 'rh25',\n",
       " 'rh98',\n",
       " 'lat_lowestmode_x',\n",
       " 'shot_number',\n",
       " 'rh50',\n",
       " 'rh90',\n",
       " 'rh75',\n",
       " 'lon_lowestmode_x',\n",
       " 'geolocation/sensitivity_a2',\n",
       " 'geometry_x',\n",
       " 'filename_y',\n",
       " 'pai_z9',\n",
       " 'pai_z10',\n",
       " 'cover_z20',\n",
       " 'pai_z29',\n",
       " 'cover_z10',\n",
       " 'pai_z18',\n",
       " 'cover_z1',\n",
       " 'pai_z24',\n",
       " 'cover_z19',\n",
       " 'pai',\n",
       " 'cover_z4',\n",
       " 'pai_z14',\n",
       " 'cover_z25',\n",
       " 'cover_z29',\n",
       " 'cover_z5',\n",
       " 'pai_z17',\n",
       " 'fhd_normal',\n",
       " 'cover_z18',\n",
       " 'rh100',\n",
       " 'pai_z26',\n",
       " 'cover_z17',\n",
       " 'pai_z6',\n",
       " 'cover_z13',\n",
       " 'pai_z27',\n",
       " 'pai_z22',\n",
       " 'pai_z5',\n",
       " 'pai_z20',\n",
       " 'geolocation/lat_lowestmode',\n",
       " 'pai_z8',\n",
       " 'l2b_quality_flag',\n",
       " 'cover_z26',\n",
       " 'cover_z6',\n",
       " 'land_cover_data/landsat_treecover',\n",
       " 'cover_z11',\n",
       " 'pai_z12',\n",
       " 'pai_z1',\n",
       " 'cover_z14',\n",
       " 'cover_z9',\n",
       " 'pai_z11',\n",
       " 'pai_z23',\n",
       " 'cover_z7',\n",
       " 'pai_z0',\n",
       " 'cover_z12',\n",
       " 'pai_z4',\n",
       " 'geolocation/lon_lowestmode',\n",
       " 'cover_z0',\n",
       " 'pai_z16',\n",
       " 'pai_z15',\n",
       " 'cover_z16',\n",
       " 'pai_z13',\n",
       " 'cover_z2',\n",
       " 'sensitivity_x',\n",
       " 'pai_z7',\n",
       " 'pai_z28',\n",
       " 'pai_z2',\n",
       " 'cover_z8',\n",
       " 'pai_z19',\n",
       " 'cover_z21',\n",
       " 'cover_z27',\n",
       " 'cover_z22',\n",
       " 'cover_z24',\n",
       " 'cover_z23',\n",
       " 'cover_z3',\n",
       " 'pai_z25',\n",
       " 'pai_z21',\n",
       " 'cover_z28',\n",
       " 'cover_z15',\n",
       " 'pai_z3',\n",
       " 'cover',\n",
       " 'geometry_y',\n",
       " 'filename',\n",
       " 'agbd_pi_upper',\n",
       " 'agbd_pi_lower',\n",
       " 'predictor_limit_flag',\n",
       " 'selected_algorithm',\n",
       " 'lon_lowestmode_y',\n",
       " 'sensitivity_y',\n",
       " 'selected_mode_flag',\n",
       " 'agbd_t',\n",
       " 'agbd_se',\n",
       " 'agbd_t_se',\n",
       " 'selected_mode',\n",
       " 'response_limit_flag',\n",
       " 'lat_lowestmode_y',\n",
       " 'agbd',\n",
       " 'geometry']"
      ]
     },
     "execution_count": 31,
     "metadata": {},
     "output_type": "execute_result"
    }
   ],
   "source": [
    "list(combo.columns)"
   ]
  }
 ],
 "metadata": {
  "kernelspec": {
   "display_name": "Python 3 (ipykernel)",
   "language": "python",
   "name": "python3"
  },
  "language_info": {
   "codemirror_mode": {
    "name": "ipython",
    "version": 3
   },
   "file_extension": ".py",
   "mimetype": "text/x-python",
   "name": "python",
   "nbconvert_exporter": "python",
   "pygments_lexer": "ipython3",
   "version": "3.10.13"
  }
 },
 "nbformat": 4,
 "nbformat_minor": 5
}
