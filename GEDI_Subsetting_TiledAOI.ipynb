{
 "cells": [
  {
   "cell_type": "code",
   "execution_count": 142,
   "id": "f797263a",
   "metadata": {},
   "outputs": [
    {
     "name": "stdout",
     "output_type": "stream",
     "text": [
      "<class 'geopandas.geodataframe.GeoDataFrame'>\n"
     ]
    }
   ],
   "source": [
    "#for aoi in list_aois[:1]:\n",
    "    #shape = shapely.to_geojson(tiles.loc[aoi,\"geometry\"])\n",
    "    #f = write_json(shape)\n",
    "#    tile = tiles[tiles['random']==aoi]\n",
    "    #print(type(tile))\n",
    "#    tile.to_file('temp.geojson')\n",
    "    "
   ]
  },
  {
   "cell_type": "markdown",
   "id": "3633374e",
   "metadata": {},
   "source": [
    "This code works through the GEDI subsetter version 0.6.0. This converts a geojson of tiles over a study area to temp geojson files to feed into the subsetter"
   ]
  },
  {
   "cell_type": "code",
   "execution_count": 1,
   "id": "19b8daec",
   "metadata": {},
   "outputs": [],
   "source": [
    "#Open the MAAP host\n",
    "from maap.maap import MAAP\n",
    "maap = MAAP(maap_host='api.maap-project.org')\n"
   ]
  },
  {
   "cell_type": "code",
   "execution_count": 4,
   "id": "8dfe988a",
   "metadata": {},
   "outputs": [],
   "source": [
    "#pip install geopandas\n",
    "#pip install shapely\n",
    "#Import numpy for making column inputs easier\n",
    "import numpy as np\n",
    "import geopandas as gpd\n",
    "import shapely"
   ]
  },
  {
   "cell_type": "code",
   "execution_count": 5,
   "id": "e589f3ed",
   "metadata": {},
   "outputs": [],
   "source": [
    "#Load in Tiled AOI\n",
    "tiles = gpd.read_file(\"https://maap-ops-workspace.s3.amazonaws.com/shared/abarenblitt/EEZBounds/WestAfricaGrid.geojson\")"
   ]
  },
  {
   "cell_type": "code",
   "execution_count": 12,
   "id": "f2639bfe",
   "metadata": {},
   "outputs": [],
   "source": [
    "import os\n",
    "\n",
    "result_folder = \"../aoi/WestAfricaGrid\""
   ]
  },
  {
   "cell_type": "code",
   "execution_count": 4,
   "id": "bdf94f28",
   "metadata": {},
   "outputs": [
    {
     "data": {
      "text/plain": [
       "151"
      ]
     },
     "execution_count": 4,
     "metadata": {},
     "output_type": "execute_result"
    }
   ],
   "source": [
    "\n",
    "\n",
    "if not os.path.exists(result_folder):\n",
    "    os.makedirs(result_folder)\n",
    "\n",
    "for rownum, subframe in tiles.groupby(\"random\"):\n",
    "    filename = os.path.join(result_folder, f\"{rownum}.geojson\")\n",
    "    subframe.to_file(filename, driver='GeoJSON')\n",
    "\n",
    "len(os.listdir(result_folder))"
   ]
  },
  {
   "cell_type": "code",
   "execution_count": 156,
   "id": "9397f6a4",
   "metadata": {},
   "outputs": [],
   "source": [
    "#os.listdir(result_folder)"
   ]
  },
  {
   "cell_type": "code",
   "execution_count": 61,
   "id": "3631e5e5",
   "metadata": {},
   "outputs": [],
   "source": [
    "#Set index to the correct column name, in this case \"random\"\n",
    "#tiles.set_index('random',inplace=True)\n",
    "#print(tiles.head())"
   ]
  },
  {
   "cell_type": "code",
   "execution_count": 62,
   "id": "d2bf185a",
   "metadata": {},
   "outputs": [],
   "source": [
    "#for col in tiles.columns:\n",
    "#    print(col)"
   ]
  },
  {
   "cell_type": "code",
   "execution_count": 63,
   "id": "9ccadfd6",
   "metadata": {},
   "outputs": [],
   "source": [
    "#tiles['random_value'] = tiles.index"
   ]
  },
  {
   "cell_type": "code",
   "execution_count": 64,
   "id": "712b3e8a",
   "metadata": {},
   "outputs": [],
   "source": [
    "#Test a single tile\n",
    "#tiles.loc[0.6855097362903453]"
   ]
  },
  {
   "cell_type": "markdown",
   "id": "d48cf92d",
   "metadata": {},
   "source": [
    "Use \"random\" column for ID to generate features to tile over"
   ]
  },
  {
   "cell_type": "code",
   "execution_count": 65,
   "id": "7be71d78",
   "metadata": {},
   "outputs": [],
   "source": [
    "#List out the individual aois\n",
    "#list_aois = tiles.index.unique().tolist() #tiles[tiles.columns[1]].values.tolist()\n",
    "#print(list_aois)"
   ]
  },
  {
   "cell_type": "code",
   "execution_count": 66,
   "id": "81a29057",
   "metadata": {},
   "outputs": [],
   "source": [
    "#aoiTest=shapely.to_geojson(tiles.loc[0.6855097362903453,\"geometry\"])\n",
    "#print(aoiTest)"
   ]
  },
  {
   "cell_type": "code",
   "execution_count": 6,
   "id": "2605b4bd",
   "metadata": {},
   "outputs": [],
   "source": [
    "#Create empty variables to fill with all 29 appearances of cover_z* and pai_z* \n",
    "variables = []\n",
    "for n in np.arange(0, 30,1):\n",
    "    variables.append('cover_z' + str(n))\n",
    "    variables.append('pai_z' + str(n))\n"
   ]
  },
  {
   "cell_type": "markdown",
   "id": "4d796f9f",
   "metadata": {},
   "source": [
    "For several AOI's run this code:"
   ]
  },
  {
   "cell_type": "code",
   "execution_count": 10,
   "id": "7ebdd3e8",
   "metadata": {},
   "outputs": [],
   "source": [
    "#Set up job results to print output during run\n",
    "\n",
    "import xml.etree.ElementTree as ET\n",
    "from urllib.parse import urlparse\n",
    "\n",
    "def job_status_for(job_id: str) -> str:\n",
    "    response = maap.getJobStatus(job_id)\n",
    "    response.raise_for_status()\n",
    "    \n",
    "    root = ET.fromstring(response.text)\n",
    "    status_element = root.find('.//{http://www.opengis.net/wps/2.0}Status')\n",
    "    \n",
    "    return status_element.text\n",
    "\n",
    "def job_result_for(job_id: str) -> str:\n",
    "    response = maap.getJobResult(job_id)\n",
    "    response.raise_for_status()\n",
    "    \n",
    "    root = ET.fromstring(response.text)\n",
    "\n",
    "    return root.find('.//{http://www.opengis.net/wps/2.0}Data').text\n",
    "\n",
    "def to_job_output_dir(job_result_url: str) -> str:\n",
    "    url_path = urlparse(job_result_url).path\n",
    "    # The S3 Key is the URL path excluding the `/{username}` prefix\n",
    "    s3_key = \"/\".join(url_path.split(\"/\")[2:])\n",
    "\n",
    "    return f\"/projects/my-private-bucket/{s3_key}\""
   ]
  },
  {
   "cell_type": "code",
   "execution_count": 41,
   "id": "e8fe1434",
   "metadata": {},
   "outputs": [],
   "source": [
    "#Import geojson and tempfile for creating temp files for the subsetter\n",
    "\n",
    "#from geojson import Point, Feature, FeatureCollection, dump\n",
    "\n",
    "#import tempfile"
   ]
  },
  {
   "cell_type": "code",
   "execution_count": 23,
   "id": "c9c64886",
   "metadata": {},
   "outputs": [
    {
     "name": "stdout",
     "output_type": "stream",
     "text": [
      "4933834f-004f-4a79-ab5f-fbae86e57e51\n",
      "2b7a982e-ee5d-4986-a443-8e004e1eaffd\n",
      "42a91f41-79ae-431b-9f60-ea2ed4c82eff\n",
      "f65af8fe-78de-4f89-94fa-f1136a69a19f\n",
      "25bd7ce9-558d-44df-b4a8-cabebb9dd55c\n",
      "488747dd-b724-4440-8558-e24a098919b8\n",
      "ed4fdcad-d917-486d-8f94-0c6c6025d57c\n",
      "96b124fa-633b-4bd0-979c-d43e634101b0\n",
      "d3047dcf-27ef-4e5d-8ec0-6998ef42d233\n",
      "6f1e95f1-6e83-461a-bb5a-af2dc7cf6926\n",
      "a3a905fe-08b0-4252-835c-a24b482a5bc3\n",
      "06f7793e-e1f0-4d29-b399-b47fa844e7a3\n",
      "c61ca323-6a53-42bf-904b-5794d6f39f99\n",
      "e18f47ea-ac78-410b-aeb8-9a6c7de7817e\n",
      "96fa653f-c865-4373-85f7-8a14f0eb5bef\n",
      "a855fdee-cbe1-4a57-9192-3aea4caf25a5\n",
      "37093f47-bbdb-48ba-ab78-9eede4c7a47a\n",
      "29051a42-6a7e-4546-a7fb-34005aa6e59c\n",
      "c5c65f7c-5541-459b-a26d-f6315a7c1a2f\n",
      "880c1ebc-abcc-4bdf-b6f3-64ad2f01a4f1\n",
      "eb5031c5-4a99-4094-a1ae-980d3dde19da\n",
      "f5231bc0-ad7a-4f26-8223-4789b88ed0e0\n",
      "49516920-6e4a-434d-b489-44165bd1a449\n",
      "9d48486b-099e-4d0f-a67b-4a07702f8aba\n",
      "b2c9b438-859a-49fe-b62e-876abe52ea1a\n",
      "b4c405f5-8daf-4786-89c1-f73d00517564\n",
      "8c1ffe8d-ccfe-43d1-b796-320126260580\n",
      "e4f89beb-eda5-4a93-bcfc-f0ffa3dce6d8\n",
      "ae9336fd-d1ec-4854-9a5f-a58d4c0adb51\n",
      "1faf541d-6645-4204-bac8-d691b209ec30\n",
      "d735cd8f-9e6b-4f30-8815-235562489648\n",
      "c3cf2de4-411e-43af-857a-14a9609056d4\n",
      "87c3d286-4593-4dbd-b1ac-7cc335c13f6e\n",
      "23bc3467-0e87-46eb-9112-093597a874ef\n",
      "d0e7a71e-88b0-4d95-8c26-6f51bcaba8f4\n",
      "beb6fd4f-75b4-48d7-b003-28bf47adb713\n",
      "5d9d164b-091e-47ab-b4f1-98cdad5f3530\n",
      "5f0ca99d-3bf3-4132-b4fa-8e0e0853cd2b\n",
      "39509cef-2967-4e99-bb71-d96fc7d095c0\n",
      "489b9dbb-2be6-423c-95b1-21ad0204c064\n",
      "e242f6d6-8bb4-4b14-b3e7-561b4effb9b7\n",
      "a1ffa1bf-19a8-4bf9-bfcc-3899100fbda4\n",
      "3ca3981b-afd0-4d63-aee7-c8151a2bcc29\n",
      "6db6a157-e562-4518-bcb2-2c4704561d36\n",
      "9392818c-3688-44a9-99c9-619f65bb9468\n",
      "3022f425-ce01-48f7-bad8-e61995a33009\n",
      "dc1d7906-4533-4b52-9e54-7cdb79fd5671\n",
      "0e94fa7e-4b66-46bb-930a-52f9e04af679\n",
      "5a5ed568-47d5-44c3-9c05-3a2dc9e8bee4\n",
      "89630ec3-a64b-4bfe-aba4-fa368171bb08\n",
      "bdb98de5-e3c1-4bac-bccb-9de4703e9d8e\n",
      "435c226c-6549-44b1-a0b2-2a6db70387a7\n",
      "e7ac82e7-ffd6-42c5-81c5-de01c508aed5\n",
      "b99c5e46-3077-43ab-aedd-d4286a29a5d9\n",
      "3178b2c4-78f8-4927-aa4a-58d8c763810f\n",
      "0d8e65bc-d2d3-4896-93da-f493354f2033\n",
      "7f48e7f0-0233-4a49-a689-5f0deefef570\n",
      "93750ea1-b25e-4106-a23c-c72b0af2ce83\n",
      "f9e15070-ff6d-4956-99d8-4ab85499dcdf\n",
      "b33465fe-0739-4385-81e9-597cb9bb9d89\n",
      "32bc25dd-31a9-48bd-8fa1-526491985f14\n",
      "1a8a5454-cf7d-4283-8f89-ad5d72ac4b8d\n",
      "a1fd7749-fa45-42c4-bd4f-128e898503ad\n",
      "0a5eeb2f-c5fa-4ccd-af80-e8bb3e140b64\n",
      "812bc789-cc62-49ac-bbd6-32cf9041d5c2\n",
      "e5929f09-b9d2-4932-85fc-ef7be4432570\n",
      "bbcb1c3a-4f83-48bd-bbee-12885dc1fdcc\n",
      "84727a50-2de7-4f38-851a-249ea8cadf79\n",
      "1e3f96ab-8a47-4814-8598-b91869eb50f7\n",
      "841112c0-d7dd-40b5-8315-c90386432c25\n",
      "e02c0132-1264-4fbb-8d1d-9f318731bed9\n",
      "695ae0a8-8eb2-4bed-8a58-cdbc85578396\n",
      "f31dc520-6c3b-489c-af9d-fbfcebf9e890\n",
      "038d1089-2da8-4ce9-b098-5c0f042d9434\n",
      "d563e31e-142d-4aed-b32c-b761194e1f3f\n",
      "9cd26dcb-e864-41ad-aac3-ba5a6f1bf2a2\n",
      "28d1ee16-c1b8-4a32-a6c5-3a51bf3a5227\n",
      "efb07ec6-5dfb-4587-9b06-7a65c75229e1\n",
      "c625841b-c967-41e3-810e-e5ba104c99b9\n",
      "4d886de1-72cc-438e-a43f-abbb3e76a096\n",
      "ec975ebb-dcf3-4cc1-abc6-5f9c3cdf7dfa\n",
      "3e1eda7f-1f2f-49c7-aef8-6acb80fb4c9d\n",
      "e97ab6a3-e2d2-43a0-b6b1-f9b4ad19a42d\n",
      "bd447489-5046-4788-a413-0a03c0ca0f9f\n",
      "a239d1fc-2b5d-4102-b135-f6112cb9557b\n",
      "251423d2-02c9-4981-a260-6d55dda2d3c2\n",
      "37432a89-c9bf-4969-a1de-df130a359702\n",
      "c68b7548-5e50-4d15-b172-66641bae8ee3\n",
      "65819119-1f3e-41a7-b2de-f9d98ad920f2\n",
      "ffc74011-7abe-4acf-8d15-1127cd3edb2b\n",
      "15915ae2-66fa-406a-a829-a9a1d5c5d457\n",
      "bf7f49f2-f8ca-47a6-a861-7681440b57d9\n",
      "2d875a3b-0abb-4857-90b6-2eac0f960252\n",
      "844d9554-55bd-4c25-8d2b-6434f4f600ac\n",
      "51c6970d-ca59-4088-94bf-818adede45d3\n",
      "013d4514-52f3-471d-91da-bd8f74f9b68c\n",
      "05e8f1d9-6966-4a1b-a9cb-b8ca94f285ea\n",
      "9faac361-a2fa-4794-9157-39c846ee6903\n",
      "3e1c417a-7c8d-46a5-9175-13d9b536b88a\n",
      "f53756f0-e52c-46e1-bebf-2bf3d4ff7422\n",
      "55501aaf-6c4b-4a6f-a08b-7aca9454bbb4\n",
      "0f36a647-92eb-4274-9eae-0705e48dab5b\n",
      "83d704b6-9c40-4fea-bc01-058b21bcd085\n",
      "8b13dbb9-1035-48f3-b894-23e5e2240675\n",
      "34b278ed-4edf-407c-bc40-d2444f92c205\n",
      "6c757477-7d33-4e27-948d-339661d6cffd\n",
      "2c8285b6-b90b-477f-a6a0-908f508ef7e3\n",
      "08053c60-b136-43d2-a116-d8f399c049fa\n",
      "a6edde30-5309-430c-b162-349262d297ad\n",
      "95dd96ff-c254-486a-b576-7a537a9c19c4\n",
      "69f9f104-1573-4ebd-8c36-78422628ed61\n",
      "cd65a873-02f3-4160-9311-764a06cf443e\n",
      "4c6e4011-8e35-4d58-909a-9fe778869e4c\n",
      "11630568-6a6a-458f-a011-643539af930a\n",
      "5d650c62-b7ca-42a9-a6f2-d4eda7d5d9d5\n",
      "3d912a3a-5c34-4e55-9ce9-8039b9a39c30\n",
      "4fd739b7-55f7-4fd9-82d7-3cbc7ab03125\n",
      "199996bf-0271-457c-97d5-2870b9ef935b\n",
      "6f74f129-2a76-4ee8-a534-3b1e095d5461\n",
      "688b2631-da37-4986-af13-c8cc52a2aaa3\n",
      "b4b460f0-bcef-4ab1-9f1c-db71a8f6aeeb\n",
      "97716a84-2c0e-4417-9a76-6b54784fdf9d\n",
      "6108416f-452e-4e0d-bc9a-b76df1c981ba\n",
      "0c9230cf-9079-4014-bb88-80e6e722b3a5\n",
      "557974e4-d2db-430f-9fd7-cf2f33f449d5\n",
      "476ae751-3914-462a-9435-013bbe14501d\n",
      "2144cb10-344c-4018-8733-c6811736a9ed\n",
      "68ce4855-eed0-4f50-94db-52edf4206706\n",
      "99ad2586-2f35-43f7-8451-6dce9ee1687e\n",
      "795cf8fa-e319-4637-8d17-2f35846239bf\n",
      "bf515647-f8f5-43db-9d20-f72c6353148c\n",
      "939d626f-c0ff-4189-8d1f-94058b7679d9\n",
      "0b3180d3-11ac-4ed9-b387-8152d50cf053\n",
      "8beede0b-8b30-4b62-9ce1-06441344c022\n",
      "27c102e7-af78-4c98-867f-c5f6c8232990\n",
      "4250ee11-abd2-43a2-9144-5181f9323b46\n",
      "1ac1aa05-5bc1-4b17-866b-8751a92dedca\n",
      "697b9cc1-73c0-4209-8a5f-b8ee1b3c56f6\n",
      "d03e4cc0-781a-4715-b51f-5ba10bd09a2a\n",
      "90423029-f250-4674-9e61-77daedfd7489\n",
      "2e14fa38-b3f3-4087-8f02-aede412bcda4\n",
      "99dab560-c880-4302-9718-a6402d3dca8a\n",
      "b53e8271-4284-494d-8f22-2bcc63756fec\n",
      "cca3c6f2-1a6c-4584-aefe-06119b4a05d0\n",
      "b22b48e1-42d2-429a-be84-a1e0e018c5c4\n",
      "4dd4649c-12ee-4734-877b-644d702b3b23\n",
      "8ef95723-8555-41e6-b44c-4200d0175ee5\n",
      "71cfc00d-2f4f-462a-8867-360f102f6a31\n",
      "b3f58ea1-595d-4d48-b68d-577557acce97\n",
      "613b8c65-b01e-40cb-a4ad-d66b3329dd91\n",
      "cd96d9a6-5839-4309-b733-8144131c4c9c\n"
     ]
    }
   ],
   "source": [
    "#Set up input dictionary and import backoff to display run results\n",
    "#First part of the for loop uses the \"random\" column to search through the tiles geojson to \n",
    "#create temp files one at a time to set the AOI\n",
    "#################################\n",
    "\n",
    "for aoi in os.listdir(result_folder):\n",
    "    if aoi.endswith(\"geojson\"):\n",
    "        inputs = dict(\n",
    "           aoi=f\"https://maap-ops-workspace.s3.amazonaws.com/shared/abarenblitt/aoi/WestAfricaGrid/{aoi}\",\n",
    "           doi=\"L2B\",\n",
    "           lat=\"geolocation/lat_lowestmode\",\n",
    "           lon=\"geolocation/lon_lowestmode\",\n",
    "           beams=\"all\",\n",
    "           columns=\"rh100, cover,land_cover_data/landsat_treecover, pai,fhd_normal,\"+\",\".join(variables),\n",
    "           query=\"l2a_quality_flag == 1 and l2b_quality_flag == 1 and sensitivity > 0.95\",\n",
    "           limit = 0,\n",
    "           temporal=\"-\",\n",
    "           output=f\"{aoi}\"\n",
    "        )\n",
    "        result = maap.submitJob(\n",
    "            identifier=\"gedi-subset\",\n",
    "            algo_id=\"gedi-subset\",\n",
    "            version=\"0.6.0\",\n",
    "            queue=\"maap-dps-worker-32gb\",\n",
    "            username=\"abarenblitt\",\n",
    "            **inputs\n",
    "        )\n",
    "\n",
    "        job_id = result[\"job_id\"]\n",
    "        print(job_id)\n",
    "        \n",
    "try:\n",
    "    import backoff\n",
    "except:\n",
    "    job_status = job_status_for(job_id)\n",
    "else:\n",
    "    # Check job status every 2 minutes\n",
    "    @backoff.on_predicate(\n",
    "        backoff.constant,\n",
    "        lambda status: status not in [\"Deleted\", \"Succeeded\", \"Failed\"],\n",
    "        interval=120,\n",
    "    )\n",
    "    def wait_for_job(job_id: str) -> str:\n",
    "        return job_status_for(job_id)\n",
    "\n",
    "    job_status = wait_for_job(job_id)\n",
    "    job_status"
   ]
  },
  {
   "cell_type": "code",
   "execution_count": 19,
   "id": "e0792973",
   "metadata": {},
   "outputs": [
    {
     "data": {
      "text/plain": [
       "'Accepted'"
      ]
     },
     "execution_count": 19,
     "metadata": {},
     "output_type": "execute_result"
    }
   ],
   "source": [
    "job_id = \"11414950-c5c9-4b99-9c1c-c9df02ba1923\"\n",
    "\n",
    "job_status"
   ]
  },
  {
   "cell_type": "code",
   "execution_count": 20,
   "id": "b007a578",
   "metadata": {},
   "outputs": [],
   "source": [
    "#Get job result full text to bug Alex with\n",
    " \n",
    "maap.getJobResult(job_id).text"
   ]
  },
  {
   "cell_type": "code",
   "execution_count": 25,
   "id": "333afdca",
   "metadata": {},
   "outputs": [
    {
     "name": "stdout",
     "output_type": "stream",
     "text": [
      "Found directory: /projects/my-private-bucket/dps_output/gedi-subset/0.6.0/2023/06/30\n",
      "Found directory: /projects/my-private-bucket/dps_output/gedi-subset/0.6.0/2023/06/30/14\n",
      "Found directory: /projects/my-private-bucket/dps_output/gedi-subset/0.6.0/2023/06/30/14/40\n",
      "Found directory: /projects/my-private-bucket/dps_output/gedi-subset/0.6.0/2023/06/30/14/40/31\n",
      "Found directory: /projects/my-private-bucket/dps_output/gedi-subset/0.6.0/2023/06/30/14/40/31/344731\n",
      "0.0008195283710246137.gpkg\n",
      "Found directory: /projects/my-private-bucket/dps_output/gedi-subset/0.6.0/2023/06/30/14/41\n",
      "Found directory: /projects/my-private-bucket/dps_output/gedi-subset/0.6.0/2023/06/30/14/41/09\n",
      "Found directory: /projects/my-private-bucket/dps_output/gedi-subset/0.6.0/2023/06/30/14/41/09/208212\n",
      "0.07476782962538708.gpkg\n",
      "Found directory: /projects/my-private-bucket/dps_output/gedi-subset/0.6.0/2023/06/30/14/44\n",
      "Found directory: /projects/my-private-bucket/dps_output/gedi-subset/0.6.0/2023/06/30/14/44/52\n",
      "Found directory: /projects/my-private-bucket/dps_output/gedi-subset/0.6.0/2023/06/30/14/44/52/898604\n",
      "0.023375478336133515.gpkg\n"
     ]
    }
   ],
   "source": [
    "import os\n",
    "import subprocess\n",
    "root_dir = '/projects/my-private-bucket/dps_output/gedi-subset/0.6.0/2023/06/30'\n",
    "out_dir = '/projects/my-private-bucket/dps_output/gedi-subset/0.6.0/WestAfricaGrid'\n",
    "for dirName, subdirList, fileList in os.walk(root_dir):\n",
    "    print('Found directory: %s' % dirName)\n",
    "    for fname in fileList:\n",
    "        if fname.endswith('.gpkg'):\n",
    "            print(fname)\n",
    "            subprocess.call('cp ' + os.path.join(dirName, fname) + ' ' + os.path.join(out_dir, fname),shell=True)"
   ]
  }
 ],
 "metadata": {
  "kernelspec": {
   "display_name": "Python gediknight",
   "language": "python",
   "name": "gediknight"
  },
  "language_info": {
   "codemirror_mode": {
    "name": "ipython",
    "version": 3
   },
   "file_extension": ".py",
   "mimetype": "text/x-python",
   "name": "python",
   "nbconvert_exporter": "python",
   "pygments_lexer": "ipython3",
   "version": "3.7.8"
  }
 },
 "nbformat": 4,
 "nbformat_minor": 5
}
