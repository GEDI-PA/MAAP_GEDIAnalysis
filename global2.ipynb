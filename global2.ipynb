{
 "cells": [
  {
   "cell_type": "code",
   "execution_count": 24,
   "id": "09f48a25-a39f-48c1-9061-c306a3251c22",
   "metadata": {
    "tags": []
   },
   "outputs": [
    {
     "name": "stderr",
     "output_type": "stream",
     "text": [
      "Updating HTML index of packages in '.Library'\n",
      "\n",
      "Making 'packages.html' ...\n",
      " done\n",
      "\n",
      "Updating HTML index of packages in '.Library'\n",
      "\n",
      "Making 'packages.html' ...\n",
      " done\n",
      "\n"
     ]
    }
   ],
   "source": [
    "install.packages(\"raster\")\n",
    "install.packages(\"RItools\")"
   ]
  },
  {
   "cell_type": "code",
   "execution_count": 2,
   "id": "71f48bb9-f77b-4f66-9645-2a8c6529a387",
   "metadata": {
    "tags": []
   },
   "outputs": [],
   "source": [
    "aoi<-\"N14.30728831742391W-13.52951992770953\""
   ]
  },
  {
   "cell_type": "code",
   "execution_count": 25,
   "id": "153f2cf1-bb56-4db1-8660-3a97648971a5",
   "metadata": {
    "tags": []
   },
   "outputs": [],
   "source": [
    "#!/usr/bin/env Rscript\n",
    "\n",
    "# This global processing script PART II is derived from the global processing notebook \n",
    "#the input can be the iso3 code (3-character) for one or multiple countries \n",
    "\n",
    "#mamba install -c conda-forge r-terra r-optmatch r-sp r-rgdal r-sf r-rgeos r-dplyr r-plyr r-ggplot2 r-raster r-mapview r-stringr r-maptools r-gridExtra r-lattice r-MASS r-foreach r-doParallel r-rlang r-tidyr r-magrittr r-viridis r-ggmap r-Hmisc r-hrbrthemes r-spatialEco r-bit64 r-randomForest r-modelr r-ranger r-caret r-rgeos r-ritools\n",
    "\n",
    "options(warn=-1)\n",
    "options(dplyr.summarise.inform = FALSE)\n",
    "\n",
    "packages <- c(\"sp\",\"rgdal\",\"sf\",\"rgeos\",\"dplyr\",\"plyr\",\"ggplot2\",\"raster\",\"mapview\",\"stringr\",\n",
    "              \"maptools\",\"gridExtra\",\"lattice\",\"MASS\",\"foreach\",\"optmatch\",\"doParallel\",\"RItools\",\"gdalUtils\",\n",
    "              \"rlang\",\"tidyr\",\"magrittr\",\"viridis\",\"ggmap\",\"Hmisc\",\"hrbrthemes\",\"spatialEco\",\"bit64\",\"randomForest\", \"modelr\",\"ranger\",\"caret\")\n",
    "package.check <- lapply(packages, FUN = function(x) {\n",
    "  suppressPackageStartupMessages(library(x, character.only = TRUE))\n",
    "})\n",
    "\n",
    "args = commandArgs(trailingOnly=TRUE)\n",
    "if (length(args)==0) {\n",
    "  stop(\"At least one argument must be supplied (input file).n\", call.=FALSE)\n",
    "} else if (length(args)>=1) {\n",
    "  \n",
    "  iso3 <- args[1]  #country to process\n",
    "  gediwk <- args[2]   #the # of weeks GEDI data to use\n",
    "  mproc <- as.integer(args[3])#the number of cores to use for macthing \n",
    "}"
   ]
  },
  {
   "cell_type": "code",
   "execution_count": 3,
   "id": "515259ba-19e3-445e-bc0d-2cce2ba3dd8d",
   "metadata": {
    "tags": []
   },
   "outputs": [],
   "source": [
    "#Get Info for GPKG Table Name\n",
    "# ogrInfo(paste(\"~/GEDI_PA/Matching_Layers/SEN/SEN_Tiles/N14.30728831742391W-13.52951992770953.geojson_L2A.gpkg\",sep=\"\"))"
   ]
  },
  {
   "cell_type": "code",
   "execution_count": 70,
   "id": "d98129be-a26c-4088-a04d-6e357f84b638",
   "metadata": {
    "tags": []
   },
   "outputs": [],
   "source": [
    "# Subset GEDI data to first 3 features for running troubleshooting\n",
    "#Run only once!\n",
    "# sf<- st_read(\"~/GEDI_PA/Matching_Layers/SEN/WDPA_gedi_l2a+l2b_clean2_SEN/SEN_admin_L2A.gpkg\",query = \"select * from SEN_admin_L2A limit 3;\")\n",
    "# print(sf)\n",
    "# st_write(sf,\"~/GEDI_PA/Matching_Layers/SEN/WDPA_gedi_l2a+l2b_clean2_SEN/SEN_L2A_subset.gpkg\")"
   ]
  },
  {
   "cell_type": "code",
   "execution_count": 26,
   "id": "1ba226ec-3c5c-4dc6-88f0-e24c19b594ea",
   "metadata": {
    "tags": []
   },
   "outputs": [
    {
     "name": "stdout",
     "output_type": "stream",
     "text": [
      "Step 0: Loading global variables to process country SEN with GEDI data until week 24 \n",
      "~/GEDI_PA/Matching_Layers/SEN/"
     ]
    }
   ],
   "source": [
    "iso3 <- \"SEN\"\n",
    "gediwk<-24\n",
    "mproc <-1\n",
    "\n",
    "cat(\"Step 0: Loading global variables to process country\", iso3,\"with GEDI data until week\", gediwk, \"\\n\")\n",
    "\n",
    "f.path <- cat(\"~/GEDI_PA/Matching_Layers/SEN/\")\n",
    "ecoreg_key <- read.csv(paste(\"~/GEDI_PA/wwf_ecoregions_key.csv\",sep=\"\"))\n",
    "allPAs <- readRDS(paste(\"~/GEDI_PA/Matching_Layers/SEN/SEN_PA_poly.rds\",sep=\"\"))\n",
    "MCD12Q1 <- raster(paste(\"~/GEDI_PA/GEDI_ANCI_PFT_r1000m_EASE2.0_UMD_v1_projection_defined_6933.tif\",sep=\"\"))\n",
    "projection(MCD12Q1) <- sp::CRS(paste(\"+init=epsg:\",6933,sep=\"\"))\n",
    "world_region <- raster(paste(\"~/GEDI_PA/GEDI_ANCI_CONTINENT_r1000m_EASE2.0_UMD_v1_revised_projection_defined_6933.tif\",sep=\"\"))\n",
    "projection(world_region) <- sp::CRS(paste(\"+init=epsg:\",6933,sep=\"\"))\n",
    "adm <- readOGR(paste(\"~/GEDI_PA/Matching_Layers/SEN/SEN_admin.geojson\"),verbose=FALSE)\n",
    "adm_prj <- spTransform(adm, \"+init=epsg:6933\") \n",
    "load(\"~/GEDI_PA/rf_noclimate.rdata\")\n",
    "source(\"~/GEDI_PA/matching_func.r\") #WILL NEED TO CHANGE FOR FULL GEDI DATASET IN FUTURE\n",
    "# flag <- \"don't ran extraction\"\n",
    "flag <- \"run all\"\n",
    "# flag <- \"run remaining\""
   ]
  },
  {
   "cell_type": "code",
   "execution_count": 46,
   "id": "0eb5ae14-614c-4862-9608-cf01bf11c134",
   "metadata": {
    "tags": []
   },
   "outputs": [
    {
     "name": "stdout",
     "output_type": "stream",
     "text": [
      "Reading layer `N14.30728831742391W-13.52951992770953' from data source \n",
      "  `/projects/shared-buckets/abarenblitt/SEN_Tiles/N14.30728831742391W-13.52951992770953.geojson' \n",
      "  using driver `GeoJSON'\n",
      "Simple feature collection with 1 feature and 1 field\n",
      "Geometry type: POLYGON\n",
      "Dimension:     XY\n",
      "Bounding box:  xmin: -14.52952 ymin: 14.30729 xmax: -13.52952 ymax: 15.30729\n",
      "Geodetic CRS:  WGS 84\n",
      "[1] \"POLYGON ((-14.52952 14.30729, -14.52952 15.30729, -13.52952 15.30729, -13.52952 14.30729, -14.52952 14.30729))\"\n",
      "Reading layer `N14.30728831742391W-13.52951992770953.geojson_L2A' from data source `/projects/GEDI_PA/Matching_Layers/SEN/SEN_Tiles/N14.30728831742391W-13.52951992770953.geojson_L2A.gpkg' \n",
      "  using driver `GPKG'\n",
      "Integer64 values larger than 9.0072e+15 lost significance after conversion to double;\n",
      "use argument int64_as_string = TRUE to import them lossless, as character\n",
      "Simple feature collection with 610628 features and 10 fields\n",
      "Geometry type: POINT\n",
      "Dimension:     XY\n",
      "Bounding box:  xmin: -14.52952 ymin: 14.30729 xmax: -13.52952 ymax: 15.30728\n",
      "Geodetic CRS:  WGS 84\n"
     ]
    }
   ],
   "source": [
    "#Subset GEDI to tiles FOR TESTING\n",
    "\n",
    "tile<- st_read(\"~/shared-buckets/abarenblitt/SEN_Tiles/N14.30728831742391W-13.52951992770953.geojson\")\n",
    "# spatial filter, as wkt:\n",
    "wkt = st_as_text(st_geometry(tile[1,]))\n",
    "print(wkt)\n",
    "sf<- st_read(\"~/GEDI_PA/Matching_Layers/SEN/SEN_Tiles/N14.30728831742391W-13.52951992770953.geojson_L2A.gpkg\", wkt_filter = wkt)\n",
    "# st_write(sf,\"~/GEDI_PA/Matching_Layers/SEN/WDPA_gedi_l4a_clean_SEN/SEN_L4A_subset_Til1.gpkg\")"
   ]
  },
  {
   "cell_type": "code",
   "execution_count": 27,
   "id": "ea4d173e-3e37-42a0-b188-87087b7da84d",
   "metadata": {
    "tags": []
   },
   "outputs": [
    {
     "name": "stdout",
     "output_type": "stream",
     "text": [
      "Step 5: Performing WK  24 GEDI extraction for SEN \n"
     ]
    }
   ],
   "source": [
    "#---------------STEP5. GEDI PROCESSING - using GEDI shots to extract the treatment/control status, also extract the MODIS PFT for AGB prediction---------------- \n",
    "# if (file.exists(paste(f.path,\"WDPA_GEDI_extract/\",iso3,\"_wk\",gediwk,\"/\",iso3,\"_gedi_extracted_matching_wk\",gediwk,\".RDS\", sep=\"\"))){\n",
    "cat(paste(\"Step 5: Performing WK \",gediwk,\"GEDI extraction for\", iso3,\"\\n\"))\n",
    "#matched_all <-read.csv(paste(f.path,\"WDPA_extract4_residual_PAs/\", iso3, \"_wk_\", gediwk, \"_null_matches_rerun.csv\",sep=\"\")) \n",
    "matched_all<-list.files(paste(\"~/GEDI_PA/Matching_Layers/SEN/WDPA_matching_points/\",iso3,\"_wk\",gediwk,sep=\"\"), pattern=\".RDS\", full.names = FALSE)\n",
    "# readr::parse_number() %>% unique()\n",
    "#list.files(paste(f.path,\"WDPA_matching_results/\",iso3,\"_wk\",gediwk,sep=\"\"), pattern=\".RDS\", full.names = FALSE)\n",
    "registerDoParallel(3)\n",
    "matched_PAs <- foreach(this_rds=matched_all, .combine = c, .packages=c('sp','magrittr', 'dplyr','tidyr','raster')) %dopar% {   #non-NA matched results\n",
    "  matched_PAs=c()\n",
    "  print(this_rds)\n",
    "  if(nchar(iso3)>3){\n",
    "    id_pa <- this_rds %>% str_split(\"_\") %>% unlist %>% .[4]  \n",
    "  } else {\n",
    "    id_pa <- this_rds %>% str_split(\"_\") %>% unlist %>% .[3]\n",
    "  }\n",
    "  matched <- readRDS(paste(\"~/GEDI_PA/Matching_Layers/SEN/WDPA_matching_points/SEN_wk24/\",iso3,\"_pa_\", id_pa,\"_matching_results_wk\",gediwk,\".RDS\", sep=\"\"))\n",
    "  if(!is.null(matched)){\n",
    "    if(nrow(matched)!=0){\n",
    "      matched_PAs=c(matched_PAs,this_rds) \n",
    "    }\n",
    "  }else {\n",
    "    # print(this_rds)\n",
    "    matched_PAs=matched_PAs\n",
    "  }\n",
    "  return(matched_PAs)\n",
    "}\n",
    "stopImplicitCluster()"
   ]
  },
  {
   "cell_type": "code",
   "execution_count": 28,
   "id": "d13db82c-9c40-4e9e-9fcc-aef96ba23e81",
   "metadata": {
    "tags": []
   },
   "outputs": [
    {
     "name": "stdout",
     "output_type": "stream",
     "text": [
      "Step 5: Performing WK  24 GEDI extraction for SEN \n",
      "[1] \"SEN_pa_2332_matching_results_wk24.RDS\"\n"
     ]
    }
   ],
   "source": [
    "# FOR PA 2332 TO TEST\n",
    "cat(paste(\"Step 5: Performing WK \",gediwk,\"GEDI extraction for\", iso3,\"\\n\"))\n",
    "#matched_all <-read.csv(paste(f.path,\"WDPA_extract4_residual_PAs/\", iso3, \"_wk_\", gediwk, \"_null_matches_rerun.csv\",sep=\"\")) \n",
    "matched_all<-list.files(paste(\"~/GEDI_PA/Matching_Layers/SEN/WDPA_matching_points/\",iso3,\"_wk\",gediwk,sep=\"\"), pattern = '2332', full.names = FALSE)\n",
    "# readr::parse_number() %>% unique()\n",
    "#list.files(paste(f.path,\"WDPA_matching_results/\",iso3,\"_wk\",gediwk,sep=\"\"), pattern=\".RDS\", full.names = FALSE)\n",
    "registerDoParallel(3)\n",
    "matched_PAs <- foreach(this_rds=matched_all, .combine = c, .packages=c('sp','magrittr', 'dplyr','tidyr','raster')) %dopar% {   #non-NA matched results\n",
    "  matched_PAs=c()\n",
    "  print(this_rds)\n",
    "  if(nchar(iso3)>3){\n",
    "    id_pa <- this_rds %>% str_split(\"_\") %>% unlist %>% .[4]  \n",
    "  } else {\n",
    "    id_pa <- this_rds %>% str_split(\"_\") %>% unlist %>% .[3]\n",
    "  }\n",
    "  matched <- readRDS(paste(\"~/GEDI_PA/Matching_Layers/SEN/WDPA_matching_points/SEN_wk24/\",iso3,\"_pa_\", id_pa,\"_matching_results_wk\",gediwk,\".RDS\", sep=\"\"))\n",
    "  if(!is.null(matched)){\n",
    "    if(nrow(matched)!=0){\n",
    "      matched_PAs=c(matched_PAs,this_rds) \n",
    "    }\n",
    "  }else {\n",
    "    # print(this_rds)\n",
    "    matched_PAs=matched_PAs\n",
    "  }\n",
    "  return(matched_PAs)\n",
    "}\n",
    "stopImplicitCluster()"
   ]
  },
  {
   "cell_type": "code",
   "execution_count": 29,
   "id": "f94e083b-071a-47bc-877f-7c9cce2c4f53",
   "metadata": {
    "tags": []
   },
   "outputs": [
    {
     "name": "stdout",
     "output_type": "stream",
     "text": [
      "Step 5: runing extraction on all 1 of non-NA matched results in SEN \n"
     ]
    }
   ],
   "source": [
    "if(flag==\"run all\"){  #determine how many PAs to run the extraction process\n",
    "  matched_PAs <- matched_PAs\n",
    "  cat(\"Step 5: runing extraction on all\", length(matched_PAs),\"of non-NA matched results in\", iso3,\"\\n\")\n",
    "} else if (flag==\"run remaining\"){\n",
    "  pattern1 = c(paste(\"wk\",gediwk,sep=\"\"),\"RDS\")\n",
    "  extracted_PAid <- list.files(paste(\"~/GEDI_PA/Matching_Layers/SEN/WDPA_GEDI_extract4/\",iso3,\"_wk\",gediwk,\"/\",sep=\"\"), full.names = F, pattern=paste0(pattern1, collapse=\"|\"))%>%\n",
    "    readr::parse_number() %>% unique()\n",
    "  matched_PA_id <- matched_PAs %>% readr::parse_number()\n",
    "  runPA_id <- matched_PA_id[!(matched_PA_id %in% extracted_PAid)]\n",
    "  if (length(runPA_id)>0){\n",
    "    Pattern2 <-  paste(runPA_id, collapse=\"|\")\n",
    "    runPA <-  matched_PAs[grepl(Pattern2,matched_PAs)]\n",
    "    # runPA_ind <- str_detect(matched_PAs, paste(runPA_id, collapse = \"|\"))\n",
    "    matched_PAs <-runPA\n",
    "  } else {\n",
    "    matched_PAs <- NULL\n",
    "    cat(\"Step 5 already done for\", iso3, \"\\n\")\n",
    "  }\n",
    "}"
   ]
  },
  {
   "cell_type": "code",
   "execution_count": 33,
   "id": "8449fe0e-2d6d-49ab-997d-08d57e3ae5e7",
   "metadata": {
    "tags": []
   },
   "outputs": [
    {
     "data": {
      "text/html": [
       "1"
      ],
      "text/latex": [
       "1"
      ],
      "text/markdown": [
       "1"
      ],
      "text/plain": [
       "[1] 1"
      ]
     },
     "metadata": {},
     "output_type": "display_data"
    }
   ],
   "source": [
    "registerDoParallel(cores=round(mproc))\n",
    "getDoParWorkers()\n",
    "startTime <- Sys.time()"
   ]
  },
  {
   "cell_type": "code",
   "execution_count": 16,
   "id": "2a6482b6-b197-4922-972d-9a68e99e53b3",
   "metadata": {
    "tags": []
   },
   "outputs": [
    {
     "data": {
      "text/html": [
       "'SEN_pa_2332_matching_results_wk24.RDS'"
      ],
      "text/latex": [
       "'SEN\\_pa\\_2332\\_matching\\_results\\_wk24.RDS'"
      ],
      "text/markdown": [
       "'SEN_pa_2332_matching_results_wk24.RDS'"
      ],
      "text/plain": [
       "[1] \"SEN_pa_2332_matching_results_wk24.RDS\""
      ]
     },
     "metadata": {},
     "output_type": "display_data"
    }
   ],
   "source": [
    "matched_PAs"
   ]
  },
  {
   "cell_type": "code",
   "execution_count": 30,
   "id": "cde49aba-bb77-4951-863e-377db364f3af",
   "metadata": {
    "tags": []
   },
   "outputs": [
    {
     "name": "stdout",
     "output_type": "stream",
     "text": [
      "Reading layer `N14.30728831742391W-13.52951992770953.geojson_L2A' from data source `/projects/GEDI_PA/Matching_Layers/SEN/SEN_Tiles/N14.30728831742391W-13.52951992770953.geojson_L2A.gpkg' \n",
      "  using driver `GPKG'\n",
      "Integer64 values larger than 9.0072e+15 lost significance after conversion to double;\n",
      "use argument int64_as_string = TRUE to import them lossless, as character\n",
      "Simple feature collection with 610628 features and 10 fields\n",
      "Geometry type: POINT\n",
      "Dimension:     XY\n",
      "Bounding box:  xmin: -14.52952 ymin: 14.30729 xmax: -13.52952 ymax: 15.30728\n",
      "Geodetic CRS:  WGS 84\n",
      "Reading layer `N14.30728831742391W-13.52951992770953.geojson_L4A' from data source `/projects/GEDI_PA/Matching_Layers/SEN/SEN_Tiles/N14.30728831742391W-13.52951992770953.geojson_L4A.gpkg' \n",
      "  using driver `GPKG'\n",
      "Integer64 values larger than 9.0072e+15 lost significance after conversion to double;\n",
      "use argument int64_as_string = TRUE to import them lossless, as character\n",
      "Simple feature collection with 252185 features and 16 fields\n",
      "Geometry type: POINT\n",
      "Dimension:     XY\n",
      "Bounding box:  xmin: -14.52952 ymin: 14.3073 xmax: -13.52952 ymax: 15.30728\n",
      "Geodetic CRS:  WGS 84\n"
     ]
    }
   ],
   "source": [
    "all_gedil2_f<-st_read('~/GEDI_PA/Matching_Layers/SEN/SEN_Tiles/N14.30728831742391W-13.52951992770953.geojson_L2A.gpkg') \n",
    "all_gedil4_f<-st_read('~/GEDI_PA/Matching_Layers/SEN/SEN_Tiles/N14.30728831742391W-13.52951992770953.geojson_L4A.gpkg')"
   ]
  },
  {
   "cell_type": "markdown",
   "id": "784d29ad-75fd-4c9f-908f-7df3ebc719d8",
   "metadata": {
    "tags": []
   },
   "source": [
    "### 5/23: Code below works for single RDS and needs to be updated for multiple RDS and multiple GEDI files"
   ]
  },
  {
   "cell_type": "code",
   "execution_count": 34,
   "id": "1a5eb6f8-841b-4119-b87c-f1ba9fa908bf",
   "metadata": {
    "tags": []
   },
   "outputs": [
    {
     "data": {
      "text/html": [
       "<style>\n",
       ".list-inline {list-style: none; margin:0; padding: 0}\n",
       ".list-inline>li {display: inline-block}\n",
       ".list-inline>li:not(:last-child)::after {content: \"\\00b7\"; padding: 0 .5ex}\n",
       "</style>\n",
       "<ol class=list-inline><li>'filename'</li><li>'shot_number'</li><li>'selected_algorithm'</li><li>'selected_mode_flag'</li><li>'agbd_pi_upper'</li><li>'response_limit_flag'</li><li>'agbd_t'</li><li>'agbd'</li><li>'selected_mode'</li><li>'agbd_t_se'</li><li>'agbd_pi_lower'</li><li>'lon_lowestmode'</li><li>'predictor_limit_flag'</li><li>'sensitivity'</li><li>'lat_lowestmode'</li><li>'agbd_se'</li><li>'geom'</li></ol>\n"
      ],
      "text/latex": [
       "\\begin{enumerate*}\n",
       "\\item 'filename'\n",
       "\\item 'shot\\_number'\n",
       "\\item 'selected\\_algorithm'\n",
       "\\item 'selected\\_mode\\_flag'\n",
       "\\item 'agbd\\_pi\\_upper'\n",
       "\\item 'response\\_limit\\_flag'\n",
       "\\item 'agbd\\_t'\n",
       "\\item 'agbd'\n",
       "\\item 'selected\\_mode'\n",
       "\\item 'agbd\\_t\\_se'\n",
       "\\item 'agbd\\_pi\\_lower'\n",
       "\\item 'lon\\_lowestmode'\n",
       "\\item 'predictor\\_limit\\_flag'\n",
       "\\item 'sensitivity'\n",
       "\\item 'lat\\_lowestmode'\n",
       "\\item 'agbd\\_se'\n",
       "\\item 'geom'\n",
       "\\end{enumerate*}\n"
      ],
      "text/markdown": [
       "1. 'filename'\n",
       "2. 'shot_number'\n",
       "3. 'selected_algorithm'\n",
       "4. 'selected_mode_flag'\n",
       "5. 'agbd_pi_upper'\n",
       "6. 'response_limit_flag'\n",
       "7. 'agbd_t'\n",
       "8. 'agbd'\n",
       "9. 'selected_mode'\n",
       "10. 'agbd_t_se'\n",
       "11. 'agbd_pi_lower'\n",
       "12. 'lon_lowestmode'\n",
       "13. 'predictor_limit_flag'\n",
       "14. 'sensitivity'\n",
       "15. 'lat_lowestmode'\n",
       "16. 'agbd_se'\n",
       "17. 'geom'\n",
       "\n",
       "\n"
      ],
      "text/plain": [
       " [1] \"filename\"             \"shot_number\"          \"selected_algorithm\"  \n",
       " [4] \"selected_mode_flag\"   \"agbd_pi_upper\"        \"response_limit_flag\" \n",
       " [7] \"agbd_t\"               \"agbd\"                 \"selected_mode\"       \n",
       "[10] \"agbd_t_se\"            \"agbd_pi_lower\"        \"lon_lowestmode\"      \n",
       "[13] \"predictor_limit_flag\" \"sensitivity\"          \"lat_lowestmode\"      \n",
       "[16] \"agbd_se\"              \"geom\"                "
      ]
     },
     "metadata": {},
     "output_type": "display_data"
    }
   ],
   "source": [
    "colnames(all_gedil4_f)"
   ]
  },
  {
   "cell_type": "code",
   "execution_count": 35,
   "id": "0cbc3a4f-941c-4bce-ac13-15386a7eacd5",
   "metadata": {
    "tags": []
   },
   "outputs": [
    {
     "data": {
      "text/html": [
       "<style>\n",
       ".list-inline {list-style: none; margin:0; padding: 0}\n",
       ".list-inline>li {display: inline-block}\n",
       ".list-inline>li:not(:last-child)::after {content: \"\\00b7\"; padding: 0 .5ex}\n",
       "</style>\n",
       "<ol class=list-inline><li>'filename'</li><li>'rh25'</li><li>'rh50'</li><li>'rh98'</li><li>'geolocation.sensitivity_a2'</li><li>'rh90'</li><li>'rh75'</li><li>'shot_number'</li><li>'lon_lowestmode'</li><li>'lat_lowestmode'</li><li>'geom'</li></ol>\n"
      ],
      "text/latex": [
       "\\begin{enumerate*}\n",
       "\\item 'filename'\n",
       "\\item 'rh25'\n",
       "\\item 'rh50'\n",
       "\\item 'rh98'\n",
       "\\item 'geolocation.sensitivity\\_a2'\n",
       "\\item 'rh90'\n",
       "\\item 'rh75'\n",
       "\\item 'shot\\_number'\n",
       "\\item 'lon\\_lowestmode'\n",
       "\\item 'lat\\_lowestmode'\n",
       "\\item 'geom'\n",
       "\\end{enumerate*}\n"
      ],
      "text/markdown": [
       "1. 'filename'\n",
       "2. 'rh25'\n",
       "3. 'rh50'\n",
       "4. 'rh98'\n",
       "5. 'geolocation.sensitivity_a2'\n",
       "6. 'rh90'\n",
       "7. 'rh75'\n",
       "8. 'shot_number'\n",
       "9. 'lon_lowestmode'\n",
       "10. 'lat_lowestmode'\n",
       "11. 'geom'\n",
       "\n",
       "\n"
      ],
      "text/plain": [
       " [1] \"filename\"                   \"rh25\"                      \n",
       " [3] \"rh50\"                       \"rh98\"                      \n",
       " [5] \"geolocation.sensitivity_a2\" \"rh90\"                      \n",
       " [7] \"rh75\"                       \"shot_number\"               \n",
       " [9] \"lon_lowestmode\"             \"lat_lowestmode\"            \n",
       "[11] \"geom\"                      "
      ]
     },
     "metadata": {},
     "output_type": "display_data"
    }
   ],
   "source": [
    "colnames(all_gedil2_f)"
   ]
  },
  {
   "cell_type": "code",
   "execution_count": 40,
   "id": "23bb5198-4560-4160-84ed-bc794dc2790e",
   "metadata": {
    "tags": []
   },
   "outputs": [
    {
     "name": "stdout",
     "output_type": "stream",
     "text": [
      "Extracting for no.  1 pa out of 1 \n",
      "SEN converting the matched csv to a raster stack for extraction\n",
      "Reading layer `N14.30728831742391W-13.52951992770953.geojson_L2A' from data source `/projects/GEDI_PA/Matching_Layers/SEN/SEN_Tiles/N14.30728831742391W-13.52951992770953.geojson_L2A.gpkg' \n",
      "  using driver `GPKG'\n",
      "Integer64 values larger than 9.0072e+15 lost significance after conversion to double;\n",
      "use argument int64_as_string = TRUE to import them lossless, as character\n",
      "Simple feature collection with 610628 features and 10 fields\n",
      "Geometry type: POINT\n",
      "Dimension:     XY\n",
      "Bounding box:  xmin: -14.52952 ymin: 14.30729 xmax: -13.52952 ymax: 15.30728\n",
      "Geodetic CRS:  WGS 84\n",
      "Reading layer `N14.30728831742391W-13.52951992770953.geojson_L4A' from data source `/projects/GEDI_PA/Matching_Layers/SEN/SEN_Tiles/N14.30728831742391W-13.52951992770953.geojson_L4A.gpkg' \n",
      "  using driver `GPKG'\n",
      "Integer64 values larger than 9.0072e+15 lost significance after conversion to double;\n",
      "use argument int64_as_string = TRUE to import them lossless, as character\n",
      "Simple feature collection with 252185 features and 16 fields\n",
      "Geometry type: POINT\n",
      "Dimension:     XY\n",
      "Bounding box:  xmin: -14.52952 ymin: 14.3073 xmax: -13.52952 ymax: 15.30728\n",
      "Geodetic CRS:  WGS 84\n",
      "Readng in no.  1 csv of  11 csvs for iso3 SEN \n",
      "[1] 4995792      15\n",
      "[1] 2651200      24\n",
      "Readng in no.  2 csv of  11 csvs for iso3 SEN \n",
      "[1] 4995792      15\n",
      "[1] 2651200      24\n",
      "Readng in no.  3 csv of  11 csvs for iso3 SEN \n",
      "[1] 4995792      15\n",
      "[1] 2651200      24\n",
      "Readng in no.  4 csv of  11 csvs for iso3 SEN \n",
      "[1] 4995792      15\n",
      "[1] 2651200      24\n",
      "Readng in no.  5 csv of  11 csvs for iso3 SEN \n",
      "[1] 4995792      15\n",
      "[1] 2651200      24\n",
      "Readng in no.  6 csv of  11 csvs for iso3 SEN \n",
      "[1] 4995792      15\n",
      "[1] 2651200      24\n",
      "Readng in no.  7 csv of  11 csvs for iso3 SEN \n",
      "[1] 4995792      15\n",
      "[1] 2651200      24\n",
      "Readng in no.  8 csv of  11 csvs for iso3 SEN \n",
      "[1] 4995792      15\n",
      "[1] 2651200      24\n",
      "Readng in no.  9 csv of  11 csvs for iso3 SEN \n",
      "[1] 4995792      15\n",
      "[1] 2651200      24\n",
      "Readng in no.  10 csv of  11 csvs for iso3 SEN \n",
      "[1] 4995792      15\n",
      "[1] 2651200      24\n",
      "Readng in no.  11 csv of  11 csvs for iso3 SEN \n",
      "[1] 4995792      15\n",
      "[1] 2651200      24\n",
      "Done GEDI for no.  1 pa out of 1 \n",
      "6.996878 for extracting all PAs in SEN \n",
      "2332 in SEN results is written to dir\n"
     ]
    },
    {
     "data": {
      "text/plain": [
       "NULL"
      ]
     },
     "metadata": {},
     "output_type": "display_data"
    },
    {
     "name": "stdout",
     "output_type": "stream",
     "text": [
      "1.006671 for extracting all PAs in SEN \n",
      "Done GEDI extraction for pa in  SEN \n"
     ]
    }
   ],
   "source": [
    "# TESTING FOR SING RDS\n",
    "#Pull the CRS from one of the GEDI files so results use \n",
    "#Reprojection is clunky and needs to be updated, and overall the projections of above layers do not match the WGS84 projection\n",
    "# tile<- st_read(\"~/shared-buckets/abarenblitt/SEN_Tiles/N14.30728831742391W-13.52951992770953.geojson\")\n",
    "\n",
    "foreach(this_rds=matched_PAs, .combine = foreach_rbind, .packages=c('sp','magrittr', 'dplyr','tidyr','raster')) %dopar% {\n",
    "  cat(\"Extracting for no. \", match(this_rds,matched_PAs),\"pa out of\", length(matched_PAs),\"\\n\")\n",
    "  if(nchar(iso3)>3){\n",
    "    id_pa <- this_rds %>% str_split(\"_\") %>% unlist %>% .[4]  \n",
    "  } else {\n",
    "    id_pa <- this_rds %>% str_split(\"_\") %>% unlist %>% .[3]\n",
    "  }\n",
    "  matched <- readRDS(paste(\"~/GEDI_PA/Matching_Layers/SEN/WDPA_matching_points/SEN_wk24/SEN_pa_2332_matching_results_wk24.RDS\", sep=\"\"))\n",
    "  if (is.null(matched)==TRUE  | nrow(matched)==0) {\n",
    "    cat(\"Matched result is null for PA\", id_pa, \"quitting...\\n\")\n",
    "  } else if (!is.null(matched)==TRUE){\n",
    "    mras  <- tryCatch(matched2ras(matched),\n",
    "                      error=function(cond){\n",
    "                        message(cond)\n",
    "                        cat(\"Matched result is likely null for country\", iso3,\"pa\", id_pa, \"dimension of the match is\", dim(matched),\"\\n\")\n",
    "                        # writeLines(\"Matched results is likely null for country\", paste(f.path,\"WDPA_log/\",iso3,\"_log_matching.txt\", sep=\"\"))\n",
    "                        return(NULL)}) #convert the macthed df to a raster stack \n",
    "    # mras<-projectRaster(mras,crs = crs(tile)) #REPROJECT MRAS TO MATCH GEDI PROJECTION\n",
    "    if(table(mras$status[])[2]==0 | table(mras$status[])[1]==0 | is.null(mras)){\n",
    "      cat(\"Rasterized results unbalanced for PA\", id_pa, \"quitting...\\n\")\n",
    "    } else {\n",
    "      startTime <- Sys.time()\n",
    "      iso_matched_gedi<- extract_gedi(matched=matched, mras = mras)  #run filtered csvs on mras for extarction\n",
    "      tElapsed <- Sys.time()-startTime\n",
    "    # iso_matched_gedi<- matched\n",
    "      cat(tElapsed, \"for extracting all PAs in\", iso3,\"\\n\")\n",
    "      iso_matched_gedi_sub <- iso_matched_gedi %>%\n",
    "        #ASK AMBER ABOUT OG COLUMNS\n",
    "        #THIS NEEDS TO BE ADJUSTED!!!!\n",
    "        dplyr::select(\"pa_id\",\"status\",\n",
    "                      \"wwfbiom\",\"wwfecoreg\",\"shot_number\",\"lon_lowestmode\", \n",
    "                      \"lat_lowestmode\", \"lon_lowestmode\", \n",
    "                      \"lat_lowestmode\",\"rh25\", \"rh50\", \"rh75\",\"rh90\", \"rh98\")  #write to individual country folder\n",
    "      if (length(unique(iso_matched_gedi$wwfbiom)) >1){\n",
    "        pabiome <- iso_matched_gedi$wwfbiom %>% unique() %>% gsub('\\\\b(\\\\pL)\\\\pL{2,}|.','\\\\U\\\\1',.,perl = TRUE)%>% str_c( collapse = \"+\")\n",
    "      } else if (length(unique(iso_matched_gedi$wwfbiom))==1){\n",
    "        pabiome <- iso_matched_gedi$wwfbiom %>% unique() %>% gsub('\\\\b(\\\\pL)\\\\pL{2,}|.','\\\\U\\\\1',.,perl = TRUE)\n",
    "      } else {\n",
    "        pabiome <- iso_matched_gedi$wwfbiom %>% unique()\n",
    "      }\n",
    "      # papaddd <- unique(iso_matched_gedi$PADDD) %>% getmode()\n",
    "      continent <- unique(iso_matched_gedi$region) %>% getmode()\n",
    "\n",
    "      dir.create(file.path(paste(\"~/GEDI_PA/Matching_Layers/SEN/WDPA_GEDI_extract4/\",iso3,\"_wk\",gediwk,\"/\",sep=\"\")))\n",
    "      saveRDS(iso_matched_gedi, file=paste(\"~/GEDI_PA/Matching_Layers/SEN/WDPA_GEDI_extract4/SEN_wk24/\",iso3,\"_pa_\", id_pa,\"_gedi_wk_\",gediwk,\"_conti_\",\"biome_\",pabiome,\".RDS\", sep=\"\"))\n",
    "      cat(id_pa,\"in\",iso3,\"results is written to dir\\n\")\n",
    "      write.csv(iso_matched_gedi, file=paste(\"~/GEDI_PA/Matching_Layers/SEN/WDPA_GEDI_extract4/SEN_wk24/\",\"SEN_pa_\", id_pa,\"_iso_matched_gedi_sub_wk_\",gediwk,\".csv\", sep=\"\"))\n",
    "    }\n",
    "  }\n",
    "  return(NULL)\n",
    "}\n",
    "\n",
    "stopImplicitCluster()\n",
    "tElapsed <- Sys.time()-startTime\n",
    "cat(tElapsed, \"for extracting all PAs in\", iso3,\"\\n\")\n",
    "cat(\"Done GEDI extraction for pa in \",iso3,\"\\n\")    "
   ]
  },
  {
   "cell_type": "code",
   "execution_count": 41,
   "id": "48e68ff9-7a9e-42c0-ad17-3fef7e22d083",
   "metadata": {
    "tags": []
   },
   "outputs": [
    {
     "name": "stdout",
     "output_type": "stream",
     "text": [
      "1.201341 for extracting all PAs in SEN \n",
      "Done GEDI extraction for pa in  SEN \n"
     ]
    }
   ],
   "source": [
    "stopImplicitCluster()\n",
    "tElapsed <- Sys.time()-startTime\n",
    "cat(tElapsed, \"for extracting all PAs in\", iso3,\"\\n\")\n",
    "cat(\"Done GEDI extraction for pa in \",iso3,\"\\n\")    "
   ]
  }
 ],
 "metadata": {
  "kernelspec": {
   "display_name": "R [conda env:r-with-gdal]",
   "language": "R",
   "name": "conda-env-r-with-gdal-r"
  },
  "language_info": {
   "codemirror_mode": "r",
   "file_extension": ".r",
   "mimetype": "text/x-r-source",
   "name": "R",
   "pygments_lexer": "r",
   "version": "4.3.1"
  }
 },
 "nbformat": 4,
 "nbformat_minor": 5
}
