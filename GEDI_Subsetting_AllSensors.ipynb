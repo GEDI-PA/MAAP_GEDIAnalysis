{
 "cells": [
  {
   "cell_type": "raw",
   "id": "94e9fc8f-e355-4853-a525-cd31772cba59",
   "metadata": {},
   "source": [
    "For loops to pull L2A, L2B, L4A\n",
    "\n",
    "sensor = \"L2B\"\n",
    "\n",
    "If L2B run L2B subsetter"
   ]
  },
  {
   "cell_type": "markdown",
   "id": "3633374e",
   "metadata": {},
   "source": [
    "This code works through the GEDI subsetter version 0.6.0. This converts a geojson of tiles over a study area to temp geojson files to feed into the subsetter"
   ]
  },
  {
   "cell_type": "code",
   "execution_count": 2,
   "id": "19b8daec",
   "metadata": {
    "tags": []
   },
   "outputs": [],
   "source": [
    "#Open the MAAP host\n",
    "from maap.maap import MAAP\n",
    "maap = MAAP(maap_host='api.maap-project.org')\n"
   ]
  },
  {
   "cell_type": "code",
   "execution_count": 3,
   "id": "8dfe988a",
   "metadata": {
    "tags": []
   },
   "outputs": [],
   "source": [
    "#pip install geopandas\n",
    "#pip install shapely\n",
    "#Import numpy for making column inputs easier\n",
    "import numpy as np\n",
    "import geopandas as gpd\n",
    "import shapely\n",
    "import glob"
   ]
  },
  {
   "cell_type": "code",
   "execution_count": 3,
   "id": "e589f3ed",
   "metadata": {
    "tags": []
   },
   "outputs": [
    {
     "data": {
      "text/html": [
       "<div>\n",
       "<style scoped>\n",
       "    .dataframe tbody tr th:only-of-type {\n",
       "        vertical-align: middle;\n",
       "    }\n",
       "\n",
       "    .dataframe tbody tr th {\n",
       "        vertical-align: top;\n",
       "    }\n",
       "\n",
       "    .dataframe thead th {\n",
       "        text-align: right;\n",
       "    }\n",
       "</style>\n",
       "<table border=\"1\" class=\"dataframe\">\n",
       "  <thead>\n",
       "    <tr style=\"text-align: right;\">\n",
       "      <th></th>\n",
       "      <th>id</th>\n",
       "      <th>COUNTRY_NA</th>\n",
       "      <th>OBJECTID</th>\n",
       "      <th>Shape_Area</th>\n",
       "      <th>Shape_Le_1</th>\n",
       "      <th>Shape_Leng</th>\n",
       "      <th>geometry</th>\n",
       "    </tr>\n",
       "  </thead>\n",
       "  <tbody>\n",
       "    <tr>\n",
       "      <th>0</th>\n",
       "      <td>00000000000000000067</td>\n",
       "      <td>Senegal</td>\n",
       "      <td>203</td>\n",
       "      <td>16.451303</td>\n",
       "      <td>34.94714</td>\n",
       "      <td>34.94714</td>\n",
       "      <td>MULTIPOLYGON (((-16.67541 13.81145, -16.67536 ...</td>\n",
       "    </tr>\n",
       "  </tbody>\n",
       "</table>\n",
       "</div>"
      ],
      "text/plain": [
       "                     id COUNTRY_NA  OBJECTID  Shape_Area  Shape_Le_1  \\\n",
       "0  00000000000000000067    Senegal       203   16.451303    34.94714   \n",
       "\n",
       "   Shape_Leng                                           geometry  \n",
       "0    34.94714  MULTIPOLYGON (((-16.67541 13.81145, -16.67536 ...  "
      ]
     },
     "execution_count": 3,
     "metadata": {},
     "output_type": "execute_result"
    }
   ],
   "source": [
    "#Load in AOI (This is Abigail visually checking)\n",
    "aoi = gpd.read_file(\"https://maap-ops-workspace.s3.amazonaws.com/shared/abarenblitt/SEN_admin.geojson\")\n",
    "aoi"
   ]
  },
  {
   "cell_type": "code",
   "execution_count": 4,
   "id": "7c6bc60c-7bc7-4709-bdd2-7995bcdfb1de",
   "metadata": {
    "tags": []
   },
   "outputs": [
    {
     "data": {
      "text/plain": [
       "<Geographic 2D CRS: EPSG:4326>\n",
       "Name: WGS 84\n",
       "Axis Info [ellipsoidal]:\n",
       "- Lat[north]: Geodetic latitude (degree)\n",
       "- Lon[east]: Geodetic longitude (degree)\n",
       "Area of Use:\n",
       "- name: World.\n",
       "- bounds: (-180.0, -90.0, 180.0, 90.0)\n",
       "Datum: World Geodetic System 1984 ensemble\n",
       "- Ellipsoid: WGS 84\n",
       "- Prime Meridian: Greenwich"
      ]
     },
     "execution_count": 4,
     "metadata": {},
     "output_type": "execute_result"
    },
    {
     "data": {
      "image/png": "[encoded data removed]",
      "text/plain": [
       "<Figure size 640x480 with 1 Axes>"
      ]
     },
     "metadata": {},
     "output_type": "display_data"
    }
   ],
   "source": [
    "aoi.plot()\n",
    "aoi.crs"
   ]
  },
  {
   "cell_type": "code",
   "execution_count": 4,
   "id": "d38fec66-08ed-4d39-8228-ff123815e1de",
   "metadata": {
    "tags": []
   },
   "outputs": [],
   "source": [
    "import xml.etree.ElementTree as ET\n",
    "from urllib.parse import urlparse\n",
    "\n",
    "def job_status_for(job_id: str) -> str:\n",
    "    response = maap.getJobStatus(job_id)\n",
    "    response.raise_for_status()\n",
    "    \n",
    "    root = ET.fromstring(response.text)\n",
    "    status_element = root.find('.//{http://www.opengis.net/wps/2.0}Status')\n",
    "    \n",
    "    return status_element.text\n",
    "\n",
    "def job_result_for(job_id: str) -> str:\n",
    "    response = maap.getJobResult(job_id)\n",
    "    response.raise_for_status()\n",
    "    \n",
    "    root = ET.fromstring(response.text)\n",
    "\n",
    "    return root.find('.//{http://www.opengis.net/wps/2.0}Data').text\n",
    "\n",
    "def to_job_output_dir(job_result_url: str) -> str:\n",
    "    url_path = urlparse(job_result_url).path\n",
    "    # The S3 Key is the URL path excluding the `/{username}` prefix\n",
    "    s3_key = \"/\".join(url_path.split(\"/\")[2:])\n",
    "\n",
    "    return f\"/projects/my-private-bucket/{s3_key}\""
   ]
  },
  {
   "cell_type": "code",
   "execution_count": 5,
   "id": "e59bab5d-9978-4684-9356-5f071f695288",
   "metadata": {
    "tags": []
   },
   "outputs": [],
   "source": [
    "#Needed For L2B\n",
    "#Create empty variables to fill with all 29 appearances of cover_z* and pai_z* \n",
    "variables = []\n",
    "for n in np.arange(0, 30,1):\n",
    "    variables.append('cover_z' + str(n))\n",
    "    variables.append('pai_z' + str(n))"
   ]
  },
  {
   "cell_type": "code",
   "execution_count": 9,
   "id": "880f8704-d980-475d-8486-c3a0b8c55f15",
   "metadata": {
    "tags": []
   },
   "outputs": [
    {
     "name": "stdout",
     "output_type": "stream",
     "text": [
      "['https://maap-ops-workspace.s3.amazonaws.com/shared/abarenblitt/SEN_admin.geojson']\n"
     ]
    }
   ],
   "source": [
    "AOIS = [\"https://maap-ops-workspace.s3.amazonaws.com/shared/abarenblitt/SEN_admin.geojson\"]\n",
    "#PRODUCTS = [\"L4A\",\"L2A\",\"L2B\"]\n",
    "PRODUCTS = [\"L2B\"]\n",
    "print(AOIS)\n",
    "#print(each_aoi)"
   ]
  },
  {
   "cell_type": "code",
   "execution_count": 10,
   "id": "d1148dc4-6335-452f-91eb-9215504ed072",
   "metadata": {
    "tags": []
   },
   "outputs": [
    {
     "name": "stdout",
     "output_type": "stream",
     "text": [
      "Thanks, I'll run the GEDI L2B subsetter!!\n"
     ]
    }
   ],
   "source": [
    "#Set up run to pull products for all GEDI products simultaneously\n",
    "#To run for only 1 or 2 products, change \"PRODUCTS\"\n",
    "\n",
    "for each_aoi in AOIS: \n",
    "    if \"L4A\" in PRODUCTS: \n",
    "        print(\"Thanks, I'll run the GEDI L4A subsetter!!\")\n",
    "        aoi_url = each_aoi\n",
    "        inputs = dict(\n",
    "           aoi=aoi_url,\n",
    "           doi=\"L4A\",\n",
    "           lat=\"lat_lowestmode\",\n",
    "           lon=\"lon_lowestmode\",\n",
    "           beams=\"all\",\n",
    "           columns=\"shot_number,lat_lowestmode,lon_lowestmode,agbd,agbd_se,agbd_t,agbd_t_se,agbd_pi_upper,agbd_pi_lower,sensitivity,predictor_limit_flag,response_limit_flag,selected_algorithm,selected_mode,selected_mode_flag\",\n",
    "           query=\"l2_quality_flag == 1 and l4_quality_flag == 1 and sensitivity > 0.95 and `geolocation/sensitivity_a2` > 0.95\",\n",
    "           limit = 10_000,\n",
    "           temporal=\"-\",\n",
    "           output= each_aoi + \"L4A\" + \".gpkg\"\n",
    "        )\n",
    "        result = maap.submitJob(\n",
    "            identifier=\"gedi-subset\",\n",
    "            algo_id=\"gedi-subset\",\n",
    "            version=\"0.6.2\",\n",
    "            queue=\"maap-dps-worker-32gb\",\n",
    "            username=\"abarenblitt\",\n",
    "            **inputs\n",
    "        )\n",
    "        inputs\n",
    "        job_id = result.id\n",
    "        job_id or result\n",
    "\n",
    "    if \"L2B\" in PRODUCTS: \n",
    "        print(\"Thanks, I'll run the GEDI L2B subsetter!!\")\n",
    "        aoi_url = each_aoi\n",
    "        inputs = dict(\n",
    "           aoi=aoi_url,\n",
    "           doi=\"L2B\",\n",
    "           lat=\"geolocation/lat_lowestmode\",\n",
    "           lon=\"geolocation/lon_lowestmode\",\n",
    "           beams=\"all\",\n",
    "           columns=\"shot_number,geolocation/lon_lowestmode,geolocation/lat_lowestmode,rh100, l2b_quality_flag,sensitivity,cover,land_cover_data/landsat_treecover, pai,fhd_normal,\"+\",\".join(variables),\n",
    "           query=\"l2a_quality_flag == 1 and l2b_quality_flag == 1 and sensitivity > 0.95\",\n",
    "           limit = 10_000,\n",
    "           temporal=\"-\",\n",
    "           output= each_aoi + \"L2B\" + \".gpkg\"\n",
    "        )\n",
    "        result = maap.submitJob(\n",
    "            identifier=\"gedi-subset\",\n",
    "            algo_id=\"gedi-subset\",\n",
    "            version=\"0.6.2\",\n",
    "            queue=\"maap-dps-worker-32gb\",\n",
    "            username=\"abarenblitt\",\n",
    "            **inputs\n",
    "        )\n",
    "        inputs\n",
    "        job_id = result.id\n",
    "        job_id or result\n",
    "        \n",
    "        \n",
    "    if \"L2A\" in PRODUCTS: \n",
    "        print(\"Thanks, I'll run the GEDI L2A subsetter!!\")\n",
    "        aoi_url = each_aoi\n",
    "        inputs = dict(\n",
    "           aoi=aoi_url,\n",
    "           doi=\"L2A\",\n",
    "           lat=\"lat_lowestmode\",\n",
    "           lon=\"lon_lowestmode\",\n",
    "           beams=\"all\",\n",
    "           columns=\"geolocation/sensitivity_a2,shot_number,lon_lowestmode,lat_lowestmode,rh25,rh50,rh75,rh90,rh98\",\n",
    "           query=\"quality_flag == 1 and geolocation.sensitivity_a2 > 0.95\", ## geolocation.sensitivity_a2 > 0.95\n",
    "           limit = 10_000,\n",
    "           temporal=\"-\",\n",
    "           output=each_aoi + \"L2A\" + \".gpkg\"\n",
    "        )\n",
    "        result = maap.submitJob(\n",
    "            identifier=\"gedi-subset\",\n",
    "            algo_id=\"gedi-subset\",\n",
    "            version=\"0.6.2\",\n",
    "            queue=\"maap-dps-worker-32gb\",\n",
    "            username=\"abarenblitt\",\n",
    "            **inputs\n",
    "        )\n",
    "        inputs\n",
    "        job_id = result.id\n",
    "        job_id or result\n",
    "        \n",
    "# Need to choose 1 of 6 algorithms for ground-finding for each shot CHECK WITH LAURA"
   ]
  },
  {
   "cell_type": "code",
   "execution_count": 22,
   "id": "d6acb272-376e-4617-91ea-0c5a3d63315f",
   "metadata": {
    "tags": []
   },
   "outputs": [
    {
     "data": {
      "text/plain": [
       "{'job_id': '', 'status': 'failed', 'machine_type': None, 'architecture': None, 'machine_memory_size': None, 'directory_size': None, 'operating_system': None, 'job_start_time': None, 'job_end_time': None, 'job_duration_seconds': None, 'cpu_usage': None, 'cache_usage': None, 'mem_usage': None, 'max_mem_usage': None, 'swap_usage': None, 'read_io_stats': None, 'write_io_stats': None, 'sync_io_stats': None, 'async_io_stats': None, 'total_io_stats': None, 'error_details': '<!DOCTYPE HTML PUBLIC \"-//IETF//DTD HTML 2.0//EN\">\\n<html><head>\\n<title>502 Proxy Error</title>\\n</head><body>\\n<h1>Proxy Error</h1>\\n<p>The proxy server received an invalid\\r\\nresponse from an upstream server.<br />\\r\\nThe proxy server could not handle the request<p>Reason: <strong>Error reading from remote server</strong></p></p>\\n<hr>\\n<address>Apache/2.4.41 (Ubuntu) Server at api.maap-project.org Port 443</address>\\n</body></html>\\n', 'response_code': 502, 'outputs': []}"
      ]
     },
     "execution_count": 22,
     "metadata": {},
     "output_type": "execute_result"
    }
   ],
   "source": [
    "job_id or result"
   ]
  },
  {
   "cell_type": "code",
   "execution_count": 28,
   "id": "8f3ba488-cee0-49e6-9b60-d387c3f6b265",
   "metadata": {},
   "outputs": [
    {
     "name": "stdout",
     "output_type": "stream",
     "text": [
      "Found directory: /projects/my-private-bucket/dps_output/gedi-subset/0.6.2/gedi-subset/2024/02/01\n",
      "Found directory: /projects/my-private-bucket/dps_output/gedi-subset/0.6.2/gedi-subset/2024/02/01/10\n",
      "Found directory: /projects/my-private-bucket/dps_output/gedi-subset/0.6.2/gedi-subset/2024/02/01/10/47\n",
      "Found directory: /projects/my-private-bucket/dps_output/gedi-subset/0.6.2/gedi-subset/2024/02/01/10/47/07\n",
      "Found directory: /projects/my-private-bucket/dps_output/gedi-subset/0.6.2/gedi-subset/2024/02/01/10/47/07/439738\n",
      "SEN_admin_subset.gpkg\n"
     ]
    }
   ],
   "source": [
    "import subprocess\n",
    "\n",
    "root_dir = '/projects/my-private-bucket/dps_output/gedi-subset/0.6.2/gedi-subset/2024/02/01' #Can now set name\n",
    "out_dir = '/projects/my-private-bucket/dps_output/gedi-subset/0.6.2/SEN'\n",
    "for dirName, subdirList, fileList in os.walk(root_dir):\n",
    "    print('Found directory: %s' % dirName)\n",
    "    for fname in fileList:\n",
    "        if fname.endswith('.gpkg'):\n",
    "            print(fname)\n",
    "            subprocess.call('cp ' + os.path.join(dirName, fname) + ' ' + os.path.join(out_dir, fname),shell=True)"
   ]
  },
  {
   "cell_type": "code",
   "execution_count": null,
   "id": "01555444-61b2-4063-b86c-cb5e1016fed7",
   "metadata": {},
   "outputs": [],
   "source": [
    "LIST_OF_OUTPUTS = glob.glob(\"*.gpks\",\"/projects/my-private-bucket/dps_output/gedi-subset/0.6.2/SEN\")\n",
    "for each_file in LIST_OF_OUTPUTS: \n",
    "    each_file.read_file()\n",
    "    if each_file.__contains__(\"Senegal\"): \n",
    "        print \"Yes, this belong to Senegal!!\"\n",
    "        pd.merge(by row \"shot_number\")"
   ]
  }
 ],
 "metadata": {
  "kernelspec": {
   "display_name": "Python 3 (ipykernel)",
   "language": "python",
   "name": "python3"
  },
  "language_info": {
   "codemirror_mode": {
    "name": "ipython",
    "version": 3
   },
   "file_extension": ".py",
   "mimetype": "text/x-python",
   "name": "python",
   "nbconvert_exporter": "python",
   "pygments_lexer": "ipython3",
   "version": "3.10.13"
  }
 },
 "nbformat": 4,
 "nbformat_minor": 5
}
