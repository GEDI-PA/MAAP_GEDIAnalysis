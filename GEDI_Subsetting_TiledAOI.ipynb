{
 "cells": [
  {
   "cell_type": "code",
   "execution_count": 142,
   "id": "47464caa",
   "metadata": {},
   "outputs": [
    {
     "name": "stdout",
     "output_type": "stream",
     "text": [
      "<class 'geopandas.geodataframe.GeoDataFrame'>\n"
     ]
    }
   ],
   "source": [
    "#for aoi in list_aois[:1]:\n",
    "    #shape = shapely.to_geojson(tiles.loc[aoi,\"geometry\"])\n",
    "    #f = write_json(shape)\n",
    "#    tile = tiles[tiles['random']==aoi]\n",
    "    #print(type(tile))\n",
    "#    tile.to_file('temp.geojson')\n",
    "    "
   ]
  },
  {
   "cell_type": "markdown",
   "id": "ed7416a7",
   "metadata": {},
   "source": [
    "This code works through the GEDI subsetter version 0.6.0. This converts a geojson of tiles over a study area to temp geojson files to feed into the subsetter"
   ]
  },
  {
   "cell_type": "code",
   "execution_count": 157,
   "id": "a36d58f5",
   "metadata": {},
   "outputs": [],
   "source": [
    "#Open the MAAP host\n",
    "from maap.maap import MAAP\n",
    "maap = MAAP(maap_host='api.ops.maap-project.org')\n"
   ]
  },
  {
   "cell_type": "code",
   "execution_count": 158,
   "id": "10494319",
   "metadata": {},
   "outputs": [],
   "source": [
    "#pip install geopandas\n",
    "#pip install shapely\n",
    "#Import numpy for making column inputs easier\n",
    "import numpy as np\n",
    "import geopandas as gpd\n",
    "import shapely"
   ]
  },
  {
   "cell_type": "code",
   "execution_count": 159,
   "id": "160b9b08",
   "metadata": {},
   "outputs": [],
   "source": [
    "#Load in Tiled AOI\n",
    "tiles = gpd.read_file(\"https://maap-ops-workspace.s3.amazonaws.com/shared/abarenblitt/EEZBounds/WestAfricaGrid.geojson\")"
   ]
  },
  {
   "cell_type": "code",
   "execution_count": 160,
   "id": "f3f87cd3",
   "metadata": {},
   "outputs": [
    {
     "data": {
      "text/plain": [
       "151"
      ]
     },
     "execution_count": 160,
     "metadata": {},
     "output_type": "execute_result"
    }
   ],
   "source": [
    "import os\n",
    "\n",
    "result_folder = \"../aoi/WestAfricaGrid\"\n",
    "\n",
    "if not os.path.exists(result_folder):\n",
    "    os.makedirs(result_folder)\n",
    "\n",
    "for rownum, subframe in tiles.groupby(\"random\"):\n",
    "    filename = os.path.join(result_folder, f\"{rownum}.geojson\")\n",
    "    subframe.to_file(filename, driver='GeoJSON')\n",
    "\n",
    "len(os.listdir(result_folder))"
   ]
  },
  {
   "cell_type": "code",
   "execution_count": 156,
   "id": "a9a86993",
   "metadata": {},
   "outputs": [],
   "source": [
    "#os.listdir(result_folder)"
   ]
  },
  {
   "cell_type": "code",
   "execution_count": 61,
   "id": "885b28ad",
   "metadata": {},
   "outputs": [],
   "source": [
    "#Set index to the correct column name, in this case \"random\"\n",
    "#tiles.set_index('random',inplace=True)\n",
    "#print(tiles.head())"
   ]
  },
  {
   "cell_type": "code",
   "execution_count": 62,
   "id": "cf84f665",
   "metadata": {},
   "outputs": [],
   "source": [
    "#for col in tiles.columns:\n",
    "#    print(col)"
   ]
  },
  {
   "cell_type": "code",
   "execution_count": 63,
   "id": "fe83b336",
   "metadata": {},
   "outputs": [],
   "source": [
    "#tiles['random_value'] = tiles.index"
   ]
  },
  {
   "cell_type": "code",
   "execution_count": 64,
   "id": "8db6a035",
   "metadata": {},
   "outputs": [],
   "source": [
    "#Test a single tile\n",
    "#tiles.loc[0.6855097362903453]"
   ]
  },
  {
   "cell_type": "markdown",
   "id": "9fa957ef",
   "metadata": {},
   "source": [
    "Use \"random\" column for ID to generate features to tile over"
   ]
  },
  {
   "cell_type": "code",
   "execution_count": 65,
   "id": "f56403bb",
   "metadata": {},
   "outputs": [],
   "source": [
    "#List out the individual aois\n",
    "#list_aois = tiles.index.unique().tolist() #tiles[tiles.columns[1]].values.tolist()\n",
    "#print(list_aois)"
   ]
  },
  {
   "cell_type": "code",
   "execution_count": 66,
   "id": "7960122c",
   "metadata": {},
   "outputs": [],
   "source": [
    "#aoiTest=shapely.to_geojson(tiles.loc[0.6855097362903453,\"geometry\"])\n",
    "#print(aoiTest)"
   ]
  },
  {
   "cell_type": "code",
   "execution_count": 161,
   "id": "2f7be40a",
   "metadata": {},
   "outputs": [],
   "source": [
    "#Create empty variables to fill with all 29 appearances of cover_z* and pai_z* \n",
    "variables = []\n",
    "for n in np.arange(0, 30,1):\n",
    "    variables.append('cover_z' + str(n))\n",
    "    variables.append('pai_z' + str(n))\n"
   ]
  },
  {
   "cell_type": "markdown",
   "id": "41f83ab5",
   "metadata": {},
   "source": [
    "For several AOI's run this code:"
   ]
  },
  {
   "cell_type": "code",
   "execution_count": 162,
   "id": "bbfe5115",
   "metadata": {},
   "outputs": [],
   "source": [
    "#Set up job results to print output during run\n",
    "\n",
    "import xml.etree.ElementTree as ET\n",
    "from urllib.parse import urlparse\n",
    "\n",
    "def job_status_for(job_id: str) -> str:\n",
    "    response = maap.getJobStatus(job_id)\n",
    "    response.raise_for_status()\n",
    "    \n",
    "    root = ET.fromstring(response.text)\n",
    "    status_element = root.find('.//{http://www.opengis.net/wps/2.0}Status')\n",
    "    \n",
    "    return status_element.text\n",
    "\n",
    "def job_result_for(job_id: str) -> str:\n",
    "    response = maap.getJobResult(job_id)\n",
    "    response.raise_for_status()\n",
    "    \n",
    "    root = ET.fromstring(response.text)\n",
    "\n",
    "    return root.find('.//{http://www.opengis.net/wps/2.0}Data').text\n",
    "\n",
    "def to_job_output_dir(job_result_url: str) -> str:\n",
    "    url_path = urlparse(job_result_url).path\n",
    "    # The S3 Key is the URL path excluding the `/{username}` prefix\n",
    "    s3_key = \"/\".join(url_path.split(\"/\")[2:])\n",
    "\n",
    "    return f\"/projects/my-private-bucket/{s3_key}\""
   ]
  },
  {
   "cell_type": "code",
   "execution_count": 41,
   "id": "dc8ad496",
   "metadata": {},
   "outputs": [],
   "source": [
    "#Import geojson and tempfile for creating temp files for the subsetter\n",
    "\n",
    "#from geojson import Point, Feature, FeatureCollection, dump\n",
    "\n",
    "#import tempfile"
   ]
  },
  {
   "cell_type": "code",
   "execution_count": 163,
   "id": "2d72b0ad",
   "metadata": {},
   "outputs": [
    {
     "name": "stdout",
     "output_type": "stream",
     "text": [
      "527a84de-3e8a-46ca-ae0d-d853fcb183f2\n",
      "4061aad8-87cb-4d6b-bec8-91985f183f80\n",
      "9da41252-b1b0-43f0-98a4-503ab7b079dc\n",
      "ee5ad41b-09ff-4d61-8e25-b37695214689\n",
      "563c1913-459c-43cb-bd26-a962b6143cbb\n",
      "e0b52abc-4cd9-44a8-8915-e83a124029e1\n",
      "a539c01e-327b-48d6-b39f-c701de1f2784\n",
      "441f495b-beba-4a74-98a5-1fdd2284b286\n",
      "27bc5700-3c03-4886-b505-400c86bcbec1\n",
      "c61127bd-060a-4e39-ada9-9bba78a695fb\n",
      "3c44d23a-6905-4362-8594-9288d614ddc7\n",
      "2a641db0-518d-416d-9940-c5763ff108df\n",
      "551cc0d6-f007-47a1-a791-44605893a8d1\n",
      "36329b60-864c-407b-b415-e37c684d52e4\n",
      "ca6daa00-1f2b-423f-9080-415cf4741625\n",
      "387d2ab8-448f-4ea0-b3e4-5f7f578b7ba5\n",
      "f2dcc96e-666d-4dea-9ae1-48f6e4c805ac\n",
      "359c5242-b69c-499d-b075-7c06147f1601\n",
      "91f51746-6b2a-4e05-94c0-f4e3249f4fec\n",
      "bc8d70df-013e-415f-a4ea-e34772bc28fd\n",
      "fd6e1f15-d25a-4ff1-89f8-60d2ea485e4e\n",
      "f52bc5b3-c34b-4bd6-9f80-c7cf3962a594\n",
      "725530cb-39db-4a92-95da-75f6c5b26e00\n",
      "4d5722c2-e494-4283-a57d-3652b83443c9\n",
      "0443a8a5-615c-4e37-8b81-1a26ae3ada22\n",
      "92feb670-ba65-4313-849b-6dc6cedd320f\n",
      "b9b87482-4d95-42d9-8bac-883901ee2b3a\n",
      "f2eb20c2-5f56-41ef-bf8b-854a2bf7f0fa\n",
      "17c59e64-70af-400b-a327-b5b0c36abb1d\n",
      "f5f0d390-1cb2-427d-b13e-cd223cdd226d\n",
      "baa1a101-331b-4797-8e91-3b26a3a11dd9\n",
      "6a1fb7cf-34d6-41ed-9c05-54d1a588a2ae\n",
      "fd002a9c-9857-40fa-aca4-5e1f9942a0d6\n",
      "0ebebbc9-ea25-4b4b-9b9f-eb7fe4613b15\n",
      "6c136808-c264-42bd-a6af-1964c6d53b23\n",
      "23167898-0e54-428f-8e6d-7f3f73d153cc\n",
      "31f19eb4-1f99-4b23-a678-52ea7a7c08ff\n",
      "1a6007a2-915d-407b-99e5-a574ef741ab8\n",
      "f8d957b6-cf5c-4c6a-9fe2-be416ca74bab\n",
      "6c65ffee-f726-4a3e-bdca-d09b69a1fcca\n",
      "3c444b29-58a6-4767-be65-7fefb074633b\n",
      "382a93c1-1e35-4648-b2ed-001ce7e8ab8c\n",
      "1e29de77-5332-496e-aa69-0ad0e13b1f51\n",
      "03cad49f-a0be-4446-82f7-468e37ded49e\n",
      "c5dbf6b6-d4cd-4d1c-a9ce-cfa7a1181055\n",
      "4db57cce-31f6-4b42-aa78-560377376b23\n",
      "a4aa91f1-3840-4648-b53c-95cdeae26475\n",
      "2c1156c5-4db6-4352-bf81-cd0c4098e324\n",
      "fc0b94b9-97e5-44d6-9030-367ac7e55055\n",
      "67308357-c20a-42c5-a059-84d6b3cd1840\n",
      "9dc05c91-0fe5-40ba-9591-02fe8a6806f4\n",
      "b28961c9-0f49-4449-b7e9-b84e002c7f89\n",
      "fd0cdbab-08e4-4a7c-a14f-ed8db262c865\n",
      "7b35a4ee-5a18-4639-97c5-a7bb9f320ed3\n",
      "44475e0a-49b1-428a-94a5-126779fdc8dd\n",
      "663df0dd-69a1-4588-b6b4-d255e8459f8b\n",
      "02b18f12-6e82-45b1-82d7-4f904e794149\n",
      "3e12ea41-3bc3-4dbc-8bf2-8be3596b49ad\n",
      "9feef6ec-2c5a-4321-b7c1-087c1140ef69\n",
      "0f1b0530-2bb4-4ece-bc30-18256f67875a\n",
      "207dc9c9-f17f-4572-a1f6-8e4a4cf0f698\n",
      "c52b6511-1019-4843-af53-bb2c0231e2e8\n",
      "a8857857-9b9c-470f-92e1-8572445f9809\n",
      "83a833c7-af99-479f-96de-17d48c115a6e\n",
      "7a4a18e0-5daf-4c72-9b08-b7a33cb65d75\n",
      "39b2d8bd-d094-4dc1-a1a2-d6c176ff05d1\n",
      "962deeaf-9037-4bdd-bccc-e802d3185eb6\n",
      "3c8fb431-1423-4e68-ab02-7c459e3c20c7\n",
      "0caf27c4-99be-4997-8068-a7ae1606fe02\n",
      "7deff668-d50f-409e-86bc-da5218a0474e\n",
      "7c0a14df-5d7e-4031-82c0-79cb874bcc58\n",
      "ba048450-bc22-416e-879d-9fe7c8076c65\n",
      "f2272a89-a4b9-4e72-9212-d164503f4882\n",
      "c98011ba-b418-4b04-9161-9dde68678f64\n",
      "13e7154d-1fdf-45cb-8fac-f84c19a1bf8d\n",
      "fa87c631-0bff-4535-83b4-ab07f45d1551\n",
      "ea27ffe9-960d-4a4e-ac91-060c124c0320\n",
      "038de77d-c0ef-45fe-8f1d-21106968ab23\n",
      "9a34adf5-e513-4d11-9ac1-cb7715085e3a\n",
      "98ac1ef1-4440-479c-b084-9c6984785e1b\n",
      "7e601bea-e262-448d-b7b1-41324f70eb2e\n",
      "51c7c8d8-acfc-444b-8616-a60cfe726265\n",
      "42354fa0-d933-49a1-8d14-e4ecb4bbb2ac\n",
      "af5771f5-888d-4bff-bc05-b6f147b1733f\n",
      "48a6072b-e441-4d25-b704-f47c5ef24620\n",
      "4c5429cf-3a6c-4812-b7fa-dd3e45eb0d82\n",
      "09c2c37d-4988-452e-a2ed-9609a89dd8d1\n",
      "010f10d0-06bd-4eba-8054-40e43d7e8824\n",
      "17204f12-c6e4-4fa0-86d3-e262b1fdbdda\n",
      "fa4c5bfb-3d07-446c-b87b-d3c4eceaaaee\n",
      "0b0235be-d4bf-4f52-9d33-636aba908ecb\n",
      "b3f7b061-5676-4b9d-9393-25d4d1994219\n",
      "04ce3997-9acd-4e67-af37-3adafbcafd9c\n",
      "91c43c55-a53c-4946-82b0-17e8b2c03ad7\n",
      "d0c39cd2-ac6d-4b92-a7c5-5ab1d94d508b\n",
      "85c82579-1ee3-451e-8e94-440e955e8168\n",
      "97831b32-9cee-4d3e-8b00-d1a81170aa24\n",
      "625a50ba-d3d2-44c7-8782-b0850f6e05f2\n",
      "866186cc-91d7-4ad3-9986-707740cb3ab6\n",
      "73e1e668-9d95-4343-a6c6-ae381c8bfc65\n",
      "1408973e-c785-4654-a731-6f8ec35225d3\n",
      "3e53513f-4365-4846-a4c6-34c58be8f070\n",
      "f1c75ce7-6f96-42bc-aef0-1e08c5cdc681\n",
      "bccc7d18-c904-4814-9e41-1d7f67cd19c8\n",
      "5ceff59b-3720-471f-9a6f-2399600ee2d2\n",
      "4eaf775d-dc3f-4028-961f-3f8a9847a986\n",
      "327796da-31d9-4fa0-8cd0-f1dd8047b0db\n",
      "d3a26db9-302d-4a9e-9e8f-0c0c470d442b\n",
      "cc759af4-636d-4887-9762-7a925932565a\n",
      "db6a25cf-37b2-48c1-928f-97d2e0cb8b99\n",
      "4ec2067a-1d5d-4ada-b361-f41dd61f851f\n",
      "84a70c5f-f609-44d7-8885-a8c0c7df3123\n",
      "92520d48-2414-4e5d-a18f-fc9ca85695f2\n",
      "ffda0dbc-06aa-4103-9604-2d7b14d091e8\n",
      "27db7f63-271a-4bf5-9006-793afd6c16ac\n",
      "764c9580-2a63-419e-9a9e-ee4cfdc8cf81\n",
      "3b3b58cc-abba-4928-9186-4ea3683f93ed\n",
      "4dc8c74c-f76c-4402-abbc-927ab26df858\n",
      "8b6b8868-ca4f-4e07-a374-218482166ca5\n",
      "0853a09a-6610-4a56-a090-81f13fb58281\n",
      "97cf0200-4b87-48b6-b713-b001b2da0261\n",
      "85f2bf96-6e9e-4f5d-b5c6-62242e26e994\n",
      "4698da6f-ad79-4bd1-acad-c7bfdd41e8fa\n",
      "f37b1b64-cbac-4f80-aece-f360fd3fc6b3\n",
      "a4511655-8055-4ca2-8407-863359a3f509\n",
      "67b8f8b7-2aea-48d6-978b-15c52800b55f\n",
      "7ce5ae23-5d4a-46ef-94ee-e00e8be70b67\n",
      "ab765ef3-1bd7-47cf-898e-317d5c53b954\n",
      "a464d0ef-e587-4a7b-ac5c-1b51ef27da54\n",
      "dbea8a2e-9dd7-46ca-8839-923e4766970c\n",
      "7c96bc70-abeb-47be-a892-3e89354c77f8\n",
      "4a63e177-8a03-41df-82d5-41108717067e\n",
      "c75bf118-0154-4d4a-9a86-9d93ef955b30\n",
      "08255f97-7cc8-46d9-9047-18e5a55fc46f\n",
      "263a6f58-e788-42e4-9536-c2e60461229a\n",
      "49ddfbf8-0594-45cd-a69e-47ef6f29f177\n",
      "9d2f8fa2-8426-484e-baa2-e1931478c73a\n",
      "4f34a9d0-13bb-48ae-a611-db27598592fe\n",
      "88361dd8-199a-48b5-8490-68f91e0edac3\n",
      "d277d7dc-7eee-4db6-aec0-56aa70060a54\n",
      "83692617-8872-42bf-8da0-8a7df1e3fce7\n",
      "5924d803-07c0-4cb2-b058-557e7b68e699\n",
      "a36b3050-d2cc-464b-bcc7-bdfe3682234c\n",
      "5998d011-dc56-45bf-ab1f-da05e3188932\n",
      "920d8bc1-1a7d-4c3d-b51c-44ec94a27b97\n",
      "0694f32b-21a6-4c39-b580-7c7bfc6ef931\n",
      "7270aa91-0e13-4d56-9f08-8e587da26fa0\n",
      "f8227fec-1b56-4012-a24d-649c7b9adc46\n",
      "031a3be9-54d7-4534-ac16-1b42462d9356\n"
     ]
    },
    {
     "name": "stderr",
     "output_type": "stream",
     "text": [
      "INFO:backoff:Backing off wait_for_job(...) for 33.9s (Accepted)\n"
     ]
    },
    {
     "name": "stdout",
     "output_type": "stream",
     "text": [
      "ff3c1e89-aaf6-4bb1-99af-03ad5263e3f1\n",
      "fcf5e7d3-3343-43db-9fc5-71406065969f\n"
     ]
    },
    {
     "name": "stderr",
     "output_type": "stream",
     "text": [
      "INFO:backoff:Backing off wait_for_job(...) for 114.4s (Accepted)\n",
      "INFO:backoff:Backing off wait_for_job(...) for 69.5s (Accepted)\n",
      "INFO:backoff:Backing off wait_for_job(...) for 21.6s (Accepted)\n",
      "INFO:backoff:Backing off wait_for_job(...) for 62.3s (Accepted)\n",
      "INFO:backoff:Backing off wait_for_job(...) for 31.9s (Accepted)\n",
      "INFO:backoff:Backing off wait_for_job(...) for 88.6s (Accepted)\n",
      "INFO:backoff:Backing off wait_for_job(...) for 63.1s (Accepted)\n",
      "INFO:backoff:Backing off wait_for_job(...) for 84.3s (Running)\n"
     ]
    }
   ],
   "source": [
    "#Set up input dictionary and import backoff to display run results\n",
    "#First part of the for loop uses the \"random\" column to search through the tiles geojson to \n",
    "#create temp files one at a time to set the AOI\n",
    "#################################\n",
    "\n",
    "for aoi in os.listdir(result_folder):\n",
    "    if aoi.endswith(\"geojson\"):\n",
    "        inputs = dict(\n",
    "           aoi=f\"https://maap-ops-workspace.s3.amazonaws.com/shared-buckets/abarenblitt/aoi/WestAfricaGrid/{aoi}\",\n",
    "           doi=\"L2B\",\n",
    "           lat=\"geolocation/lat_lowestmode\",\n",
    "           lon=\"geolocation/lon_lowestmode\",\n",
    "           beams=\"all\",\n",
    "           columns=\"rh100, cover,land_cover_data/landsat_treecover, pai,fhd_normal,\"+\",\".join(variables),\n",
    "           query=\"l2a_quality_flag == 1 and l2b_quality_flag == 1 and sensitivity > 0.95\",\n",
    "           limit = 10,\n",
    "           temporal=\"-\",\n",
    "           output=\"-\"\n",
    "        )\n",
    "        result = maap.submitJob(\n",
    "            identifier=\"gedi-subset\",\n",
    "            algo_id=\"gedi-subset_ubuntu\",\n",
    "            version=\"0.6.0\",\n",
    "            queue=\"maap-dps-worker-32gb\",\n",
    "            username=\"abarenblitt\",\n",
    "            **inputs\n",
    "        )\n",
    "\n",
    "        job_id = result[\"job_id\"]\n",
    "        print(job_id)\n",
    "        \n",
    "try:\n",
    "    import backoff\n",
    "except:\n",
    "    job_status = job_status_for(job_id)\n",
    "else:\n",
    "    # Check job status every 2 minutes\n",
    "    @backoff.on_predicate(\n",
    "        backoff.constant,\n",
    "        lambda status: status not in [\"Deleted\", \"Succeeded\", \"Failed\"],\n",
    "        interval=120,\n",
    "    )\n",
    "    def wait_for_job(job_id: str) -> str:\n",
    "        return job_status_for(job_id)\n",
    "\n",
    "    job_status = wait_for_job(job_id)\n",
    "    job_status"
   ]
  },
  {
   "cell_type": "code",
   "execution_count": 164,
   "id": "180c99d2",
   "metadata": {},
   "outputs": [
    {
     "data": {
      "text/plain": [
       "'Failed'"
      ]
     },
     "execution_count": 164,
     "metadata": {},
     "output_type": "execute_result"
    }
   ],
   "source": [
    "job_id = \"fcf5e7d3-3343-43db-9fc5-71406065969f\"\n",
    "\n",
    "job_status"
   ]
  },
  {
   "cell_type": "code",
   "execution_count": 165,
   "id": "5a411959",
   "metadata": {},
   "outputs": [
    {
     "data": {
      "text/plain": [
       "'<wps:Result xmlns:ows=\"http://www.opengis.net/ows/2.0\" xmlns:schemaLocation=\"http://schemas.opengis.net/wps/2.0/wps.xsd\" xmlns:wps=\"http://www.opengis.net/wps/2.0\" xmlns:xsi=\"http://www.w3.org/2001/XMLSchema-instance\"><wps:JobID>fcf5e7d3-3343-43db-9fc5-71406065969f</wps:JobID><wps:Output id=\"traceback\"><wps:Data>Traceback (most recent call last):\\n  File \"/home/ops/verdi/ops/hysds-0.3.11/hysds/utils.py\", line 139, in download_file\\n    osaka.main.get(url, cache_dir, params=params)\\n  File \"/home/ops/verdi/ops/osaka-1.0.1/osaka/main.py\", line 86, in get\\n    noclobber=noclobber,\\n  File \"/home/ops/verdi/ops/osaka-1.0.1/osaka/main.py\", line 128, in transfer\\n    noclobber=noclobber,\\n  File \"/home/ops/verdi/ops/osaka-1.0.1/osaka/transfer.py\", line 128, in transfer\\n    raise err\\n  File \"/home/ops/verdi/ops/osaka-1.0.1/osaka/transfer.py\", line 106, in transfer\\n    metrics = self.transfer_uri(source, shandle, dest, dhandle)\\n  File \"/home/ops/verdi/ops/osaka-1.0.1/osaka/transfer.py\", line 157, in transfer_uri\\n    counts = osaka.utils.product_composite_iterator(source, shandle, transfer_one)\\n  File \"/home/ops/verdi/ops/osaka-1.0.1/osaka/utils.py\", line 99, in product_composite_iterator\\n    if handle.isComposite(base):\\n  File \"/home/ops/verdi/ops/osaka-1.0.1/osaka/storage/http.py\", line 204, in isComposite\\n    response.raise_for_status()\\n  File \"/opt/conda/lib/python3.7/site-packages/requests/models.py\", line 941, in raise_for_status\\n    raise HTTPError(http_error_msg, response=self)\\nrequests.exceptions.HTTPError: 404 Client Error: Not Found for url: https://maap-ops-workspace.s3.amazonaws.com/shared-buckets/abarenblitt/aoi/WestAfricaGrid/0.9954619410018374.geojson\\n\\nDuring handling of the above exception, another exception occurred:\\n\\nTraceback (most recent call last):\\n  File \"/home/ops/verdi/ops/hysds-0.3.11/hysds/utils.py\", line 482, in localize_urls\\n    download_file(url, path, cache=cache)\\n  File \"/home/ops/verdi/ops/hysds-0.3.11/hysds/utils.py\", line 144, in download_file\\n    url, cache_dir, str(e), tb))\\nRuntimeError: Failed to download https://maap-ops-workspace.s3.amazonaws.com/shared-buckets/abarenblitt/aoi/WestAfricaGrid/0.9954619410018374.geojson to cache /data/work/cache/5/2/9/e/529e498f370174479187b8a834098b9b: 404 Client Error: Not Found for url: https://maap-ops-workspace.s3.amazonaws.com/shared-buckets/abarenblitt/aoi/WestAfricaGrid/0.9954619410018374.geojson\\nTraceback (most recent call last):\\n  File \"/home/ops/verdi/ops/hysds-0.3.11/hysds/utils.py\", line 139, in download_file\\n    osaka.main.get(url, cache_dir, params=params)\\n  File \"/home/ops/verdi/ops/osaka-1.0.1/osaka/main.py\", line 86, in get\\n    noclobber=noclobber,\\n  File \"/home/ops/verdi/ops/osaka-1.0.1/osaka/main.py\", line 128, in transfer\\n    noclobber=noclobber,\\n  File \"/home/ops/verdi/ops/osaka-1.0.1/osaka/transfer.py\", line 128, in transfer\\n    raise err\\n  File \"/home/ops/verdi/ops/osaka-1.0.1/osaka/transfer.py\", line 106, in transfer\\n    metrics = self.transfer_uri(source, shandle, dest, dhandle)\\n  File \"/home/ops/verdi/ops/osaka-1.0.1/osaka/transfer.py\", line 157, in transfer_uri\\n    counts = osaka.utils.product_composite_iterator(source, shandle, transfer_one)\\n  File \"/home/ops/verdi/ops/osaka-1.0.1/osaka/utils.py\", line 99, in product_composite_iterator\\n    if handle.isComposite(base):\\n  File \"/home/ops/verdi/ops/osaka-1.0.1/osaka/storage/http.py\", line 204, in isComposite\\n    response.raise_for_status()\\n  File \"/opt/conda/lib/python3.7/site-packages/requests/models.py\", line 941, in raise_for_status\\n    raise HTTPError(http_error_msg, response=self)\\nrequests.exceptions.HTTPError: 404 Client Error: Not Found for url: https://maap-ops-workspace.s3.amazonaws.com/shared-buckets/abarenblitt/aoi/WestAfricaGrid/0.9954619410018374.geojson\\n\\n\\nDuring handling of the above exception, another exception occurred:\\n\\nTraceback (most recent call last):\\n  File \"/home/ops/verdi/ops/hysds-0.3.11/hysds/job_worker.py\", line 995, in run_job\\n    pre_processor_sigs.append(func(job, context))\\n  File \"/home/ops/verdi/ops/hysds-0.3.11/hysds/utils.py\", line 485, in localize_urls\\n    raise RuntimeError(\"Failed to download {}: {}\\\\n{}\".format(url, str(e), tb))\\nRuntimeError: Failed to download https://maap-ops-workspace.s3.amazonaws.com/shared-buckets/abarenblitt/aoi/WestAfricaGrid/0.9954619410018374.geojson: Failed to download https://maap-ops-workspace.s3.amazonaws.com/shared-buckets/abarenblitt/aoi/WestAfricaGrid/0.9954619410018374.geojson to cache /data/work/cache/5/2/9/e/529e498f370174479187b8a834098b9b: 404 Client Error: Not Found for url: https://maap-ops-workspace.s3.amazonaws.com/shared-buckets/abarenblitt/aoi/WestAfricaGrid/0.9954619410018374.geojson\\nTraceback (most recent call last):\\n  File \"/home/ops/verdi/ops/hysds-0.3.11/hysds/utils.py\", line 139, in download_file\\n    osaka.main.get(url, cache_dir, params=params)\\n  File \"/home/ops/verdi/ops/osaka-1.0.1/osaka/main.py\", line 86, in get\\n    noclobber=noclobber,\\n  File \"/home/ops/verdi/ops/osaka-1.0.1/osaka/main.py\", line 128, in transfer\\n    noclobber=noclobber,\\n  File \"/home/ops/verdi/ops/osaka-1.0.1/osaka/transfer.py\", line 128, in transfer\\n    raise err\\n  File \"/home/ops/verdi/ops/osaka-1.0.1/osaka/transfer.py\", line 106, in transfer\\n    metrics = self.transfer_uri(source, shandle, dest, dhandle)\\n  File \"/home/ops/verdi/ops/osaka-1.0.1/osaka/transfer.py\", line 157, in transfer_uri\\n    counts = osaka.utils.product_composite_iterator(source, shandle, transfer_one)\\n  File \"/home/ops/verdi/ops/osaka-1.0.1/osaka/utils.py\", line 99, in product_composite_iterator\\n    if handle.isComposite(base):\\n  File \"/home/ops/verdi/ops/osaka-1.0.1/osaka/storage/http.py\", line 204, in isComposite\\n    response.raise_for_status()\\n  File \"/opt/conda/lib/python3.7/site-packages/requests/models.py\", line 941, in raise_for_status\\n    raise HTTPError(http_error_msg, response=self)\\nrequests.exceptions.HTTPError: 404 Client Error: Not Found for url: https://maap-ops-workspace.s3.amazonaws.com/shared-buckets/abarenblitt/aoi/WestAfricaGrid/0.9954619410018374.geojson\\n\\nTraceback (most recent call last):\\n  File \"/home/ops/verdi/ops/hysds-0.3.11/hysds/utils.py\", line 139, in download_file\\n    osaka.main.get(url, cache_dir, params=params)\\n  File \"/home/ops/verdi/ops/osaka-1.0.1/osaka/main.py\", line 86, in get\\n    noclobber=noclobber,\\n  File \"/home/ops/verdi/ops/osaka-1.0.1/osaka/main.py\", line 128, in transfer\\n    noclobber=noclobber,\\n  File \"/home/ops/verdi/ops/osaka-1.0.1/osaka/transfer.py\", line 128, in transfer\\n    raise err\\n  File \"/home/ops/verdi/ops/osaka-1.0.1/osaka/transfer.py\", line 106, in transfer\\n    metrics = self.transfer_uri(source, shandle, dest, dhandle)\\n  File \"/home/ops/verdi/ops/osaka-1.0.1/osaka/transfer.py\", line 157, in transfer_uri\\n    counts = osaka.utils.product_composite_iterator(source, shandle, transfer_one)\\n  File \"/home/ops/verdi/ops/osaka-1.0.1/osaka/utils.py\", line 99, in product_composite_iterator\\n    if handle.isComposite(base):\\n  File \"/home/ops/verdi/ops/osaka-1.0.1/osaka/storage/http.py\", line 204, in isComposite\\n    response.raise_for_status()\\n  File \"/opt/conda/lib/python3.7/site-packages/requests/models.py\", line 941, in raise_for_status\\n    raise HTTPError(http_error_msg, response=self)\\nrequests.exceptions.HTTPError: 404 Client Error: Not Found for url: https://maap-ops-workspace.s3.amazonaws.com/shared-buckets/abarenblitt/aoi/WestAfricaGrid/0.9954619410018374.geojson\\n\\nDuring handling of the above exception, another exception occurred:\\n\\nTraceback (most recent call last):\\n  File \"/home/ops/verdi/ops/hysds-0.3.11/hysds/utils.py\", line 482, in localize_urls\\n    download_file(url, path, cache=cache)\\n  File \"/home/ops/verdi/ops/hysds-0.3.11/hysds/utils.py\", line 144, in download_file\\n    url, cache_dir, str(e), tb))\\nRuntimeError: Failed to download https://maap-ops-workspace.s3.amazonaws.com/shared-buckets/abarenblitt/aoi/WestAfricaGrid/0.9954619410018374.geojson to cache /data/work/cache/5/2/9/e/529e498f370174479187b8a834098b9b: 404 Client Error: Not Found for url: https://maap-ops-workspace.s3.amazonaws.com/shared-buckets/abarenblitt/aoi/WestAfricaGrid/0.9954619410018374.geojson\\nTraceback (most recent call last):\\n  File \"/home/ops/verdi/ops/hysds-0.3.11/hysds/utils.py\", line 139, in download_file\\n    osaka.main.get(url, cache_dir, params=params)\\n  File \"/home/ops/verdi/ops/osaka-1.0.1/osaka/main.py\", line 86, in get\\n    noclobber=noclobber,\\n  File \"/home/ops/verdi/ops/osaka-1.0.1/osaka/main.py\", line 128, in transfer\\n    noclobber=noclobber,\\n  File \"/home/ops/verdi/ops/osaka-1.0.1/osaka/transfer.py\", line 128, in transfer\\n    raise err\\n  File \"/home/ops/verdi/ops/osaka-1.0.1/osaka/transfer.py\", line 106, in transfer\\n    metrics = self.transfer_uri(source, shandle, dest, dhandle)\\n  File \"/home/ops/verdi/ops/osaka-1.0.1/osaka/transfer.py\", line 157, in transfer_uri\\n    counts = osaka.utils.product_composite_iterator(source, shandle, transfer_one)\\n  File \"/home/ops/verdi/ops/osaka-1.0.1/osaka/utils.py\", line 99, in product_composite_iterator\\n    if handle.isComposite(base):\\n  File \"/home/ops/verdi/ops/osaka-1.0.1/osaka/storage/http.py\", line 204, in isComposite\\n    response.raise_for_status()\\n  File \"/opt/conda/lib/python3.7/site-packages/requests/models.py\", line 941, in raise_for_status\\n    raise HTTPError(http_error_msg, response=self)\\nrequests.exceptions.HTTPError: 404 Client Error: Not Found for url: https://maap-ops-workspace.s3.amazonaws.com/shared-buckets/abarenblitt/aoi/WestAfricaGrid/0.9954619410018374.geojson\\n\\n\\n</wps:Data></wps:Output></wps:Result>'"
      ]
     },
     "execution_count": 165,
     "metadata": {},
     "output_type": "execute_result"
    }
   ],
   "source": [
    "#Get job result full text to bug Alex with\n",
    " \n",
    "maap.getJobResult(job_id).text"
   ]
  }
 ],
 "metadata": {
  "kernelspec": {
   "display_name": "Python gediknight",
   "language": "python",
   "name": "gediknight"
  },
  "language_info": {
   "codemirror_mode": {
    "name": "ipython",
    "version": 3
   },
   "file_extension": ".py",
   "mimetype": "text/x-python",
   "name": "python",
   "nbconvert_exporter": "python",
   "pygments_lexer": "ipython3",
   "version": "3.7.8"
  }
 },
 "nbformat": 4,
 "nbformat_minor": 5
}
