{
 "cells": [
  {
   "cell_type": "code",
   "execution_count": 142,
   "id": "435927b8",
   "metadata": {},
   "outputs": [
    {
     "name": "stdout",
     "output_type": "stream",
     "text": [
      "<class 'geopandas.geodataframe.GeoDataFrame'>\n"
     ]
    }
   ],
   "source": [
    "#for aoi in list_aois[:1]:\n",
    "    #shape = shapely.to_geojson(tiles.loc[aoi,\"geometry\"])\n",
    "    #f = write_json(shape)\n",
    "#    tile = tiles[tiles['random']==aoi]\n",
    "    #print(type(tile))\n",
    "#    tile.to_file('temp.geojson')\n",
    "    "
   ]
  },
  {
   "cell_type": "markdown",
   "id": "61d28f73",
   "metadata": {},
   "source": [
    "This code works through the GEDI subsetter version 0.6.0. This converts a geojson of tiles over a study area to temp geojson files to feed into the subsetter"
   ]
  },
  {
   "cell_type": "code",
   "execution_count": 2,
   "id": "56496d9c",
   "metadata": {},
   "outputs": [],
   "source": [
    "#Open the MAAP host\n",
    "from maap.maap import MAAP\n",
    "maap = MAAP(maap_host='api.ops.maap-project.org')\n"
   ]
  },
  {
   "cell_type": "code",
   "execution_count": 3,
   "id": "481fa4c7",
   "metadata": {},
   "outputs": [
    {
     "name": "stderr",
     "output_type": "stream",
     "text": [
      "/opt/conda/lib/python3.7/site-packages/geopandas/_compat.py:115: UserWarning: The Shapely GEOS version (3.11.1-CAPI-1.17.1) is incompatible with the GEOS version PyGEOS was compiled with (3.8.1-CAPI-1.13.3). Conversions between both will be slow.\n",
      "  shapely_geos_version, geos_capi_version_string\n"
     ]
    }
   ],
   "source": [
    "#pip install geopandas\n",
    "#pip install shapely\n",
    "#Import numpy for making column inputs easier\n",
    "import numpy as np\n",
    "import geopandas as gpd\n",
    "import shapely"
   ]
  },
  {
   "cell_type": "code",
   "execution_count": 4,
   "id": "78690409",
   "metadata": {},
   "outputs": [],
   "source": [
    "#Load in Tiled AOI\n",
    "tiles = gpd.read_file(\"https://maap-ops-workspace.s3.amazonaws.com/shared/abarenblitt/EEZBounds/WestAfricaGrid.geojson\")"
   ]
  },
  {
   "cell_type": "code",
   "execution_count": 5,
   "id": "fd6d8f89",
   "metadata": {},
   "outputs": [
    {
     "data": {
      "text/plain": [
       "151"
      ]
     },
     "execution_count": 5,
     "metadata": {},
     "output_type": "execute_result"
    }
   ],
   "source": [
    "import os\n",
    "\n",
    "result_folder = \"../aoi/WestAfricaGrid\"\n",
    "\n",
    "if not os.path.exists(result_folder):\n",
    "    os.makedirs(result_folder)\n",
    "\n",
    "for rownum, subframe in tiles.groupby(\"random\"):\n",
    "    filename = os.path.join(result_folder, f\"{rownum}.geojson\")\n",
    "    subframe.to_file(filename, driver='GeoJSON')\n",
    "\n",
    "len(os.listdir(result_folder))"
   ]
  },
  {
   "cell_type": "code",
   "execution_count": 156,
   "id": "78cbd804",
   "metadata": {},
   "outputs": [],
   "source": [
    "#os.listdir(result_folder)"
   ]
  },
  {
   "cell_type": "code",
   "execution_count": 61,
   "id": "8520cce6",
   "metadata": {},
   "outputs": [],
   "source": [
    "#Set index to the correct column name, in this case \"random\"\n",
    "#tiles.set_index('random',inplace=True)\n",
    "#print(tiles.head())"
   ]
  },
  {
   "cell_type": "code",
   "execution_count": 62,
   "id": "48861682",
   "metadata": {},
   "outputs": [],
   "source": [
    "#for col in tiles.columns:\n",
    "#    print(col)"
   ]
  },
  {
   "cell_type": "code",
   "execution_count": 63,
   "id": "563b3dc1",
   "metadata": {},
   "outputs": [],
   "source": [
    "#tiles['random_value'] = tiles.index"
   ]
  },
  {
   "cell_type": "code",
   "execution_count": 64,
   "id": "280f2408",
   "metadata": {},
   "outputs": [],
   "source": [
    "#Test a single tile\n",
    "#tiles.loc[0.6855097362903453]"
   ]
  },
  {
   "cell_type": "markdown",
   "id": "a6a30cb5",
   "metadata": {},
   "source": [
    "Use \"random\" column for ID to generate features to tile over"
   ]
  },
  {
   "cell_type": "code",
   "execution_count": 65,
   "id": "2bd5ecbd",
   "metadata": {},
   "outputs": [],
   "source": [
    "#List out the individual aois\n",
    "#list_aois = tiles.index.unique().tolist() #tiles[tiles.columns[1]].values.tolist()\n",
    "#print(list_aois)"
   ]
  },
  {
   "cell_type": "code",
   "execution_count": 66,
   "id": "c0243d13",
   "metadata": {},
   "outputs": [],
   "source": [
    "#aoiTest=shapely.to_geojson(tiles.loc[0.6855097362903453,\"geometry\"])\n",
    "#print(aoiTest)"
   ]
  },
  {
   "cell_type": "code",
   "execution_count": 6,
   "id": "855fe567",
   "metadata": {},
   "outputs": [],
   "source": [
    "#Create empty variables to fill with all 29 appearances of cover_z* and pai_z* \n",
    "variables = []\n",
    "for n in np.arange(0, 30,1):\n",
    "    variables.append('cover_z' + str(n))\n",
    "    variables.append('pai_z' + str(n))\n"
   ]
  },
  {
   "cell_type": "markdown",
   "id": "7451ce16",
   "metadata": {},
   "source": [
    "For several AOI's run this code:"
   ]
  },
  {
   "cell_type": "code",
   "execution_count": 7,
   "id": "202d19da",
   "metadata": {},
   "outputs": [],
   "source": [
    "#Set up job results to print output during run\n",
    "\n",
    "import xml.etree.ElementTree as ET\n",
    "from urllib.parse import urlparse\n",
    "\n",
    "def job_status_for(job_id: str) -> str:\n",
    "    response = maap.getJobStatus(job_id)\n",
    "    response.raise_for_status()\n",
    "    \n",
    "    root = ET.fromstring(response.text)\n",
    "    status_element = root.find('.//{http://www.opengis.net/wps/2.0}Status')\n",
    "    \n",
    "    return status_element.text\n",
    "\n",
    "def job_result_for(job_id: str) -> str:\n",
    "    response = maap.getJobResult(job_id)\n",
    "    response.raise_for_status()\n",
    "    \n",
    "    root = ET.fromstring(response.text)\n",
    "\n",
    "    return root.find('.//{http://www.opengis.net/wps/2.0}Data').text\n",
    "\n",
    "def to_job_output_dir(job_result_url: str) -> str:\n",
    "    url_path = urlparse(job_result_url).path\n",
    "    # The S3 Key is the URL path excluding the `/{username}` prefix\n",
    "    s3_key = \"/\".join(url_path.split(\"/\")[2:])\n",
    "\n",
    "    return f\"/projects/my-private-bucket/{s3_key}\""
   ]
  },
  {
   "cell_type": "code",
   "execution_count": 41,
   "id": "fb5e6fb3",
   "metadata": {},
   "outputs": [],
   "source": [
    "#Import geojson and tempfile for creating temp files for the subsetter\n",
    "\n",
    "#from geojson import Point, Feature, FeatureCollection, dump\n",
    "\n",
    "#import tempfile"
   ]
  },
  {
   "cell_type": "code",
   "execution_count": 8,
   "id": "9660d7e4",
   "metadata": {},
   "outputs": [
    {
     "name": "stdout",
     "output_type": "stream",
     "text": [
      "a19e7b6b-440b-4688-9e6e-8ba0f6bc237c\n",
      "b987653b-a57b-467f-8967-37d0400ab0e3\n",
      "326fe9d7-06e2-4f12-9e80-b47805d10c6f\n",
      "2e1d8f2f-235c-491c-8a2f-640a60045067\n",
      "aea0293d-bcd3-4c5c-b06b-862d336b1589\n",
      "e56491bb-2a3f-442d-9f6e-c920463cb38b\n",
      "d760f61c-725a-405e-bcae-21c4eb665efd\n",
      "ebcc6282-c8b0-4523-a6ef-376b3459d1fb\n",
      "b0245f46-6d45-41a9-9787-a3ecd16201fe\n",
      "94308961-ac8b-47b1-a6f8-8144a6421432\n",
      "fedf7254-7743-4600-bc39-f5ed48316aef\n",
      "97dc1b94-b95c-44fa-938a-3d806e2cb6ed\n",
      "694a4486-98e1-41c8-add6-ae2b81802470\n",
      "c259b1a7-077c-4a1e-8a81-2c285a4a9f68\n",
      "245680c6-df15-425d-8645-2650d56f8b09\n",
      "9e64508c-137f-4433-9d4a-bb2830929b6b\n",
      "98dc8e9d-1c36-4e34-8432-eada2b7aaf90\n",
      "424112fb-1edf-4847-bf82-9280f33f9e90\n",
      "5786b20f-963d-4efe-a08d-8e421b5aab57\n",
      "f29a486c-23dd-4f73-bb5e-ebabf65e83ea\n",
      "cf2947ad-3b5f-43da-9f5c-9b0bbca717c1\n",
      "a8d2c948-4951-42c1-bc70-befcebcdaffd\n",
      "2fc7d95f-36da-4520-a0f0-e878009880e2\n",
      "060aa6fc-d745-4e3b-896e-8254506c5bd6\n",
      "9150e89b-ffcf-4026-8738-ab1db34c569a\n",
      "e3c06766-5fdb-4f0d-a280-c1b8d12ee46c\n",
      "9511c54e-8f1a-4461-80d7-868c2e9dc908\n",
      "386045bc-5eac-4a19-b35a-5ae70e0a1b2a\n",
      "af920bd9-ad7c-4dfb-b639-e0f6fb394726\n",
      "5422949f-9df3-4384-a5d0-6777b9711098\n",
      "b8e1ef7b-09eb-44bd-9b86-42822a5877c2\n",
      "6a9fbfa8-b1fb-46e2-aa6b-f0b3bedfc4ac\n",
      "dcf88106-61ed-4fee-ab6c-c5994f3020a5\n",
      "0a9b0428-685e-444d-8b19-6c0687e64957\n",
      "aff78a9e-e1b8-4c71-b7a7-71da8fd832a4\n",
      "187966e1-3aa5-4216-9604-d96e54288824\n",
      "9f8f8782-4b4c-4b8e-8e08-e08eeeae174f\n",
      "20d88fa7-253f-4065-8aa4-fe7643f36cf4\n",
      "ecf67d98-cc15-4fc7-b3e2-30b34f654269\n",
      "682aafda-1a51-459c-b877-5a212c510594\n",
      "a8a2cdc6-cec8-4ab8-b270-a9815f83e208\n",
      "6ff9fcd0-3d91-4014-be37-e7abbd0eeecf\n",
      "0adbafec-2b01-48b5-ad7a-86c4a87879ab\n",
      "aaf35d7f-6e72-49ca-a4cf-f8c5cd3f6f89\n",
      "ccf013d6-bcf5-4112-b7f4-6b569f0d4399\n",
      "9617e01c-2004-41aa-8cce-67fb99aef3e6\n",
      "aa6fb350-97a8-44ea-b806-9afe69b27c96\n",
      "ea0dc5fc-4c68-43ea-90d3-0da76c09fcd5\n",
      "5d5fab58-4f3b-412c-b77f-2cee3bd1a928\n",
      "eccde538-f4b5-4fd1-bfc2-57201a3f4711\n",
      "9cf6635c-2e86-4e82-a0ed-ff73d2cddf29\n",
      "3d4cc3be-fd92-40e4-8298-ed9f67e32f43\n",
      "5eeb9921-98dd-4c29-9df3-6bb6a90fc470\n",
      "3936a1e1-9a25-4ba5-8ca6-04d77cb76982\n",
      "dea6954c-f1a3-415c-83ee-95281f792b19\n",
      "02810ed8-62fe-4261-b7fd-fe693da87b3d\n",
      "8a20a63f-21f4-42b1-a81a-944eb37e9d1d\n",
      "5b877ef7-282c-4799-aba6-eb6a3f1745ad\n",
      "51f68c79-4867-450e-b374-d27558943058\n",
      "ce78b00e-8bbc-491b-b3fa-4a9e31438953\n",
      "424baac4-f78f-4938-86cc-0574f54f3d73\n",
      "ae66d638-7d2e-4de5-a479-802610959dfd\n",
      "476efd1e-5c47-41d0-8d9f-308d11aa71f4\n",
      "b71521ec-b62c-449a-a271-70f78fa29b30\n",
      "a04e6b11-b153-48a9-81e2-6440fcaae6fc\n",
      "7bdc647f-9897-47eb-b847-271f5eb88a17\n",
      "823ddeba-6d6c-497d-ac3c-5bf4993f0676\n",
      "c3f121aa-cbe5-4319-927c-a397a8c7d15d\n",
      "a5b7e2fd-e66e-493d-879a-4915c00702a6\n",
      "5ee26bc0-a42d-425d-93e2-0cb3ec25b9fe\n",
      "4864edff-6390-4e8e-9285-6ba19152208e\n",
      "44c54958-c982-4236-939d-8c7e7b567c26\n",
      "39134d2d-c6e3-4697-a129-6cb5cfe2e5ac\n",
      "34ebd84d-e095-448b-a147-047aea21ba5a\n",
      "1a36f4df-eb8b-4d82-ba69-501a0db3805c\n",
      "131108b7-57c3-4dd6-bf36-aae9e0f608c6\n",
      "e4e23ae6-a8a7-4d6d-89cc-0f68dd7d43fd\n",
      "2fa7974d-8cd9-4ede-b5d5-d6a9f28cae81\n",
      "c0309dbb-0652-46a5-a842-27b44cf78aee\n",
      "3220d924-cb28-4ab2-899a-33f15b325ed8\n",
      "a4855eed-6fde-4a7f-8639-e29a323176e8\n",
      "f2f38c01-005b-4f51-b4e1-9c0762825890\n",
      "45e5f03b-3f8a-4a8f-8b1c-5376064a64d1\n",
      "1d8eceea-9bfe-43eb-8a50-8e19bc32905a\n",
      "bd0c3124-5194-4606-8fec-bd25b1ced2a5\n",
      "a88c35d7-af33-46e2-ba22-bc51ab337d13\n",
      "f8acbe08-3c74-4b02-adab-cc0595159ffb\n",
      "129ff1fa-6ece-4edc-99d6-85ec4f700da0\n",
      "cce2d5fe-c757-4588-b75e-d5f2cc14a832\n",
      "a40cef61-d3fe-4b42-aa5a-00725aa54dbf\n",
      "b8a4af84-97cc-4263-acb5-0eb373707d0d\n",
      "f19abb96-33bd-47ba-8560-85c852c796e4\n",
      "38fed03e-8ec9-489d-9e3b-f1be83a3dc6b\n",
      "65d249bf-6bc4-4dd2-970b-0ad8ba038a70\n",
      "6ae84b3c-4e5f-4ebf-b010-05aee854cdd9\n",
      "b007f01f-0d12-4733-9bea-80d6d28072ab\n",
      "76913ab6-417e-4f35-87a5-beb6608d6c25\n",
      "1225dac5-c9a2-405f-8257-90fd558501fa\n",
      "a1dbf8cc-273b-462f-b5c9-db178ab8d882\n",
      "4874e3b4-e1fe-4081-a679-fcf175a2d5df\n",
      "a7c12b7e-d056-4378-b6ce-e31ab76aaed0\n",
      "8ea2e142-6d50-43f5-a301-dc1c9cf0557f\n",
      "1e2f1ad4-a015-4a40-94b6-abadb8f8bc0d\n",
      "c2feff56-8f42-416c-a5b7-88ac9560a42d\n",
      "521bc85b-d6d5-4206-83f8-fce0193b5985\n",
      "9b5fe9f3-2521-47b1-a4c3-607e8a2bba1e\n",
      "ac151ab0-549e-4ea8-bee5-a51c56633881\n",
      "c270e2a4-bd35-4b30-9795-8c7be2da781b\n",
      "166014a0-8947-4d9e-a9f9-1814837bdf5e\n",
      "6c794ba7-e6d5-4c4b-8ff5-8ba70e2e94ef\n",
      "e53b6158-e21a-4552-88bf-d6749690d6e6\n",
      "18c51956-a905-4f05-9b44-734f3233d356\n",
      "adafef9a-d3f9-44b5-b59e-8a3873def514\n",
      "5ea7aca9-ae4e-4659-9c20-2db1b731260c\n",
      "8a8e16d1-3424-47ef-8a1a-84ca77b63d91\n",
      "5850bb7e-72ec-4583-a9f7-890fa88616b1\n",
      "aaae21f2-b1de-4e5e-be1c-446d0974b38a\n",
      "0c5e68c2-e880-4723-89ec-6270ff0e1bcf\n",
      "10ccf87c-22d8-4413-a464-9245639bd31a\n",
      "f5356d43-7175-4318-97a0-5341efc1bbe5\n",
      "16a49292-b075-490b-b41b-5cabd893628c\n",
      "4d71a5bb-d1d2-424e-9754-557f73a6bbe4\n",
      "b8896743-5f82-4932-8fed-fda500126934\n",
      "6076527c-3552-4b7a-b064-b5051d805ab7\n",
      "e169cfbc-79f6-41fc-a1b6-1dce584dafe9\n",
      "47daf209-5161-48ab-89ea-ec0a7fc785ab\n",
      "33e632b6-2845-4679-91ec-01947d06798b\n",
      "d26fa400-416a-4558-b8f4-4cc550f871ba\n",
      "0369a5db-f156-48f3-a339-e2810f10bb4c\n",
      "5e35e597-a8c4-4681-9342-42de22f7e16a\n",
      "53961b89-228a-48b0-a09d-d1c5edbc5f87\n",
      "53e76f11-0bba-49a1-93b3-8bba694f2a4a\n",
      "eae74310-84a3-4dc3-b1d4-0829f12a3110\n",
      "480d963e-eefc-4c26-a976-9e6366279328\n",
      "d7f9e189-9501-4c9c-b1e7-a86291573773\n",
      "c52655cd-535e-492b-8020-9ed6c12ac50e\n",
      "5e96d5c4-cfb4-4c68-a9a9-240fbb437580\n",
      "42706afc-ac98-4bf5-970e-1463374fb443\n",
      "67241832-48e0-4f6f-ac14-fbc6faaa5c32\n",
      "65808810-25e3-44e8-856c-640e26a5d8ce\n",
      "e021fe5b-a788-41af-986c-58c89eb41cef\n",
      "af392f23-0262-4baa-8d14-5732b46851ec\n",
      "23179548-265d-4397-85da-51763d6b7bcf\n",
      "a54fe916-3754-48ec-9924-25c57af36e52\n",
      "fff96e1c-881c-4ded-8228-c029811156c7\n",
      "cced2702-4743-4bec-a2cd-dfcbca4ef97e\n",
      "aa1028ff-d883-4145-8cc7-6293cf37c260\n",
      "ecd1b7f0-a313-4ed0-8dc7-12f089854103\n",
      "c824d558-43cf-473f-aea2-46df1e7fffe5\n",
      "9a9b8982-e9d4-46e2-834f-efd00b7e6d3d\n",
      "40accbd5-8919-4129-bbf0-2c125345a463\n"
     ]
    }
   ],
   "source": [
    "#Set up input dictionary and import backoff to display run results\n",
    "#First part of the for loop uses the \"random\" column to search through the tiles geojson to \n",
    "#create temp files one at a time to set the AOI\n",
    "#################################\n",
    "\n",
    "for aoi in os.listdir(result_folder):\n",
    "    if aoi.endswith(\"geojson\"):\n",
    "        inputs = dict(\n",
    "           aoi=f\"https://maap-ops-workspace.s3.amazonaws.com/shared/abarenblitt/aoi/WestAfricaGrid/{aoi}\",\n",
    "           doi=\"L2B\",\n",
    "           lat=\"geolocation/lat_lowestmode\",\n",
    "           lon=\"geolocation/lon_lowestmode\",\n",
    "           beams=\"all\",\n",
    "           columns=\"rh100, cover,land_cover_data/landsat_treecover, pai,fhd_normal,\"+\",\".join(variables),\n",
    "           query=\"l2a_quality_flag == 1 and l2b_quality_flag == 1 and sensitivity > 0.95\",\n",
    "           limit = 10,\n",
    "           temporal=\"-\",\n",
    "           output=\"-\"\n",
    "        )\n",
    "        result = maap.submitJob(\n",
    "            identifier=\"gedi-subset\",\n",
    "            algo_id=\"gedi-subset_ubuntu\",\n",
    "            version=\"0.6.0\",\n",
    "            queue=\"maap-dps-worker-32gb\",\n",
    "            username=\"abarenblitt\",\n",
    "            **inputs\n",
    "        )\n",
    "\n",
    "        job_id = result[\"job_id\"]\n",
    "        print(job_id)\n",
    "        \n",
    "try:\n",
    "    import backoff\n",
    "except:\n",
    "    job_status = job_status_for(job_id)\n",
    "else:\n",
    "    # Check job status every 2 minutes\n",
    "    @backoff.on_predicate(\n",
    "        backoff.constant,\n",
    "        lambda status: status not in [\"Deleted\", \"Succeeded\", \"Failed\"],\n",
    "        interval=120,\n",
    "    )\n",
    "    def wait_for_job(job_id: str) -> str:\n",
    "        return job_status_for(job_id)\n",
    "\n",
    "    job_status = wait_for_job(job_id)\n",
    "    job_status"
   ]
  },
  {
   "cell_type": "code",
   "execution_count": 4,
   "id": "53820fa3",
   "metadata": {},
   "outputs": [
    {
     "ename": "NameError",
     "evalue": "name 'job_status' is not defined",
     "output_type": "error",
     "traceback": [
      "\u001b[0;31m---------------------------------------------------------------------------\u001b[0m",
      "\u001b[0;31mNameError\u001b[0m                                 Traceback (most recent call last)",
      "\u001b[0;32m/tmp/ipykernel_566/710938081.py\u001b[0m in \u001b[0;36m<module>\u001b[0;34m\u001b[0m\n\u001b[1;32m      1\u001b[0m \u001b[0mjob_id\u001b[0m \u001b[0;34m=\u001b[0m \u001b[0;34m\"40accbd5-8919-4129-bbf0-2c125345a463\"\u001b[0m\u001b[0;34m\u001b[0m\u001b[0;34m\u001b[0m\u001b[0m\n\u001b[1;32m      2\u001b[0m \u001b[0;34m\u001b[0m\u001b[0m\n\u001b[0;32m----> 3\u001b[0;31m \u001b[0mjob_status\u001b[0m\u001b[0;34m\u001b[0m\u001b[0;34m\u001b[0m\u001b[0m\n\u001b[0m",
      "\u001b[0;31mNameError\u001b[0m: name 'job_status' is not defined"
     ]
    }
   ],
   "source": [
    "job_id = \"40accbd5-8919-4129-bbf0-2c125345a463\"\n",
    "\n",
    "job_status"
   ]
  },
  {
   "cell_type": "code",
   "execution_count": 165,
   "id": "4ace6744",
   "metadata": {},
   "outputs": [
    {
     "data": {
      "text/plain": [
       "'<wps:Result xmlns:ows=\"http://www.opengis.net/ows/2.0\" xmlns:schemaLocation=\"http://schemas.opengis.net/wps/2.0/wps.xsd\" xmlns:wps=\"http://www.opengis.net/wps/2.0\" xmlns:xsi=\"http://www.w3.org/2001/XMLSchema-instance\"><wps:JobID>fcf5e7d3-3343-43db-9fc5-71406065969f</wps:JobID><wps:Output id=\"traceback\"><wps:Data>Traceback (most recent call last):\\n  File \"/home/ops/verdi/ops/hysds-0.3.11/hysds/utils.py\", line 139, in download_file\\n    osaka.main.get(url, cache_dir, params=params)\\n  File \"/home/ops/verdi/ops/osaka-1.0.1/osaka/main.py\", line 86, in get\\n    noclobber=noclobber,\\n  File \"/home/ops/verdi/ops/osaka-1.0.1/osaka/main.py\", line 128, in transfer\\n    noclobber=noclobber,\\n  File \"/home/ops/verdi/ops/osaka-1.0.1/osaka/transfer.py\", line 128, in transfer\\n    raise err\\n  File \"/home/ops/verdi/ops/osaka-1.0.1/osaka/transfer.py\", line 106, in transfer\\n    metrics = self.transfer_uri(source, shandle, dest, dhandle)\\n  File \"/home/ops/verdi/ops/osaka-1.0.1/osaka/transfer.py\", line 157, in transfer_uri\\n    counts = osaka.utils.product_composite_iterator(source, shandle, transfer_one)\\n  File \"/home/ops/verdi/ops/osaka-1.0.1/osaka/utils.py\", line 99, in product_composite_iterator\\n    if handle.isComposite(base):\\n  File \"/home/ops/verdi/ops/osaka-1.0.1/osaka/storage/http.py\", line 204, in isComposite\\n    response.raise_for_status()\\n  File \"/opt/conda/lib/python3.7/site-packages/requests/models.py\", line 941, in raise_for_status\\n    raise HTTPError(http_error_msg, response=self)\\nrequests.exceptions.HTTPError: 404 Client Error: Not Found for url: https://maap-ops-workspace.s3.amazonaws.com/shared-buckets/abarenblitt/aoi/WestAfricaGrid/0.9954619410018374.geojson\\n\\nDuring handling of the above exception, another exception occurred:\\n\\nTraceback (most recent call last):\\n  File \"/home/ops/verdi/ops/hysds-0.3.11/hysds/utils.py\", line 482, in localize_urls\\n    download_file(url, path, cache=cache)\\n  File \"/home/ops/verdi/ops/hysds-0.3.11/hysds/utils.py\", line 144, in download_file\\n    url, cache_dir, str(e), tb))\\nRuntimeError: Failed to download https://maap-ops-workspace.s3.amazonaws.com/shared-buckets/abarenblitt/aoi/WestAfricaGrid/0.9954619410018374.geojson to cache /data/work/cache/5/2/9/e/529e498f370174479187b8a834098b9b: 404 Client Error: Not Found for url: https://maap-ops-workspace.s3.amazonaws.com/shared-buckets/abarenblitt/aoi/WestAfricaGrid/0.9954619410018374.geojson\\nTraceback (most recent call last):\\n  File \"/home/ops/verdi/ops/hysds-0.3.11/hysds/utils.py\", line 139, in download_file\\n    osaka.main.get(url, cache_dir, params=params)\\n  File \"/home/ops/verdi/ops/osaka-1.0.1/osaka/main.py\", line 86, in get\\n    noclobber=noclobber,\\n  File \"/home/ops/verdi/ops/osaka-1.0.1/osaka/main.py\", line 128, in transfer\\n    noclobber=noclobber,\\n  File \"/home/ops/verdi/ops/osaka-1.0.1/osaka/transfer.py\", line 128, in transfer\\n    raise err\\n  File \"/home/ops/verdi/ops/osaka-1.0.1/osaka/transfer.py\", line 106, in transfer\\n    metrics = self.transfer_uri(source, shandle, dest, dhandle)\\n  File \"/home/ops/verdi/ops/osaka-1.0.1/osaka/transfer.py\", line 157, in transfer_uri\\n    counts = osaka.utils.product_composite_iterator(source, shandle, transfer_one)\\n  File \"/home/ops/verdi/ops/osaka-1.0.1/osaka/utils.py\", line 99, in product_composite_iterator\\n    if handle.isComposite(base):\\n  File \"/home/ops/verdi/ops/osaka-1.0.1/osaka/storage/http.py\", line 204, in isComposite\\n    response.raise_for_status()\\n  File \"/opt/conda/lib/python3.7/site-packages/requests/models.py\", line 941, in raise_for_status\\n    raise HTTPError(http_error_msg, response=self)\\nrequests.exceptions.HTTPError: 404 Client Error: Not Found for url: https://maap-ops-workspace.s3.amazonaws.com/shared-buckets/abarenblitt/aoi/WestAfricaGrid/0.9954619410018374.geojson\\n\\n\\nDuring handling of the above exception, another exception occurred:\\n\\nTraceback (most recent call last):\\n  File \"/home/ops/verdi/ops/hysds-0.3.11/hysds/job_worker.py\", line 995, in run_job\\n    pre_processor_sigs.append(func(job, context))\\n  File \"/home/ops/verdi/ops/hysds-0.3.11/hysds/utils.py\", line 485, in localize_urls\\n    raise RuntimeError(\"Failed to download {}: {}\\\\n{}\".format(url, str(e), tb))\\nRuntimeError: Failed to download https://maap-ops-workspace.s3.amazonaws.com/shared-buckets/abarenblitt/aoi/WestAfricaGrid/0.9954619410018374.geojson: Failed to download https://maap-ops-workspace.s3.amazonaws.com/shared-buckets/abarenblitt/aoi/WestAfricaGrid/0.9954619410018374.geojson to cache /data/work/cache/5/2/9/e/529e498f370174479187b8a834098b9b: 404 Client Error: Not Found for url: https://maap-ops-workspace.s3.amazonaws.com/shared-buckets/abarenblitt/aoi/WestAfricaGrid/0.9954619410018374.geojson\\nTraceback (most recent call last):\\n  File \"/home/ops/verdi/ops/hysds-0.3.11/hysds/utils.py\", line 139, in download_file\\n    osaka.main.get(url, cache_dir, params=params)\\n  File \"/home/ops/verdi/ops/osaka-1.0.1/osaka/main.py\", line 86, in get\\n    noclobber=noclobber,\\n  File \"/home/ops/verdi/ops/osaka-1.0.1/osaka/main.py\", line 128, in transfer\\n    noclobber=noclobber,\\n  File \"/home/ops/verdi/ops/osaka-1.0.1/osaka/transfer.py\", line 128, in transfer\\n    raise err\\n  File \"/home/ops/verdi/ops/osaka-1.0.1/osaka/transfer.py\", line 106, in transfer\\n    metrics = self.transfer_uri(source, shandle, dest, dhandle)\\n  File \"/home/ops/verdi/ops/osaka-1.0.1/osaka/transfer.py\", line 157, in transfer_uri\\n    counts = osaka.utils.product_composite_iterator(source, shandle, transfer_one)\\n  File \"/home/ops/verdi/ops/osaka-1.0.1/osaka/utils.py\", line 99, in product_composite_iterator\\n    if handle.isComposite(base):\\n  File \"/home/ops/verdi/ops/osaka-1.0.1/osaka/storage/http.py\", line 204, in isComposite\\n    response.raise_for_status()\\n  File \"/opt/conda/lib/python3.7/site-packages/requests/models.py\", line 941, in raise_for_status\\n    raise HTTPError(http_error_msg, response=self)\\nrequests.exceptions.HTTPError: 404 Client Error: Not Found for url: https://maap-ops-workspace.s3.amazonaws.com/shared-buckets/abarenblitt/aoi/WestAfricaGrid/0.9954619410018374.geojson\\n\\nTraceback (most recent call last):\\n  File \"/home/ops/verdi/ops/hysds-0.3.11/hysds/utils.py\", line 139, in download_file\\n    osaka.main.get(url, cache_dir, params=params)\\n  File \"/home/ops/verdi/ops/osaka-1.0.1/osaka/main.py\", line 86, in get\\n    noclobber=noclobber,\\n  File \"/home/ops/verdi/ops/osaka-1.0.1/osaka/main.py\", line 128, in transfer\\n    noclobber=noclobber,\\n  File \"/home/ops/verdi/ops/osaka-1.0.1/osaka/transfer.py\", line 128, in transfer\\n    raise err\\n  File \"/home/ops/verdi/ops/osaka-1.0.1/osaka/transfer.py\", line 106, in transfer\\n    metrics = self.transfer_uri(source, shandle, dest, dhandle)\\n  File \"/home/ops/verdi/ops/osaka-1.0.1/osaka/transfer.py\", line 157, in transfer_uri\\n    counts = osaka.utils.product_composite_iterator(source, shandle, transfer_one)\\n  File \"/home/ops/verdi/ops/osaka-1.0.1/osaka/utils.py\", line 99, in product_composite_iterator\\n    if handle.isComposite(base):\\n  File \"/home/ops/verdi/ops/osaka-1.0.1/osaka/storage/http.py\", line 204, in isComposite\\n    response.raise_for_status()\\n  File \"/opt/conda/lib/python3.7/site-packages/requests/models.py\", line 941, in raise_for_status\\n    raise HTTPError(http_error_msg, response=self)\\nrequests.exceptions.HTTPError: 404 Client Error: Not Found for url: https://maap-ops-workspace.s3.amazonaws.com/shared-buckets/abarenblitt/aoi/WestAfricaGrid/0.9954619410018374.geojson\\n\\nDuring handling of the above exception, another exception occurred:\\n\\nTraceback (most recent call last):\\n  File \"/home/ops/verdi/ops/hysds-0.3.11/hysds/utils.py\", line 482, in localize_urls\\n    download_file(url, path, cache=cache)\\n  File \"/home/ops/verdi/ops/hysds-0.3.11/hysds/utils.py\", line 144, in download_file\\n    url, cache_dir, str(e), tb))\\nRuntimeError: Failed to download https://maap-ops-workspace.s3.amazonaws.com/shared-buckets/abarenblitt/aoi/WestAfricaGrid/0.9954619410018374.geojson to cache /data/work/cache/5/2/9/e/529e498f370174479187b8a834098b9b: 404 Client Error: Not Found for url: https://maap-ops-workspace.s3.amazonaws.com/shared-buckets/abarenblitt/aoi/WestAfricaGrid/0.9954619410018374.geojson\\nTraceback (most recent call last):\\n  File \"/home/ops/verdi/ops/hysds-0.3.11/hysds/utils.py\", line 139, in download_file\\n    osaka.main.get(url, cache_dir, params=params)\\n  File \"/home/ops/verdi/ops/osaka-1.0.1/osaka/main.py\", line 86, in get\\n    noclobber=noclobber,\\n  File \"/home/ops/verdi/ops/osaka-1.0.1/osaka/main.py\", line 128, in transfer\\n    noclobber=noclobber,\\n  File \"/home/ops/verdi/ops/osaka-1.0.1/osaka/transfer.py\", line 128, in transfer\\n    raise err\\n  File \"/home/ops/verdi/ops/osaka-1.0.1/osaka/transfer.py\", line 106, in transfer\\n    metrics = self.transfer_uri(source, shandle, dest, dhandle)\\n  File \"/home/ops/verdi/ops/osaka-1.0.1/osaka/transfer.py\", line 157, in transfer_uri\\n    counts = osaka.utils.product_composite_iterator(source, shandle, transfer_one)\\n  File \"/home/ops/verdi/ops/osaka-1.0.1/osaka/utils.py\", line 99, in product_composite_iterator\\n    if handle.isComposite(base):\\n  File \"/home/ops/verdi/ops/osaka-1.0.1/osaka/storage/http.py\", line 204, in isComposite\\n    response.raise_for_status()\\n  File \"/opt/conda/lib/python3.7/site-packages/requests/models.py\", line 941, in raise_for_status\\n    raise HTTPError(http_error_msg, response=self)\\nrequests.exceptions.HTTPError: 404 Client Error: Not Found for url: https://maap-ops-workspace.s3.amazonaws.com/shared-buckets/abarenblitt/aoi/WestAfricaGrid/0.9954619410018374.geojson\\n\\n\\n</wps:Data></wps:Output></wps:Result>'"
      ]
     },
     "execution_count": 165,
     "metadata": {},
     "output_type": "execute_result"
    }
   ],
   "source": [
    "#Get job result full text to bug Alex with\n",
    " \n",
    "maap.getJobResult(job_id).text"
   ]
  }
 ],
 "metadata": {
  "kernelspec": {
   "display_name": "Python gediknight",
   "language": "python",
   "name": "gediknight"
  },
  "language_info": {
   "codemirror_mode": {
    "name": "ipython",
    "version": 3
   },
   "file_extension": ".py",
   "mimetype": "text/x-python",
   "name": "python",
   "nbconvert_exporter": "python",
   "pygments_lexer": "ipython3",
   "version": "3.7.8"
  }
 },
 "nbformat": 4,
 "nbformat_minor": 5
}
